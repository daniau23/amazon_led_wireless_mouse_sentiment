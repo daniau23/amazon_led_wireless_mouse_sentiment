{
 "cells": [
  {
   "cell_type": "code",
   "execution_count": 1,
   "metadata": {},
   "outputs": [],
   "source": [
    "import pandas as pd\n",
    "import numpy as np \n",
    "import matplotlib.pyplot as plt\n",
    "import plotly.express as px\n",
    "# import plotly.graph_objects as go\n",
    "# import plotly.figure_factory as ff\n",
    "import seaborn as sns\n",
    "import warnings\n",
    "warnings.filterwarnings(\"ignore\")\n",
    "# from nltk.tokenize import word_tokenize as wt \n",
    "# from collections import Counter\n",
    "import gensim\n",
    "# import textblob\n",
    "import spacy\n",
    "import tensorflow as tf\n",
    "from tensorflow.keras.preprocessing.text import one_hot, Tokenizer\n",
    "from tensorflow.keras.preprocessing.sequence import pad_sequences\n",
    "from tensorflow.keras.models import Sequential\n",
    "from tensorflow.keras.layers import Activation, Dropout, Dense, Embedding, GRU, Bidirectional"
   ]
  },
  {
   "cell_type": "markdown",
   "metadata": {},
   "source": [
    "## **Plan of Action**\n",
    "\n",
    "- Load the data\n",
    "- Drop unnecessary columns and rows\n",
    "- Removal of stop words.\n",
    "- Feature engineering;\n",
    "    - Doc2Vec\n",
    "- Begin modelling\n",
    "    - Algorithms to use;\n",
    "        - Simple Neural Network\n",
    "- Evaluation;\n",
    "    - F1-score_macro\n",
    "    - AUC\n",
    "    - ROC"
   ]
  },
  {
   "cell_type": "code",
   "execution_count": 2,
   "metadata": {},
   "outputs": [],
   "source": [
    "df_clean = pd.read_csv('../../cleaned_reviews.csv')"
   ]
  },
  {
   "cell_type": "code",
   "execution_count": 3,
   "metadata": {},
   "outputs": [
    {
     "data": {
      "text/plain": [
       "(17340, 4)"
      ]
     },
     "execution_count": 3,
     "metadata": {},
     "output_type": "execute_result"
    }
   ],
   "source": [
    "df_clean.shape"
   ]
  },
  {
   "cell_type": "code",
   "execution_count": 4,
   "metadata": {},
   "outputs": [
    {
     "data": {
      "text/plain": [
       "Index(['sentiments', 'cleaned_review', 'cleaned_review_length',\n",
       "       'review_score'],\n",
       "      dtype='object')"
      ]
     },
     "execution_count": 4,
     "metadata": {},
     "output_type": "execute_result"
    }
   ],
   "source": [
    "df_clean.columns"
   ]
  },
  {
   "cell_type": "code",
   "execution_count": 5,
   "metadata": {},
   "outputs": [],
   "source": [
    "df_clean.drop(columns=['cleaned_review_length','review_score'],inplace=True)"
   ]
  },
  {
   "cell_type": "markdown",
   "metadata": {},
   "source": [
    "Checking for Null Vaules and Duplicates"
   ]
  },
  {
   "cell_type": "code",
   "execution_count": 6,
   "metadata": {},
   "outputs": [
    {
     "data": {
      "text/plain": [
       "sentiments        0\n",
       "cleaned_review    3\n",
       "dtype: int64"
      ]
     },
     "execution_count": 6,
     "metadata": {},
     "output_type": "execute_result"
    }
   ],
   "source": [
    "df_clean.isna().sum()"
   ]
  },
  {
   "cell_type": "code",
   "execution_count": 7,
   "metadata": {},
   "outputs": [],
   "source": [
    "df_clean.dropna(inplace=True)"
   ]
  },
  {
   "cell_type": "code",
   "execution_count": 8,
   "metadata": {},
   "outputs": [
    {
     "data": {
      "text/plain": [
       "(17337, 2)"
      ]
     },
     "execution_count": 8,
     "metadata": {},
     "output_type": "execute_result"
    }
   ],
   "source": [
    "df_clean.shape"
   ]
  },
  {
   "cell_type": "code",
   "execution_count": 9,
   "metadata": {},
   "outputs": [],
   "source": [
    "from spacy.lang.en.stop_words import STOP_WORDS\n",
    "\n",
    "# print(STOP_WORDS,'\\n') # <- set of Spacy's default stop words\n",
    "all_stopwords = STOP_WORDS\n",
    "# Adding several stopwords\n",
    "# all_stopwords |= {'not',\"no\", \"n't\", 'n’t','n‘t','cannot','none','without','against'}\n",
    "\n",
    "# Removing several stop words\n",
    "all_stopwords-= {'not',\"no\", \"n't\", 'n’t','n‘t','cannot','none','without','against','off','against','too'}\n",
    "my_stop_words = set(all_stopwords) # My own stop words"
   ]
  },
  {
   "cell_type": "code",
   "execution_count": 10,
   "metadata": {},
   "outputs": [],
   "source": [
    "# print(my_stop_words)"
   ]
  },
  {
   "cell_type": "code",
   "execution_count": 11,
   "metadata": {},
   "outputs": [
    {
     "data": {
      "text/html": [
       "<div>\n",
       "<style scoped>\n",
       "    .dataframe tbody tr th:only-of-type {\n",
       "        vertical-align: middle;\n",
       "    }\n",
       "\n",
       "    .dataframe tbody tr th {\n",
       "        vertical-align: top;\n",
       "    }\n",
       "\n",
       "    .dataframe thead th {\n",
       "        text-align: right;\n",
       "    }\n",
       "</style>\n",
       "<table border=\"1\" class=\"dataframe\">\n",
       "  <thead>\n",
       "    <tr style=\"text-align: right;\">\n",
       "      <th></th>\n",
       "      <th>sentiments</th>\n",
       "      <th>cleaned_review</th>\n",
       "    </tr>\n",
       "  </thead>\n",
       "  <tbody>\n",
       "    <tr>\n",
       "      <th>0</th>\n",
       "      <td>positive</td>\n",
       "      <td>i wish would have gotten one earlier love it a...</td>\n",
       "    </tr>\n",
       "    <tr>\n",
       "      <th>1</th>\n",
       "      <td>neutral</td>\n",
       "      <td>i ve learned this lesson again open the packag...</td>\n",
       "    </tr>\n",
       "    <tr>\n",
       "      <th>2</th>\n",
       "      <td>neutral</td>\n",
       "      <td>it is so slow and lags find better option</td>\n",
       "    </tr>\n",
       "    <tr>\n",
       "      <th>3</th>\n",
       "      <td>neutral</td>\n",
       "      <td>roller ball stopped working within months of m...</td>\n",
       "    </tr>\n",
       "    <tr>\n",
       "      <th>4</th>\n",
       "      <td>neutral</td>\n",
       "      <td>i like the color and size but it few days out ...</td>\n",
       "    </tr>\n",
       "    <tr>\n",
       "      <th>...</th>\n",
       "      <td>...</td>\n",
       "      <td>...</td>\n",
       "    </tr>\n",
       "    <tr>\n",
       "      <th>17335</th>\n",
       "      <td>positive</td>\n",
       "      <td>i love this speaker and love can take it anywh...</td>\n",
       "    </tr>\n",
       "    <tr>\n",
       "      <th>17336</th>\n",
       "      <td>positive</td>\n",
       "      <td>i use it in my house easy to connect and loud ...</td>\n",
       "    </tr>\n",
       "    <tr>\n",
       "      <th>17337</th>\n",
       "      <td>positive</td>\n",
       "      <td>the bass is good and the battery is amazing mu...</td>\n",
       "    </tr>\n",
       "    <tr>\n",
       "      <th>17338</th>\n",
       "      <td>positive</td>\n",
       "      <td>love it</td>\n",
       "    </tr>\n",
       "    <tr>\n",
       "      <th>17339</th>\n",
       "      <td>neutral</td>\n",
       "      <td>mono speaker</td>\n",
       "    </tr>\n",
       "  </tbody>\n",
       "</table>\n",
       "<p>17337 rows × 2 columns</p>\n",
       "</div>"
      ],
      "text/plain": [
       "      sentiments                                     cleaned_review\n",
       "0       positive  i wish would have gotten one earlier love it a...\n",
       "1        neutral  i ve learned this lesson again open the packag...\n",
       "2        neutral          it is so slow and lags find better option\n",
       "3        neutral  roller ball stopped working within months of m...\n",
       "4        neutral  i like the color and size but it few days out ...\n",
       "...          ...                                                ...\n",
       "17335   positive  i love this speaker and love can take it anywh...\n",
       "17336   positive  i use it in my house easy to connect and loud ...\n",
       "17337   positive  the bass is good and the battery is amazing mu...\n",
       "17338   positive                                            love it\n",
       "17339    neutral                                       mono speaker\n",
       "\n",
       "[17337 rows x 2 columns]"
      ]
     },
     "execution_count": 11,
     "metadata": {},
     "output_type": "execute_result"
    }
   ],
   "source": [
    "df_clean"
   ]
  },
  {
   "cell_type": "code",
   "execution_count": 12,
   "metadata": {},
   "outputs": [],
   "source": [
    "nlp = spacy.load(\"en_core_web_sm\")"
   ]
  },
  {
   "cell_type": "code",
   "execution_count": 13,
   "metadata": {},
   "outputs": [],
   "source": [
    "def spacy_tokeniser(sent):\n",
    "    sent = sent.strip().lower()\n",
    "    doc = nlp(sent)\n",
    "    mytokens = [token.lemma_ for token in doc if token.text not in my_stop_words]\n",
    "    return mytokens"
   ]
  },
  {
   "cell_type": "code",
   "execution_count": 14,
   "metadata": {},
   "outputs": [],
   "source": [
    "df_clean['tokens']= df_clean['cleaned_review'].apply(spacy_tokeniser)"
   ]
  },
  {
   "cell_type": "code",
   "execution_count": 15,
   "metadata": {},
   "outputs": [
    {
     "data": {
      "text/html": [
       "<div>\n",
       "<style scoped>\n",
       "    .dataframe tbody tr th:only-of-type {\n",
       "        vertical-align: middle;\n",
       "    }\n",
       "\n",
       "    .dataframe tbody tr th {\n",
       "        vertical-align: top;\n",
       "    }\n",
       "\n",
       "    .dataframe thead th {\n",
       "        text-align: right;\n",
       "    }\n",
       "</style>\n",
       "<table border=\"1\" class=\"dataframe\">\n",
       "  <thead>\n",
       "    <tr style=\"text-align: right;\">\n",
       "      <th></th>\n",
       "      <th>sentiments</th>\n",
       "      <th>cleaned_review</th>\n",
       "      <th>tokens</th>\n",
       "    </tr>\n",
       "  </thead>\n",
       "  <tbody>\n",
       "    <tr>\n",
       "      <th>0</th>\n",
       "      <td>positive</td>\n",
       "      <td>i wish would have gotten one earlier love it a...</td>\n",
       "      <td>[wish, get, early, love, make, work, laptop, e...</td>\n",
       "    </tr>\n",
       "    <tr>\n",
       "      <th>1</th>\n",
       "      <td>neutral</td>\n",
       "      <td>i ve learned this lesson again open the packag...</td>\n",
       "      <td>[ve, learn, lesson, open, package, use, produc...</td>\n",
       "    </tr>\n",
       "    <tr>\n",
       "      <th>2</th>\n",
       "      <td>neutral</td>\n",
       "      <td>it is so slow and lags find better option</td>\n",
       "      <td>[slow, lag, find, well, option]</td>\n",
       "    </tr>\n",
       "    <tr>\n",
       "      <th>3</th>\n",
       "      <td>neutral</td>\n",
       "      <td>roller ball stopped working within months of m...</td>\n",
       "      <td>[roller, ball, stop, work, month, minimal, use...</td>\n",
       "    </tr>\n",
       "    <tr>\n",
       "      <th>4</th>\n",
       "      <td>neutral</td>\n",
       "      <td>i like the color and size but it few days out ...</td>\n",
       "      <td>[like, color, size, day, return, period, not, ...</td>\n",
       "    </tr>\n",
       "  </tbody>\n",
       "</table>\n",
       "</div>"
      ],
      "text/plain": [
       "  sentiments                                     cleaned_review  \\\n",
       "0   positive  i wish would have gotten one earlier love it a...   \n",
       "1    neutral  i ve learned this lesson again open the packag...   \n",
       "2    neutral          it is so slow and lags find better option   \n",
       "3    neutral  roller ball stopped working within months of m...   \n",
       "4    neutral  i like the color and size but it few days out ...   \n",
       "\n",
       "                                              tokens  \n",
       "0  [wish, get, early, love, make, work, laptop, e...  \n",
       "1  [ve, learn, lesson, open, package, use, produc...  \n",
       "2                    [slow, lag, find, well, option]  \n",
       "3  [roller, ball, stop, work, month, minimal, use...  \n",
       "4  [like, color, size, day, return, period, not, ...  "
      ]
     },
     "execution_count": 15,
     "metadata": {},
     "output_type": "execute_result"
    }
   ],
   "source": [
    "df_clean.head()"
   ]
  },
  {
   "cell_type": "code",
   "execution_count": 16,
   "metadata": {},
   "outputs": [],
   "source": [
    "# Dropping unnecessary columns\n",
    "df_clean.drop(columns=['cleaned_review'],inplace=True)"
   ]
  },
  {
   "cell_type": "markdown",
   "metadata": {},
   "source": [
    "Sentiment Mapping"
   ]
  },
  {
   "cell_type": "code",
   "execution_count": 17,
   "metadata": {},
   "outputs": [],
   "source": [
    "sentiment_mapping = {'negative':0,'neutral':1,'positive':2}\n",
    "df_clean['sentiment_label'] = df_clean.sentiments.map(sentiment_mapping)"
   ]
  },
  {
   "cell_type": "code",
   "execution_count": 18,
   "metadata": {},
   "outputs": [],
   "source": [
    "df_clean.drop(columns=['sentiments'],inplace=True)"
   ]
  },
  {
   "cell_type": "code",
   "execution_count": 19,
   "metadata": {},
   "outputs": [
    {
     "data": {
      "text/html": [
       "<div>\n",
       "<style scoped>\n",
       "    .dataframe tbody tr th:only-of-type {\n",
       "        vertical-align: middle;\n",
       "    }\n",
       "\n",
       "    .dataframe tbody tr th {\n",
       "        vertical-align: top;\n",
       "    }\n",
       "\n",
       "    .dataframe thead th {\n",
       "        text-align: right;\n",
       "    }\n",
       "</style>\n",
       "<table border=\"1\" class=\"dataframe\">\n",
       "  <thead>\n",
       "    <tr style=\"text-align: right;\">\n",
       "      <th></th>\n",
       "      <th>tokens</th>\n",
       "      <th>sentiment_label</th>\n",
       "    </tr>\n",
       "  </thead>\n",
       "  <tbody>\n",
       "    <tr>\n",
       "      <th>0</th>\n",
       "      <td>[wish, get, early, love, make, work, laptop, e...</td>\n",
       "      <td>2</td>\n",
       "    </tr>\n",
       "    <tr>\n",
       "      <th>1</th>\n",
       "      <td>[ve, learn, lesson, open, package, use, produc...</td>\n",
       "      <td>1</td>\n",
       "    </tr>\n",
       "    <tr>\n",
       "      <th>2</th>\n",
       "      <td>[slow, lag, find, well, option]</td>\n",
       "      <td>1</td>\n",
       "    </tr>\n",
       "    <tr>\n",
       "      <th>3</th>\n",
       "      <td>[roller, ball, stop, work, month, minimal, use...</td>\n",
       "      <td>1</td>\n",
       "    </tr>\n",
       "    <tr>\n",
       "      <th>4</th>\n",
       "      <td>[like, color, size, day, return, period, not, ...</td>\n",
       "      <td>1</td>\n",
       "    </tr>\n",
       "    <tr>\n",
       "      <th>...</th>\n",
       "      <td>...</td>\n",
       "      <td>...</td>\n",
       "    </tr>\n",
       "    <tr>\n",
       "      <th>17335</th>\n",
       "      <td>[love, speaker, love, charge, phone, work, no,...</td>\n",
       "      <td>2</td>\n",
       "    </tr>\n",
       "    <tr>\n",
       "      <th>17336</th>\n",
       "      <td>[use, house, easy, connect, loud, clear, music]</td>\n",
       "      <td>2</td>\n",
       "    </tr>\n",
       "    <tr>\n",
       "      <th>17337</th>\n",
       "      <td>[bass, good, battery, amazing, well, charge, t...</td>\n",
       "      <td>2</td>\n",
       "    </tr>\n",
       "    <tr>\n",
       "      <th>17338</th>\n",
       "      <td>[love]</td>\n",
       "      <td>2</td>\n",
       "    </tr>\n",
       "    <tr>\n",
       "      <th>17339</th>\n",
       "      <td>[mono, speaker]</td>\n",
       "      <td>1</td>\n",
       "    </tr>\n",
       "  </tbody>\n",
       "</table>\n",
       "<p>17337 rows × 2 columns</p>\n",
       "</div>"
      ],
      "text/plain": [
       "                                                  tokens  sentiment_label\n",
       "0      [wish, get, early, love, make, work, laptop, e...                2\n",
       "1      [ve, learn, lesson, open, package, use, produc...                1\n",
       "2                        [slow, lag, find, well, option]                1\n",
       "3      [roller, ball, stop, work, month, minimal, use...                1\n",
       "4      [like, color, size, day, return, period, not, ...                1\n",
       "...                                                  ...              ...\n",
       "17335  [love, speaker, love, charge, phone, work, no,...                2\n",
       "17336    [use, house, easy, connect, loud, clear, music]                2\n",
       "17337  [bass, good, battery, amazing, well, charge, t...                2\n",
       "17338                                             [love]                2\n",
       "17339                                    [mono, speaker]                1\n",
       "\n",
       "[17337 rows x 2 columns]"
      ]
     },
     "execution_count": 19,
     "metadata": {},
     "output_type": "execute_result"
    }
   ],
   "source": [
    "df_clean"
   ]
  },
  {
   "cell_type": "markdown",
   "metadata": {},
   "source": [
    "### **Text Sequencing**"
   ]
  },
  {
   "cell_type": "code",
   "execution_count": 20,
   "metadata": {},
   "outputs": [],
   "source": [
    "X = df_clean[\"tokens\"]"
   ]
  },
  {
   "cell_type": "code",
   "execution_count": 21,
   "metadata": {},
   "outputs": [
    {
     "data": {
      "text/plain": [
       "['wish', 'get', 'early', 'love', 'make', 'work', 'laptop', 'easy']"
      ]
     },
     "execution_count": 21,
     "metadata": {},
     "output_type": "execute_result"
    }
   ],
   "source": [
    "X[0]"
   ]
  },
  {
   "cell_type": "code",
   "execution_count": 22,
   "metadata": {},
   "outputs": [
    {
     "data": {
      "text/plain": [
       "[153, 26, 758, 9, 124, 1, 51, 34]"
      ]
     },
     "execution_count": 22,
     "metadata": {},
     "output_type": "execute_result"
    }
   ],
   "source": [
    "word_tokenizer = Tokenizer()\n",
    "word_tokenizer.fit_on_texts(X)\n",
    "\n",
    "X = word_tokenizer.texts_to_sequences(X)\n",
    "X[0]"
   ]
  },
  {
   "cell_type": "code",
   "execution_count": 23,
   "metadata": {},
   "outputs": [
    {
     "name": "stdout",
     "output_type": "stream",
     "text": [
      "293\n"
     ]
    }
   ],
   "source": [
    "# We need to find the maximum lenght of any document or review in our case. \n",
    "# We will pad all reviews to have this same length.\n",
    "# This will be required by Keras embedding layer\n",
    "\n",
    "review_max_length = 0\n",
    "for i in df_clean['tokens']: \n",
    "    length = len(i)\n",
    "    if length > review_max_length:\n",
    "        review_max_length = length\n",
    "\n",
    "print(review_max_length) \n",
    "\n",
    "# Although max length is 293, we will use an approximate value of 300; \n",
    "# maxlen = 300"
   ]
  },
  {
   "cell_type": "code",
   "execution_count": 24,
   "metadata": {},
   "outputs": [
    {
     "data": {
      "text/plain": [
       "7258"
      ]
     },
     "execution_count": 24,
     "metadata": {},
     "output_type": "execute_result"
    }
   ],
   "source": [
    "# print(word_tokenizer.word_index) # Outputs a dictionary\n",
    "len(word_tokenizer.word_index)"
   ]
  },
  {
   "cell_type": "code",
   "execution_count": 25,
   "metadata": {},
   "outputs": [],
   "source": [
    "vocab = word_tokenizer.word_index.items()"
   ]
  },
  {
   "cell_type": "code",
   "execution_count": 26,
   "metadata": {},
   "outputs": [
    {
     "data": {
      "text/plain": [
       "7259"
      ]
     },
     "execution_count": 26,
     "metadata": {},
     "output_type": "execute_result"
    }
   ],
   "source": [
    "vocab_length = len(word_tokenizer.word_index) + 1\n",
    "vocab_length"
   ]
  },
  {
   "cell_type": "code",
   "execution_count": 27,
   "metadata": {},
   "outputs": [],
   "source": [
    "max_len = 300\n",
    "X = pad_sequences(X,padding=\"post\",maxlen=max_len)"
   ]
  },
  {
   "cell_type": "code",
   "execution_count": 28,
   "metadata": {},
   "outputs": [
    {
     "data": {
      "text/plain": [
       "1"
      ]
     },
     "execution_count": 28,
     "metadata": {},
     "output_type": "execute_result"
    }
   ],
   "source": [
    "X[1].shape # shape\n",
    "X[1].ndim # dimension"
   ]
  },
  {
   "cell_type": "markdown",
   "metadata": {},
   "source": [
    "### **Doc2Vec Processing**"
   ]
  },
  {
   "cell_type": "code",
   "execution_count": 29,
   "metadata": {},
   "outputs": [],
   "source": [
    "from sklearn.model_selection import train_test_split\n",
    "from gensim.models.doc2vec import Doc2Vec, TaggedDocument"
   ]
  },
  {
   "cell_type": "markdown",
   "metadata": {},
   "source": [
    "*Do not split but do the following;*\n",
    "\n",
    "- Create the text sequence before Doc2Vec Processing\n",
    "- Train using df_clean for Doc2Vec vocabulary building\n",
    "- Then follow the same pattern you used for the embedding matrix"
   ]
  },
  {
   "cell_type": "code",
   "execution_count": 30,
   "metadata": {},
   "outputs": [],
   "source": [
    "tagged_process = df_clean\n",
    "# Tag train set \n",
    "tagged_process_train = tagged_process.apply(\n",
    "    lambda x: TaggedDocument(words=x[\"tokens\"],tags=[x.sentiment_label]),\n",
    "    axis=1\n",
    ")"
   ]
  },
  {
   "cell_type": "code",
   "execution_count": 31,
   "metadata": {},
   "outputs": [
    {
     "data": {
      "text/plain": [
       "TaggedDocument(words=['wish', 'get', 'early', 'love', 'make', 'work', 'laptop', 'easy'], tags=[2])"
      ]
     },
     "execution_count": 31,
     "metadata": {},
     "output_type": "execute_result"
    }
   ],
   "source": [
    "tagged_process_train.values[0]"
   ]
  },
  {
   "cell_type": "code",
   "execution_count": 32,
   "metadata": {},
   "outputs": [
    {
     "data": {
      "text/plain": [
       "4"
      ]
     },
     "execution_count": 32,
     "metadata": {},
     "output_type": "execute_result"
    }
   ],
   "source": [
    "import multiprocessing\n",
    "cores = multiprocessing.cpu_count()\n",
    "cores # Mine is 8 cores\n",
    "four_cores = cores-4\n",
    "four_cores"
   ]
  },
  {
   "cell_type": "markdown",
   "metadata": {},
   "source": [
    "**Building the Vocabulary**"
   ]
  },
  {
   "cell_type": "code",
   "execution_count": 33,
   "metadata": {},
   "outputs": [],
   "source": [
    "# dm=1, it signifies PV-DM\n",
    "model_dm = Doc2Vec(\n",
    "    dm=1,\n",
    "    vector_size=200,\n",
    "    min_count=2,\n",
    "    sample=0,\n",
    "    workers=four_cores,\n",
    "    hs=0,\n",
    "    seed= 42,\n",
    "    negative=5,\n",
    "    alpha=0.05,# Changing alpha from 0.025 to 0.05\n",
    "    dm_mean=1 # to make use of mean\n",
    ")"
   ]
  },
  {
   "cell_type": "code",
   "execution_count": 34,
   "metadata": {},
   "outputs": [],
   "source": [
    "model_dm.build_vocab(tagged_process_train)"
   ]
  },
  {
   "cell_type": "code",
   "execution_count": 35,
   "metadata": {},
   "outputs": [
    {
     "name": "stdout",
     "output_type": "stream",
     "text": [
      "Word terrible appeared 158 times in the corpus.\n"
     ]
    }
   ],
   "source": [
    "# Word Apperance Count\n",
    "def word_count(word:str):\n",
    "    print(f\"Word {word} appeared {model_dm.wv.get_vecattr(word, 'count')} times in the corpus.\")\n",
    "\n",
    "\n",
    "word_count(\"terrible\")"
   ]
  },
  {
   "cell_type": "code",
   "execution_count": 36,
   "metadata": {},
   "outputs": [],
   "source": [
    "model_dm.train(\n",
    "                tagged_process_train,\n",
    "                total_examples=model_dm.corpus_count,\n",
    "                epochs=100,\n",
    ")"
   ]
  },
  {
   "cell_type": "code",
   "execution_count": 37,
   "metadata": {},
   "outputs": [
    {
     "data": {
      "text/plain": [
       "200"
      ]
     },
     "execution_count": 37,
     "metadata": {},
     "output_type": "execute_result"
    }
   ],
   "source": [
    "model_dm.wv.get_vector(\"like\").shape # vector shape \n",
    "model_dm.wv.vector_size # vector size"
   ]
  },
  {
   "cell_type": "code",
   "execution_count": 38,
   "metadata": {},
   "outputs": [
    {
     "data": {
      "text/plain": [
       "(200,)"
      ]
     },
     "execution_count": 38,
     "metadata": {},
     "output_type": "execute_result"
    }
   ],
   "source": [
    "model_dm[\"like\"].shape"
   ]
  },
  {
   "cell_type": "code",
   "execution_count": 39,
   "metadata": {},
   "outputs": [],
   "source": [
    "# model_dm[\"like\"] # prints out the vector"
   ]
  },
  {
   "cell_type": "markdown",
   "metadata": {},
   "source": [
    "### **Creating Embedding Matrix**"
   ]
  },
  {
   "cell_type": "code",
   "execution_count": 40,
   "metadata": {},
   "outputs": [
    {
     "name": "stdout",
     "output_type": "stream",
     "text": [
      "(7259, 200)\n",
      "2\n"
     ]
    }
   ],
   "source": [
    "d2v_vector_size  =model_dm.vector_size\n",
    "embedding_matrix = np.zeros((vocab_length, d2v_vector_size)) \n",
    "print(embedding_matrix.shape) # (7259, 200)\n",
    "print(embedding_matrix.ndim) # 2-dimensional array"
   ]
  },
  {
   "cell_type": "code",
   "execution_count": 41,
   "metadata": {},
   "outputs": [
    {
     "data": {
      "text/plain": [
       "array([[0., 0.],\n",
       "       [0., 0.],\n",
       "       [0., 0.],\n",
       "       [0., 0.],\n",
       "       [0., 0.]])"
      ]
     },
     "execution_count": 41,
     "metadata": {},
     "output_type": "execute_result"
    }
   ],
   "source": [
    "embedding_matrix[:5,:2]"
   ]
  },
  {
   "cell_type": "code",
   "execution_count": 42,
   "metadata": {},
   "outputs": [],
   "source": [
    "# model_dm.wv.key_to_index.keys()\n",
    "# # prints a list of keys like so dict_keys(['work', 'mouse', 'not', 'great',"
   ]
  },
  {
   "cell_type": "code",
   "execution_count": 43,
   "metadata": {},
   "outputs": [],
   "source": [
    "for word, index in vocab:\n",
    "    if word in model_dm.wv.key_to_index.keys():\n",
    "        embedding_matrix[index] = model_dm[word]\n",
    "    else:\n",
    "        embedding_matrix[index] = np.zeros(d2v_vector_size)"
   ]
  },
  {
   "cell_type": "code",
   "execution_count": 44,
   "metadata": {},
   "outputs": [
    {
     "data": {
      "text/plain": [
       "array([[ 0.        ,  0.        ,  0.        ,  0.        ,  0.        ,\n",
       "         0.        ,  0.        ,  0.        ,  0.        ,  0.        ],\n",
       "       [-0.30353788,  0.93483371, -0.32840285, -0.1957829 , -0.1843738 ,\n",
       "         1.33118951,  0.79850084, -0.32276139, -0.33618009, -0.73222321],\n",
       "       [ 0.92469484,  0.42521569, -0.90912479,  1.20667231, -0.18396135,\n",
       "         0.50524879,  0.36322203,  1.10176456,  0.43165818,  0.68144476],\n",
       "       [ 0.76500481,  0.42083526,  0.12198263,  0.20950446,  0.76941168,\n",
       "        -0.34149277, -0.61641192,  0.71822214,  0.06581576, -0.70106381],\n",
       "       [-0.36407831, -0.52451104, -0.10757732,  0.41925448,  0.20147698,\n",
       "        -1.28784394,  0.20540099, -1.07912135,  0.64579231,  0.74365473],\n",
       "       [-1.14724374, -0.26884064,  0.07317868,  0.59287965,  0.5082469 ,\n",
       "         0.29114717,  0.01687917,  0.46584851,  1.22044885,  0.51664984],\n",
       "       [ 0.76193607,  0.40026212, -0.46150741,  1.03523409, -0.57211137,\n",
       "         1.05757439, -0.35471362,  0.21650757,  0.99771053, -0.20557395],\n",
       "       [ 0.01673388,  0.68423188, -0.10804089, -0.09660085, -0.72500759,\n",
       "        -0.6255157 ,  0.13358679,  0.71684599,  1.34366763, -0.31373215],\n",
       "       [ 0.99043077, -0.67052829,  0.72525686,  0.96661615, -0.21949679,\n",
       "        -0.91646105, -0.82718599, -0.52923471,  0.05613799, -0.26262286],\n",
       "       [ 0.76920682, -1.30286598, -0.40449414,  1.01454318,  1.17252278,\n",
       "         1.06113327,  1.82072794, -0.97527945, -0.51218539,  0.33587384]])"
      ]
     },
     "execution_count": 44,
     "metadata": {},
     "output_type": "execute_result"
    }
   ],
   "source": [
    "embedding_matrix[:10,:10]"
   ]
  },
  {
   "cell_type": "markdown",
   "metadata": {},
   "source": [
    "### **Model Building**"
   ]
  },
  {
   "cell_type": "code",
   "execution_count": 45,
   "metadata": {},
   "outputs": [],
   "source": [
    "from sklearn.model_selection import train_test_split"
   ]
  },
  {
   "cell_type": "code",
   "execution_count": 46,
   "metadata": {},
   "outputs": [],
   "source": [
    "y_nn = tf.keras.utils.to_categorical(df_clean.sentiment_label.values, num_classes=3, dtype='int8')"
   ]
  },
  {
   "cell_type": "code",
   "execution_count": 47,
   "metadata": {},
   "outputs": [],
   "source": [
    "X_train, X_test, y_train,y_test= train_test_split(\n",
    "                                            X,y_nn,test_size=.2,random_state=42, \n",
    "                                            stratify=y_nn)"
   ]
  },
  {
   "cell_type": "code",
   "execution_count": 48,
   "metadata": {},
   "outputs": [],
   "source": [
    "bi_gru_model = Sequential()\n",
    "embedding_layer = Embedding(vocab_length,d2v_vector_size,weights=[embedding_matrix],\n",
    "                                        input_length=max_len,trainable=False)\n",
    "\n",
    "\n",
    "bi_gru_model.add(embedding_layer)\n",
    "bi_gru_model.add(Bidirectional(GRU(128)))\n",
    "bi_gru_model.add(Dense(3,activation='softmax'))\n",
    "bi_gru_model.compile(optimizer='adam',loss='categorical_crossentropy',metrics=['acc'])"
   ]
  },
  {
   "cell_type": "code",
   "execution_count": 49,
   "metadata": {},
   "outputs": [
    {
     "name": "stdout",
     "output_type": "stream",
     "text": [
      "Model: \"sequential\"\n",
      "_________________________________________________________________\n",
      " Layer (type)                Output Shape              Param #   \n",
      "=================================================================\n",
      " embedding (Embedding)       (None, 300, 200)          1451800   \n",
      "                                                                 \n",
      " bidirectional (Bidirectiona  (None, 256)              253440    \n",
      " l)                                                              \n",
      "                                                                 \n",
      " dense (Dense)               (None, 3)                 771       \n",
      "                                                                 \n",
      "=================================================================\n",
      "Total params: 1,706,011\n",
      "Trainable params: 254,211\n",
      "Non-trainable params: 1,451,800\n",
      "_________________________________________________________________\n",
      "None\n"
     ]
    }
   ],
   "source": [
    "bi_gru_model.compile(optimizer='adam',loss='categorical_crossentropy',metrics=['acc'])\n",
    "\n",
    "print(bi_gru_model.summary())"
   ]
  },
  {
   "cell_type": "code",
   "execution_count": 50,
   "metadata": {},
   "outputs": [
    {
     "name": "stdout",
     "output_type": "stream",
     "text": [
      "Epoch 1/10\n",
      "87/87 [==============================] - 47s 373ms/step - loss: 0.7231 - acc: 0.6970 - val_loss: 0.6676 - val_acc: 0.7037\n",
      "Epoch 2/10\n",
      "87/87 [==============================] - 43s 492ms/step - loss: 0.5449 - acc: 0.7903 - val_loss: 0.5792 - val_acc: 0.7642\n",
      "Epoch 3/10\n",
      "87/87 [==============================] - 33s 381ms/step - loss: 0.4028 - acc: 0.8474 - val_loss: 0.4617 - val_acc: 0.8335\n",
      "Epoch 4/10\n",
      "87/87 [==============================] - 28s 328ms/step - loss: 0.3017 - acc: 0.8923 - val_loss: 0.4195 - val_acc: 0.8468\n",
      "Epoch 5/10\n",
      "87/87 [==============================] - 28s 328ms/step - loss: 0.2264 - acc: 0.9228 - val_loss: 0.4027 - val_acc: 0.8533\n",
      "Epoch 6/10\n",
      "87/87 [==============================] - 27s 311ms/step - loss: 0.1669 - acc: 0.9469 - val_loss: 0.4180 - val_acc: 0.8652\n",
      "Epoch 7/10\n",
      "87/87 [==============================] - 26s 302ms/step - loss: 0.1185 - acc: 0.9654 - val_loss: 0.4174 - val_acc: 0.8738\n",
      "Epoch 8/10\n",
      "87/87 [==============================] - 27s 306ms/step - loss: 0.0777 - acc: 0.9794 - val_loss: 0.4461 - val_acc: 0.8738\n",
      "Epoch 9/10\n",
      "87/87 [==============================] - 29s 334ms/step - loss: 0.0520 - acc: 0.9874 - val_loss: 0.4918 - val_acc: 0.8720\n",
      "Epoch 10/10\n",
      "87/87 [==============================] - 29s 333ms/step - loss: 0.0386 - acc: 0.9908 - val_loss: 0.4989 - val_acc: 0.8807\n"
     ]
    }
   ],
   "source": [
    "# Model training\n",
    "\n",
    "bi_gru_model_history = bi_gru_model.fit(\n",
    "    X_train,y_train,batch_size=128,epochs=10, verbose=1, validation_split=.2\n",
    ")"
   ]
  },
  {
   "cell_type": "code",
   "execution_count": 51,
   "metadata": {},
   "outputs": [
    {
     "name": "stdout",
     "output_type": "stream",
     "text": [
      "109/109 [==============================] - 6s 52ms/step - loss: 0.4918 - acc: 0.8798\n"
     ]
    }
   ],
   "source": [
    "# Predictions on the Test Set\n",
    "\n",
    "score = bi_gru_model.evaluate(X_test, y_test, verbose=1)"
   ]
  },
  {
   "cell_type": "code",
   "execution_count": 52,
   "metadata": {},
   "outputs": [
    {
     "name": "stdout",
     "output_type": "stream",
     "text": [
      "Test Loss: 0.4917592406272888\n",
      "Test Accuracy: 0.8797577619552612\n"
     ]
    }
   ],
   "source": [
    "print(\"Test Loss:\", score[0])\n",
    "print(\"Test Accuracy:\", score[1])"
   ]
  },
  {
   "cell_type": "code",
   "execution_count": 53,
   "metadata": {},
   "outputs": [
    {
     "data": {
      "image/png": "[encoded data removed]",
      "text/plain": [
       "<Figure size 432x288 with 1 Axes>"
      ]
     },
     "metadata": {
      "needs_background": "light"
     },
     "output_type": "display_data"
    },
    {
     "data": {
      "image/png": "[encoded data removed]",
      "text/plain": [
       "<Figure size 432x288 with 1 Axes>"
      ]
     },
     "metadata": {
      "needs_background": "light"
     },
     "output_type": "display_data"
    }
   ],
   "source": [
    "# Model Performance Charts\n",
    "\n",
    "plt.plot(bi_gru_model_history.history['acc'])\n",
    "plt.plot(bi_gru_model_history.history['val_acc'])\n",
    "\n",
    "plt.title('model accuracy')\n",
    "plt.ylabel('accuracy')\n",
    "plt.xlabel('epoch')\n",
    "plt.legend(['training','validation'], loc='upper left')\n",
    "plt.show()\n",
    "\n",
    "plt.plot(bi_gru_model_history.history['loss'])\n",
    "plt.plot(bi_gru_model_history.history['val_loss'])\n",
    "\n",
    "plt.title('model loss')\n",
    "plt.ylabel('loss')\n",
    "plt.xlabel('epoch')\n",
    "plt.legend(['training','validation'], loc='upper left')\n",
    "plt.show()"
   ]
  },
  {
   "cell_type": "markdown",
   "metadata": {},
   "source": [
    "### **Classification report**"
   ]
  },
  {
   "cell_type": "code",
   "execution_count": 54,
   "metadata": {},
   "outputs": [
    {
     "name": "stdout",
     "output_type": "stream",
     "text": [
      "109/109 [==============================] - 6s 47ms/step\n",
      "              precision    recall  f1-score   support\n",
      "\n",
      "           0       0.78      0.69      0.73       307\n",
      "           1       0.84      0.85      0.84      1260\n",
      "           2       0.92      0.93      0.93      1901\n",
      "\n",
      "    accuracy                           0.88      3468\n",
      "   macro avg       0.85      0.82      0.83      3468\n",
      "weighted avg       0.88      0.88      0.88      3468\n",
      "\n"
     ]
    }
   ],
   "source": [
    "from sklearn.metrics import classification_report,confusion_matrix,ConfusionMatrixDisplay\n",
    "y_pred =   np.argmax(bi_gru_model.predict(X_test), axis  =  1)\n",
    "y_true = np.argmax(y_test, axis = 1)\n",
    "\n",
    "print(classification_report(y_true,y_pred))"
   ]
  },
  {
   "cell_type": "code",
   "execution_count": 55,
   "metadata": {},
   "outputs": [
    {
     "name": "stdout",
     "output_type": "stream",
     "text": [
      "109/109 [==============================] - 5s 47ms/step\n",
      "              precision    recall  f1-score   support\n",
      "\n",
      "           0       0.78      0.69      0.73       307\n",
      "           1       0.84      0.85      0.84      1260\n",
      "           2       0.92      0.93      0.93      1901\n",
      "\n",
      "    accuracy                           0.88      3468\n",
      "   macro avg       0.85      0.82      0.83      3468\n",
      "weighted avg       0.88      0.88      0.88      3468\n",
      "\n"
     ]
    },
    {
     "data": {
      "image/png": "[encoded data removed]",
      "text/plain": [
       "<Figure size 432x288 with 2 Axes>"
      ]
     },
     "metadata": {},
     "output_type": "display_data"
    }
   ],
   "source": [
    "# Classification report test data\n",
    "\n",
    "y_true=np.argmax(y_test, axis=1)\n",
    "y_pred_test = bi_gru_model.predict(X_test)\n",
    "y_pred_test=np.argmax(y_pred_test, axis=1)\n",
    "sns.set_theme(style='white')\n",
    "def class_report(model,y_true,pred):\n",
    "    print(classification_report(y_true,pred))\n",
    "    cm = confusion_matrix(y_true,pred,labels=[0,1,2])\n",
    "    disp = ConfusionMatrixDisplay(confusion_matrix=cm, display_labels=[0,1,2])\n",
    "    disp.plot()\n",
    "    plt.show()\n",
    "\n",
    "\n",
    "class_report(bi_gru_model,y_true,y_pred_test) \n",
    "\n",
    "# Original mapping\n",
    "# sentiment_mapping = {'negative':-1,'neutral':0,'positive':1}\n",
    "\n",
    "# New mapping\n",
    "# negative --> 0\n",
    "# neutral --> 1\n",
    "# positive --> 2"
   ]
  },
  {
   "cell_type": "markdown",
   "metadata": {},
   "source": [
    "### **ROC Curve**"
   ]
  },
  {
   "cell_type": "code",
   "execution_count": 56,
   "metadata": {},
   "outputs": [],
   "source": [
    "from sklearn.preprocessing import label_binarize"
   ]
  },
  {
   "cell_type": "code",
   "execution_count": 57,
   "metadata": {},
   "outputs": [],
   "source": [
    "n_classes = 3\n",
    "\n",
    "y_nn_auc = label_binarize(y_nn, classes=[0,1,2])\n",
    "\n",
    "n_classes = y_nn_auc.shape[1]"
   ]
  },
  {
   "cell_type": "code",
   "execution_count": 58,
   "metadata": {},
   "outputs": [],
   "source": [
    "X_train, X_test, y_train,y_test= train_test_split(\n",
    "                                            X,y_nn_auc,test_size=.2,random_state=42, \n",
    "                                            stratify=y_nn_auc)"
   ]
  },
  {
   "cell_type": "code",
   "execution_count": 59,
   "metadata": {},
   "outputs": [
    {
     "name": "stdout",
     "output_type": "stream",
     "text": [
      "Model: \"sequential_1\"\n",
      "_________________________________________________________________\n",
      " Layer (type)                Output Shape              Param #   \n",
      "=================================================================\n",
      " embedding_1 (Embedding)     (None, 300, 200)          1451800   \n",
      "                                                                 \n",
      " bidirectional_1 (Bidirectio  (None, 256)              253440    \n",
      " nal)                                                            \n",
      "                                                                 \n",
      " dense_1 (Dense)             (None, 3)                 771       \n",
      "                                                                 \n",
      "=================================================================\n",
      "Total params: 1,706,011\n",
      "Trainable params: 254,211\n",
      "Non-trainable params: 1,451,800\n",
      "_________________________________________________________________\n",
      "None\n",
      "Epoch 1/10\n",
      "87/87 [==============================] - 34s 345ms/step - loss: 0.6956 - acc: 0.7098 - val_loss: 0.6530 - val_acc: 0.7242\n",
      "Epoch 2/10\n",
      "87/87 [==============================] - 27s 316ms/step - loss: 0.5519 - acc: 0.7871 - val_loss: 0.5356 - val_acc: 0.7902\n",
      "Epoch 3/10\n",
      "87/87 [==============================] - 26s 305ms/step - loss: 0.3761 - acc: 0.8582 - val_loss: 0.4418 - val_acc: 0.8277\n",
      "Epoch 4/10\n",
      "87/87 [==============================] - 27s 306ms/step - loss: 0.2741 - acc: 0.9021 - val_loss: 0.4099 - val_acc: 0.8500\n",
      "Epoch 5/10\n",
      "87/87 [==============================] - 27s 306ms/step - loss: 0.2050 - acc: 0.9301 - val_loss: 0.3922 - val_acc: 0.8645\n",
      "Epoch 6/10\n",
      "87/87 [==============================] - 27s 308ms/step - loss: 0.1563 - acc: 0.9481 - val_loss: 0.4175 - val_acc: 0.8594\n",
      "Epoch 7/10\n",
      "87/87 [==============================] - 27s 307ms/step - loss: 0.1108 - acc: 0.9661 - val_loss: 0.4355 - val_acc: 0.8717\n",
      "Epoch 8/10\n",
      "87/87 [==============================] - 27s 307ms/step - loss: 0.0704 - acc: 0.9815 - val_loss: 0.4866 - val_acc: 0.8688\n",
      "Epoch 9/10\n",
      "87/87 [==============================] - 27s 307ms/step - loss: 0.0478 - acc: 0.9893 - val_loss: 0.5148 - val_acc: 0.8709\n",
      "Epoch 10/10\n",
      "87/87 [==============================] - 27s 308ms/step - loss: 0.0481 - acc: 0.9876 - val_loss: 0.6032 - val_acc: 0.8497\n"
     ]
    }
   ],
   "source": [
    "bi_gru_model = Sequential()\n",
    "embedding_layer = Embedding(vocab_length,d2v_vector_size,weights=[embedding_matrix],\n",
    "                                        input_length=max_len,trainable=False)\n",
    "\n",
    "\n",
    "bi_gru_model.add(embedding_layer)\n",
    "bi_gru_model.add(Bidirectional(GRU(128)))\n",
    "bi_gru_model.add(Dense(3,activation='softmax'))\n",
    "bi_gru_model.compile(optimizer='adam',loss='categorical_crossentropy',metrics=['acc'])\n",
    "\n",
    "print(bi_gru_model.summary())\n",
    "# Model training\n",
    "\n",
    "bi_gru_model_history = bi_gru_model.fit(\n",
    "    X_train,y_train,batch_size=128,epochs=10, verbose=1, validation_split=.2\n",
    ")"
   ]
  },
  {
   "cell_type": "code",
   "execution_count": 60,
   "metadata": {},
   "outputs": [],
   "source": [
    "from sklearn.metrics import roc_curve, roc_auc_score,auc\n",
    "fpr = {}\n",
    "tpr = {}\n",
    "roc_auc = {}\n",
    "# Plot linewidth\n",
    "lw = 2\n",
    "\n",
    "# Version 2\n",
    "classes_by_names = [\"negative\",\"neutral\",\"positive\"]\n",
    "def roc_curve_plot(value,y_test):\n",
    "    for i in range(n_classes):\n",
    "        fpr[i], tpr[i], _ = roc_curve(y_test[:,i], \n",
    "                                                    value[:,i])\n",
    "        roc_auc[i] = auc(fpr[i], tpr[i])                                                    \n",
    "        plt.plot(fpr[i], tpr[i], lw=lw, label= \"ROC of class {}, AUC= {}\"\n",
    "        .format(classes_by_names[i],np.round(roc_auc[i],2)))\n",
    "        \n",
    "       \n",
    "    plt.plot([0, 1], [0, 1], 'k--', lw=1)\n",
    "    plt.xlim([0.0, 1.0])\n",
    "    plt.ylim([0.0, 1.0])\n",
    "    plt.xlabel(\"False Positive Rate\")\n",
    "    plt.ylabel(\"True Positive Rate\")\n",
    "    plt.legend(loc=\"best\",frameon=True) # ,labels=[\"negative\",\"neutral\",\"positive\"]\n",
    "    # Title should be modified\n",
    "    plt.title(\"ROC curve of BiGRU multiclass; Sentiment prediction\")\n",
    "    plt.show()\n",
    "    roc_auc_scoring_macro_ovr = roc_auc_score(y_test,value, multi_class=\"OvR\",average='macro')\n",
    "    print(\"AUC macro-averaged over all classes: {:.2f}\"\n",
    "    .format(roc_auc_scoring_macro_ovr))"
   ]
  },
  {
   "cell_type": "code",
   "execution_count": 61,
   "metadata": {},
   "outputs": [
    {
     "name": "stdout",
     "output_type": "stream",
     "text": [
      "109/109 [==============================] - 5s 40ms/step\n"
     ]
    }
   ],
   "source": [
    "y_pred_test = bi_gru_model.predict(X_test)\n",
    "# y_pred_test=np.argmax(y_pred_test, axis=1)"
   ]
  },
  {
   "cell_type": "code",
   "execution_count": 62,
   "metadata": {},
   "outputs": [
    {
     "data": {
      "image/png": "[encoded data removed]",
      "text/plain": [
       "<Figure size 432x288 with 1 Axes>"
      ]
     },
     "metadata": {},
     "output_type": "display_data"
    },
    {
     "name": "stdout",
     "output_type": "stream",
     "text": [
      "AUC macro-averaged over all classes: 0.94\n"
     ]
    }
   ],
   "source": [
    "roc_curve_plot(y_pred_test,y_test)"
   ]
  },
  {
   "cell_type": "markdown",
   "metadata": {},
   "source": [
    "## **Conclusion**"
   ]
  },
  {
   "cell_type": "markdown",
   "metadata": {},
   "source": [
    "- Using PV-DM-200 word embeddings with BiGRU has also shown complete improvement in performance metrics than the use of GRU.\n",
    "- Logistic Regression using Doc2Vec PV-DM-200 has an f1-score of 0.67 and AUC score of 0.85.\n",
    "\n",
    "\n",
    "**Table of Values**\n",
    "\n",
    "dataset|f1_score_macro_avg|AUC_score_avg\n",
    "| ----------- | ----------- | ----------- |\n",
    "df_clean (test data)|0.83|0.94"
   ]
  }
 ],
 "metadata": {
  "kernelspec": {
   "display_name": "Python 3.8.13 (conda)",
   "language": "python",
   "name": "python3"
  },
  "language_info": {
   "codemirror_mode": {
    "name": "ipython",
    "version": 3
   },
   "file_extension": ".py",
   "mimetype": "text/x-python",
   "name": "python",
   "nbconvert_exporter": "python",
   "pygments_lexer": "ipython3",
   "version": "3.8.13"
  },
  "orig_nbformat": 4,
  "vscode": {
   "interpreter": {
    "hash": "0d3784fccdc90acbf957f8297e7e306d4c8b14c1a207bd5307d0795df9a8d77b"
   }
  }
 },
 "nbformat": 4,
 "nbformat_minor": 2
}
