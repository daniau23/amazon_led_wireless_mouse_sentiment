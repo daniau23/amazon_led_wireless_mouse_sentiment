{
 "cells": [
  {
   "cell_type": "code",
   "execution_count": 1,
   "metadata": {},
   "outputs": [],
   "source": [
    "import pandas as pd\n",
    "import numpy as np \n",
    "import matplotlib.pyplot as plt\n",
    "import plotly.express as px\n",
    "# import plotly.graph_objects as go\n",
    "# import plotly.figure_factory as ff\n",
    "import seaborn as sns\n",
    "import warnings\n",
    "warnings.filterwarnings(\"ignore\")\n",
    "# from nltk.tokenize import word_tokenize as wt \n",
    "# from collections import Counter\n",
    "import gensim\n",
    "# import textblob\n",
    "import spacy\n",
    "import tensorflow as tf\n",
    "import pickle\n",
    "import string\n",
    "import re\n",
    "from tensorflow.keras.preprocessing.text import one_hot, Tokenizer\n",
    "from tensorflow.keras.preprocessing.sequence import pad_sequences\n",
    "from tensorflow.keras.models import Sequential\n",
    "from tensorflow.keras.layers import Activation, Dropout, Dense\n",
    "from tensorflow.keras.layers import Flatten, GlobalMaxPooling1D, Embedding, Conv1D, LSTM, Bidirectional"
   ]
  },
  {
   "cell_type": "code",
   "execution_count": 2,
   "metadata": {},
   "outputs": [],
   "source": [
    "reviews ={\"reviews\":[ \" I can't believe I wasted my money on this keyboard and mouse\",\n",
    "            \"I really love this device\",\n",
    "            \"It's quite good, but not so great. They can do better\",\n",
    "            \"I hate this device, terrible!!!\",\n",
    "            \"Where the hell is my refund for this damn product (mouse)\",\n",
    "            \"I believe Ebay is so much better than the crap that is HERE!!!\",\n",
    "            \"worst keyboard ever\",\n",
    "            \"distasteful to the fullest!!!\",\n",
    "            \"spoilt on the first day\",\n",
    "            \"never shopping here again, waste of money\"]}"
   ]
  },
  {
   "cell_type": "code",
   "execution_count": 3,
   "metadata": {},
   "outputs": [],
   "source": [
    "# https://stackoverflow.com/questions/12851791/removing-numbers-from-string\n",
    "def preprocess(sent):\n",
    "    '''Cleans text data up, leaving only 2 or\n",
    "        more char long non-stepwords composed of A-Z & a-z only\n",
    "        in lowercase'''\n",
    "    # lowercase\n",
    "    sentence = sent.lower()\n",
    "\n",
    "    # Remove RT\n",
    "    sentence = re.sub('RT @\\w+: ',\" \",sentence)\n",
    "\n",
    "    # Remove special characters\n",
    "    sentence = re.sub(\"(@[A-Za-z0-9]+)|([^0-9A-Za-z \\t])|(\\w+:\\/\\/\\S+)\",\" \", sentence)\n",
    "\n",
    "    # Removing digits\n",
    "    sentence = sentence.translate(str.maketrans('', '', string.digits))\n",
    "\n",
    "    # Removing puntuactions\n",
    "    # sentence = sentence.translate(str.maketrans('', '', string.punctuation))\n",
    "\n",
    "    # Single character removal\n",
    "    sentence = re.sub(r\"\\s+[a-zA-Z]\\s+\", ' ', sentence)\n",
    "\n",
    "    sentence = re.sub(r\"\\s+[a-zA-Z]\\s+\", ' ', sentence)  \n",
    "    # When we remove apostrophe from the word \"Mark's\", \n",
    "    # the apostrophe is replaced by an empty space. \n",
    "    # Hence, we are left with single character \"s\" that we are removing here.\n",
    "\n",
    "    # Remove multiple spaces\n",
    "    sentence = re.sub(r'\\s+', ' ', sentence)  \n",
    "    # Next, we remove all the single characters and replace it by a space \n",
    "    # which creates multiple spaces in our text. \n",
    "    # Finally, we remove the multiple spaces from our text as well.\n",
    "\n",
    "    return sentence\n"
   ]
  },
  {
   "cell_type": "code",
   "execution_count": 4,
   "metadata": {},
   "outputs": [],
   "source": [
    "reviews = pd.DataFrame(reviews)"
   ]
  },
  {
   "cell_type": "code",
   "execution_count": 5,
   "metadata": {},
   "outputs": [
    {
     "data": {
      "text/html": [
       "<div>\n",
       "<style scoped>\n",
       "    .dataframe tbody tr th:only-of-type {\n",
       "        vertical-align: middle;\n",
       "    }\n",
       "\n",
       "    .dataframe tbody tr th {\n",
       "        vertical-align: top;\n",
       "    }\n",
       "\n",
       "    .dataframe thead th {\n",
       "        text-align: right;\n",
       "    }\n",
       "</style>\n",
       "<table border=\"1\" class=\"dataframe\">\n",
       "  <thead>\n",
       "    <tr style=\"text-align: right;\">\n",
       "      <th></th>\n",
       "      <th>reviews</th>\n",
       "    </tr>\n",
       "  </thead>\n",
       "  <tbody>\n",
       "    <tr>\n",
       "      <th>0</th>\n",
       "      <td>I can't believe I wasted my money on this key...</td>\n",
       "    </tr>\n",
       "    <tr>\n",
       "      <th>1</th>\n",
       "      <td>I really love this device</td>\n",
       "    </tr>\n",
       "    <tr>\n",
       "      <th>2</th>\n",
       "      <td>It's quite good, but not so great. They can do...</td>\n",
       "    </tr>\n",
       "    <tr>\n",
       "      <th>3</th>\n",
       "      <td>I hate this device, terrible!!!</td>\n",
       "    </tr>\n",
       "    <tr>\n",
       "      <th>4</th>\n",
       "      <td>Where the hell is my refund for this damn prod...</td>\n",
       "    </tr>\n",
       "    <tr>\n",
       "      <th>5</th>\n",
       "      <td>I believe Ebay is so much better than the crap...</td>\n",
       "    </tr>\n",
       "    <tr>\n",
       "      <th>6</th>\n",
       "      <td>worst keyboard ever</td>\n",
       "    </tr>\n",
       "    <tr>\n",
       "      <th>7</th>\n",
       "      <td>distasteful to the fullest!!!</td>\n",
       "    </tr>\n",
       "    <tr>\n",
       "      <th>8</th>\n",
       "      <td>spoilt on the first day</td>\n",
       "    </tr>\n",
       "    <tr>\n",
       "      <th>9</th>\n",
       "      <td>never shopping here again, waste of money</td>\n",
       "    </tr>\n",
       "  </tbody>\n",
       "</table>\n",
       "</div>"
      ],
      "text/plain": [
       "                                             reviews\n",
       "0   I can't believe I wasted my money on this key...\n",
       "1                          I really love this device\n",
       "2  It's quite good, but not so great. They can do...\n",
       "3                    I hate this device, terrible!!!\n",
       "4  Where the hell is my refund for this damn prod...\n",
       "5  I believe Ebay is so much better than the crap...\n",
       "6                                worst keyboard ever\n",
       "7                      distasteful to the fullest!!!\n",
       "8                            spoilt on the first day\n",
       "9          never shopping here again, waste of money"
      ]
     },
     "execution_count": 5,
     "metadata": {},
     "output_type": "execute_result"
    }
   ],
   "source": [
    "reviews"
   ]
  },
  {
   "cell_type": "code",
   "execution_count": 6,
   "metadata": {},
   "outputs": [],
   "source": [
    "from spacy.lang.en.stop_words import STOP_WORDS\n",
    "\n",
    "# print(STOP_WORDS,'\\n') # <- set of Spacy's default stop words\n",
    "all_stopwords = STOP_WORDS\n",
    "# Adding several stopwords\n",
    "# all_stopwords |= {'not',\"no\", \"n't\", 'n’t','n‘t','cannot','none','without','against'}\n",
    "\n",
    "# Removing several stop words\n",
    "all_stopwords-= {'not',\"no\", \"n't\", 'n’t','n‘t','cannot','none','without','against','off','against','too'}\n",
    "my_stop_words = set(all_stopwords) # My own stop words"
   ]
  },
  {
   "cell_type": "code",
   "execution_count": 7,
   "metadata": {},
   "outputs": [],
   "source": [
    "reviews[\"cleaned\"] = reviews[\"reviews\"].apply(preprocess)"
   ]
  },
  {
   "cell_type": "code",
   "execution_count": 8,
   "metadata": {},
   "outputs": [
    {
     "data": {
      "text/html": [
       "<div>\n",
       "<style scoped>\n",
       "    .dataframe tbody tr th:only-of-type {\n",
       "        vertical-align: middle;\n",
       "    }\n",
       "\n",
       "    .dataframe tbody tr th {\n",
       "        vertical-align: top;\n",
       "    }\n",
       "\n",
       "    .dataframe thead th {\n",
       "        text-align: right;\n",
       "    }\n",
       "</style>\n",
       "<table border=\"1\" class=\"dataframe\">\n",
       "  <thead>\n",
       "    <tr style=\"text-align: right;\">\n",
       "      <th></th>\n",
       "      <th>reviews</th>\n",
       "      <th>cleaned</th>\n",
       "    </tr>\n",
       "  </thead>\n",
       "  <tbody>\n",
       "    <tr>\n",
       "      <th>0</th>\n",
       "      <td>I can't believe I wasted my money on this key...</td>\n",
       "      <td>can believe wasted my money on this keyboard ...</td>\n",
       "    </tr>\n",
       "    <tr>\n",
       "      <th>1</th>\n",
       "      <td>I really love this device</td>\n",
       "      <td>i really love this device</td>\n",
       "    </tr>\n",
       "    <tr>\n",
       "      <th>2</th>\n",
       "      <td>It's quite good, but not so great. They can do...</td>\n",
       "      <td>it quite good but not so great they can do better</td>\n",
       "    </tr>\n",
       "    <tr>\n",
       "      <th>3</th>\n",
       "      <td>I hate this device, terrible!!!</td>\n",
       "      <td>i hate this device terrible</td>\n",
       "    </tr>\n",
       "    <tr>\n",
       "      <th>4</th>\n",
       "      <td>Where the hell is my refund for this damn prod...</td>\n",
       "      <td>where the hell is my refund for this damn prod...</td>\n",
       "    </tr>\n",
       "    <tr>\n",
       "      <th>5</th>\n",
       "      <td>I believe Ebay is so much better than the crap...</td>\n",
       "      <td>i believe ebay is so much better than the crap...</td>\n",
       "    </tr>\n",
       "    <tr>\n",
       "      <th>6</th>\n",
       "      <td>worst keyboard ever</td>\n",
       "      <td>worst keyboard ever</td>\n",
       "    </tr>\n",
       "    <tr>\n",
       "      <th>7</th>\n",
       "      <td>distasteful to the fullest!!!</td>\n",
       "      <td>distasteful to the fullest</td>\n",
       "    </tr>\n",
       "    <tr>\n",
       "      <th>8</th>\n",
       "      <td>spoilt on the first day</td>\n",
       "      <td>spoilt on the first day</td>\n",
       "    </tr>\n",
       "    <tr>\n",
       "      <th>9</th>\n",
       "      <td>never shopping here again, waste of money</td>\n",
       "      <td>never shopping here again waste of money</td>\n",
       "    </tr>\n",
       "  </tbody>\n",
       "</table>\n",
       "</div>"
      ],
      "text/plain": [
       "                                             reviews  \\\n",
       "0   I can't believe I wasted my money on this key...   \n",
       "1                          I really love this device   \n",
       "2  It's quite good, but not so great. They can do...   \n",
       "3                    I hate this device, terrible!!!   \n",
       "4  Where the hell is my refund for this damn prod...   \n",
       "5  I believe Ebay is so much better than the crap...   \n",
       "6                                worst keyboard ever   \n",
       "7                      distasteful to the fullest!!!   \n",
       "8                            spoilt on the first day   \n",
       "9          never shopping here again, waste of money   \n",
       "\n",
       "                                             cleaned  \n",
       "0   can believe wasted my money on this keyboard ...  \n",
       "1                          i really love this device  \n",
       "2  it quite good but not so great they can do better  \n",
       "3                       i hate this device terrible   \n",
       "4  where the hell is my refund for this damn prod...  \n",
       "5  i believe ebay is so much better than the crap...  \n",
       "6                                worst keyboard ever  \n",
       "7                        distasteful to the fullest   \n",
       "8                            spoilt on the first day  \n",
       "9           never shopping here again waste of money  "
      ]
     },
     "execution_count": 8,
     "metadata": {},
     "output_type": "execute_result"
    }
   ],
   "source": [
    "reviews"
   ]
  },
  {
   "cell_type": "code",
   "execution_count": 9,
   "metadata": {},
   "outputs": [],
   "source": [
    "nlp = spacy.load(\"en_core_web_sm\")\n",
    "def spacy_tokeniser(sent):\n",
    "    sent = sent.strip().lower()\n",
    "    doc = nlp(sent)\n",
    "    mytokens = [token.lemma_ for token in doc if token.text not in my_stop_words]\n",
    "    return mytokens"
   ]
  },
  {
   "cell_type": "code",
   "execution_count": 10,
   "metadata": {},
   "outputs": [],
   "source": [
    "reviews['tokens']= reviews['cleaned'].apply(spacy_tokeniser)"
   ]
  },
  {
   "cell_type": "code",
   "execution_count": 11,
   "metadata": {},
   "outputs": [
    {
     "data": {
      "text/html": [
       "<div>\n",
       "<style scoped>\n",
       "    .dataframe tbody tr th:only-of-type {\n",
       "        vertical-align: middle;\n",
       "    }\n",
       "\n",
       "    .dataframe tbody tr th {\n",
       "        vertical-align: top;\n",
       "    }\n",
       "\n",
       "    .dataframe thead th {\n",
       "        text-align: right;\n",
       "    }\n",
       "</style>\n",
       "<table border=\"1\" class=\"dataframe\">\n",
       "  <thead>\n",
       "    <tr style=\"text-align: right;\">\n",
       "      <th></th>\n",
       "      <th>reviews</th>\n",
       "      <th>cleaned</th>\n",
       "      <th>tokens</th>\n",
       "    </tr>\n",
       "  </thead>\n",
       "  <tbody>\n",
       "    <tr>\n",
       "      <th>0</th>\n",
       "      <td>I can't believe I wasted my money on this key...</td>\n",
       "      <td>can believe wasted my money on this keyboard ...</td>\n",
       "      <td>[believe, waste, money, keyboard, mouse]</td>\n",
       "    </tr>\n",
       "    <tr>\n",
       "      <th>1</th>\n",
       "      <td>I really love this device</td>\n",
       "      <td>i really love this device</td>\n",
       "      <td>[love, device]</td>\n",
       "    </tr>\n",
       "    <tr>\n",
       "      <th>2</th>\n",
       "      <td>It's quite good, but not so great. They can do...</td>\n",
       "      <td>it quite good but not so great they can do better</td>\n",
       "      <td>[good, not, great, well]</td>\n",
       "    </tr>\n",
       "    <tr>\n",
       "      <th>3</th>\n",
       "      <td>I hate this device, terrible!!!</td>\n",
       "      <td>i hate this device terrible</td>\n",
       "      <td>[hate, device, terrible]</td>\n",
       "    </tr>\n",
       "    <tr>\n",
       "      <th>4</th>\n",
       "      <td>Where the hell is my refund for this damn prod...</td>\n",
       "      <td>where the hell is my refund for this damn prod...</td>\n",
       "      <td>[hell, refund, damn, product, mouse]</td>\n",
       "    </tr>\n",
       "    <tr>\n",
       "      <th>5</th>\n",
       "      <td>I believe Ebay is so much better than the crap...</td>\n",
       "      <td>i believe ebay is so much better than the crap...</td>\n",
       "      <td>[believe, ebay, well, crap]</td>\n",
       "    </tr>\n",
       "    <tr>\n",
       "      <th>6</th>\n",
       "      <td>worst keyboard ever</td>\n",
       "      <td>worst keyboard ever</td>\n",
       "      <td>[bad, keyboard]</td>\n",
       "    </tr>\n",
       "    <tr>\n",
       "      <th>7</th>\n",
       "      <td>distasteful to the fullest!!!</td>\n",
       "      <td>distasteful to the fullest</td>\n",
       "      <td>[distasteful, full]</td>\n",
       "    </tr>\n",
       "    <tr>\n",
       "      <th>8</th>\n",
       "      <td>spoilt on the first day</td>\n",
       "      <td>spoilt on the first day</td>\n",
       "      <td>[spoilt, day]</td>\n",
       "    </tr>\n",
       "    <tr>\n",
       "      <th>9</th>\n",
       "      <td>never shopping here again, waste of money</td>\n",
       "      <td>never shopping here again waste of money</td>\n",
       "      <td>[shop, waste, money]</td>\n",
       "    </tr>\n",
       "  </tbody>\n",
       "</table>\n",
       "</div>"
      ],
      "text/plain": [
       "                                             reviews  \\\n",
       "0   I can't believe I wasted my money on this key...   \n",
       "1                          I really love this device   \n",
       "2  It's quite good, but not so great. They can do...   \n",
       "3                    I hate this device, terrible!!!   \n",
       "4  Where the hell is my refund for this damn prod...   \n",
       "5  I believe Ebay is so much better than the crap...   \n",
       "6                                worst keyboard ever   \n",
       "7                      distasteful to the fullest!!!   \n",
       "8                            spoilt on the first day   \n",
       "9          never shopping here again, waste of money   \n",
       "\n",
       "                                             cleaned  \\\n",
       "0   can believe wasted my money on this keyboard ...   \n",
       "1                          i really love this device   \n",
       "2  it quite good but not so great they can do better   \n",
       "3                       i hate this device terrible    \n",
       "4  where the hell is my refund for this damn prod...   \n",
       "5  i believe ebay is so much better than the crap...   \n",
       "6                                worst keyboard ever   \n",
       "7                        distasteful to the fullest    \n",
       "8                            spoilt on the first day   \n",
       "9           never shopping here again waste of money   \n",
       "\n",
       "                                     tokens  \n",
       "0  [believe, waste, money, keyboard, mouse]  \n",
       "1                            [love, device]  \n",
       "2                  [good, not, great, well]  \n",
       "3                  [hate, device, terrible]  \n",
       "4      [hell, refund, damn, product, mouse]  \n",
       "5               [believe, ebay, well, crap]  \n",
       "6                           [bad, keyboard]  \n",
       "7                       [distasteful, full]  \n",
       "8                             [spoilt, day]  \n",
       "9                      [shop, waste, money]  "
      ]
     },
     "execution_count": 11,
     "metadata": {},
     "output_type": "execute_result"
    }
   ],
   "source": [
    "reviews"
   ]
  },
  {
   "cell_type": "code",
   "execution_count": 13,
   "metadata": {},
   "outputs": [],
   "source": [
    "vectorizer = pickle.load(open('../../../../../../word2vec_files/glove_twitter_200.pkl', \"rb\"))\n",
    "model = tf.keras.models.load_model(\"../saved_model/saved_bi_lstm_model\")\n",
    "loaded_tokenizer = pickle.load(open(\"../saved_model/tokeniser.pkl\",'rb'))"
   ]
  },
  {
   "cell_type": "code",
   "execution_count": 14,
   "metadata": {},
   "outputs": [],
   "source": [
    "X = reviews[\"tokens\"]"
   ]
  },
  {
   "cell_type": "code",
   "execution_count": 15,
   "metadata": {},
   "outputs": [
    {
     "data": {
      "text/plain": [
       "['believe', 'waste', 'money', 'keyboard', 'mouse']"
      ]
     },
     "execution_count": 15,
     "metadata": {},
     "output_type": "execute_result"
    }
   ],
   "source": [
    "X[0]"
   ]
  },
  {
   "cell_type": "code",
   "execution_count": 16,
   "metadata": {},
   "outputs": [
    {
     "data": {
      "text/plain": [
       "[482, 129, 54, 16, 2]"
      ]
     },
     "execution_count": 16,
     "metadata": {},
     "output_type": "execute_result"
    }
   ],
   "source": [
    "X = loaded_tokenizer.texts_to_sequences(X)\n",
    "X[0]"
   ]
  },
  {
   "cell_type": "code",
   "execution_count": 17,
   "metadata": {},
   "outputs": [],
   "source": [
    "max_len = 300\n",
    "X = pad_sequences(X,padding=\"post\",maxlen=max_len)"
   ]
  },
  {
   "cell_type": "code",
   "execution_count": 18,
   "metadata": {},
   "outputs": [
    {
     "data": {
      "text/plain": [
       "(300,)"
      ]
     },
     "execution_count": 18,
     "metadata": {},
     "output_type": "execute_result"
    }
   ],
   "source": [
    "X[1].shape # shape (300,)\n",
    "# X[1].ndim # dimension"
   ]
  },
  {
   "cell_type": "code",
   "execution_count": 20,
   "metadata": {},
   "outputs": [
    {
     "data": {
      "text/plain": [
       "array([482,  56, 492,   0,   0,   0,   0,   0,   0,   0,   0,   0,   0,\n",
       "         0,   0,   0,   0,   0,   0,   0,   0,   0,   0,   0,   0,   0,\n",
       "         0,   0,   0,   0,   0,   0,   0,   0,   0,   0,   0,   0,   0,\n",
       "         0,   0,   0,   0,   0,   0,   0,   0,   0,   0,   0,   0,   0,\n",
       "         0,   0,   0,   0,   0,   0,   0,   0,   0,   0,   0,   0,   0,\n",
       "         0,   0,   0,   0,   0,   0,   0,   0,   0,   0,   0,   0,   0,\n",
       "         0,   0,   0,   0,   0,   0,   0,   0,   0,   0,   0,   0,   0,\n",
       "         0,   0,   0,   0,   0,   0,   0,   0,   0,   0,   0,   0,   0,\n",
       "         0,   0,   0,   0,   0,   0,   0,   0,   0,   0,   0,   0,   0,\n",
       "         0,   0,   0,   0,   0,   0,   0,   0,   0,   0,   0,   0,   0,\n",
       "         0,   0,   0,   0,   0,   0,   0,   0,   0,   0,   0,   0,   0,\n",
       "         0,   0,   0,   0,   0,   0,   0,   0,   0,   0,   0,   0,   0,\n",
       "         0,   0,   0,   0,   0,   0,   0,   0,   0,   0,   0,   0,   0,\n",
       "         0,   0,   0,   0,   0,   0,   0,   0,   0,   0,   0,   0,   0,\n",
       "         0,   0,   0,   0,   0,   0,   0,   0,   0,   0,   0,   0,   0,\n",
       "         0,   0,   0,   0,   0,   0,   0,   0,   0,   0,   0,   0,   0,\n",
       "         0,   0,   0,   0,   0,   0,   0,   0,   0,   0,   0,   0,   0,\n",
       "         0,   0,   0,   0,   0,   0,   0,   0,   0,   0,   0,   0,   0,\n",
       "         0,   0,   0,   0,   0,   0,   0,   0,   0,   0,   0,   0,   0,\n",
       "         0,   0,   0,   0,   0,   0,   0,   0,   0,   0,   0,   0,   0,\n",
       "         0,   0,   0,   0,   0,   0,   0,   0,   0,   0,   0,   0,   0,\n",
       "         0,   0,   0,   0,   0,   0,   0,   0,   0,   0,   0,   0,   0,\n",
       "         0,   0,   0,   0,   0,   0,   0,   0,   0,   0,   0,   0,   0,\n",
       "         0])"
      ]
     },
     "execution_count": 20,
     "metadata": {},
     "output_type": "execute_result"
    }
   ],
   "source": [
    "X[5]"
   ]
  },
  {
   "cell_type": "code",
   "execution_count": 21,
   "metadata": {},
   "outputs": [
    {
     "name": "stdout",
     "output_type": "stream",
     "text": [
      "1/1 [==============================] - 5s 5s/step\n"
     ]
    }
   ],
   "source": [
    "y_pred = model.predict(X)"
   ]
  },
  {
   "cell_type": "code",
   "execution_count": 22,
   "metadata": {},
   "outputs": [
    {
     "data": {
      "text/plain": [
       "array([[1.2046933e-01, 8.7769550e-01, 1.8351497e-03],\n",
       "       [4.7083075e-05, 3.1707799e-03, 9.9678206e-01],\n",
       "       [1.4427634e-03, 2.3255816e-02, 9.7530138e-01],\n",
       "       [9.2879611e-01, 7.0344016e-02, 8.5986435e-04],\n",
       "       [5.4354697e-01, 4.5634258e-01, 1.1048846e-04],\n",
       "       [4.2612899e-02, 9.3917608e-01, 1.8211039e-02],\n",
       "       [7.5812197e-01, 2.3495351e-01, 6.9245468e-03],\n",
       "       [1.4287298e-02, 9.8175645e-01, 3.9562308e-03],\n",
       "       [2.9308384e-02, 8.9438653e-01, 7.6305129e-02],\n",
       "       [1.9438477e-02, 9.7913235e-01, 1.4291094e-03]], dtype=float32)"
      ]
     },
     "execution_count": 22,
     "metadata": {},
     "output_type": "execute_result"
    }
   ],
   "source": [
    "y_pred"
   ]
  },
  {
   "cell_type": "code",
   "execution_count": 23,
   "metadata": {},
   "outputs": [
    {
     "data": {
      "text/html": [
       "<div>\n",
       "<style scoped>\n",
       "    .dataframe tbody tr th:only-of-type {\n",
       "        vertical-align: middle;\n",
       "    }\n",
       "\n",
       "    .dataframe tbody tr th {\n",
       "        vertical-align: top;\n",
       "    }\n",
       "\n",
       "    .dataframe thead th {\n",
       "        text-align: right;\n",
       "    }\n",
       "</style>\n",
       "<table border=\"1\" class=\"dataframe\">\n",
       "  <thead>\n",
       "    <tr style=\"text-align: right;\">\n",
       "      <th></th>\n",
       "      <th>reviews</th>\n",
       "      <th>cleaned</th>\n",
       "      <th>tokens</th>\n",
       "      <th>predictions</th>\n",
       "    </tr>\n",
       "  </thead>\n",
       "  <tbody>\n",
       "    <tr>\n",
       "      <th>0</th>\n",
       "      <td>I can't believe I wasted my money on this key...</td>\n",
       "      <td>can believe wasted my money on this keyboard ...</td>\n",
       "      <td>[believe, waste, money, keyboard, mouse]</td>\n",
       "      <td>1</td>\n",
       "    </tr>\n",
       "    <tr>\n",
       "      <th>1</th>\n",
       "      <td>I really love this device</td>\n",
       "      <td>i really love this device</td>\n",
       "      <td>[love, device]</td>\n",
       "      <td>2</td>\n",
       "    </tr>\n",
       "    <tr>\n",
       "      <th>2</th>\n",
       "      <td>It's quite good, but not so great. They can do...</td>\n",
       "      <td>it quite good but not so great they can do better</td>\n",
       "      <td>[good, not, great, well]</td>\n",
       "      <td>2</td>\n",
       "    </tr>\n",
       "    <tr>\n",
       "      <th>3</th>\n",
       "      <td>I hate this device, terrible!!!</td>\n",
       "      <td>i hate this device terrible</td>\n",
       "      <td>[hate, device, terrible]</td>\n",
       "      <td>0</td>\n",
       "    </tr>\n",
       "    <tr>\n",
       "      <th>4</th>\n",
       "      <td>Where the hell is my refund for this damn prod...</td>\n",
       "      <td>where the hell is my refund for this damn prod...</td>\n",
       "      <td>[hell, refund, damn, product, mouse]</td>\n",
       "      <td>0</td>\n",
       "    </tr>\n",
       "    <tr>\n",
       "      <th>5</th>\n",
       "      <td>I believe Ebay is so much better than the crap...</td>\n",
       "      <td>i believe ebay is so much better than the crap...</td>\n",
       "      <td>[believe, ebay, well, crap]</td>\n",
       "      <td>1</td>\n",
       "    </tr>\n",
       "    <tr>\n",
       "      <th>6</th>\n",
       "      <td>worst keyboard ever</td>\n",
       "      <td>worst keyboard ever</td>\n",
       "      <td>[bad, keyboard]</td>\n",
       "      <td>0</td>\n",
       "    </tr>\n",
       "    <tr>\n",
       "      <th>7</th>\n",
       "      <td>distasteful to the fullest!!!</td>\n",
       "      <td>distasteful to the fullest</td>\n",
       "      <td>[distasteful, full]</td>\n",
       "      <td>1</td>\n",
       "    </tr>\n",
       "    <tr>\n",
       "      <th>8</th>\n",
       "      <td>spoilt on the first day</td>\n",
       "      <td>spoilt on the first day</td>\n",
       "      <td>[spoilt, day]</td>\n",
       "      <td>1</td>\n",
       "    </tr>\n",
       "    <tr>\n",
       "      <th>9</th>\n",
       "      <td>never shopping here again, waste of money</td>\n",
       "      <td>never shopping here again waste of money</td>\n",
       "      <td>[shop, waste, money]</td>\n",
       "      <td>1</td>\n",
       "    </tr>\n",
       "  </tbody>\n",
       "</table>\n",
       "</div>"
      ],
      "text/plain": [
       "                                             reviews  \\\n",
       "0   I can't believe I wasted my money on this key...   \n",
       "1                          I really love this device   \n",
       "2  It's quite good, but not so great. They can do...   \n",
       "3                    I hate this device, terrible!!!   \n",
       "4  Where the hell is my refund for this damn prod...   \n",
       "5  I believe Ebay is so much better than the crap...   \n",
       "6                                worst keyboard ever   \n",
       "7                      distasteful to the fullest!!!   \n",
       "8                            spoilt on the first day   \n",
       "9          never shopping here again, waste of money   \n",
       "\n",
       "                                             cleaned  \\\n",
       "0   can believe wasted my money on this keyboard ...   \n",
       "1                          i really love this device   \n",
       "2  it quite good but not so great they can do better   \n",
       "3                       i hate this device terrible    \n",
       "4  where the hell is my refund for this damn prod...   \n",
       "5  i believe ebay is so much better than the crap...   \n",
       "6                                worst keyboard ever   \n",
       "7                        distasteful to the fullest    \n",
       "8                            spoilt on the first day   \n",
       "9           never shopping here again waste of money   \n",
       "\n",
       "                                     tokens  predictions  \n",
       "0  [believe, waste, money, keyboard, mouse]            1  \n",
       "1                            [love, device]            2  \n",
       "2                  [good, not, great, well]            2  \n",
       "3                  [hate, device, terrible]            0  \n",
       "4      [hell, refund, damn, product, mouse]            0  \n",
       "5               [believe, ebay, well, crap]            1  \n",
       "6                           [bad, keyboard]            0  \n",
       "7                       [distasteful, full]            1  \n",
       "8                             [spoilt, day]            1  \n",
       "9                      [shop, waste, money]            1  "
      ]
     },
     "execution_count": 23,
     "metadata": {},
     "output_type": "execute_result"
    }
   ],
   "source": [
    "reviews[\"predictions\"] = np.argmax(y_pred, axis = 1)\n",
    "reviews"
   ]
  }
 ],
 "metadata": {
  "kernelspec": {
   "display_name": "Python 3.8.13 (conda)",
   "language": "python",
   "name": "python3"
  },
  "language_info": {
   "codemirror_mode": {
    "name": "ipython",
    "version": 3
   },
   "file_extension": ".py",
   "mimetype": "text/x-python",
   "name": "python",
   "nbconvert_exporter": "python",
   "pygments_lexer": "ipython3",
   "version": "3.8.13"
  },
  "orig_nbformat": 4,
  "vscode": {
   "interpreter": {
    "hash": "0d3784fccdc90acbf957f8297e7e306d4c8b14c1a207bd5307d0795df9a8d77b"
   }
  }
 },
 "nbformat": 4,
 "nbformat_minor": 2
}
