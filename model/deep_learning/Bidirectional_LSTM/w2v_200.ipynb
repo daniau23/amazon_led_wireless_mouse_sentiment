{
 "cells": [
  {
   "cell_type": "code",
   "execution_count": 1,
   "metadata": {},
   "outputs": [],
   "source": [
    "import pandas as pd\n",
    "import numpy as np \n",
    "import matplotlib.pyplot as plt\n",
    "import plotly.express as px\n",
    "# import plotly.graph_objects as go\n",
    "# import plotly.figure_factory as ff\n",
    "import seaborn as sns\n",
    "import warnings\n",
    "warnings.filterwarnings(\"ignore\")\n",
    "# from nltk.tokenize import word_tokenize as wt \n",
    "# from collections import Counter\n",
    "import gensim\n",
    "# import textblob\n",
    "import spacy\n",
    "import tensorflow as tf\n",
    "from tensorflow.keras.preprocessing.text import one_hot, Tokenizer\n",
    "from tensorflow.keras.preprocessing.sequence import pad_sequences\n",
    "from tensorflow.keras.models import Sequential\n",
    "from tensorflow.keras.layers import Activation, Dropout, Dense\n",
    "from tensorflow.keras.layers import Flatten, GlobalMaxPooling1D, Embedding, Conv1D, LSTM, Bidirectional"
   ]
  },
  {
   "cell_type": "code",
   "execution_count": 2,
   "metadata": {},
   "outputs": [
    {
     "name": "stdout",
     "output_type": "stream",
     "text": [
      "2.10.0\n"
     ]
    }
   ],
   "source": [
    "print(tf. __version__)"
   ]
  },
  {
   "cell_type": "markdown",
   "metadata": {},
   "source": [
    "### **Plan of Action**\n",
    "\n",
    "- Load the data\n",
    "- Drop unnecessary columns and rows\n",
    "- Removal of stop words.\n",
    "- Feature engineering;\n",
    "    - Glove-twitter-200\n",
    "- Begin modelling\n",
    "    - Algorithms to use;\n",
    "        - Simple Neural Network\n",
    "- Evaluation;\n",
    "    - F1-score_macro\n",
    "    - AUC\n",
    "    - ROC"
   ]
  },
  {
   "cell_type": "code",
   "execution_count": 3,
   "metadata": {},
   "outputs": [],
   "source": [
    "df_clean = pd.read_csv('../../cleaned_reviews.csv')"
   ]
  },
  {
   "cell_type": "code",
   "execution_count": 4,
   "metadata": {},
   "outputs": [
    {
     "data": {
      "text/plain": [
       "(17340, 4)"
      ]
     },
     "execution_count": 4,
     "metadata": {},
     "output_type": "execute_result"
    }
   ],
   "source": [
    "df_clean.shape"
   ]
  },
  {
   "cell_type": "code",
   "execution_count": 5,
   "metadata": {},
   "outputs": [
    {
     "data": {
      "text/plain": [
       "Index(['sentiments', 'cleaned_review', 'cleaned_review_length',\n",
       "       'review_score'],\n",
       "      dtype='object')"
      ]
     },
     "execution_count": 5,
     "metadata": {},
     "output_type": "execute_result"
    }
   ],
   "source": [
    "df_clean.columns"
   ]
  },
  {
   "cell_type": "code",
   "execution_count": 6,
   "metadata": {},
   "outputs": [],
   "source": [
    "df_clean.drop(columns=['cleaned_review_length','review_score'],inplace=True)"
   ]
  },
  {
   "cell_type": "markdown",
   "metadata": {},
   "source": [
    "**Checking for Null Vaules and Duplicates**"
   ]
  },
  {
   "cell_type": "code",
   "execution_count": 7,
   "metadata": {},
   "outputs": [
    {
     "data": {
      "text/plain": [
       "sentiments        0\n",
       "cleaned_review    3\n",
       "dtype: int64"
      ]
     },
     "execution_count": 7,
     "metadata": {},
     "output_type": "execute_result"
    }
   ],
   "source": [
    "df_clean.isna().sum()"
   ]
  },
  {
   "cell_type": "code",
   "execution_count": 8,
   "metadata": {},
   "outputs": [],
   "source": [
    "df_clean.dropna(inplace=True)"
   ]
  },
  {
   "cell_type": "code",
   "execution_count": 9,
   "metadata": {},
   "outputs": [
    {
     "data": {
      "text/plain": [
       "(17337, 2)"
      ]
     },
     "execution_count": 9,
     "metadata": {},
     "output_type": "execute_result"
    }
   ],
   "source": [
    "df_clean.shape"
   ]
  },
  {
   "cell_type": "code",
   "execution_count": 10,
   "metadata": {},
   "outputs": [],
   "source": [
    "from spacy.lang.en.stop_words import STOP_WORDS\n",
    "\n",
    "# print(STOP_WORDS,'\\n') # <- set of Spacy's default stop words\n",
    "all_stopwords = STOP_WORDS\n",
    "# Adding several stopwords\n",
    "# all_stopwords |= {'not',\"no\", \"n't\", 'n’t','n‘t','cannot','none','without','against'}\n",
    "\n",
    "# Removing several stop words\n",
    "all_stopwords-= {'not',\"no\", \"n't\", 'n’t','n‘t','cannot','none','without','against','off','against','too'}\n",
    "my_stop_words = set(all_stopwords) # My own stop words"
   ]
  },
  {
   "cell_type": "code",
   "execution_count": 11,
   "metadata": {},
   "outputs": [],
   "source": [
    "# print(my_stop_words)"
   ]
  },
  {
   "cell_type": "code",
   "execution_count": 12,
   "metadata": {},
   "outputs": [
    {
     "data": {
      "text/html": [
       "<div>\n",
       "<style scoped>\n",
       "    .dataframe tbody tr th:only-of-type {\n",
       "        vertical-align: middle;\n",
       "    }\n",
       "\n",
       "    .dataframe tbody tr th {\n",
       "        vertical-align: top;\n",
       "    }\n",
       "\n",
       "    .dataframe thead th {\n",
       "        text-align: right;\n",
       "    }\n",
       "</style>\n",
       "<table border=\"1\" class=\"dataframe\">\n",
       "  <thead>\n",
       "    <tr style=\"text-align: right;\">\n",
       "      <th></th>\n",
       "      <th>sentiments</th>\n",
       "      <th>cleaned_review</th>\n",
       "    </tr>\n",
       "  </thead>\n",
       "  <tbody>\n",
       "    <tr>\n",
       "      <th>0</th>\n",
       "      <td>positive</td>\n",
       "      <td>i wish would have gotten one earlier love it a...</td>\n",
       "    </tr>\n",
       "    <tr>\n",
       "      <th>1</th>\n",
       "      <td>neutral</td>\n",
       "      <td>i ve learned this lesson again open the packag...</td>\n",
       "    </tr>\n",
       "    <tr>\n",
       "      <th>2</th>\n",
       "      <td>neutral</td>\n",
       "      <td>it is so slow and lags find better option</td>\n",
       "    </tr>\n",
       "    <tr>\n",
       "      <th>3</th>\n",
       "      <td>neutral</td>\n",
       "      <td>roller ball stopped working within months of m...</td>\n",
       "    </tr>\n",
       "    <tr>\n",
       "      <th>4</th>\n",
       "      <td>neutral</td>\n",
       "      <td>i like the color and size but it few days out ...</td>\n",
       "    </tr>\n",
       "    <tr>\n",
       "      <th>...</th>\n",
       "      <td>...</td>\n",
       "      <td>...</td>\n",
       "    </tr>\n",
       "    <tr>\n",
       "      <th>17335</th>\n",
       "      <td>positive</td>\n",
       "      <td>i love this speaker and love can take it anywh...</td>\n",
       "    </tr>\n",
       "    <tr>\n",
       "      <th>17336</th>\n",
       "      <td>positive</td>\n",
       "      <td>i use it in my house easy to connect and loud ...</td>\n",
       "    </tr>\n",
       "    <tr>\n",
       "      <th>17337</th>\n",
       "      <td>positive</td>\n",
       "      <td>the bass is good and the battery is amazing mu...</td>\n",
       "    </tr>\n",
       "    <tr>\n",
       "      <th>17338</th>\n",
       "      <td>positive</td>\n",
       "      <td>love it</td>\n",
       "    </tr>\n",
       "    <tr>\n",
       "      <th>17339</th>\n",
       "      <td>neutral</td>\n",
       "      <td>mono speaker</td>\n",
       "    </tr>\n",
       "  </tbody>\n",
       "</table>\n",
       "<p>17337 rows × 2 columns</p>\n",
       "</div>"
      ],
      "text/plain": [
       "      sentiments                                     cleaned_review\n",
       "0       positive  i wish would have gotten one earlier love it a...\n",
       "1        neutral  i ve learned this lesson again open the packag...\n",
       "2        neutral          it is so slow and lags find better option\n",
       "3        neutral  roller ball stopped working within months of m...\n",
       "4        neutral  i like the color and size but it few days out ...\n",
       "...          ...                                                ...\n",
       "17335   positive  i love this speaker and love can take it anywh...\n",
       "17336   positive  i use it in my house easy to connect and loud ...\n",
       "17337   positive  the bass is good and the battery is amazing mu...\n",
       "17338   positive                                            love it\n",
       "17339    neutral                                       mono speaker\n",
       "\n",
       "[17337 rows x 2 columns]"
      ]
     },
     "execution_count": 12,
     "metadata": {},
     "output_type": "execute_result"
    }
   ],
   "source": [
    "df_clean"
   ]
  },
  {
   "cell_type": "code",
   "execution_count": 13,
   "metadata": {},
   "outputs": [],
   "source": [
    "nlp = spacy.load(\"en_core_web_sm\")"
   ]
  },
  {
   "cell_type": "code",
   "execution_count": 14,
   "metadata": {},
   "outputs": [],
   "source": [
    "def spacy_tokeniser(sent):\n",
    "    sent = sent.strip().lower()\n",
    "    doc = nlp(sent)\n",
    "    mytokens = [token.lemma_ for token in doc if token.text not in my_stop_words]\n",
    "    return mytokens"
   ]
  },
  {
   "cell_type": "code",
   "execution_count": 15,
   "metadata": {},
   "outputs": [],
   "source": [
    "df_clean['tokens']= df_clean['cleaned_review'].apply(spacy_tokeniser)"
   ]
  },
  {
   "cell_type": "code",
   "execution_count": 16,
   "metadata": {},
   "outputs": [
    {
     "data": {
      "text/html": [
       "<div>\n",
       "<style scoped>\n",
       "    .dataframe tbody tr th:only-of-type {\n",
       "        vertical-align: middle;\n",
       "    }\n",
       "\n",
       "    .dataframe tbody tr th {\n",
       "        vertical-align: top;\n",
       "    }\n",
       "\n",
       "    .dataframe thead th {\n",
       "        text-align: right;\n",
       "    }\n",
       "</style>\n",
       "<table border=\"1\" class=\"dataframe\">\n",
       "  <thead>\n",
       "    <tr style=\"text-align: right;\">\n",
       "      <th></th>\n",
       "      <th>sentiments</th>\n",
       "      <th>cleaned_review</th>\n",
       "      <th>tokens</th>\n",
       "    </tr>\n",
       "  </thead>\n",
       "  <tbody>\n",
       "    <tr>\n",
       "      <th>0</th>\n",
       "      <td>positive</td>\n",
       "      <td>i wish would have gotten one earlier love it a...</td>\n",
       "      <td>[wish, get, early, love, make, work, laptop, e...</td>\n",
       "    </tr>\n",
       "    <tr>\n",
       "      <th>1</th>\n",
       "      <td>neutral</td>\n",
       "      <td>i ve learned this lesson again open the packag...</td>\n",
       "      <td>[ve, learn, lesson, open, package, use, produc...</td>\n",
       "    </tr>\n",
       "    <tr>\n",
       "      <th>2</th>\n",
       "      <td>neutral</td>\n",
       "      <td>it is so slow and lags find better option</td>\n",
       "      <td>[slow, lag, find, well, option]</td>\n",
       "    </tr>\n",
       "    <tr>\n",
       "      <th>3</th>\n",
       "      <td>neutral</td>\n",
       "      <td>roller ball stopped working within months of m...</td>\n",
       "      <td>[roller, ball, stop, work, month, minimal, use...</td>\n",
       "    </tr>\n",
       "    <tr>\n",
       "      <th>4</th>\n",
       "      <td>neutral</td>\n",
       "      <td>i like the color and size but it few days out ...</td>\n",
       "      <td>[like, color, size, day, return, period, not, ...</td>\n",
       "    </tr>\n",
       "  </tbody>\n",
       "</table>\n",
       "</div>"
      ],
      "text/plain": [
       "  sentiments                                     cleaned_review  \\\n",
       "0   positive  i wish would have gotten one earlier love it a...   \n",
       "1    neutral  i ve learned this lesson again open the packag...   \n",
       "2    neutral          it is so slow and lags find better option   \n",
       "3    neutral  roller ball stopped working within months of m...   \n",
       "4    neutral  i like the color and size but it few days out ...   \n",
       "\n",
       "                                              tokens  \n",
       "0  [wish, get, early, love, make, work, laptop, e...  \n",
       "1  [ve, learn, lesson, open, package, use, produc...  \n",
       "2                    [slow, lag, find, well, option]  \n",
       "3  [roller, ball, stop, work, month, minimal, use...  \n",
       "4  [like, color, size, day, return, period, not, ...  "
      ]
     },
     "execution_count": 16,
     "metadata": {},
     "output_type": "execute_result"
    }
   ],
   "source": [
    "df_clean.head()"
   ]
  },
  {
   "cell_type": "code",
   "execution_count": 17,
   "metadata": {},
   "outputs": [],
   "source": [
    "# Dropping unnecessary columns\n",
    "df_clean.drop(columns=['cleaned_review'],inplace=True)"
   ]
  },
  {
   "cell_type": "markdown",
   "metadata": {},
   "source": [
    "**Sentiment Mapping**"
   ]
  },
  {
   "cell_type": "code",
   "execution_count": 18,
   "metadata": {},
   "outputs": [],
   "source": [
    "# Mapping was changed due to the use of a neural network architecture\n",
    "sentiment_mapping = {'negative':0,'neutral':1,'positive':2} \n",
    "df_clean['sentiment_label'] = df_clean.sentiments.map(sentiment_mapping)"
   ]
  },
  {
   "cell_type": "code",
   "execution_count": 19,
   "metadata": {},
   "outputs": [],
   "source": [
    "df_clean.drop(columns=['sentiments'],inplace=True)"
   ]
  },
  {
   "cell_type": "markdown",
   "metadata": {},
   "source": [
    "**Text Sequencing**\n",
    "\n",
    "Now we tokenize the sentences and convert X into sequences of numbers:\n",
    "- Embedding layer expects the words to be in numeric form \n",
    "- Using Tokenizer function from keras.preprocessing.text library\n",
    "- Method fit_on_text trains the tokenizer \n",
    "- Method texts_to_sequences converts sentences to their numeric form"
   ]
  },
  {
   "cell_type": "code",
   "execution_count": 20,
   "metadata": {},
   "outputs": [],
   "source": [
    "X = df_clean[\"tokens\"]"
   ]
  },
  {
   "cell_type": "code",
   "execution_count": 21,
   "metadata": {},
   "outputs": [
    {
     "data": {
      "text/plain": [
       "['wish', 'get', 'early', 'love', 'make', 'work', 'laptop', 'easy']"
      ]
     },
     "execution_count": 21,
     "metadata": {},
     "output_type": "execute_result"
    }
   ],
   "source": [
    "X[0]"
   ]
  },
  {
   "cell_type": "code",
   "execution_count": 22,
   "metadata": {},
   "outputs": [
    {
     "data": {
      "text/plain": [
       "[153, 26, 758, 9, 124, 1, 51, 34]"
      ]
     },
     "execution_count": 22,
     "metadata": {},
     "output_type": "execute_result"
    }
   ],
   "source": [
    "word_tokenizer = Tokenizer()\n",
    "word_tokenizer.fit_on_texts(X)\n",
    "\n",
    "X = word_tokenizer.texts_to_sequences(X)\n",
    "X[0]"
   ]
  },
  {
   "cell_type": "code",
   "execution_count": 23,
   "metadata": {},
   "outputs": [
    {
     "name": "stdout",
     "output_type": "stream",
     "text": [
      "293\n"
     ]
    }
   ],
   "source": [
    "# We need to find the maximum lenght of any document or review in our case. \n",
    "# We will pad all reviews to have this same length.\n",
    "# This will be required by Keras embedding layer\n",
    "\n",
    "review_max_length = 0\n",
    "for i in df_clean['tokens']: \n",
    "    length = len(i)\n",
    "    if length > review_max_length:\n",
    "        review_max_length = length\n",
    "\n",
    "print(review_max_length) \n",
    "\n",
    "# Although max length is 293, we will use an approximate value of 300; \n",
    "# maxlen = 300"
   ]
  },
  {
   "cell_type": "code",
   "execution_count": 24,
   "metadata": {},
   "outputs": [
    {
     "data": {
      "text/plain": [
       "7258"
      ]
     },
     "execution_count": 24,
     "metadata": {},
     "output_type": "execute_result"
    }
   ],
   "source": [
    "# print(word_tokenizer.word_index) # Outputs a dictionary\n",
    "len(word_tokenizer.word_index)"
   ]
  },
  {
   "cell_type": "code",
   "execution_count": 25,
   "metadata": {},
   "outputs": [],
   "source": [
    "vocab = word_tokenizer.word_index.items()"
   ]
  },
  {
   "cell_type": "code",
   "execution_count": 26,
   "metadata": {},
   "outputs": [],
   "source": [
    "# print(vocab)\n",
    "# Outputs a dict_items like so dict_items([('work', 1), ('mouse', 2)])\n",
    "\n",
    "# for word, index in vocab:\n",
    "#     print(f\"The word: {word}\") # The word: work"
   ]
  },
  {
   "cell_type": "code",
   "execution_count": 27,
   "metadata": {},
   "outputs": [
    {
     "data": {
      "text/plain": [
       "7259"
      ]
     },
     "execution_count": 27,
     "metadata": {},
     "output_type": "execute_result"
    }
   ],
   "source": [
    "vocab_length = len(word_tokenizer.word_index) + 1\n",
    "vocab_length"
   ]
  },
  {
   "cell_type": "code",
   "execution_count": 28,
   "metadata": {},
   "outputs": [],
   "source": [
    "max_len = 300\n",
    "X = pad_sequences(X,padding=\"post\",maxlen=max_len)"
   ]
  },
  {
   "cell_type": "code",
   "execution_count": 29,
   "metadata": {},
   "outputs": [
    {
     "data": {
      "text/plain": [
       "1"
      ]
     },
     "execution_count": 29,
     "metadata": {},
     "output_type": "execute_result"
    }
   ],
   "source": [
    "X[1].shape # shape\n",
    "X[1].ndim # dimension"
   ]
  },
  {
   "cell_type": "markdown",
   "metadata": {},
   "source": [
    "### **Creating Embedding Matrix**"
   ]
  },
  {
   "cell_type": "code",
   "execution_count": 30,
   "metadata": {},
   "outputs": [],
   "source": [
    "import pickle\n",
    "# Loading saved word2vec glove_twitter_25.pkl\n",
    "vectorizer = pickle.load(open('../../../../../word2vec_files/glove_twitter_200.pkl', \"rb\"))"
   ]
  },
  {
   "cell_type": "code",
   "execution_count": 31,
   "metadata": {},
   "outputs": [
    {
     "data": {
      "text/plain": [
       "1193514"
      ]
     },
     "execution_count": 31,
     "metadata": {},
     "output_type": "execute_result"
    }
   ],
   "source": [
    "len(vectorizer.key_to_index.keys()) "
   ]
  },
  {
   "cell_type": "code",
   "execution_count": 32,
   "metadata": {},
   "outputs": [],
   "source": [
    "# print(list((vectorizer.key_to_index.keys()))) \n",
    "# # prints a list of keys like so ['<user>', '.', ':', 'rt', ',]"
   ]
  },
  {
   "cell_type": "code",
   "execution_count": 33,
   "metadata": {},
   "outputs": [],
   "source": [
    "# vectorizer[\"model\"] # Gives vector representation"
   ]
  },
  {
   "cell_type": "code",
   "execution_count": 34,
   "metadata": {},
   "outputs": [],
   "source": [
    "# Create Embedding Matrix having 200 columns \n",
    "# Containing 200-dimensional GloVe word embeddings for all words in our corpus\n",
    "\n",
    "w2v_vector_size = vectorizer.vector_size\n",
    "embedding_matrix = np.zeros((vocab_length, w2v_vector_size)) \n",
    "# print(embedding_matrix.shape) # (7259, 200)\n",
    "# print(embedding_matrix.ndim) # 2-dimensional array"
   ]
  },
  {
   "cell_type": "code",
   "execution_count": 35,
   "metadata": {},
   "outputs": [
    {
     "data": {
      "text/plain": [
       "array([[0., 0.],\n",
       "       [0., 0.],\n",
       "       [0., 0.],\n",
       "       [0., 0.],\n",
       "       [0., 0.]])"
      ]
     },
     "execution_count": 35,
     "metadata": {},
     "output_type": "execute_result"
    }
   ],
   "source": [
    "embedding_matrix[:5,:2]"
   ]
  },
  {
   "cell_type": "code",
   "execution_count": 36,
   "metadata": {},
   "outputs": [],
   "source": [
    "for word, index in vocab:\n",
    "    if word in vectorizer.key_to_index.keys():\n",
    "        embedding_matrix[index] = vectorizer[word]\n",
    "    else:\n",
    "        embedding_matrix[index] = np.zeros(w2v_vector_size)"
   ]
  },
  {
   "cell_type": "code",
   "execution_count": 37,
   "metadata": {},
   "outputs": [],
   "source": [
    "# embedding_matrix.shape # (7259, 200)\n",
    "# embedding_matrix.ndim # 2-dimensional array"
   ]
  },
  {
   "cell_type": "code",
   "execution_count": 38,
   "metadata": {},
   "outputs": [
    {
     "data": {
      "text/plain": [
       "array([[ 0.        ,  0.        ,  0.        ,  0.        ,  0.        ,\n",
       "         0.        ,  0.        ,  0.        ,  0.        ,  0.        ],\n",
       "       [ 0.25128999, -0.32295001,  0.29076001, -0.074966  , -0.042109  ,\n",
       "         0.22063001,  1.023     , -0.032588  ,  0.035311  , -0.018864  ],\n",
       "       [ 0.41170999, -0.39579001,  0.35874   ,  0.61809999, -0.066579  ,\n",
       "         0.47218001,  0.80032003, -0.019318  ,  0.5898    , -0.83706999],\n",
       "       [-0.099554  ,  0.12503   , -0.16867   ,  0.33724999, -0.59456998,\n",
       "         0.48227   ,  0.78803998,  0.093338  , -0.096654  ,  0.28545001],\n",
       "       [ 0.10751   ,  0.15958001,  0.13332   ,  0.16642   , -0.032737  ,\n",
       "         0.17591999,  0.72395003,  0.11713   , -0.35036001, -0.42936999],\n",
       "       [-0.26067999,  0.62687999, -0.013203  ,  0.21834999,  0.37790999,\n",
       "         0.35712999,  0.49437001, -0.57717001,  1.10710001,  0.22645999],\n",
       "       [ 0.0033451 ,  0.18548   ,  0.11773   ,  0.14827999,  0.012996  ,\n",
       "        -0.35578001,  1.11619997, -0.069614  ,  0.43147001,  0.076101  ],\n",
       "       [-0.48964   ,  0.050533  , -0.22928999,  0.19994999, -0.45269001,\n",
       "         0.43939   , -0.054407  , -0.19588   ,  0.37777001, -0.45153001],\n",
       "       [ 0.018223  , -0.012323  ,  0.035569  ,  0.24232   , -0.16068999,\n",
       "         0.5237    ,  0.44600999,  0.12796   , -0.39653999, -0.55359   ],\n",
       "       [-0.45089999,  0.077681  , -0.058347  ,  0.2859    , -0.36915001,\n",
       "         0.17343   ,  0.73189998, -0.40669   ,  0.073355  , -0.58503002]])"
      ]
     },
     "execution_count": 38,
     "metadata": {},
     "output_type": "execute_result"
    }
   ],
   "source": [
    "embedding_matrix[:10,:10]"
   ]
  },
  {
   "cell_type": "code",
   "execution_count": 40,
   "metadata": {},
   "outputs": [],
   "source": [
    "# Exporting the tokeniser\n",
    "import pickle\n",
    "pickle.dump(word_tokenizer,open(\"saved_model/tokeniser.pkl\",'wb'))"
   ]
  },
  {
   "cell_type": "markdown",
   "metadata": {},
   "source": [
    "### **Model Building**"
   ]
  },
  {
   "cell_type": "code",
   "execution_count": 39,
   "metadata": {},
   "outputs": [],
   "source": [
    "from sklearn.model_selection import train_test_split"
   ]
  },
  {
   "cell_type": "code",
   "execution_count": 40,
   "metadata": {},
   "outputs": [],
   "source": [
    "# https://stackoverflow.com/questions/61550026/valueerror-shapes-none-1-and-none-3-are-incompatible"
   ]
  },
  {
   "cell_type": "code",
   "execution_count": 41,
   "metadata": {},
   "outputs": [],
   "source": [
    "# y_nn = tf.keras.utils.to_categorical(df_clean['sentiment_label'], num_classes=3, dtype='int8')\n",
    "y_nn = tf.keras.utils.to_categorical(df_clean.sentiment_label.values, num_classes=3, dtype='int8')"
   ]
  },
  {
   "cell_type": "code",
   "execution_count": 42,
   "metadata": {},
   "outputs": [],
   "source": [
    "X_train, X_test, y_train,y_test= train_test_split(\n",
    "                                            X,y_nn,test_size=.2,random_state=42, \n",
    "                                            stratify=y_nn)\n",
    "# The train set will be used to train our deep learning models \n",
    "# while test set will be used to evaluate how well our model performs "
   ]
  },
  {
   "cell_type": "code",
   "execution_count": 43,
   "metadata": {},
   "outputs": [],
   "source": [
    "bi_lstm_model = Sequential()\n",
    "embedding_layer = Embedding(vocab_length,w2v_vector_size,weights=[embedding_matrix],\n",
    "                                        input_length=max_len,trainable=False)\n",
    "\n",
    "bi_lstm_model.add(embedding_layer)\n",
    "bi_lstm_model.add(Bidirectional(LSTM(128)))\n",
    "bi_lstm_model.add(Dense(3,activation='softmax'))\n",
    "\n",
    "# Initial error faced;\n",
    "# NotImplementedError: Cannot convert a symbolic \n",
    "# Tensor (lstm/strided_slice:0) to a numpy array. \n",
    "# This error may indicate that you're trying to pass a \n",
    "# Tensor to a NumPy call, which is not supported\n",
    "\n",
    "\n",
    "# Solution\n",
    "# Rasied question\n",
    "# https://stackoverflow.com/questions/70700626/this-error-may-indicate-that-youre-trying-to-pass-a-tensor-to-a-numpy-call-whi\n",
    "\n",
    "# Given solution \n",
    "# https://stackoverflow.com/questions/66207609/notimplementederror-cannot-convert-a-symbolic-tensor-lstm-2-strided-slice0-t\n",
    "# Modification of ops.py in the filepath \"Lib/site-packages/tensorflow/python/framework/ops.py\"\n",
    "# Original code in lines 845-848\n",
    "# def __array__(self):\n",
    "#     raise NotImplementedError(\n",
    "#         \"Cannot convert a symbolic Tensor ({}) to a numpy array.\"\n",
    "#         \" This error may indicate that you're trying to pass a Tensor to\"\n",
    "#         \" a NumPy call, which is not supported\".format(self.name))\n",
    "\n",
    "# Modified code\n",
    "# def __array__(self):\n",
    "#     raise TypeError(\n",
    "#         \"Cannot convert a symbolic Tensor ({}) to a numpy array.\"\n",
    "#         \" This error may indicate that you're trying to pass a Tensor to\"\n",
    "#         \" a NumPy call, which is not supported\".format(self.name))\n",
    "\n",
    "# Second solution \n",
    "# Tensorflow 2.3.0 is not compatible with numpy 1.23.1\n",
    "# Upgrade tensorflow to 2.5.o or 2.10\n",
    "# If you installed with conda\n",
    "# Kindly remove tensorflow using \"conda remove tensorflow\"\n",
    "# Install tensorflow the right way using the following;\n",
    "# Using pip install tensorflow==2.5.0 or\n",
    "# Using pip install tensorflow==2.10\n",
    "# https://stackoverflow.com/questions/45425896/install-tensorflow-with-specific-version-on-anaconda\n",
    "\n",
    "# In case you face this issue after following the above;\n",
    "# Import Spacy Error \"cannot import name dataclass_transform\" (when importing spacy)\n",
    "# Use this to rectify it \"conda install -c conda-forge spacy\"\n",
    "# This will fix the main issue which is typing_extensions compatibility issue\n",
    "# upgrading it from 3.7.4.3 to 4.4.0 or \n",
    "# rather installing a newtyping_extensions dependency with version number 4.4.0"
   ]
  },
  {
   "cell_type": "code",
   "execution_count": 44,
   "metadata": {},
   "outputs": [],
   "source": [
    "# LSTM\n",
    "# https://stackoverflow.com/questions/38080035/how-to-calculate-the-number-of-parameters-of-an-lstm-network\n",
    "\n",
    "# Embedding/input layer\n",
    "# output_size * (input_size+1)\n",
    "\n",
    "# BiLSTM\n",
    "# num_params = ([(num_units + input_dim + 1) * num_units] * 4) *2\n",
    "\n",
    "# Dense layer\n",
    "# number_of_classes * (input_size+1)\n",
    "\n",
    "assert 200 *vocab_length==1451800 # Embedding layer [17529*200]\n",
    "assert (((128 + (200 + 1)) * 128) * 4) *2 == 336896 # BiLSTM layer\n",
    "assert 3 * (256+1) == 771 # Dense layer num_class * (256+1)"
   ]
  },
  {
   "cell_type": "code",
   "execution_count": 45,
   "metadata": {},
   "outputs": [
    {
     "name": "stdout",
     "output_type": "stream",
     "text": [
      "Model: \"sequential\"\n",
      "_________________________________________________________________\n",
      " Layer (type)                Output Shape              Param #   \n",
      "=================================================================\n",
      " embedding (Embedding)       (None, 300, 200)          1451800   \n",
      "                                                                 \n",
      " bidirectional (Bidirectiona  (None, 256)              336896    \n",
      " l)                                                              \n",
      "                                                                 \n",
      " dense (Dense)               (None, 3)                 771       \n",
      "                                                                 \n",
      "=================================================================\n",
      "Total params: 1,789,467\n",
      "Trainable params: 337,667\n",
      "Non-trainable params: 1,451,800\n",
      "_________________________________________________________________\n",
      "None\n"
     ]
    }
   ],
   "source": [
    "bi_lstm_model.compile(optimizer='adam',loss='categorical_crossentropy',metrics=['acc'])\n",
    "\n",
    "print(bi_lstm_model.summary())"
   ]
  },
  {
   "cell_type": "code",
   "execution_count": 46,
   "metadata": {},
   "outputs": [
    {
     "name": "stdout",
     "output_type": "stream",
     "text": [
      "Epoch 1/10\n",
      "87/87 [==============================] - 81s 627ms/step - loss: 0.6328 - acc: 0.7387 - val_loss: 0.5246 - val_acc: 0.7830\n",
      "Epoch 2/10\n",
      "87/87 [==============================] - 61s 709ms/step - loss: 0.4558 - acc: 0.8125 - val_loss: 0.4678 - val_acc: 0.8147\n",
      "Epoch 3/10\n",
      "87/87 [==============================] - 60s 694ms/step - loss: 0.4116 - acc: 0.8379 - val_loss: 0.4497 - val_acc: 0.8143\n",
      "Epoch 4/10\n",
      "87/87 [==============================] - 57s 664ms/step - loss: 0.3493 - acc: 0.8595 - val_loss: 0.4041 - val_acc: 0.8317\n",
      "Epoch 5/10\n",
      "87/87 [==============================] - 55s 640ms/step - loss: 0.3164 - acc: 0.8698 - val_loss: 0.4150 - val_acc: 0.8327\n",
      "Epoch 6/10\n",
      "87/87 [==============================] - 55s 631ms/step - loss: 0.2892 - acc: 0.8834 - val_loss: 0.3880 - val_acc: 0.8493\n",
      "Epoch 7/10\n",
      "87/87 [==============================] - 57s 663ms/step - loss: 0.2512 - acc: 0.9015 - val_loss: 0.3839 - val_acc: 0.8461\n",
      "Epoch 8/10\n",
      "87/87 [==============================] - 59s 677ms/step - loss: 0.2177 - acc: 0.9174 - val_loss: 0.3859 - val_acc: 0.8511\n",
      "Epoch 9/10\n",
      "87/87 [==============================] - 58s 667ms/step - loss: 0.1863 - acc: 0.9298 - val_loss: 0.3972 - val_acc: 0.8594\n",
      "Epoch 10/10\n",
      "87/87 [==============================] - 57s 655ms/step - loss: 0.1679 - acc: 0.9365 - val_loss: 0.3994 - val_acc: 0.8529\n"
     ]
    }
   ],
   "source": [
    "# Model training\n",
    "\n",
    "bi_lstm_model_history = bi_lstm_model.fit(\n",
    "    X_train,y_train,batch_size=128,epochs=10, verbose=1, validation_split=.2\n",
    ")"
   ]
  },
  {
   "cell_type": "code",
   "execution_count": 47,
   "metadata": {},
   "outputs": [
    {
     "name": "stdout",
     "output_type": "stream",
     "text": [
      "109/109 [==============================] - 6s 55ms/step - loss: 0.3744 - acc: 0.8584\n"
     ]
    }
   ],
   "source": [
    "# Predictions on the Test Set\n",
    "\n",
    "score = bi_lstm_model.evaluate(X_test, y_test, verbose=1)"
   ]
  },
  {
   "cell_type": "code",
   "execution_count": 48,
   "metadata": {},
   "outputs": [
    {
     "name": "stdout",
     "output_type": "stream",
     "text": [
      "Test Loss: 0.37441644072532654\n",
      "Test Accuracy: 0.8584198355674744\n"
     ]
    }
   ],
   "source": [
    "print(\"Test Loss:\", score[0])\n",
    "print(\"Test Accuracy:\", score[1])"
   ]
  },
  {
   "cell_type": "code",
   "execution_count": 49,
   "metadata": {},
   "outputs": [
    {
     "data": {
      "image/png": "[encoded data removed]",
      "text/plain": [
       "<Figure size 432x288 with 1 Axes>"
      ]
     },
     "metadata": {
      "needs_background": "light"
     },
     "output_type": "display_data"
    },
    {
     "data": {
      "image/png": "[encoded data removed]",
      "text/plain": [
       "<Figure size 432x288 with 1 Axes>"
      ]
     },
     "metadata": {
      "needs_background": "light"
     },
     "output_type": "display_data"
    }
   ],
   "source": [
    "# Model Performance Charts\n",
    "\n",
    "plt.plot(bi_lstm_model_history.history['acc'])\n",
    "plt.plot(bi_lstm_model_history.history['val_acc'])\n",
    "\n",
    "plt.title('model accuracy')\n",
    "plt.ylabel('accuracy')\n",
    "plt.xlabel('epoch')\n",
    "plt.legend(['training','validation'], loc='upper left')\n",
    "plt.show()\n",
    "\n",
    "plt.plot(bi_lstm_model_history.history['loss'])\n",
    "plt.plot(bi_lstm_model_history.history['val_loss'])\n",
    "\n",
    "plt.title('model loss')\n",
    "plt.ylabel('loss')\n",
    "plt.xlabel('epoch')\n",
    "plt.legend(['training','validation'], loc='upper left')\n",
    "plt.show()"
   ]
  },
  {
   "cell_type": "code",
   "execution_count": 51,
   "metadata": {},
   "outputs": [
    {
     "name": "stderr",
     "output_type": "stream",
     "text": [
      "WARNING:absl:Found untraced functions such as lstm_cell_1_layer_call_fn, lstm_cell_1_layer_call_and_return_conditional_losses, lstm_cell_2_layer_call_fn, lstm_cell_2_layer_call_and_return_conditional_losses while saving (showing 4 of 4). These functions will not be directly callable after loading.\n"
     ]
    },
    {
     "name": "stdout",
     "output_type": "stream",
     "text": [
      "INFO:tensorflow:Assets written to: saved_model/saved_bi_lstm_model\\assets\n"
     ]
    },
    {
     "name": "stderr",
     "output_type": "stream",
     "text": [
      "INFO:tensorflow:Assets written to: saved_model/saved_bi_lstm_model\\assets\n"
     ]
    }
   ],
   "source": [
    "# Saving the model\n",
    "bi_lstm_model.save(\"saved_model/saved_bi_lstm_model\")"
   ]
  },
  {
   "cell_type": "markdown",
   "metadata": {},
   "source": [
    "### **Classification report**"
   ]
  },
  {
   "cell_type": "code",
   "execution_count": null,
   "metadata": {},
   "outputs": [],
   "source": [
    "# Classification report test data\n",
    "from sklearn.metrics import classification_report,confusion_matrix,ConfusionMatrixDisplay\n",
    "y_true=np.argmax(y_test, axis=1)\n",
    "y_pred_test = bi_lstm_model.predict(X_test)\n",
    "y_pred_test=np.argmax(y_pred_test, axis=1)\n",
    "sns.set_theme(style='white')\n",
    "def class_report(model,y_true,pred):\n",
    "    print(classification_report(y_true,pred))\n",
    "    cm = confusion_matrix(y_true,pred,labels=[0,1,2])\n",
    "    disp = ConfusionMatrixDisplay(confusion_matrix=cm, display_labels=[0,1,2])\n",
    "    disp.plot()\n",
    "    plt.show()\n",
    "\n",
    "\n",
    "class_report(bi_lstm_model,y_true,y_pred_test) \n",
    "\n",
    "# Original mapping\n",
    "# sentiment_mapping = {'negative':-1,'neutral':0,'positive':1}\n",
    "\n",
    "# New mapping\n",
    "# negative --> 0\n",
    "# neutral --> 1\n",
    "# positive --> 2"
   ]
  },
  {
   "cell_type": "markdown",
   "metadata": {},
   "source": [
    "### **ROC Curve**"
   ]
  },
  {
   "cell_type": "code",
   "execution_count": null,
   "metadata": {},
   "outputs": [],
   "source": [
    "from sklearn.preprocessing import label_binarize"
   ]
  },
  {
   "cell_type": "code",
   "execution_count": null,
   "metadata": {},
   "outputs": [],
   "source": [
    "n_classes = 3\n",
    "\n",
    "y_nn_auc = label_binarize(y_nn, classes=[0,1,2])\n",
    "\n",
    "n_classes = y_nn_auc.shape[1]"
   ]
  },
  {
   "cell_type": "code",
   "execution_count": null,
   "metadata": {},
   "outputs": [],
   "source": [
    "y_nn_auc\n",
    "# y_nn\n",
    "# Same output\n",
    " \n",
    "# array([[0, 0, 1],\n",
    "#        [0, 1, 0],\n",
    "#        [0, 1, 0],\n",
    "#        ...,\n",
    "#        [0, 0, 1],\n",
    "#        [0, 0, 1],\n",
    "#        [0, 1, 0]])"
   ]
  },
  {
   "cell_type": "code",
   "execution_count": null,
   "metadata": {},
   "outputs": [],
   "source": [
    "X_train, X_test, y_train,y_test= train_test_split(\n",
    "                                            X,y_nn_auc,test_size=.2,random_state=42, \n",
    "                                            stratify=y_nn_auc)"
   ]
  },
  {
   "cell_type": "code",
   "execution_count": null,
   "metadata": {},
   "outputs": [],
   "source": [
    "len(X)"
   ]
  },
  {
   "cell_type": "code",
   "execution_count": null,
   "metadata": {},
   "outputs": [],
   "source": [
    "bi_lstm_model = Sequential()\n",
    "embedding_layer = Embedding(vocab_length,w2v_vector_size,weights=[embedding_matrix],\n",
    "                                        input_length=max_len,trainable=False)\n",
    "\n",
    "\n",
    "bi_lstm_model.add(embedding_layer)\n",
    "bi_lstm_model.add(Bidirectional(LSTM(128)))\n",
    "bi_lstm_model.add(Dense(3,activation='softmax'))\n",
    "bi_lstm_model.compile(optimizer='adam',loss='categorical_crossentropy',metrics=['acc'])\n",
    "\n",
    "print(bi_lstm_model.summary())\n",
    "\n",
    "# Model training\n",
    "bi_lstm_model_history = bi_lstm_model.fit(\n",
    "    X_train,y_train,batch_size=128,epochs=10, verbose=1, validation_split=.2\n",
    ")"
   ]
  },
  {
   "cell_type": "code",
   "execution_count": null,
   "metadata": {},
   "outputs": [],
   "source": [
    "from sklearn.metrics import roc_curve, roc_auc_score,auc"
   ]
  },
  {
   "cell_type": "code",
   "execution_count": null,
   "metadata": {},
   "outputs": [],
   "source": [
    "fpr = {}\n",
    "tpr = {}\n",
    "roc_auc = {}\n",
    "# Plot linewidth\n",
    "lw = 2\n",
    "\n",
    "# Version 2\n",
    "classes_by_names = [\"negative\",\"neutral\",\"positive\"]\n",
    "def roc_curve_plot(value,y_test):\n",
    "    for i in range(n_classes):\n",
    "        fpr[i], tpr[i], _ = roc_curve(y_test[:,i], \n",
    "                                                    value[:,i])\n",
    "        roc_auc[i] = auc(fpr[i], tpr[i])                                                    \n",
    "        plt.plot(fpr[i], tpr[i], lw=lw, label= \"ROC of class {}, AUC= {}\"\n",
    "        .format(classes_by_names[i],np.round(roc_auc[i],2)))\n",
    "        \n",
    "       \n",
    "    plt.plot([0, 1], [0, 1], 'k--', lw=1)\n",
    "    plt.xlim([0.0, 1.0])\n",
    "    plt.ylim([0.0, 1.0])\n",
    "    plt.xlabel(\"False Positive Rate\")\n",
    "    plt.ylabel(\"True Positive Rate\")\n",
    "    plt.legend(loc=\"best\",frameon=True) # ,labels=[\"negative\",\"neutral\",\"positive\"]\n",
    "    # Title should be modified\n",
    "    plt.title(\"ROC curve of Simple Neural Network multiclass; Sentiment prediction\")\n",
    "    plt.show()\n",
    "    roc_auc_scoring_macro_ovr = roc_auc_score(y_test,value, multi_class=\"OvR\",average='macro')\n",
    "    print(\"AUC macro-averaged over all classes: {:.2f}\"\n",
    "    .format(roc_auc_scoring_macro_ovr))"
   ]
  },
  {
   "cell_type": "code",
   "execution_count": null,
   "metadata": {},
   "outputs": [],
   "source": [
    "y_pred_test = bi_lstm_model.predict(X_test)\n",
    "# y_pred_test=np.argmax(y_pred_test, axis=1)"
   ]
  },
  {
   "cell_type": "code",
   "execution_count": null,
   "metadata": {},
   "outputs": [],
   "source": [
    "roc_curve_plot(y_pred_test,y_test)"
   ]
  },
  {
   "cell_type": "markdown",
   "metadata": {},
   "source": [
    "## **Conclusion**"
   ]
  },
  {
   "cell_type": "markdown",
   "metadata": {},
   "source": [
    "- Using glove-twitter-200 word embeddings with a Bidirectional-LSTM has shown better performance than the use of traditional ML algo and LSTM.\n",
    "- HistGradientBoostingClassifier using Glove-twitter-200 has an f1-score of 0.78 and AUC score of 0.95.\n",
    "\n",
    "**Table of Values**\n",
    "\n",
    "dataset|f1_score_macro_avg|AUC_score_avg\n",
    "| ----------- | ----------- | ----------- |\n",
    "df_clean (test data)|0.82|0.96"
   ]
  }
 ],
 "metadata": {
  "kernelspec": {
   "display_name": "Python 3.8.13 (conda)",
   "language": "python",
   "name": "python3"
  },
  "language_info": {
   "codemirror_mode": {
    "name": "ipython",
    "version": 3
   },
   "file_extension": ".py",
   "mimetype": "text/x-python",
   "name": "python",
   "nbconvert_exporter": "python",
   "pygments_lexer": "ipython3",
   "version": "3.8.13"
  },
  "orig_nbformat": 4,
  "vscode": {
   "interpreter": {
    "hash": "0d3784fccdc90acbf957f8297e7e306d4c8b14c1a207bd5307d0795df9a8d77b"
   }
  }
 },
 "nbformat": 4,
 "nbformat_minor": 2
}
