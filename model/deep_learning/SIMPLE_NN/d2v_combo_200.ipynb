{
 "cells": [
  {
   "cell_type": "code",
   "execution_count": 2,
   "metadata": {},
   "outputs": [],
   "source": [
    "import pandas as pd\n",
    "import numpy as np \n",
    "import matplotlib.pyplot as plt\n",
    "import plotly.express as px\n",
    "# import plotly.graph_objects as go\n",
    "# import plotly.figure_factory as ff\n",
    "import seaborn as sns\n",
    "import warnings\n",
    "warnings.filterwarnings(\"ignore\")\n",
    "# from nltk.tokenize import word_tokenize as wt \n",
    "# from collections import Counter\n",
    "import gensim\n",
    "# import textblob\n",
    "import spacy\n",
    "import tensorflow as tf\n",
    "from tensorflow.keras.preprocessing.text import one_hot, Tokenizer\n",
    "from tensorflow.keras.preprocessing.sequence import pad_sequences\n",
    "from tensorflow.keras.models import Sequential\n",
    "from tensorflow.keras.layers import Activation, Dropout, Dense\n",
    "from tensorflow.keras.layers import Flatten, GlobalMaxPooling1D, Embedding, Conv1D, LSTM"
   ]
  },
  {
   "cell_type": "markdown",
   "metadata": {},
   "source": [
    "### **Plan of Action**\n",
    "\n",
    "- Load the data\n",
    "- Drop unnecessary columns and rows\n",
    "- Removal of stop words.\n",
    "- Feature engineering;\n",
    "    - Doc2Vec\n",
    "- Begin modelling\n",
    "    - Algorithms to use;\n",
    "        - Simple Neural Network\n",
    "- Evaluation;\n",
    "    - F1-score_macro\n",
    "    - AUC\n",
    "    - ROC"
   ]
  },
  {
   "cell_type": "code",
   "execution_count": 3,
   "metadata": {},
   "outputs": [],
   "source": [
    "df_clean = pd.read_csv('../../cleaned_reviews.csv')"
   ]
  },
  {
   "cell_type": "code",
   "execution_count": 4,
   "metadata": {},
   "outputs": [
    {
     "data": {
      "text/plain": [
       "(17340, 4)"
      ]
     },
     "execution_count": 4,
     "metadata": {},
     "output_type": "execute_result"
    }
   ],
   "source": [
    "df_clean.shape"
   ]
  },
  {
   "cell_type": "code",
   "execution_count": 5,
   "metadata": {},
   "outputs": [
    {
     "data": {
      "text/plain": [
       "Index(['sentiments', 'cleaned_review', 'cleaned_review_length',\n",
       "       'review_score'],\n",
       "      dtype='object')"
      ]
     },
     "execution_count": 5,
     "metadata": {},
     "output_type": "execute_result"
    }
   ],
   "source": [
    "df_clean.columns"
   ]
  },
  {
   "cell_type": "code",
   "execution_count": 6,
   "metadata": {},
   "outputs": [],
   "source": [
    "df_clean.drop(columns=['cleaned_review_length','review_score'],inplace=True)"
   ]
  },
  {
   "cell_type": "markdown",
   "metadata": {},
   "source": [
    "Checking for Null Vaules and Duplicates"
   ]
  },
  {
   "cell_type": "code",
   "execution_count": 7,
   "metadata": {},
   "outputs": [
    {
     "data": {
      "text/plain": [
       "sentiments        0\n",
       "cleaned_review    3\n",
       "dtype: int64"
      ]
     },
     "execution_count": 7,
     "metadata": {},
     "output_type": "execute_result"
    }
   ],
   "source": [
    "df_clean.isna().sum()"
   ]
  },
  {
   "cell_type": "code",
   "execution_count": 8,
   "metadata": {},
   "outputs": [],
   "source": [
    "df_clean.dropna(inplace=True)"
   ]
  },
  {
   "cell_type": "code",
   "execution_count": 9,
   "metadata": {},
   "outputs": [
    {
     "data": {
      "text/plain": [
       "(17337, 2)"
      ]
     },
     "execution_count": 9,
     "metadata": {},
     "output_type": "execute_result"
    }
   ],
   "source": [
    "df_clean.shape"
   ]
  },
  {
   "cell_type": "code",
   "execution_count": 10,
   "metadata": {},
   "outputs": [],
   "source": [
    "from spacy.lang.en.stop_words import STOP_WORDS\n",
    "\n",
    "# print(STOP_WORDS,'\\n') # <- set of Spacy's default stop words\n",
    "all_stopwords = STOP_WORDS\n",
    "# Adding several stopwords\n",
    "# all_stopwords |= {'not',\"no\", \"n't\", 'n’t','n‘t','cannot','none','without','against'}\n",
    "\n",
    "# Removing several stop words\n",
    "all_stopwords-= {'not',\"no\", \"n't\", 'n’t','n‘t','cannot','none','without','against','off','against','too'}\n",
    "my_stop_words = set(all_stopwords) # My own stop words"
   ]
  },
  {
   "cell_type": "code",
   "execution_count": 11,
   "metadata": {},
   "outputs": [],
   "source": [
    "# print(my_stop_words)"
   ]
  },
  {
   "cell_type": "code",
   "execution_count": 12,
   "metadata": {},
   "outputs": [
    {
     "data": {
      "text/html": [
       "<div>\n",
       "<style scoped>\n",
       "    .dataframe tbody tr th:only-of-type {\n",
       "        vertical-align: middle;\n",
       "    }\n",
       "\n",
       "    .dataframe tbody tr th {\n",
       "        vertical-align: top;\n",
       "    }\n",
       "\n",
       "    .dataframe thead th {\n",
       "        text-align: right;\n",
       "    }\n",
       "</style>\n",
       "<table border=\"1\" class=\"dataframe\">\n",
       "  <thead>\n",
       "    <tr style=\"text-align: right;\">\n",
       "      <th></th>\n",
       "      <th>sentiments</th>\n",
       "      <th>cleaned_review</th>\n",
       "    </tr>\n",
       "  </thead>\n",
       "  <tbody>\n",
       "    <tr>\n",
       "      <th>0</th>\n",
       "      <td>positive</td>\n",
       "      <td>i wish would have gotten one earlier love it a...</td>\n",
       "    </tr>\n",
       "    <tr>\n",
       "      <th>1</th>\n",
       "      <td>neutral</td>\n",
       "      <td>i ve learned this lesson again open the packag...</td>\n",
       "    </tr>\n",
       "    <tr>\n",
       "      <th>2</th>\n",
       "      <td>neutral</td>\n",
       "      <td>it is so slow and lags find better option</td>\n",
       "    </tr>\n",
       "    <tr>\n",
       "      <th>3</th>\n",
       "      <td>neutral</td>\n",
       "      <td>roller ball stopped working within months of m...</td>\n",
       "    </tr>\n",
       "    <tr>\n",
       "      <th>4</th>\n",
       "      <td>neutral</td>\n",
       "      <td>i like the color and size but it few days out ...</td>\n",
       "    </tr>\n",
       "    <tr>\n",
       "      <th>...</th>\n",
       "      <td>...</td>\n",
       "      <td>...</td>\n",
       "    </tr>\n",
       "    <tr>\n",
       "      <th>17335</th>\n",
       "      <td>positive</td>\n",
       "      <td>i love this speaker and love can take it anywh...</td>\n",
       "    </tr>\n",
       "    <tr>\n",
       "      <th>17336</th>\n",
       "      <td>positive</td>\n",
       "      <td>i use it in my house easy to connect and loud ...</td>\n",
       "    </tr>\n",
       "    <tr>\n",
       "      <th>17337</th>\n",
       "      <td>positive</td>\n",
       "      <td>the bass is good and the battery is amazing mu...</td>\n",
       "    </tr>\n",
       "    <tr>\n",
       "      <th>17338</th>\n",
       "      <td>positive</td>\n",
       "      <td>love it</td>\n",
       "    </tr>\n",
       "    <tr>\n",
       "      <th>17339</th>\n",
       "      <td>neutral</td>\n",
       "      <td>mono speaker</td>\n",
       "    </tr>\n",
       "  </tbody>\n",
       "</table>\n",
       "<p>17337 rows × 2 columns</p>\n",
       "</div>"
      ],
      "text/plain": [
       "      sentiments                                     cleaned_review\n",
       "0       positive  i wish would have gotten one earlier love it a...\n",
       "1        neutral  i ve learned this lesson again open the packag...\n",
       "2        neutral          it is so slow and lags find better option\n",
       "3        neutral  roller ball stopped working within months of m...\n",
       "4        neutral  i like the color and size but it few days out ...\n",
       "...          ...                                                ...\n",
       "17335   positive  i love this speaker and love can take it anywh...\n",
       "17336   positive  i use it in my house easy to connect and loud ...\n",
       "17337   positive  the bass is good and the battery is amazing mu...\n",
       "17338   positive                                            love it\n",
       "17339    neutral                                       mono speaker\n",
       "\n",
       "[17337 rows x 2 columns]"
      ]
     },
     "execution_count": 12,
     "metadata": {},
     "output_type": "execute_result"
    }
   ],
   "source": [
    "df_clean"
   ]
  },
  {
   "cell_type": "code",
   "execution_count": 13,
   "metadata": {},
   "outputs": [],
   "source": [
    "nlp = spacy.load(\"en_core_web_sm\")"
   ]
  },
  {
   "cell_type": "code",
   "execution_count": 14,
   "metadata": {},
   "outputs": [],
   "source": [
    "def spacy_tokeniser(sent):\n",
    "    sent = sent.strip().lower()\n",
    "    doc = nlp(sent)\n",
    "    mytokens = [token.lemma_ for token in doc if token.text not in my_stop_words]\n",
    "    return mytokens"
   ]
  },
  {
   "cell_type": "code",
   "execution_count": 15,
   "metadata": {},
   "outputs": [],
   "source": [
    "df_clean['tokens']= df_clean['cleaned_review'].apply(spacy_tokeniser)"
   ]
  },
  {
   "cell_type": "code",
   "execution_count": 16,
   "metadata": {},
   "outputs": [
    {
     "data": {
      "text/html": [
       "<div>\n",
       "<style scoped>\n",
       "    .dataframe tbody tr th:only-of-type {\n",
       "        vertical-align: middle;\n",
       "    }\n",
       "\n",
       "    .dataframe tbody tr th {\n",
       "        vertical-align: top;\n",
       "    }\n",
       "\n",
       "    .dataframe thead th {\n",
       "        text-align: right;\n",
       "    }\n",
       "</style>\n",
       "<table border=\"1\" class=\"dataframe\">\n",
       "  <thead>\n",
       "    <tr style=\"text-align: right;\">\n",
       "      <th></th>\n",
       "      <th>sentiments</th>\n",
       "      <th>cleaned_review</th>\n",
       "      <th>tokens</th>\n",
       "    </tr>\n",
       "  </thead>\n",
       "  <tbody>\n",
       "    <tr>\n",
       "      <th>0</th>\n",
       "      <td>positive</td>\n",
       "      <td>i wish would have gotten one earlier love it a...</td>\n",
       "      <td>[wish, get, early, love, make, work, laptop, e...</td>\n",
       "    </tr>\n",
       "    <tr>\n",
       "      <th>1</th>\n",
       "      <td>neutral</td>\n",
       "      <td>i ve learned this lesson again open the packag...</td>\n",
       "      <td>[ve, learn, lesson, open, package, use, produc...</td>\n",
       "    </tr>\n",
       "    <tr>\n",
       "      <th>2</th>\n",
       "      <td>neutral</td>\n",
       "      <td>it is so slow and lags find better option</td>\n",
       "      <td>[slow, lag, find, well, option]</td>\n",
       "    </tr>\n",
       "    <tr>\n",
       "      <th>3</th>\n",
       "      <td>neutral</td>\n",
       "      <td>roller ball stopped working within months of m...</td>\n",
       "      <td>[roller, ball, stop, work, month, minimal, use...</td>\n",
       "    </tr>\n",
       "    <tr>\n",
       "      <th>4</th>\n",
       "      <td>neutral</td>\n",
       "      <td>i like the color and size but it few days out ...</td>\n",
       "      <td>[like, color, size, day, return, period, not, ...</td>\n",
       "    </tr>\n",
       "  </tbody>\n",
       "</table>\n",
       "</div>"
      ],
      "text/plain": [
       "  sentiments                                     cleaned_review  \\\n",
       "0   positive  i wish would have gotten one earlier love it a...   \n",
       "1    neutral  i ve learned this lesson again open the packag...   \n",
       "2    neutral          it is so slow and lags find better option   \n",
       "3    neutral  roller ball stopped working within months of m...   \n",
       "4    neutral  i like the color and size but it few days out ...   \n",
       "\n",
       "                                              tokens  \n",
       "0  [wish, get, early, love, make, work, laptop, e...  \n",
       "1  [ve, learn, lesson, open, package, use, produc...  \n",
       "2                    [slow, lag, find, well, option]  \n",
       "3  [roller, ball, stop, work, month, minimal, use...  \n",
       "4  [like, color, size, day, return, period, not, ...  "
      ]
     },
     "execution_count": 16,
     "metadata": {},
     "output_type": "execute_result"
    }
   ],
   "source": [
    "df_clean.head()"
   ]
  },
  {
   "cell_type": "code",
   "execution_count": 17,
   "metadata": {},
   "outputs": [],
   "source": [
    "# Dropping unnecessary columns\n",
    "df_clean.drop(columns=['cleaned_review'],inplace=True)"
   ]
  },
  {
   "cell_type": "markdown",
   "metadata": {},
   "source": [
    "Sentiment Mapping"
   ]
  },
  {
   "cell_type": "code",
   "execution_count": 18,
   "metadata": {},
   "outputs": [],
   "source": [
    "sentiment_mapping = {'negative':0,'neutral':1,'positive':2}\n",
    "df_clean['sentiment_label'] = df_clean.sentiments.map(sentiment_mapping)"
   ]
  },
  {
   "cell_type": "code",
   "execution_count": 19,
   "metadata": {},
   "outputs": [],
   "source": [
    "df_clean.drop(columns=['sentiments'],inplace=True)"
   ]
  },
  {
   "cell_type": "code",
   "execution_count": 20,
   "metadata": {},
   "outputs": [
    {
     "data": {
      "text/html": [
       "<div>\n",
       "<style scoped>\n",
       "    .dataframe tbody tr th:only-of-type {\n",
       "        vertical-align: middle;\n",
       "    }\n",
       "\n",
       "    .dataframe tbody tr th {\n",
       "        vertical-align: top;\n",
       "    }\n",
       "\n",
       "    .dataframe thead th {\n",
       "        text-align: right;\n",
       "    }\n",
       "</style>\n",
       "<table border=\"1\" class=\"dataframe\">\n",
       "  <thead>\n",
       "    <tr style=\"text-align: right;\">\n",
       "      <th></th>\n",
       "      <th>tokens</th>\n",
       "      <th>sentiment_label</th>\n",
       "    </tr>\n",
       "  </thead>\n",
       "  <tbody>\n",
       "    <tr>\n",
       "      <th>0</th>\n",
       "      <td>[wish, get, early, love, make, work, laptop, e...</td>\n",
       "      <td>2</td>\n",
       "    </tr>\n",
       "    <tr>\n",
       "      <th>1</th>\n",
       "      <td>[ve, learn, lesson, open, package, use, produc...</td>\n",
       "      <td>1</td>\n",
       "    </tr>\n",
       "    <tr>\n",
       "      <th>2</th>\n",
       "      <td>[slow, lag, find, well, option]</td>\n",
       "      <td>1</td>\n",
       "    </tr>\n",
       "    <tr>\n",
       "      <th>3</th>\n",
       "      <td>[roller, ball, stop, work, month, minimal, use...</td>\n",
       "      <td>1</td>\n",
       "    </tr>\n",
       "    <tr>\n",
       "      <th>4</th>\n",
       "      <td>[like, color, size, day, return, period, not, ...</td>\n",
       "      <td>1</td>\n",
       "    </tr>\n",
       "    <tr>\n",
       "      <th>...</th>\n",
       "      <td>...</td>\n",
       "      <td>...</td>\n",
       "    </tr>\n",
       "    <tr>\n",
       "      <th>17335</th>\n",
       "      <td>[love, speaker, love, charge, phone, work, no,...</td>\n",
       "      <td>2</td>\n",
       "    </tr>\n",
       "    <tr>\n",
       "      <th>17336</th>\n",
       "      <td>[use, house, easy, connect, loud, clear, music]</td>\n",
       "      <td>2</td>\n",
       "    </tr>\n",
       "    <tr>\n",
       "      <th>17337</th>\n",
       "      <td>[bass, good, battery, amazing, well, charge, t...</td>\n",
       "      <td>2</td>\n",
       "    </tr>\n",
       "    <tr>\n",
       "      <th>17338</th>\n",
       "      <td>[love]</td>\n",
       "      <td>2</td>\n",
       "    </tr>\n",
       "    <tr>\n",
       "      <th>17339</th>\n",
       "      <td>[mono, speaker]</td>\n",
       "      <td>1</td>\n",
       "    </tr>\n",
       "  </tbody>\n",
       "</table>\n",
       "<p>17337 rows × 2 columns</p>\n",
       "</div>"
      ],
      "text/plain": [
       "                                                  tokens  sentiment_label\n",
       "0      [wish, get, early, love, make, work, laptop, e...                2\n",
       "1      [ve, learn, lesson, open, package, use, produc...                1\n",
       "2                        [slow, lag, find, well, option]                1\n",
       "3      [roller, ball, stop, work, month, minimal, use...                1\n",
       "4      [like, color, size, day, return, period, not, ...                1\n",
       "...                                                  ...              ...\n",
       "17335  [love, speaker, love, charge, phone, work, no,...                2\n",
       "17336    [use, house, easy, connect, loud, clear, music]                2\n",
       "17337  [bass, good, battery, amazing, well, charge, t...                2\n",
       "17338                                             [love]                2\n",
       "17339                                    [mono, speaker]                1\n",
       "\n",
       "[17337 rows x 2 columns]"
      ]
     },
     "execution_count": 20,
     "metadata": {},
     "output_type": "execute_result"
    }
   ],
   "source": [
    "df_clean"
   ]
  },
  {
   "cell_type": "markdown",
   "metadata": {},
   "source": [
    "### **Text Sequencing**"
   ]
  },
  {
   "cell_type": "code",
   "execution_count": 21,
   "metadata": {},
   "outputs": [],
   "source": [
    "X = df_clean[\"tokens\"]"
   ]
  },
  {
   "cell_type": "code",
   "execution_count": 22,
   "metadata": {},
   "outputs": [
    {
     "data": {
      "text/plain": [
       "['wish', 'get', 'early', 'love', 'make', 'work', 'laptop', 'easy']"
      ]
     },
     "execution_count": 22,
     "metadata": {},
     "output_type": "execute_result"
    }
   ],
   "source": [
    "X[0]"
   ]
  },
  {
   "cell_type": "code",
   "execution_count": 23,
   "metadata": {},
   "outputs": [
    {
     "data": {
      "text/plain": [
       "[153, 26, 758, 9, 124, 1, 51, 34]"
      ]
     },
     "execution_count": 23,
     "metadata": {},
     "output_type": "execute_result"
    }
   ],
   "source": [
    "word_tokenizer = Tokenizer()\n",
    "word_tokenizer.fit_on_texts(X)\n",
    "\n",
    "X = word_tokenizer.texts_to_sequences(X)\n",
    "X[0]"
   ]
  },
  {
   "cell_type": "code",
   "execution_count": 24,
   "metadata": {},
   "outputs": [
    {
     "name": "stdout",
     "output_type": "stream",
     "text": [
      "293\n"
     ]
    }
   ],
   "source": [
    "# We need to find the maximum lenght of any document or review in our case. \n",
    "# We will pad all reviews to have this same length.\n",
    "# This will be required by Keras embedding layer\n",
    "\n",
    "review_max_length = 0\n",
    "for i in df_clean['tokens']: \n",
    "    length = len(i)\n",
    "    if length > review_max_length:\n",
    "        review_max_length = length\n",
    "\n",
    "print(review_max_length) \n",
    "\n",
    "# Although max length is 293, we will use an approximate value of 300; \n",
    "# maxlen = 300"
   ]
  },
  {
   "cell_type": "code",
   "execution_count": 25,
   "metadata": {},
   "outputs": [
    {
     "data": {
      "text/plain": [
       "7258"
      ]
     },
     "execution_count": 25,
     "metadata": {},
     "output_type": "execute_result"
    }
   ],
   "source": [
    "# print(word_tokenizer.word_index) # Outputs a dictionary\n",
    "len(word_tokenizer.word_index)"
   ]
  },
  {
   "cell_type": "code",
   "execution_count": 26,
   "metadata": {},
   "outputs": [],
   "source": [
    "vocab = word_tokenizer.word_index.items()"
   ]
  },
  {
   "cell_type": "code",
   "execution_count": 27,
   "metadata": {},
   "outputs": [
    {
     "data": {
      "text/plain": [
       "7259"
      ]
     },
     "execution_count": 27,
     "metadata": {},
     "output_type": "execute_result"
    }
   ],
   "source": [
    "vocab_length = len(word_tokenizer.word_index) + 1\n",
    "vocab_length"
   ]
  },
  {
   "cell_type": "code",
   "execution_count": 28,
   "metadata": {},
   "outputs": [],
   "source": [
    "max_len = 300\n",
    "X = pad_sequences(X,padding=\"post\",maxlen=max_len)"
   ]
  },
  {
   "cell_type": "code",
   "execution_count": 29,
   "metadata": {},
   "outputs": [
    {
     "data": {
      "text/plain": [
       "1"
      ]
     },
     "execution_count": 29,
     "metadata": {},
     "output_type": "execute_result"
    }
   ],
   "source": [
    "X[1].shape # shape\n",
    "X[1].ndim # dimension"
   ]
  },
  {
   "cell_type": "markdown",
   "metadata": {},
   "source": [
    "### **Doc2Vec Processing**"
   ]
  },
  {
   "cell_type": "code",
   "execution_count": 31,
   "metadata": {},
   "outputs": [],
   "source": [
    "from sklearn.model_selection import train_test_split\n",
    "from gensim.models.doc2vec import Doc2Vec, TaggedDocument"
   ]
  },
  {
   "cell_type": "code",
   "execution_count": 32,
   "metadata": {},
   "outputs": [],
   "source": [
    "tagged_process = df_clean\n",
    "# Tag train set \n",
    "tagged_process_train = tagged_process.apply(\n",
    "    lambda x: TaggedDocument(words=x[\"tokens\"],tags=[x.sentiment_label]),\n",
    "    axis=1\n",
    ")"
   ]
  },
  {
   "cell_type": "code",
   "execution_count": 33,
   "metadata": {},
   "outputs": [
    {
     "data": {
      "text/plain": [
       "TaggedDocument(words=['wish', 'get', 'early', 'love', 'make', 'work', 'laptop', 'easy'], tags=[2])"
      ]
     },
     "execution_count": 33,
     "metadata": {},
     "output_type": "execute_result"
    }
   ],
   "source": [
    "tagged_process_train.values[0]"
   ]
  },
  {
   "cell_type": "code",
   "execution_count": 34,
   "metadata": {},
   "outputs": [
    {
     "data": {
      "text/plain": [
       "4"
      ]
     },
     "execution_count": 34,
     "metadata": {},
     "output_type": "execute_result"
    }
   ],
   "source": [
    "import multiprocessing\n",
    "cores = multiprocessing.cpu_count()\n",
    "cores # Mine is 8 cores\n",
    "four_cores = cores-4\n",
    "four_cores"
   ]
  },
  {
   "cell_type": "markdown",
   "metadata": {},
   "source": [
    "**Building the Vocabulary**"
   ]
  },
  {
   "cell_type": "code",
   "execution_count": 35,
   "metadata": {},
   "outputs": [],
   "source": [
    "# dm=0, it signifies PV-DBOW\n",
    "model_dbow= Doc2Vec(\n",
    "    dm=0,\n",
    "    vector_size=200,\n",
    "    min_count=2,\n",
    "    sample=0,\n",
    "    workers=four_cores,\n",
    "    hs=0,\n",
    "    seed= 42,\n",
    "    negative=5\n",
    ")\n",
    "\n",
    "# dm=1, it signifies PV-DM\n",
    "model_dm = Doc2Vec(\n",
    "    dm=1,\n",
    "    vector_size=200,\n",
    "    min_count=2,\n",
    "    sample=0,\n",
    "    workers=four_cores,\n",
    "    hs=0,\n",
    "    seed= 42,\n",
    "    negative=5,\n",
    "    dm_mean=1 # to make use of mean\n",
    ")"
   ]
  },
  {
   "cell_type": "code",
   "execution_count": 36,
   "metadata": {},
   "outputs": [],
   "source": [
    "model_dbow.build_vocab(tagged_process_train)\n",
    "model_dm.build_vocab(tagged_process_train)"
   ]
  },
  {
   "cell_type": "code",
   "execution_count": 37,
   "metadata": {},
   "outputs": [],
   "source": [
    "# PV-DBOW\n",
    "model_dbow.train(\n",
    "                tagged_process_train,\n",
    "                total_examples=model_dbow.corpus_count,\n",
    "                epochs=100,\n",
    ")\n",
    "\n",
    "# PV-DM\n",
    "model_dm.train(\n",
    "                tagged_process_train,\n",
    "                total_examples=model_dm.corpus_count,\n",
    "                epochs=100,\n",
    ")"
   ]
  },
  {
   "cell_type": "code",
   "execution_count": 38,
   "metadata": {},
   "outputs": [],
   "source": [
    "from gensim.test.test_doc2vec import ConcatenatedDoc2Vec \n",
    "model_concat = ConcatenatedDoc2Vec([model_dbow,model_dm])"
   ]
  },
  {
   "cell_type": "code",
   "execution_count": 54,
   "metadata": {},
   "outputs": [],
   "source": [
    "# model_concat.wv.get_vector(\"like\").shape # vector shape \n",
    "# AttributeError: 'ConcatenatedDoc2Vec' object has no attribute 'shape'\n",
    "\n",
    "# model_concat.wv.vector_size # vector size\n",
    "# AttributeError: 'ConcatenatedDoc2Vec' object has no attribute 'wv'\n",
    "\n",
    "# model_concat.dv.vector_size # vector size\n",
    "# AttributeError: 'ConcatenatedDocvecs' object has no attribute 'vector_size'"
   ]
  },
  {
   "cell_type": "code",
   "execution_count": 55,
   "metadata": {},
   "outputs": [],
   "source": [
    "# for i in model_concat.models:\n",
    "#     print(i.vector_size) \n",
    "# 200, \n",
    "# 200"
   ]
  },
  {
   "cell_type": "code",
   "execution_count": 56,
   "metadata": {},
   "outputs": [
    {
     "data": {
      "text/plain": [
       "(400,)"
      ]
     },
     "execution_count": 56,
     "metadata": {},
     "output_type": "execute_result"
    }
   ],
   "source": [
    "model_concat[\"like\"].shape # 400"
   ]
  },
  {
   "cell_type": "code",
   "execution_count": 60,
   "metadata": {},
   "outputs": [
    {
     "data": {
      "text/plain": [
       "array([ 3.78130493e-03, -4.37936885e-03, -1.02478859e-03, -4.17379750e-04,\n",
       "        2.97879335e-03, -3.70969949e-03, -6.59411540e-04, -3.47673288e-03,\n",
       "        2.87635392e-03,  1.32282788e-03, -3.26192385e-05, -1.07072655e-03,\n",
       "       -3.46825714e-03,  4.21852432e-03,  1.47661392e-03, -1.80843531e-03,\n",
       "       -8.60629661e-04,  2.26180069e-03,  2.19564675e-03, -3.89006134e-04,\n",
       "       -1.97099615e-03,  1.59951265e-03,  1.58232870e-03,  9.96953226e-04,\n",
       "       -4.27147886e-03, -2.72160774e-04,  1.13919144e-03,  4.50061075e-03,\n",
       "        2.55630614e-04, -1.57286401e-03,  5.57930442e-04, -3.22764507e-03,\n",
       "       -4.09304630e-03,  1.78094034e-03,  4.86183539e-03,  3.46007524e-03,\n",
       "        8.36617954e-04, -4.59746318e-03,  4.87971026e-03, -5.03673567e-04,\n",
       "       -2.10336805e-03,  3.92487645e-03,  2.46402738e-03,  2.49618595e-03,\n",
       "       -2.22246884e-03,  4.91807703e-03, -4.71324311e-04,  3.14137927e-04,\n",
       "        2.50957441e-03,  1.59995677e-03, -3.27713019e-03, -1.97519711e-03,\n",
       "       -1.38814445e-03,  4.47535561e-03,  2.14505917e-03, -1.33664545e-03,\n",
       "        2.34722369e-03,  2.38510664e-03, -1.05778396e-03, -9.68598120e-04,\n",
       "        3.94293666e-03,  6.18188991e-04, -3.50484368e-03,  2.19782535e-03,\n",
       "        8.95680161e-04,  8.93414035e-05,  2.25104205e-03,  4.07086313e-03,\n",
       "       -1.69563887e-03, -8.06990254e-04, -3.10504856e-03,  1.47071783e-03,\n",
       "       -9.72861657e-04, -1.57637591e-03,  1.96523243e-03, -9.18433652e-04,\n",
       "       -3.56321339e-04, -5.99499326e-04, -2.41461745e-03, -3.74193024e-03,\n",
       "        3.27233784e-03, -4.08276357e-03, -1.75121194e-03,  1.67489890e-03,\n",
       "       -3.68705089e-03,  1.55517692e-03,  2.33065966e-03,  1.62909692e-03,\n",
       "       -1.94967387e-03, -4.80233599e-03,  3.87352169e-03, -1.73453207e-03,\n",
       "        3.05006141e-03, -3.02190194e-03, -3.37589555e-03,  2.78151385e-03,\n",
       "        4.39731916e-03,  3.60630383e-03,  2.51246151e-03, -2.53319670e-03,\n",
       "        4.13210457e-03,  1.67849124e-03, -3.27835558e-03, -3.70637234e-03,\n",
       "        3.71161755e-03, -2.24847486e-03,  2.65892316e-03, -3.61345522e-03,\n",
       "       -2.19461089e-03, -2.16479250e-03, -2.18895799e-03,  1.74736499e-03,\n",
       "        4.14388906e-03,  4.10326896e-03,  2.41550338e-03, -2.97477609e-03,\n",
       "        4.60579991e-03,  4.20790311e-04,  4.59669245e-04,  2.01391103e-03,\n",
       "        2.69095483e-03,  4.52922471e-03,  8.23795213e-04,  1.10060454e-03,\n",
       "        2.45527853e-03, -2.44893064e-03, -1.92287145e-03,  1.25478150e-03,\n",
       "       -4.35871724e-03, -1.79508864e-03,  2.17995769e-03,  4.76128329e-03,\n",
       "        1.94963213e-04, -1.00323919e-03, -5.96235390e-04,  1.85427663e-03,\n",
       "        4.44749603e-04, -4.76772431e-03,  3.92399437e-04, -9.99385724e-04,\n",
       "        2.00801669e-03,  3.75107583e-03,  4.62448457e-03,  1.10227405e-03,\n",
       "       -1.37437880e-03, -5.60571556e-04, -3.23538412e-03,  4.35937475e-03,\n",
       "        3.47311608e-03,  3.53984348e-03, -1.71876606e-03, -1.77784381e-03,\n",
       "        3.56613286e-03,  4.45483922e-04,  2.04656133e-03, -1.01757643e-04,\n",
       "       -5.72298770e-04,  1.32202450e-03,  3.12981079e-03, -1.65888784e-03,\n",
       "        3.09145148e-03, -2.55795009e-03, -9.71724396e-04,  4.12671827e-03,\n",
       "        4.54453100e-03,  4.23874520e-03, -1.83955964e-03,  3.43322870e-03,\n",
       "        4.36087232e-03,  4.78204433e-03, -4.79096593e-03,  2.44991481e-03,\n",
       "        4.96745668e-03,  2.64667207e-03, -2.66825547e-03,  2.62590055e-03,\n",
       "       -3.94755835e-03, -1.93923712e-04,  1.26227562e-03, -4.35478083e-04,\n",
       "        1.99833512e-03, -2.59773736e-03,  1.06220599e-03,  1.44819135e-03,\n",
       "        1.33796094e-03, -2.10679881e-03, -1.94618339e-03, -2.42191623e-03,\n",
       "       -3.82229104e-04,  8.59613414e-04, -1.37463992e-03, -9.00176179e-04,\n",
       "       -2.13588588e-03, -2.81143421e-03,  1.57438219e-03,  3.16056004e-03,\n",
       "       -2.09295633e-03,  3.60569893e-03,  7.09781074e-04, -3.32300481e-03,\n",
       "        7.15830564e-01, -7.39692390e-01, -2.23478723e+00,  1.24027991e+00,\n",
       "        1.32403147e+00, -1.04328907e+00,  2.27540150e-01, -6.86710000e-01,\n",
       "       -3.29878688e-01, -6.44202471e-01,  7.70375907e-01,  1.94352672e-01,\n",
       "       -1.11850619e+00, -7.14409649e-02, -1.78926781e-01,  1.12348187e+00,\n",
       "        1.17795289e+00,  1.76220816e-02,  1.50601864e+00,  6.90872431e-01,\n",
       "        1.12746513e+00,  7.59923160e-01,  7.07709253e-01, -8.13855112e-01,\n",
       "       -4.93305355e-01,  7.18277752e-01, -4.18227255e-01, -1.57562405e-01,\n",
       "        8.80388498e-01, -1.37240815e+00, -6.38831481e-02, -7.78237402e-01,\n",
       "       -4.09859657e-01, -3.69163066e-01,  1.06459342e-01, -1.22618997e+00,\n",
       "        5.92886806e-01, -8.35737705e-01,  1.25204635e+00,  4.54368256e-02,\n",
       "       -1.67759335e+00, -2.40331322e-01,  5.11710644e-01,  4.08414185e-01,\n",
       "       -4.31630552e-01,  4.16188329e-01,  5.21869719e-01, -3.22095305e-01,\n",
       "        5.37836142e-02,  2.73327418e-02, -4.17975932e-01, -2.13445008e-01,\n",
       "       -6.84975624e-01,  9.41412747e-01, -5.38005590e-01,  7.31295049e-01,\n",
       "        1.10927954e-01,  2.46800557e-01,  1.09249508e+00,  1.00032926e+00,\n",
       "        1.35128939e+00,  1.01087987e-01, -7.09753692e-01, -4.40347254e-01,\n",
       "        1.65577793e+00, -6.08141959e-01,  6.34844184e-01,  2.76250727e-02,\n",
       "       -1.02454078e+00,  1.33162573e-01, -2.19682360e+00,  9.33259428e-01,\n",
       "        3.34555387e-01, -6.48806512e-01, -8.13713133e-01, -6.72650933e-01,\n",
       "       -4.97148335e-01, -9.81361121e-02,  1.75897211e-01,  9.41471756e-02,\n",
       "       -3.01130861e-01, -5.81847608e-01,  5.17789602e-01, -2.04368025e-01,\n",
       "       -9.01602685e-01,  1.35420060e+00,  1.61297369e+00,  6.51753992e-02,\n",
       "       -2.43291998e+00,  2.14133874e-01,  9.02065337e-01, -5.44734478e-01,\n",
       "       -8.67612183e-01,  6.27193093e-01, -1.22930181e+00,  7.76377618e-01,\n",
       "       -6.39859661e-02, -5.81200957e-01,  1.00142789e+00,  1.64126551e+00,\n",
       "       -8.47598433e-01, -5.19844830e-01,  1.77710488e-01, -5.32563925e-01,\n",
       "        7.57824183e-01,  5.39235771e-02,  1.39621675e+00, -7.59637475e-01,\n",
       "        1.73654437e-01,  1.04498640e-02,  2.96304096e-02, -1.74654692e-01,\n",
       "        9.58826125e-01, -8.77735496e-01, -2.56874621e-01, -8.31751049e-01,\n",
       "        1.96690905e+00, -1.16130769e-01,  1.30749679e+00,  1.23865354e+00,\n",
       "        1.97251701e+00,  4.02889669e-01, -7.51380444e-01,  1.36725318e+00,\n",
       "        9.12561595e-01,  5.91234982e-01, -2.28840247e-01, -1.92782179e-01,\n",
       "       -4.20461059e-01, -2.94553041e-01, -6.16881788e-01,  1.09018338e+00,\n",
       "        4.51807588e-01,  6.42141879e-01,  1.03308594e+00,  1.05782425e+00,\n",
       "        2.56789446e-01, -4.96124849e-03, -3.96194011e-01, -9.28079486e-01,\n",
       "       -1.34071171e-01, -3.28092545e-01,  7.03644633e-01,  4.36060399e-01,\n",
       "       -6.11125588e-01, -1.27187204e+00, -3.71775597e-01, -1.16173005e+00,\n",
       "       -1.66206300e+00,  1.90015984e+00,  7.42903650e-01,  1.30804718e-01,\n",
       "       -1.44034669e-01, -1.50797617e+00, -1.58599839e-01,  1.94296584e-01,\n",
       "       -1.08096302e+00, -2.14195895e+00,  4.18253928e-01, -1.18906355e+00,\n",
       "        3.47007185e-01, -1.06869809e-01, -1.12566996e+00, -2.00549006e+00,\n",
       "        9.66379881e-01,  1.66924787e+00, -1.50765866e-01, -1.59142539e-01,\n",
       "       -8.29177380e-01,  1.67981696e+00,  2.14391971e+00,  1.73524725e+00,\n",
       "        1.14285922e+00,  7.67771661e-01,  4.66366291e-01, -2.48633042e-01,\n",
       "        6.88940465e-01, -5.68517208e-01,  9.51763272e-01,  8.70645821e-01,\n",
       "       -3.01517576e-01, -7.48720944e-01,  8.55952203e-01,  1.99430779e-01,\n",
       "        4.35502291e-01, -7.38396347e-01,  1.14179468e+00,  5.28153777e-01,\n",
       "        9.68564212e-01,  1.57378995e+00,  5.78617603e-02,  4.36508954e-01,\n",
       "        4.61329132e-01,  1.04701531e+00,  7.47889653e-02, -5.95574938e-02,\n",
       "        1.38967502e+00,  1.55192703e-01, -9.32494104e-02,  1.90353259e-01],\n",
       "      dtype=float32)"
      ]
     },
     "execution_count": 60,
     "metadata": {},
     "output_type": "execute_result"
    }
   ],
   "source": [
    "# model_concat[\"like\"] # prints out the vector"
   ]
  },
  {
   "cell_type": "markdown",
   "metadata": {},
   "source": [
    "### **Creating Embedding Matrix**"
   ]
  },
  {
   "cell_type": "code",
   "execution_count": 61,
   "metadata": {},
   "outputs": [
    {
     "name": "stdout",
     "output_type": "stream",
     "text": [
      "(7259, 400)\n",
      "2\n"
     ]
    }
   ],
   "source": [
    "d2v_vector_size  = 400\n",
    "embedding_matrix = np.zeros((vocab_length, d2v_vector_size)) \n",
    "print(embedding_matrix.shape) # (7259, 400)\n",
    "print(embedding_matrix.ndim) # 2-dimensional array"
   ]
  },
  {
   "cell_type": "code",
   "execution_count": null,
   "metadata": {},
   "outputs": [
    {
     "data": {
      "text/plain": [
       "array([[0., 0.],\n",
       "       [0., 0.],\n",
       "       [0., 0.],\n",
       "       [0., 0.],\n",
       "       [0., 0.]])"
      ]
     },
     "metadata": {},
     "output_type": "display_data"
    }
   ],
   "source": [
    "embedding_matrix[:5,:2]"
   ]
  },
  {
   "cell_type": "code",
   "execution_count": null,
   "metadata": {},
   "outputs": [],
   "source": [
    "# model_concat.wv.key_to_index.keys()\n",
    "# # prints a list of keys like so dict_keys(['work', 'mouse', 'not', 'great',"
   ]
  },
  {
   "cell_type": "code",
   "execution_count": 62,
   "metadata": {},
   "outputs": [],
   "source": [
    "# Because both model_dm and model_dbow are trained on the same document;\n",
    "# We use them to check if the word is present in the keys()\n",
    "# model_dm or model_dbow could be used in the if statement\n",
    "# After the check we use model_concat to assign the corresponding vector size \n",
    "# which is a 400 vector space.\n",
    "for word, index in vocab:\n",
    "    if word in model_dm.wv.key_to_index.keys():\n",
    "        embedding_matrix[index] = model_concat[word]\n",
    "    else:\n",
    "        embedding_matrix[index] = np.zeros(d2v_vector_size)"
   ]
  },
  {
   "cell_type": "code",
   "execution_count": 63,
   "metadata": {},
   "outputs": [
    {
     "data": {
      "text/plain": [
       "array([[ 0.00000000e+00,  0.00000000e+00,  0.00000000e+00,\n",
       "         0.00000000e+00,  0.00000000e+00,  0.00000000e+00,\n",
       "         0.00000000e+00,  0.00000000e+00,  0.00000000e+00,\n",
       "         0.00000000e+00],\n",
       "       [-4.10749065e-03,  2.73956009e-03,  1.54571468e-03,\n",
       "        -6.11215830e-04, -6.69847708e-04,  3.58597864e-03,\n",
       "        -4.14054375e-03,  1.97368022e-03, -2.98530515e-03,\n",
       "        -4.05822694e-03],\n",
       "       [-1.33736490e-03,  4.08580666e-03, -4.93437037e-05,\n",
       "         1.99707085e-03, -4.25825710e-04, -2.34130095e-03,\n",
       "         2.64229416e-03,  4.69176332e-03, -2.36475165e-03,\n",
       "         2.78750900e-03],\n",
       "       [ 4.98027820e-03,  2.77404790e-03, -1.79582776e-03,\n",
       "         4.71826363e-03, -6.93023185e-06,  7.41183749e-06,\n",
       "        -6.63011684e-04, -3.56102525e-03,  4.34372434e-03,\n",
       "        -4.86063724e-03],\n",
       "       [ 1.16284075e-03,  2.78996350e-03,  2.39042938e-03,\n",
       "        -3.65447812e-03,  3.26054869e-03,  3.60680220e-04,\n",
       "        -1.76916597e-03,  1.42228600e-04,  4.66983439e-03,\n",
       "         3.57572129e-03],\n",
       "       [-4.87908348e-03, -1.98072614e-03,  1.55544287e-04,\n",
       "         4.18441882e-03,  2.38226051e-03,  2.81293993e-03,\n",
       "         4.49016690e-04, -3.89411626e-03, -1.09073578e-03,\n",
       "         4.97034611e-03],\n",
       "       [ 3.08300368e-03,  2.36705667e-03,  5.83171844e-04,\n",
       "         3.86402849e-03, -3.71732120e-03,  4.21057176e-03,\n",
       "         3.50225996e-03,  3.63290310e-05,  2.33391952e-03,\n",
       "         2.02750569e-04],\n",
       "       [ 3.79021536e-03, -2.24941366e-04,  4.84766532e-03,\n",
       "         2.61432538e-03,  1.50883314e-03,  4.03327821e-03,\n",
       "         1.50788430e-04,  2.20695906e-03, -2.15269160e-03,\n",
       "         4.63211164e-03],\n",
       "       [ 3.54613829e-03, -2.58627953e-03, -2.00304389e-03,\n",
       "        -1.77507696e-03, -3.22612165e-03, -3.44558479e-03,\n",
       "        -1.52984494e-03,  3.74314305e-03, -4.98465076e-03,\n",
       "        -2.16753129e-03],\n",
       "       [-1.98499789e-03,  2.38580350e-03,  3.25950258e-03,\n",
       "        -1.82846840e-03, -3.75823141e-03,  3.90019407e-03,\n",
       "        -3.52060073e-03,  9.38305282e-04, -2.63719563e-03,\n",
       "        -3.73973674e-03]])"
      ]
     },
     "execution_count": 63,
     "metadata": {},
     "output_type": "execute_result"
    }
   ],
   "source": [
    "embedding_matrix[:10,:10]"
   ]
  },
  {
   "cell_type": "markdown",
   "metadata": {},
   "source": [
    "### **Model Building**"
   ]
  },
  {
   "cell_type": "code",
   "execution_count": 64,
   "metadata": {},
   "outputs": [],
   "source": [
    "from sklearn.model_selection import train_test_split"
   ]
  },
  {
   "cell_type": "code",
   "execution_count": 65,
   "metadata": {},
   "outputs": [],
   "source": [
    "y_nn = tf.keras.utils.to_categorical(df_clean.sentiment_label.values, num_classes=3, dtype='int8')"
   ]
  },
  {
   "cell_type": "code",
   "execution_count": 66,
   "metadata": {},
   "outputs": [],
   "source": [
    "X_train, X_test, y_train,y_test= train_test_split(\n",
    "                                            X,y_nn,test_size=.2,random_state=42, \n",
    "                                            stratify=y_nn)"
   ]
  },
  {
   "cell_type": "code",
   "execution_count": 67,
   "metadata": {},
   "outputs": [],
   "source": [
    "simple_nn = Sequential()\n",
    "embedding_layer = Embedding(vocab_length,d2v_vector_size,weights=[embedding_matrix],\n",
    "                                        input_length=max_len,trainable=False)\n",
    "\n",
    "# No hidden layer used\n",
    "simple_nn.add(embedding_layer)\n",
    "simple_nn.add(Flatten())\n",
    "simple_nn.add(Dense(3,activation='softmax'))"
   ]
  },
  {
   "cell_type": "code",
   "execution_count": 68,
   "metadata": {},
   "outputs": [
    {
     "name": "stdout",
     "output_type": "stream",
     "text": [
      "Model: \"sequential\"\n",
      "_________________________________________________________________\n",
      "Layer (type)                 Output Shape              Param #   \n",
      "=================================================================\n",
      "embedding (Embedding)        (None, 300, 400)          2903600   \n",
      "_________________________________________________________________\n",
      "flatten (Flatten)            (None, 120000)            0         \n",
      "_________________________________________________________________\n",
      "dense (Dense)                (None, 3)                 360003    \n",
      "=================================================================\n",
      "Total params: 3,263,603\n",
      "Trainable params: 360,003\n",
      "Non-trainable params: 2,903,600\n",
      "_________________________________________________________________\n",
      "None\n"
     ]
    }
   ],
   "source": [
    "simple_nn.compile(optimizer='adam',loss='categorical_crossentropy',metrics=['acc'])\n",
    "\n",
    "print(simple_nn.summary())"
   ]
  },
  {
   "cell_type": "code",
   "execution_count": 69,
   "metadata": {},
   "outputs": [
    {
     "name": "stdout",
     "output_type": "stream",
     "text": [
      "Epoch 1/10\n",
      "87/87 [==============================] - 4s 45ms/step - loss: 0.7132 - acc: 0.7202 - val_loss: 0.6413 - val_acc: 0.7664\n",
      "Epoch 2/10\n",
      "87/87 [==============================] - 3s 38ms/step - loss: 0.4142 - acc: 0.8511 - val_loss: 0.6270 - val_acc: 0.7812\n",
      "Epoch 3/10\n",
      "87/87 [==============================] - 3s 36ms/step - loss: 0.3379 - acc: 0.8885 - val_loss: 0.6387 - val_acc: 0.7808\n",
      "Epoch 4/10\n",
      "87/87 [==============================] - 3s 39ms/step - loss: 0.2922 - acc: 0.9065 - val_loss: 0.6474 - val_acc: 0.7837\n",
      "Epoch 5/10\n",
      "87/87 [==============================] - 3s 36ms/step - loss: 0.2579 - acc: 0.9209 - val_loss: 0.6708 - val_acc: 0.7931\n",
      "Epoch 6/10\n",
      "87/87 [==============================] - 3s 36ms/step - loss: 0.2350 - acc: 0.9287 - val_loss: 0.6765 - val_acc: 0.7956\n",
      "Epoch 7/10\n",
      "87/87 [==============================] - 3s 36ms/step - loss: 0.2151 - acc: 0.9358 - val_loss: 0.6933 - val_acc: 0.7985\n",
      "Epoch 8/10\n",
      "87/87 [==============================] - 3s 38ms/step - loss: 0.1995 - acc: 0.9409 - val_loss: 0.7142 - val_acc: 0.79605 \n",
      "Epoch 9/10\n",
      "87/87 [==============================] - 3s 37ms/step - loss: 0.1867 - acc: 0.9454 - val_loss: 0.7349 - val_acc: 0.8006\n",
      "Epoch 10/10\n",
      "87/87 [==============================] - 3s 36ms/step - loss: 0.1746 - acc: 0.9521 - val_loss: 0.7506 - val_acc: 0.8039\n"
     ]
    }
   ],
   "source": [
    "# Model training\n",
    "\n",
    "simple_nn_history = simple_nn.fit(\n",
    "    X_train,y_train,batch_size=128,epochs=10, verbose=1, validation_split=.2\n",
    ")"
   ]
  },
  {
   "cell_type": "code",
   "execution_count": 70,
   "metadata": {},
   "outputs": [
    {
     "name": "stdout",
     "output_type": "stream",
     "text": [
      "109/109 [==============================] - 1s 7ms/step - loss: 0.7237 - acc: 0.8016\n"
     ]
    }
   ],
   "source": [
    "# Predictions on the Test Set\n",
    "\n",
    "score = simple_nn.evaluate(X_test, y_test, verbose=1)"
   ]
  },
  {
   "cell_type": "code",
   "execution_count": 71,
   "metadata": {},
   "outputs": [
    {
     "name": "stdout",
     "output_type": "stream",
     "text": [
      "Test Loss: 0.7237481474876404\n",
      "Test Accuracy: 0.8016147613525391\n"
     ]
    }
   ],
   "source": [
    "print(\"Test Loss:\", score[0])\n",
    "print(\"Test Accuracy:\", score[1])"
   ]
  },
  {
   "cell_type": "code",
   "execution_count": 72,
   "metadata": {},
   "outputs": [
    {
     "data": {
      "image/png": "[encoded data removed]",
      "text/plain": [
       "<Figure size 432x288 with 1 Axes>"
      ]
     },
     "metadata": {
      "needs_background": "light"
     },
     "output_type": "display_data"
    },
    {
     "data": {
      "image/png": "[encoded data removed]",
      "text/plain": [
       "<Figure size 432x288 with 1 Axes>"
      ]
     },
     "metadata": {
      "needs_background": "light"
     },
     "output_type": "display_data"
    }
   ],
   "source": [
    "# Model Performance Charts\n",
    "\n",
    "plt.plot(simple_nn_history.history['acc'])\n",
    "plt.plot(simple_nn_history.history['val_acc'])\n",
    "\n",
    "plt.title('model accuracy')\n",
    "plt.ylabel('accuracy')\n",
    "plt.xlabel('epoch')\n",
    "plt.legend(['training','validation'], loc='upper left')\n",
    "plt.show()\n",
    "\n",
    "plt.plot(simple_nn_history.history['loss'])\n",
    "plt.plot(simple_nn_history.history['val_loss'])\n",
    "\n",
    "plt.title('model loss')\n",
    "plt.ylabel('loss')\n",
    "plt.xlabel('epoch')\n",
    "plt.legend(['training','validation'], loc='upper left')\n",
    "plt.show()"
   ]
  },
  {
   "cell_type": "markdown",
   "metadata": {},
   "source": [
    "### **Classification report**"
   ]
  },
  {
   "cell_type": "code",
   "execution_count": 74,
   "metadata": {},
   "outputs": [
    {
     "name": "stdout",
     "output_type": "stream",
     "text": [
      "              precision    recall  f1-score   support\n",
      "\n",
      "           0       0.65      0.50      0.56       307\n",
      "           1       0.75      0.77      0.76      1260\n",
      "           2       0.85      0.87      0.86      1901\n",
      "\n",
      "    accuracy                           0.80      3468\n",
      "   macro avg       0.75      0.71      0.73      3468\n",
      "weighted avg       0.80      0.80      0.80      3468\n",
      "\n"
     ]
    }
   ],
   "source": [
    "from sklearn.metrics import classification_report,confusion_matrix,ConfusionMatrixDisplay\n",
    "y_pred =   np.argmax(simple_nn.predict(X_test), axis  =  1)\n",
    "y_true = np.argmax(y_test, axis = 1)\n",
    "\n",
    "print(classification_report(y_true,y_pred))"
   ]
  },
  {
   "cell_type": "code",
   "execution_count": 75,
   "metadata": {},
   "outputs": [
    {
     "name": "stdout",
     "output_type": "stream",
     "text": [
      "              precision    recall  f1-score   support\n",
      "\n",
      "           0       0.65      0.50      0.56       307\n",
      "           1       0.75      0.77      0.76      1260\n",
      "           2       0.85      0.87      0.86      1901\n",
      "\n",
      "    accuracy                           0.80      3468\n",
      "   macro avg       0.75      0.71      0.73      3468\n",
      "weighted avg       0.80      0.80      0.80      3468\n",
      "\n"
     ]
    },
    {
     "data": {
      "image/png": "[encoded data removed]",
      "text/plain": [
       "<Figure size 432x288 with 2 Axes>"
      ]
     },
     "metadata": {},
     "output_type": "display_data"
    }
   ],
   "source": [
    "# Classification report test data\n",
    "\n",
    "y_true=np.argmax(y_test, axis=1)\n",
    "y_pred_test = simple_nn.predict(X_test)\n",
    "y_pred_test=np.argmax(y_pred_test, axis=1)\n",
    "sns.set_theme(style='white')\n",
    "def class_report(model,y_true,pred):\n",
    "    print(classification_report(y_true,pred))\n",
    "    cm = confusion_matrix(y_true,pred,labels=[0,1,2])\n",
    "    disp = ConfusionMatrixDisplay(confusion_matrix=cm, display_labels=[0,1,2])\n",
    "    disp.plot()\n",
    "    plt.show()\n",
    "\n",
    "\n",
    "class_report(simple_nn,y_true,y_pred_test) \n",
    "\n",
    "# Original mapping\n",
    "# sentiment_mapping = {'negative':-1,'neutral':0,'positive':1}\n",
    "\n",
    "# New mapping\n",
    "# negative --> 0\n",
    "# neutral --> 1\n",
    "# positive --> 2"
   ]
  },
  {
   "cell_type": "markdown",
   "metadata": {},
   "source": [
    "### **ROC Curve**"
   ]
  },
  {
   "cell_type": "code",
   "execution_count": 76,
   "metadata": {},
   "outputs": [],
   "source": [
    "from sklearn.preprocessing import label_binarize"
   ]
  },
  {
   "cell_type": "code",
   "execution_count": 77,
   "metadata": {},
   "outputs": [],
   "source": [
    "n_classes = 3\n",
    "\n",
    "y_nn_auc = label_binarize(y_nn, classes=[0,1,2])\n",
    "\n",
    "n_classes = y_nn_auc.shape[1]"
   ]
  },
  {
   "cell_type": "code",
   "execution_count": 78,
   "metadata": {},
   "outputs": [],
   "source": [
    "X_train, X_test, y_train,y_test= train_test_split(\n",
    "                                            X,y_nn_auc,test_size=.2,random_state=42, \n",
    "                                            stratify=y_nn_auc)"
   ]
  },
  {
   "cell_type": "code",
   "execution_count": 79,
   "metadata": {},
   "outputs": [
    {
     "name": "stdout",
     "output_type": "stream",
     "text": [
      "Model: \"sequential_1\"\n",
      "_________________________________________________________________\n",
      "Layer (type)                 Output Shape              Param #   \n",
      "=================================================================\n",
      "embedding_1 (Embedding)      (None, 300, 400)          2903600   \n",
      "_________________________________________________________________\n",
      "flatten_1 (Flatten)          (None, 120000)            0         \n",
      "_________________________________________________________________\n",
      "dense_1 (Dense)              (None, 3)                 360003    \n",
      "=================================================================\n",
      "Total params: 3,263,603\n",
      "Trainable params: 360,003\n",
      "Non-trainable params: 2,903,600\n",
      "_________________________________________________________________\n",
      "None\n",
      "Epoch 1/10\n",
      "87/87 [==============================] - 3s 40ms/step - loss: 0.7359 - acc: 0.7162 - val_loss: 0.6489 - val_acc: 0.7509\n",
      "Epoch 2/10\n",
      "87/87 [==============================] - 3s 35ms/step - loss: 0.4222 - acc: 0.8465 - val_loss: 0.6420 - val_acc: 0.7808\n",
      "Epoch 3/10\n",
      "87/87 [==============================] - 3s 37ms/step - loss: 0.3425 - acc: 0.8850 - val_loss: 0.6513 - val_acc: 0.7815\n",
      "Epoch 4/10\n",
      "87/87 [==============================] - 3s 35ms/step - loss: 0.2940 - acc: 0.9056 - val_loss: 0.6496 - val_acc: 0.7855\n",
      "Epoch 5/10\n",
      "87/87 [==============================] - 3s 35ms/step - loss: 0.2633 - acc: 0.9163 - val_loss: 0.6680 - val_acc: 0.7906\n",
      "Epoch 6/10\n",
      "87/87 [==============================] - 3s 35ms/step - loss: 0.2382 - acc: 0.9258 - val_loss: 0.6767 - val_acc: 0.7938\n",
      "Epoch 7/10\n",
      "87/87 [==============================] - 3s 38ms/step - loss: 0.2180 - acc: 0.9340 - val_loss: 0.7016 - val_acc: 0.7952\n",
      "Epoch 8/10\n",
      "87/87 [==============================] - 3s 35ms/step - loss: 0.2024 - acc: 0.9411 - val_loss: 0.7104 - val_acc: 0.7988\n",
      "Epoch 9/10\n",
      "87/87 [==============================] - 3s 35ms/step - loss: 0.1884 - acc: 0.9465 - val_loss: 0.7299 - val_acc: 0.8017\n",
      "Epoch 10/10\n",
      "87/87 [==============================] - 3s 36ms/step - loss: 0.1780 - acc: 0.9502 - val_loss: 0.7524 - val_acc: 0.8017\n"
     ]
    }
   ],
   "source": [
    "simple_nn = Sequential()\n",
    "embedding_layer = Embedding(vocab_length,d2v_vector_size,weights=[embedding_matrix],\n",
    "                                        input_length=max_len,trainable=False)\n",
    "\n",
    "# No hidden layer used\n",
    "simple_nn.add(embedding_layer)\n",
    "simple_nn.add(Flatten())\n",
    "simple_nn.add(Dense(3,activation='softmax'))\n",
    "simple_nn.compile(optimizer='adam',loss='categorical_crossentropy',metrics=['acc'])\n",
    "\n",
    "print(simple_nn.summary())\n",
    "# Model training\n",
    "\n",
    "simple_nn_history = simple_nn.fit(\n",
    "    X_train,y_train,batch_size=128,epochs=10, verbose=1, validation_split=.2\n",
    ")"
   ]
  },
  {
   "cell_type": "code",
   "execution_count": 80,
   "metadata": {},
   "outputs": [],
   "source": [
    "from sklearn.metrics import roc_curve, roc_auc_score,auc\n",
    "fpr = {}\n",
    "tpr = {}\n",
    "roc_auc = {}\n",
    "# Plot linewidth\n",
    "lw = 2\n",
    "\n",
    "# Version 2\n",
    "classes_by_names = [\"negative\",\"neutral\",\"positive\"]\n",
    "def roc_curve_plot(value,y_test):\n",
    "    for i in range(n_classes):\n",
    "        fpr[i], tpr[i], _ = roc_curve(y_test[:,i], \n",
    "                                                    value[:,i])\n",
    "        roc_auc[i] = auc(fpr[i], tpr[i])                                                    \n",
    "        plt.plot(fpr[i], tpr[i], lw=lw, label= \"ROC of class {}, AUC= {}\"\n",
    "        .format(classes_by_names[i],np.round(roc_auc[i],2)))\n",
    "        \n",
    "       \n",
    "    plt.plot([0, 1], [0, 1], 'k--', lw=1)\n",
    "    plt.xlim([0.0, 1.0])\n",
    "    plt.ylim([0.0, 1.0])\n",
    "    plt.xlabel(\"False Positive Rate\")\n",
    "    plt.ylabel(\"True Positive Rate\")\n",
    "    plt.legend(loc=\"best\",frameon=True) # ,labels=[\"negative\",\"neutral\",\"positive\"]\n",
    "    plt.title(\"ROC curve of Simple Neural Network multiclass; Sentiment prediction\")\n",
    "    plt.show()\n",
    "    roc_auc_scoring_macro_ovr = roc_auc_score(y_test,value, multi_class=\"OvR\",average='macro')\n",
    "    print(\"AUC macro-averaged over all classes: {:.2f}\"\n",
    "    .format(roc_auc_scoring_macro_ovr))"
   ]
  },
  {
   "cell_type": "code",
   "execution_count": 81,
   "metadata": {},
   "outputs": [],
   "source": [
    "y_pred_test = simple_nn.predict(X_test)\n",
    "# y_pred_test=np.argmax(y_pred_test, axis=1)"
   ]
  },
  {
   "cell_type": "code",
   "execution_count": 82,
   "metadata": {},
   "outputs": [
    {
     "data": {
      "image/png": "[encoded data removed]",
      "text/plain": [
       "<Figure size 432x288 with 1 Axes>"
      ]
     },
     "metadata": {},
     "output_type": "display_data"
    },
    {
     "name": "stdout",
     "output_type": "stream",
     "text": [
      "AUC macro-averaged over all classes: 0.87\n"
     ]
    }
   ],
   "source": [
    "roc_curve_plot(y_pred_test,y_test)"
   ]
  },
  {
   "cell_type": "markdown",
   "metadata": {},
   "source": [
    "## **Conclusion**"
   ]
  },
  {
   "cell_type": "markdown",
   "metadata": {},
   "source": [
    "Using the Simple Neral Network;\n",
    "- PV-DBOW vector size of 200 had an f1 score of 0.25 and AUC score of 0.90 on test data\n",
    "- PV-DM vector size of 200 had an f1 score of 0.73 and AUC score of 0.87 on test data\n",
    "- Combining both methods does in fact gives a performance boost as shown in the table below. \n",
    "- It out performs PV-DBOW (AUC & f1-score) and has similar performance metrics as PV-DM-200.\n",
    "\n",
    "\n",
    "**Table of Values**\n",
    "\n",
    "dataset|f1_score_macro_avg|AUC_score_avg\n",
    "| ----------- | ----------- | ----------- |\n",
    "df_clean (test data)|0.73|0.87"
   ]
  }
 ],
 "metadata": {
  "kernelspec": {
   "display_name": "Python 3.8.13 (conda)",
   "language": "python",
   "name": "python3"
  },
  "language_info": {
   "codemirror_mode": {
    "name": "ipython",
    "version": 3
   },
   "file_extension": ".py",
   "mimetype": "text/x-python",
   "name": "python",
   "nbconvert_exporter": "python",
   "pygments_lexer": "ipython3",
   "version": "3.8.13"
  },
  "orig_nbformat": 4,
  "vscode": {
   "interpreter": {
    "hash": "0d3784fccdc90acbf957f8297e7e306d4c8b14c1a207bd5307d0795df9a8d77b"
   }
  }
 },
 "nbformat": 4,
 "nbformat_minor": 2
}
