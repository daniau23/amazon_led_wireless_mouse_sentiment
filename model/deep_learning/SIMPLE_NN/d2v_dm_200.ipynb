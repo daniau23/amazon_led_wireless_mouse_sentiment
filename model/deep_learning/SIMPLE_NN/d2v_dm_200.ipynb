{
 "cells": [
  {
   "cell_type": "code",
   "execution_count": 1,
   "metadata": {},
   "outputs": [],
   "source": [
    "import pandas as pd\n",
    "import numpy as np \n",
    "import matplotlib.pyplot as plt\n",
    "import plotly.express as px\n",
    "# import plotly.graph_objects as go\n",
    "# import plotly.figure_factory as ff\n",
    "import seaborn as sns\n",
    "import warnings\n",
    "warnings.filterwarnings(\"ignore\")\n",
    "# from nltk.tokenize import word_tokenize as wt \n",
    "# from collections import Counter\n",
    "import gensim\n",
    "# import textblob\n",
    "import spacy\n",
    "import tensorflow as tf\n",
    "from tensorflow.keras.preprocessing.text import one_hot, Tokenizer\n",
    "from tensorflow.keras.preprocessing.sequence import pad_sequences\n",
    "from tensorflow.keras.models import Sequential\n",
    "from tensorflow.keras.layers import Activation, Dropout, Dense\n",
    "from tensorflow.keras.layers import Flatten, GlobalMaxPooling1D, Embedding, Conv1D, LSTM"
   ]
  },
  {
   "cell_type": "markdown",
   "metadata": {},
   "source": [
    "### **Plan of Action**\n",
    "\n",
    "- Load the data\n",
    "- Drop unnecessary columns and rows\n",
    "- Removal of stop words.\n",
    "- Feature engineering;\n",
    "    - Doc2Vec\n",
    "- Begin modelling\n",
    "    - Algorithms to use;\n",
    "        - Simple Neural Network\n",
    "- Evaluation;\n",
    "    - F1-score_macro\n",
    "    - AUC\n",
    "    - ROC"
   ]
  },
  {
   "cell_type": "code",
   "execution_count": 2,
   "metadata": {},
   "outputs": [],
   "source": [
    "df_clean = pd.read_csv('../../cleaned_reviews.csv')"
   ]
  },
  {
   "cell_type": "code",
   "execution_count": 3,
   "metadata": {},
   "outputs": [
    {
     "data": {
      "text/plain": [
       "(17340, 4)"
      ]
     },
     "execution_count": 3,
     "metadata": {},
     "output_type": "execute_result"
    }
   ],
   "source": [
    "df_clean.shape"
   ]
  },
  {
   "cell_type": "code",
   "execution_count": 4,
   "metadata": {},
   "outputs": [
    {
     "data": {
      "text/plain": [
       "Index(['sentiments', 'cleaned_review', 'cleaned_review_length',\n",
       "       'review_score'],\n",
       "      dtype='object')"
      ]
     },
     "execution_count": 4,
     "metadata": {},
     "output_type": "execute_result"
    }
   ],
   "source": [
    "df_clean.columns"
   ]
  },
  {
   "cell_type": "code",
   "execution_count": 5,
   "metadata": {},
   "outputs": [],
   "source": [
    "df_clean.drop(columns=['cleaned_review_length','review_score'],inplace=True)"
   ]
  },
  {
   "cell_type": "markdown",
   "metadata": {},
   "source": [
    "Checking for Null Vaules and Duplicates"
   ]
  },
  {
   "cell_type": "code",
   "execution_count": 6,
   "metadata": {},
   "outputs": [
    {
     "data": {
      "text/plain": [
       "sentiments        0\n",
       "cleaned_review    3\n",
       "dtype: int64"
      ]
     },
     "execution_count": 6,
     "metadata": {},
     "output_type": "execute_result"
    }
   ],
   "source": [
    "df_clean.isna().sum()"
   ]
  },
  {
   "cell_type": "code",
   "execution_count": 7,
   "metadata": {},
   "outputs": [],
   "source": [
    "df_clean.dropna(inplace=True)"
   ]
  },
  {
   "cell_type": "code",
   "execution_count": 8,
   "metadata": {},
   "outputs": [
    {
     "data": {
      "text/plain": [
       "(17337, 2)"
      ]
     },
     "execution_count": 8,
     "metadata": {},
     "output_type": "execute_result"
    }
   ],
   "source": [
    "df_clean.shape"
   ]
  },
  {
   "cell_type": "code",
   "execution_count": 9,
   "metadata": {},
   "outputs": [],
   "source": [
    "from spacy.lang.en.stop_words import STOP_WORDS\n",
    "\n",
    "# print(STOP_WORDS,'\\n') # <- set of Spacy's default stop words\n",
    "all_stopwords = STOP_WORDS\n",
    "# Adding several stopwords\n",
    "# all_stopwords |= {'not',\"no\", \"n't\", 'n’t','n‘t','cannot','none','without','against'}\n",
    "\n",
    "# Removing several stop words\n",
    "all_stopwords-= {'not',\"no\", \"n't\", 'n’t','n‘t','cannot','none','without','against','off','against','too'}\n",
    "my_stop_words = set(all_stopwords) # My own stop words"
   ]
  },
  {
   "cell_type": "code",
   "execution_count": 10,
   "metadata": {},
   "outputs": [],
   "source": [
    "# print(my_stop_words)"
   ]
  },
  {
   "cell_type": "code",
   "execution_count": 11,
   "metadata": {},
   "outputs": [
    {
     "data": {
      "text/html": [
       "<div>\n",
       "<style scoped>\n",
       "    .dataframe tbody tr th:only-of-type {\n",
       "        vertical-align: middle;\n",
       "    }\n",
       "\n",
       "    .dataframe tbody tr th {\n",
       "        vertical-align: top;\n",
       "    }\n",
       "\n",
       "    .dataframe thead th {\n",
       "        text-align: right;\n",
       "    }\n",
       "</style>\n",
       "<table border=\"1\" class=\"dataframe\">\n",
       "  <thead>\n",
       "    <tr style=\"text-align: right;\">\n",
       "      <th></th>\n",
       "      <th>sentiments</th>\n",
       "      <th>cleaned_review</th>\n",
       "    </tr>\n",
       "  </thead>\n",
       "  <tbody>\n",
       "    <tr>\n",
       "      <th>0</th>\n",
       "      <td>positive</td>\n",
       "      <td>i wish would have gotten one earlier love it a...</td>\n",
       "    </tr>\n",
       "    <tr>\n",
       "      <th>1</th>\n",
       "      <td>neutral</td>\n",
       "      <td>i ve learned this lesson again open the packag...</td>\n",
       "    </tr>\n",
       "    <tr>\n",
       "      <th>2</th>\n",
       "      <td>neutral</td>\n",
       "      <td>it is so slow and lags find better option</td>\n",
       "    </tr>\n",
       "    <tr>\n",
       "      <th>3</th>\n",
       "      <td>neutral</td>\n",
       "      <td>roller ball stopped working within months of m...</td>\n",
       "    </tr>\n",
       "    <tr>\n",
       "      <th>4</th>\n",
       "      <td>neutral</td>\n",
       "      <td>i like the color and size but it few days out ...</td>\n",
       "    </tr>\n",
       "    <tr>\n",
       "      <th>...</th>\n",
       "      <td>...</td>\n",
       "      <td>...</td>\n",
       "    </tr>\n",
       "    <tr>\n",
       "      <th>17335</th>\n",
       "      <td>positive</td>\n",
       "      <td>i love this speaker and love can take it anywh...</td>\n",
       "    </tr>\n",
       "    <tr>\n",
       "      <th>17336</th>\n",
       "      <td>positive</td>\n",
       "      <td>i use it in my house easy to connect and loud ...</td>\n",
       "    </tr>\n",
       "    <tr>\n",
       "      <th>17337</th>\n",
       "      <td>positive</td>\n",
       "      <td>the bass is good and the battery is amazing mu...</td>\n",
       "    </tr>\n",
       "    <tr>\n",
       "      <th>17338</th>\n",
       "      <td>positive</td>\n",
       "      <td>love it</td>\n",
       "    </tr>\n",
       "    <tr>\n",
       "      <th>17339</th>\n",
       "      <td>neutral</td>\n",
       "      <td>mono speaker</td>\n",
       "    </tr>\n",
       "  </tbody>\n",
       "</table>\n",
       "<p>17337 rows × 2 columns</p>\n",
       "</div>"
      ],
      "text/plain": [
       "      sentiments                                     cleaned_review\n",
       "0       positive  i wish would have gotten one earlier love it a...\n",
       "1        neutral  i ve learned this lesson again open the packag...\n",
       "2        neutral          it is so slow and lags find better option\n",
       "3        neutral  roller ball stopped working within months of m...\n",
       "4        neutral  i like the color and size but it few days out ...\n",
       "...          ...                                                ...\n",
       "17335   positive  i love this speaker and love can take it anywh...\n",
       "17336   positive  i use it in my house easy to connect and loud ...\n",
       "17337   positive  the bass is good and the battery is amazing mu...\n",
       "17338   positive                                            love it\n",
       "17339    neutral                                       mono speaker\n",
       "\n",
       "[17337 rows x 2 columns]"
      ]
     },
     "execution_count": 11,
     "metadata": {},
     "output_type": "execute_result"
    }
   ],
   "source": [
    "df_clean"
   ]
  },
  {
   "cell_type": "code",
   "execution_count": 12,
   "metadata": {},
   "outputs": [],
   "source": [
    "nlp = spacy.load(\"en_core_web_sm\")"
   ]
  },
  {
   "cell_type": "code",
   "execution_count": 13,
   "metadata": {},
   "outputs": [],
   "source": [
    "def spacy_tokeniser(sent):\n",
    "    sent = sent.strip().lower()\n",
    "    doc = nlp(sent)\n",
    "    mytokens = [token.lemma_ for token in doc if token.text not in my_stop_words]\n",
    "    return mytokens"
   ]
  },
  {
   "cell_type": "code",
   "execution_count": 14,
   "metadata": {},
   "outputs": [],
   "source": [
    "df_clean['tokens']= df_clean['cleaned_review'].apply(spacy_tokeniser)"
   ]
  },
  {
   "cell_type": "code",
   "execution_count": 15,
   "metadata": {},
   "outputs": [
    {
     "data": {
      "text/html": [
       "<div>\n",
       "<style scoped>\n",
       "    .dataframe tbody tr th:only-of-type {\n",
       "        vertical-align: middle;\n",
       "    }\n",
       "\n",
       "    .dataframe tbody tr th {\n",
       "        vertical-align: top;\n",
       "    }\n",
       "\n",
       "    .dataframe thead th {\n",
       "        text-align: right;\n",
       "    }\n",
       "</style>\n",
       "<table border=\"1\" class=\"dataframe\">\n",
       "  <thead>\n",
       "    <tr style=\"text-align: right;\">\n",
       "      <th></th>\n",
       "      <th>sentiments</th>\n",
       "      <th>cleaned_review</th>\n",
       "      <th>tokens</th>\n",
       "    </tr>\n",
       "  </thead>\n",
       "  <tbody>\n",
       "    <tr>\n",
       "      <th>0</th>\n",
       "      <td>positive</td>\n",
       "      <td>i wish would have gotten one earlier love it a...</td>\n",
       "      <td>[wish, get, early, love, make, work, laptop, e...</td>\n",
       "    </tr>\n",
       "    <tr>\n",
       "      <th>1</th>\n",
       "      <td>neutral</td>\n",
       "      <td>i ve learned this lesson again open the packag...</td>\n",
       "      <td>[ve, learn, lesson, open, package, use, produc...</td>\n",
       "    </tr>\n",
       "    <tr>\n",
       "      <th>2</th>\n",
       "      <td>neutral</td>\n",
       "      <td>it is so slow and lags find better option</td>\n",
       "      <td>[slow, lag, find, well, option]</td>\n",
       "    </tr>\n",
       "    <tr>\n",
       "      <th>3</th>\n",
       "      <td>neutral</td>\n",
       "      <td>roller ball stopped working within months of m...</td>\n",
       "      <td>[roller, ball, stop, work, month, minimal, use...</td>\n",
       "    </tr>\n",
       "    <tr>\n",
       "      <th>4</th>\n",
       "      <td>neutral</td>\n",
       "      <td>i like the color and size but it few days out ...</td>\n",
       "      <td>[like, color, size, day, return, period, not, ...</td>\n",
       "    </tr>\n",
       "  </tbody>\n",
       "</table>\n",
       "</div>"
      ],
      "text/plain": [
       "  sentiments                                     cleaned_review  \\\n",
       "0   positive  i wish would have gotten one earlier love it a...   \n",
       "1    neutral  i ve learned this lesson again open the packag...   \n",
       "2    neutral          it is so slow and lags find better option   \n",
       "3    neutral  roller ball stopped working within months of m...   \n",
       "4    neutral  i like the color and size but it few days out ...   \n",
       "\n",
       "                                              tokens  \n",
       "0  [wish, get, early, love, make, work, laptop, e...  \n",
       "1  [ve, learn, lesson, open, package, use, produc...  \n",
       "2                    [slow, lag, find, well, option]  \n",
       "3  [roller, ball, stop, work, month, minimal, use...  \n",
       "4  [like, color, size, day, return, period, not, ...  "
      ]
     },
     "execution_count": 15,
     "metadata": {},
     "output_type": "execute_result"
    }
   ],
   "source": [
    "df_clean.head()"
   ]
  },
  {
   "cell_type": "code",
   "execution_count": 16,
   "metadata": {},
   "outputs": [],
   "source": [
    "# Dropping unnecessary columns\n",
    "df_clean.drop(columns=['cleaned_review'],inplace=True)"
   ]
  },
  {
   "cell_type": "markdown",
   "metadata": {},
   "source": [
    "Sentiment Mapping"
   ]
  },
  {
   "cell_type": "code",
   "execution_count": 17,
   "metadata": {},
   "outputs": [],
   "source": [
    "sentiment_mapping = {'negative':0,'neutral':1,'positive':2}\n",
    "df_clean['sentiment_label'] = df_clean.sentiments.map(sentiment_mapping)"
   ]
  },
  {
   "cell_type": "code",
   "execution_count": 18,
   "metadata": {},
   "outputs": [],
   "source": [
    "df_clean.drop(columns=['sentiments'],inplace=True)"
   ]
  },
  {
   "cell_type": "code",
   "execution_count": 19,
   "metadata": {},
   "outputs": [
    {
     "data": {
      "text/html": [
       "<div>\n",
       "<style scoped>\n",
       "    .dataframe tbody tr th:only-of-type {\n",
       "        vertical-align: middle;\n",
       "    }\n",
       "\n",
       "    .dataframe tbody tr th {\n",
       "        vertical-align: top;\n",
       "    }\n",
       "\n",
       "    .dataframe thead th {\n",
       "        text-align: right;\n",
       "    }\n",
       "</style>\n",
       "<table border=\"1\" class=\"dataframe\">\n",
       "  <thead>\n",
       "    <tr style=\"text-align: right;\">\n",
       "      <th></th>\n",
       "      <th>tokens</th>\n",
       "      <th>sentiment_label</th>\n",
       "    </tr>\n",
       "  </thead>\n",
       "  <tbody>\n",
       "    <tr>\n",
       "      <th>0</th>\n",
       "      <td>[wish, get, early, love, make, work, laptop, e...</td>\n",
       "      <td>2</td>\n",
       "    </tr>\n",
       "    <tr>\n",
       "      <th>1</th>\n",
       "      <td>[ve, learn, lesson, open, package, use, produc...</td>\n",
       "      <td>1</td>\n",
       "    </tr>\n",
       "    <tr>\n",
       "      <th>2</th>\n",
       "      <td>[slow, lag, find, well, option]</td>\n",
       "      <td>1</td>\n",
       "    </tr>\n",
       "    <tr>\n",
       "      <th>3</th>\n",
       "      <td>[roller, ball, stop, work, month, minimal, use...</td>\n",
       "      <td>1</td>\n",
       "    </tr>\n",
       "    <tr>\n",
       "      <th>4</th>\n",
       "      <td>[like, color, size, day, return, period, not, ...</td>\n",
       "      <td>1</td>\n",
       "    </tr>\n",
       "    <tr>\n",
       "      <th>...</th>\n",
       "      <td>...</td>\n",
       "      <td>...</td>\n",
       "    </tr>\n",
       "    <tr>\n",
       "      <th>17335</th>\n",
       "      <td>[love, speaker, love, charge, phone, work, no,...</td>\n",
       "      <td>2</td>\n",
       "    </tr>\n",
       "    <tr>\n",
       "      <th>17336</th>\n",
       "      <td>[use, house, easy, connect, loud, clear, music]</td>\n",
       "      <td>2</td>\n",
       "    </tr>\n",
       "    <tr>\n",
       "      <th>17337</th>\n",
       "      <td>[bass, good, battery, amazing, well, charge, t...</td>\n",
       "      <td>2</td>\n",
       "    </tr>\n",
       "    <tr>\n",
       "      <th>17338</th>\n",
       "      <td>[love]</td>\n",
       "      <td>2</td>\n",
       "    </tr>\n",
       "    <tr>\n",
       "      <th>17339</th>\n",
       "      <td>[mono, speaker]</td>\n",
       "      <td>1</td>\n",
       "    </tr>\n",
       "  </tbody>\n",
       "</table>\n",
       "<p>17337 rows × 2 columns</p>\n",
       "</div>"
      ],
      "text/plain": [
       "                                                  tokens  sentiment_label\n",
       "0      [wish, get, early, love, make, work, laptop, e...                2\n",
       "1      [ve, learn, lesson, open, package, use, produc...                1\n",
       "2                        [slow, lag, find, well, option]                1\n",
       "3      [roller, ball, stop, work, month, minimal, use...                1\n",
       "4      [like, color, size, day, return, period, not, ...                1\n",
       "...                                                  ...              ...\n",
       "17335  [love, speaker, love, charge, phone, work, no,...                2\n",
       "17336    [use, house, easy, connect, loud, clear, music]                2\n",
       "17337  [bass, good, battery, amazing, well, charge, t...                2\n",
       "17338                                             [love]                2\n",
       "17339                                    [mono, speaker]                1\n",
       "\n",
       "[17337 rows x 2 columns]"
      ]
     },
     "execution_count": 19,
     "metadata": {},
     "output_type": "execute_result"
    }
   ],
   "source": [
    "df_clean"
   ]
  },
  {
   "cell_type": "markdown",
   "metadata": {},
   "source": [
    "### **Text Sequencing**"
   ]
  },
  {
   "cell_type": "code",
   "execution_count": 70,
   "metadata": {},
   "outputs": [],
   "source": [
    "X = df_clean[\"tokens\"]"
   ]
  },
  {
   "cell_type": "code",
   "execution_count": 71,
   "metadata": {},
   "outputs": [
    {
     "data": {
      "text/plain": [
       "['wish', 'get', 'early', 'love', 'make', 'work', 'laptop', 'easy']"
      ]
     },
     "execution_count": 71,
     "metadata": {},
     "output_type": "execute_result"
    }
   ],
   "source": [
    "X[0]"
   ]
  },
  {
   "cell_type": "code",
   "execution_count": 72,
   "metadata": {},
   "outputs": [
    {
     "data": {
      "text/plain": [
       "[153, 26, 758, 9, 124, 1, 51, 34]"
      ]
     },
     "execution_count": 72,
     "metadata": {},
     "output_type": "execute_result"
    }
   ],
   "source": [
    "word_tokenizer = Tokenizer()\n",
    "word_tokenizer.fit_on_texts(X)\n",
    "\n",
    "X = word_tokenizer.texts_to_sequences(X)\n",
    "X[0]"
   ]
  },
  {
   "cell_type": "code",
   "execution_count": 73,
   "metadata": {},
   "outputs": [
    {
     "name": "stdout",
     "output_type": "stream",
     "text": [
      "293\n"
     ]
    }
   ],
   "source": [
    "# We need to find the maximum lenght of any document or review in our case. \n",
    "# We will pad all reviews to have this same length.\n",
    "# This will be required by Keras embedding layer\n",
    "\n",
    "review_max_length = 0\n",
    "for i in df_clean['tokens']: \n",
    "    length = len(i)\n",
    "    if length > review_max_length:\n",
    "        review_max_length = length\n",
    "\n",
    "print(review_max_length) \n",
    "\n",
    "# Although max length is 293, we will use an approximate value of 300; \n",
    "# maxlen = 300"
   ]
  },
  {
   "cell_type": "code",
   "execution_count": 74,
   "metadata": {},
   "outputs": [
    {
     "data": {
      "text/plain": [
       "7258"
      ]
     },
     "execution_count": 74,
     "metadata": {},
     "output_type": "execute_result"
    }
   ],
   "source": [
    "# print(word_tokenizer.word_index) # Outputs a dictionary\n",
    "len(word_tokenizer.word_index)"
   ]
  },
  {
   "cell_type": "code",
   "execution_count": 75,
   "metadata": {},
   "outputs": [],
   "source": [
    "vocab = word_tokenizer.word_index.items()"
   ]
  },
  {
   "cell_type": "code",
   "execution_count": 76,
   "metadata": {},
   "outputs": [
    {
     "data": {
      "text/plain": [
       "7259"
      ]
     },
     "execution_count": 76,
     "metadata": {},
     "output_type": "execute_result"
    }
   ],
   "source": [
    "vocab_length = len(word_tokenizer.word_index) + 1\n",
    "vocab_length"
   ]
  },
  {
   "cell_type": "code",
   "execution_count": 77,
   "metadata": {},
   "outputs": [],
   "source": [
    "max_len = 300\n",
    "X = pad_sequences(X,padding=\"post\",maxlen=max_len)"
   ]
  },
  {
   "cell_type": "code",
   "execution_count": 78,
   "metadata": {},
   "outputs": [
    {
     "data": {
      "text/plain": [
       "1"
      ]
     },
     "execution_count": 78,
     "metadata": {},
     "output_type": "execute_result"
    }
   ],
   "source": [
    "X[1].shape # shape\n",
    "X[1].ndim # dimension"
   ]
  },
  {
   "cell_type": "markdown",
   "metadata": {},
   "source": [
    "### **Doc2Vec Processing**"
   ]
  },
  {
   "cell_type": "code",
   "execution_count": 20,
   "metadata": {},
   "outputs": [],
   "source": [
    "from sklearn.model_selection import train_test_split\n",
    "from gensim.models.doc2vec import Doc2Vec, TaggedDocument"
   ]
  },
  {
   "cell_type": "markdown",
   "metadata": {},
   "source": [
    "*Do not split but do the following;*\n",
    "\n",
    "- Create the text sequence before Doc2Vec Processing\n",
    "- Train using df_clean for Doc2Vec vocabulary building\n",
    "- Then follow the same pattern you used for the embedding matrix"
   ]
  },
  {
   "cell_type": "code",
   "execution_count": 57,
   "metadata": {},
   "outputs": [],
   "source": [
    "tagged_process = df_clean\n",
    "# Tag train set \n",
    "tagged_process_train = tagged_process.apply(\n",
    "    lambda x: TaggedDocument(words=x[\"tokens\"],tags=[x.sentiment_label]),\n",
    "    axis=1\n",
    ")"
   ]
  },
  {
   "cell_type": "code",
   "execution_count": 60,
   "metadata": {},
   "outputs": [
    {
     "data": {
      "text/plain": [
       "TaggedDocument(words=['wish', 'get', 'early', 'love', 'make', 'work', 'laptop', 'easy'], tags=[2])"
      ]
     },
     "execution_count": 60,
     "metadata": {},
     "output_type": "execute_result"
    }
   ],
   "source": [
    "tagged_process_train.values[0]"
   ]
  },
  {
   "cell_type": "code",
   "execution_count": 56,
   "metadata": {},
   "outputs": [
    {
     "data": {
      "text/plain": [
       "4"
      ]
     },
     "execution_count": 56,
     "metadata": {},
     "output_type": "execute_result"
    }
   ],
   "source": [
    "import multiprocessing\n",
    "cores = multiprocessing.cpu_count()\n",
    "cores # Mine is 8 cores\n",
    "four_cores = cores-4\n",
    "four_cores"
   ]
  },
  {
   "cell_type": "markdown",
   "metadata": {},
   "source": [
    "**Building the Vocabulary**"
   ]
  },
  {
   "cell_type": "code",
   "execution_count": 61,
   "metadata": {},
   "outputs": [],
   "source": [
    "# dm=1, it signifies PV-DM\n",
    "model_dm = Doc2Vec(\n",
    "    dm=1,\n",
    "    vector_size=200,\n",
    "    min_count=2,\n",
    "    sample=0,\n",
    "    workers=four_cores,\n",
    "    hs=0,\n",
    "    seed= 42,\n",
    "    negative=5,\n",
    "    alpha=0.05,# Changing alpha from 0.025 to 0.05\n",
    "    dm_mean=1 # to make use of mean\n",
    ")"
   ]
  },
  {
   "cell_type": "code",
   "execution_count": 62,
   "metadata": {},
   "outputs": [],
   "source": [
    "model_dm.build_vocab(tagged_process_train)"
   ]
  },
  {
   "cell_type": "code",
   "execution_count": 64,
   "metadata": {},
   "outputs": [
    {
     "name": "stdout",
     "output_type": "stream",
     "text": [
      "Word terrible appeared 158 times in the  corpus.\n"
     ]
    }
   ],
   "source": [
    "# Word Apperance Count\n",
    "def word_count(word:str):\n",
    "    print(f\"Word {word} appeared {model_dm.wv.get_vecattr(word, 'count')} times in the corpus.\")\n",
    "\n",
    "\n",
    "word_count(\"terrible\")"
   ]
  },
  {
   "cell_type": "code",
   "execution_count": 65,
   "metadata": {},
   "outputs": [],
   "source": [
    "model_dm.train(\n",
    "                tagged_process_train,\n",
    "                total_examples=model_dm.corpus_count,\n",
    "                epochs=100,\n",
    ")"
   ]
  },
  {
   "cell_type": "code",
   "execution_count": 66,
   "metadata": {},
   "outputs": [
    {
     "data": {
      "text/plain": [
       "200"
      ]
     },
     "execution_count": 66,
     "metadata": {},
     "output_type": "execute_result"
    }
   ],
   "source": [
    "model_dm.wv.get_vector(\"like\").shape # vector shape \n",
    "model_dm.wv.vector_size # vector size"
   ]
  },
  {
   "cell_type": "code",
   "execution_count": 67,
   "metadata": {},
   "outputs": [
    {
     "data": {
      "text/plain": [
       "(200,)"
      ]
     },
     "execution_count": 67,
     "metadata": {},
     "output_type": "execute_result"
    }
   ],
   "source": [
    "model_dm[\"like\"].shape"
   ]
  },
  {
   "cell_type": "code",
   "execution_count": 69,
   "metadata": {},
   "outputs": [],
   "source": [
    "# model_dm[\"like\"] # prints out the vector"
   ]
  },
  {
   "cell_type": "markdown",
   "metadata": {},
   "source": [
    "### **Creating Embedding Matrix**"
   ]
  },
  {
   "cell_type": "code",
   "execution_count": 81,
   "metadata": {},
   "outputs": [
    {
     "name": "stdout",
     "output_type": "stream",
     "text": [
      "(7259, 200)\n",
      "2\n"
     ]
    }
   ],
   "source": [
    "d2v_vector_size  =model_dm.vector_size\n",
    "embedding_matrix = np.zeros((vocab_length, d2v_vector_size)) \n",
    "print(embedding_matrix.shape) # (7259, 200)\n",
    "print(embedding_matrix.ndim) # 2-dimensional array"
   ]
  },
  {
   "cell_type": "code",
   "execution_count": 82,
   "metadata": {},
   "outputs": [
    {
     "data": {
      "text/plain": [
       "array([[0., 0.],\n",
       "       [0., 0.],\n",
       "       [0., 0.],\n",
       "       [0., 0.],\n",
       "       [0., 0.]])"
      ]
     },
     "execution_count": 82,
     "metadata": {},
     "output_type": "execute_result"
    }
   ],
   "source": [
    "embedding_matrix[:5,:2]"
   ]
  },
  {
   "cell_type": "code",
   "execution_count": 89,
   "metadata": {},
   "outputs": [],
   "source": [
    "# model_dm.wv.key_to_index.keys()\n",
    "# # prints a list of keys like so dict_keys(['work', 'mouse', 'not', 'great',"
   ]
  },
  {
   "cell_type": "code",
   "execution_count": 90,
   "metadata": {},
   "outputs": [],
   "source": [
    "for word, index in vocab:\n",
    "    if word in model_dm.wv.key_to_index.keys():\n",
    "        embedding_matrix[index] = model_dm[word]\n",
    "    else:\n",
    "        embedding_matrix[index] = np.zeros(d2v_vector_size)"
   ]
  },
  {
   "cell_type": "code",
   "execution_count": 91,
   "metadata": {},
   "outputs": [
    {
     "data": {
      "text/plain": [
       "array([[ 0.        ,  0.        ,  0.        ,  0.        ,  0.        ,\n",
       "         0.        ,  0.        ,  0.        ,  0.        ,  0.        ],\n",
       "       [-0.77162778,  0.71853346,  0.55031264, -0.05661335,  0.2073833 ,\n",
       "         0.61522382, -0.27636924,  0.49074221, -0.21047918, -0.36471561],\n",
       "       [ 0.29331413, -0.14199471, -0.19873327,  0.48437074,  0.45702684,\n",
       "         0.14679703,  0.45574185,  0.99451137, -0.66718888,  0.95750523],\n",
       "       [ 0.72411108, -0.08240076, -0.69400448, -0.30996177,  0.90941453,\n",
       "         0.0975863 ,  0.19290955, -0.70647758, -0.32126698, -0.60321265],\n",
       "       [ 0.61601615, -0.40058506, -0.41672108,  0.22040159,  0.52795702,\n",
       "        -1.77354991, -0.0280845 , -0.75798845,  0.50337273,  0.21899858],\n",
       "       [-1.26333702, -0.77772427, -0.88295293,  0.76808405,  0.52633846,\n",
       "         0.53226703,  0.15382798,  0.94961631,  0.31523365,  0.61424404],\n",
       "       [-0.30196533,  0.32054538, -0.05111958,  0.11298402, -0.04599917,\n",
       "         0.56936884, -0.40049732, -0.23473239,  1.4012363 , -0.65322328],\n",
       "       [ 1.07237005,  1.01100481, -0.05141316,  0.26642767, -0.34052762,\n",
       "        -0.63765061, -0.05483713,  0.25923866,  1.50464809,  0.04883757],\n",
       "       [ 1.24393511, -0.33192319, -0.31144384,  0.47513312, -0.2447568 ,\n",
       "        -0.62959707, -0.45354712, -0.59945786,  0.190364  ,  0.06053437],\n",
       "       [ 1.68398297, -0.20131326, -0.66806489,  0.92916751, -0.82548308,\n",
       "        -0.19852598,  1.21589124,  0.32748529,  0.55135876, -0.73225397]])"
      ]
     },
     "execution_count": 91,
     "metadata": {},
     "output_type": "execute_result"
    }
   ],
   "source": [
    "embedding_matrix[:10,:10]"
   ]
  },
  {
   "cell_type": "markdown",
   "metadata": {},
   "source": [
    "### **Model Building**"
   ]
  },
  {
   "cell_type": "code",
   "execution_count": 92,
   "metadata": {},
   "outputs": [],
   "source": [
    "from sklearn.model_selection import train_test_split"
   ]
  },
  {
   "cell_type": "code",
   "execution_count": 93,
   "metadata": {},
   "outputs": [],
   "source": [
    "y_nn = tf.keras.utils.to_categorical(df_clean.sentiment_label.values, num_classes=3, dtype='int8')"
   ]
  },
  {
   "cell_type": "code",
   "execution_count": 94,
   "metadata": {},
   "outputs": [],
   "source": [
    "X_train, X_test, y_train,y_test= train_test_split(\n",
    "                                            X,y_nn,test_size=.2,random_state=42, \n",
    "                                            stratify=y_nn)"
   ]
  },
  {
   "cell_type": "code",
   "execution_count": 95,
   "metadata": {},
   "outputs": [],
   "source": [
    "simple_nn = Sequential()\n",
    "embedding_layer = Embedding(vocab_length,d2v_vector_size,weights=[embedding_matrix],\n",
    "                                        input_length=max_len,trainable=False)\n",
    "\n",
    "# No hidden layer used\n",
    "simple_nn.add(embedding_layer)\n",
    "simple_nn.add(Flatten())\n",
    "simple_nn.add(Dense(3,activation='softmax'))"
   ]
  },
  {
   "cell_type": "code",
   "execution_count": 96,
   "metadata": {},
   "outputs": [
    {
     "name": "stdout",
     "output_type": "stream",
     "text": [
      "Model: \"sequential\"\n",
      "_________________________________________________________________\n",
      "Layer (type)                 Output Shape              Param #   \n",
      "=================================================================\n",
      "embedding (Embedding)        (None, 300, 200)          1451800   \n",
      "_________________________________________________________________\n",
      "flatten (Flatten)            (None, 60000)             0         \n",
      "_________________________________________________________________\n",
      "dense (Dense)                (None, 3)                 180003    \n",
      "=================================================================\n",
      "Total params: 1,631,803\n",
      "Trainable params: 180,003\n",
      "Non-trainable params: 1,451,800\n",
      "_________________________________________________________________\n",
      "None\n"
     ]
    }
   ],
   "source": [
    "simple_nn.compile(optimizer='adam',loss='categorical_crossentropy',metrics=['acc'])\n",
    "\n",
    "print(simple_nn.summary())"
   ]
  },
  {
   "cell_type": "code",
   "execution_count": 97,
   "metadata": {},
   "outputs": [
    {
     "name": "stdout",
     "output_type": "stream",
     "text": [
      "Epoch 1/10\n",
      "87/87 [==============================] - 3s 30ms/step - loss: 0.7325 - acc: 0.7044 - val_loss: 0.6521 - val_acc: 0.7509\n",
      "Epoch 2/10\n",
      "87/87 [==============================] - 2s 21ms/step - loss: 0.4126 - acc: 0.8532 - val_loss: 0.6373 - val_acc: 0.7765\n",
      "Epoch 3/10\n",
      "87/87 [==============================] - 2s 19ms/step - loss: 0.3292 - acc: 0.8927 - val_loss: 0.6508 - val_acc: 0.7826\n",
      "Epoch 4/10\n",
      "87/87 [==============================] - 2s 20ms/step - loss: 0.2807 - acc: 0.9107 - val_loss: 0.6551 - val_acc: 0.7844\n",
      "Epoch 5/10\n",
      "87/87 [==============================] - 2s 19ms/step - loss: 0.2482 - acc: 0.9235 - val_loss: 0.6753 - val_acc: 0.7866\n",
      "Epoch 6/10\n",
      "87/87 [==============================] - 2s 20ms/step - loss: 0.2234 - acc: 0.9349 - val_loss: 0.6957 - val_acc: 0.7902\n",
      "Epoch 7/10\n",
      "87/87 [==============================] - 2s 19ms/step - loss: 0.2044 - acc: 0.9402 - val_loss: 0.7157 - val_acc: 0.7978\n",
      "Epoch 8/10\n",
      "87/87 [==============================] - 2s 22ms/step - loss: 0.1884 - acc: 0.9466 - val_loss: 0.7370 - val_acc: 0.7952\n",
      "Epoch 9/10\n",
      "87/87 [==============================] - 2s 20ms/step - loss: 0.1756 - acc: 0.9516 - val_loss: 0.7626 - val_acc: 0.7963\n",
      "Epoch 10/10\n",
      "87/87 [==============================] - 2s 20ms/step - loss: 0.1646 - acc: 0.9539 - val_loss: 0.7800 - val_acc: 0.7952\n"
     ]
    }
   ],
   "source": [
    "# Model training\n",
    "\n",
    "simple_nn_history = simple_nn.fit(\n",
    "    X_train,y_train,batch_size=128,epochs=10, verbose=1, validation_split=.2\n",
    ")"
   ]
  },
  {
   "cell_type": "code",
   "execution_count": 98,
   "metadata": {},
   "outputs": [
    {
     "name": "stdout",
     "output_type": "stream",
     "text": [
      "109/109 [==============================] - 1s 6ms/step - loss: 0.7451 - acc: 0.7987\n"
     ]
    }
   ],
   "source": [
    "# Predictions on the Test Set\n",
    "\n",
    "score = simple_nn.evaluate(X_test, y_test, verbose=1)"
   ]
  },
  {
   "cell_type": "code",
   "execution_count": 99,
   "metadata": {},
   "outputs": [
    {
     "name": "stdout",
     "output_type": "stream",
     "text": [
      "Test Loss: 0.7451148629188538\n",
      "Test Accuracy: 0.79873126745224\n"
     ]
    }
   ],
   "source": [
    "print(\"Test Loss:\", score[0])\n",
    "print(\"Test Accuracy:\", score[1])"
   ]
  },
  {
   "cell_type": "code",
   "execution_count": 101,
   "metadata": {},
   "outputs": [
    {
     "data": {
      "image/png": "[encoded data removed]",
      "text/plain": [
       "<Figure size 432x288 with 1 Axes>"
      ]
     },
     "metadata": {
      "needs_background": "light"
     },
     "output_type": "display_data"
    },
    {
     "data": {
      "image/png": "[encoded data removed]",
      "text/plain": [
       "<Figure size 432x288 with 1 Axes>"
      ]
     },
     "metadata": {
      "needs_background": "light"
     },
     "output_type": "display_data"
    }
   ],
   "source": [
    "# Model Performance Charts\n",
    "\n",
    "plt.plot(simple_nn_history.history['acc'])\n",
    "plt.plot(simple_nn_history.history['val_acc'])\n",
    "\n",
    "plt.title('model accuracy')\n",
    "plt.ylabel('accuracy')\n",
    "plt.xlabel('epoch')\n",
    "plt.legend(['training','validation'], loc='upper left')\n",
    "plt.show()\n",
    "\n",
    "plt.plot(simple_nn_history.history['loss'])\n",
    "plt.plot(simple_nn_history.history['val_loss'])\n",
    "\n",
    "plt.title('model loss')\n",
    "plt.ylabel('loss')\n",
    "plt.xlabel('epoch')\n",
    "plt.legend(['training','validation'], loc='upper left')\n",
    "plt.show()"
   ]
  },
  {
   "cell_type": "markdown",
   "metadata": {},
   "source": [
    "### **Classification report**"
   ]
  },
  {
   "cell_type": "code",
   "execution_count": 102,
   "metadata": {},
   "outputs": [
    {
     "name": "stdout",
     "output_type": "stream",
     "text": [
      "              precision    recall  f1-score   support\n",
      "\n",
      "           0       0.60      0.54      0.57       307\n",
      "           1       0.75      0.78      0.76      1260\n",
      "           2       0.86      0.85      0.86      1901\n",
      "\n",
      "    accuracy                           0.80      3468\n",
      "   macro avg       0.74      0.73      0.73      3468\n",
      "weighted avg       0.80      0.80      0.80      3468\n",
      "\n"
     ]
    }
   ],
   "source": [
    "from sklearn.metrics import classification_report,confusion_matrix,ConfusionMatrixDisplay\n",
    "y_pred =   np.argmax(simple_nn.predict(X_test), axis  =  1)\n",
    "y_true = np.argmax(y_test, axis = 1)\n",
    "\n",
    "print(classification_report(y_true,y_pred))"
   ]
  },
  {
   "cell_type": "code",
   "execution_count": 103,
   "metadata": {},
   "outputs": [
    {
     "name": "stdout",
     "output_type": "stream",
     "text": [
      "              precision    recall  f1-score   support\n",
      "\n",
      "           0       0.60      0.54      0.57       307\n",
      "           1       0.75      0.78      0.76      1260\n",
      "           2       0.86      0.85      0.86      1901\n",
      "\n",
      "    accuracy                           0.80      3468\n",
      "   macro avg       0.74      0.73      0.73      3468\n",
      "weighted avg       0.80      0.80      0.80      3468\n",
      "\n"
     ]
    },
    {
     "data": {
      "image/png": "[encoded data removed]",
      "text/plain": [
       "<Figure size 432x288 with 2 Axes>"
      ]
     },
     "metadata": {},
     "output_type": "display_data"
    }
   ],
   "source": [
    "# Classification report test data\n",
    "\n",
    "y_true=np.argmax(y_test, axis=1)\n",
    "y_pred_test = simple_nn.predict(X_test)\n",
    "y_pred_test=np.argmax(y_pred_test, axis=1)\n",
    "sns.set_theme(style='white')\n",
    "def class_report(model,y_true,pred):\n",
    "    print(classification_report(y_true,pred))\n",
    "    cm = confusion_matrix(y_true,pred,labels=[0,1,2])\n",
    "    disp = ConfusionMatrixDisplay(confusion_matrix=cm, display_labels=[0,1,2])\n",
    "    disp.plot()\n",
    "    plt.show()\n",
    "\n",
    "\n",
    "class_report(simple_nn,y_true,y_pred_test) \n",
    "\n",
    "# Original mapping\n",
    "# sentiment_mapping = {'negative':-1,'neutral':0,'positive':1}\n",
    "\n",
    "# New mapping\n",
    "# negative --> 0\n",
    "# neutral --> 1\n",
    "# positive --> 2"
   ]
  },
  {
   "cell_type": "markdown",
   "metadata": {},
   "source": [
    "### **ROC Curve**"
   ]
  },
  {
   "cell_type": "code",
   "execution_count": 104,
   "metadata": {},
   "outputs": [],
   "source": [
    "from sklearn.preprocessing import label_binarize"
   ]
  },
  {
   "cell_type": "code",
   "execution_count": 105,
   "metadata": {},
   "outputs": [],
   "source": [
    "n_classes = 3\n",
    "\n",
    "y_nn_auc = label_binarize(y_nn, classes=[0,1,2])\n",
    "\n",
    "n_classes = y_nn_auc.shape[1]"
   ]
  },
  {
   "cell_type": "code",
   "execution_count": 106,
   "metadata": {},
   "outputs": [],
   "source": [
    "X_train, X_test, y_train,y_test= train_test_split(\n",
    "                                            X,y_nn_auc,test_size=.2,random_state=42, \n",
    "                                            stratify=y_nn_auc)"
   ]
  },
  {
   "cell_type": "code",
   "execution_count": 107,
   "metadata": {},
   "outputs": [
    {
     "name": "stdout",
     "output_type": "stream",
     "text": [
      "Model: \"sequential_1\"\n",
      "_________________________________________________________________\n",
      "Layer (type)                 Output Shape              Param #   \n",
      "=================================================================\n",
      "embedding_1 (Embedding)      (None, 300, 200)          1451800   \n",
      "_________________________________________________________________\n",
      "flatten_1 (Flatten)          (None, 60000)             0         \n",
      "_________________________________________________________________\n",
      "dense_1 (Dense)              (None, 3)                 180003    \n",
      "=================================================================\n",
      "Total params: 1,631,803\n",
      "Trainable params: 180,003\n",
      "Non-trainable params: 1,451,800\n",
      "_________________________________________________________________\n",
      "None\n",
      "Epoch 1/10\n",
      "87/87 [==============================] - 2s 18ms/step - loss: 0.7399 - acc: 0.7025 - val_loss: 0.6575 - val_acc: 0.7484\n",
      "Epoch 2/10\n",
      "87/87 [==============================] - 1s 16ms/step - loss: 0.4133 - acc: 0.8543 - val_loss: 0.6459 - val_acc: 0.7743\n",
      "Epoch 3/10\n",
      "87/87 [==============================] - 1s 16ms/step - loss: 0.3296 - acc: 0.8905 - val_loss: 0.6454 - val_acc: 0.7830\n",
      "Epoch 4/10\n",
      "87/87 [==============================] - 2s 18ms/step - loss: 0.2815 - acc: 0.9121 - val_loss: 0.6604 - val_acc: 0.7880\n",
      "Epoch 5/10\n",
      "87/87 [==============================] - 1s 16ms/step - loss: 0.2492 - acc: 0.9236 - val_loss: 0.6788 - val_acc: 0.7924\n",
      "Epoch 6/10\n",
      "87/87 [==============================] - 1s 15ms/step - loss: 0.2244 - acc: 0.9351 - val_loss: 0.6995 - val_acc: 0.7888\n",
      "Epoch 7/10\n",
      "87/87 [==============================] - 2s 17ms/step - loss: 0.2044 - acc: 0.9420 - val_loss: 0.7237 - val_acc: 0.7945\n",
      "Epoch 8/10\n",
      "87/87 [==============================] - 2s 18ms/step - loss: 0.1888 - acc: 0.9473 - val_loss: 0.7410 - val_acc: 0.7938\n",
      "Epoch 9/10\n",
      "87/87 [==============================] - 2s 18ms/step - loss: 0.1760 - acc: 0.9514 - val_loss: 0.7622 - val_acc: 0.7963\n",
      "Epoch 10/10\n",
      "87/87 [==============================] - 2s 17ms/step - loss: 0.1644 - acc: 0.9544 - val_loss: 0.7841 - val_acc: 0.7963\n"
     ]
    }
   ],
   "source": [
    "simple_nn = Sequential()\n",
    "embedding_layer = Embedding(vocab_length,d2v_vector_size,weights=[embedding_matrix],\n",
    "                                        input_length=max_len,trainable=False)\n",
    "\n",
    "# No hidden layer used\n",
    "simple_nn.add(embedding_layer)\n",
    "simple_nn.add(Flatten())\n",
    "simple_nn.add(Dense(3,activation='softmax'))\n",
    "simple_nn.compile(optimizer='adam',loss='categorical_crossentropy',metrics=['acc'])\n",
    "\n",
    "print(simple_nn.summary())\n",
    "# Model training\n",
    "\n",
    "simple_nn_history = simple_nn.fit(\n",
    "    X_train,y_train,batch_size=128,epochs=10, verbose=1, validation_split=.2\n",
    ")"
   ]
  },
  {
   "cell_type": "code",
   "execution_count": 111,
   "metadata": {},
   "outputs": [],
   "source": [
    "from sklearn.metrics import roc_curve, roc_auc_score,auc\n",
    "fpr = {}\n",
    "tpr = {}\n",
    "roc_auc = {}\n",
    "# Plot linewidth\n",
    "lw = 2\n",
    "\n",
    "# Version 2\n",
    "classes_by_names = [\"negative\",\"neutral\",\"positive\"]\n",
    "def roc_curve_plot(value,y_test):\n",
    "    for i in range(n_classes):\n",
    "        fpr[i], tpr[i], _ = roc_curve(y_test[:,i], \n",
    "                                                    value[:,i])\n",
    "        roc_auc[i] = auc(fpr[i], tpr[i])                                                    \n",
    "        plt.plot(fpr[i], tpr[i], lw=lw, label= \"ROC of class {}, AUC= {}\"\n",
    "        .format(classes_by_names[i],np.round(roc_auc[i],2)))\n",
    "        \n",
    "       \n",
    "    plt.plot([0, 1], [0, 1], 'k--', lw=1)\n",
    "    plt.xlim([0.0, 1.0])\n",
    "    plt.ylim([0.0, 1.0])\n",
    "    plt.xlabel(\"False Positive Rate\")\n",
    "    plt.ylabel(\"True Positive Rate\")\n",
    "    plt.legend(loc=\"best\",frameon=True) # ,labels=[\"negative\",\"neutral\",\"positive\"]\n",
    "    plt.title(\"ROC curve of Simple Neural Network multiclass; Sentiment prediction\")\n",
    "    plt.show()\n",
    "    roc_auc_scoring_macro_ovr = roc_auc_score(y_test,value, multi_class=\"OvR\",average='macro')\n",
    "    print(\"AUC macro-averaged over all classes: {:.2f}\"\n",
    "    .format(roc_auc_scoring_macro_ovr))"
   ]
  },
  {
   "cell_type": "code",
   "execution_count": 112,
   "metadata": {},
   "outputs": [],
   "source": [
    "y_pred_test = simple_nn.predict(X_test)\n",
    "# y_pred_test=np.argmax(y_pred_test, axis=1)"
   ]
  },
  {
   "cell_type": "code",
   "execution_count": 113,
   "metadata": {},
   "outputs": [
    {
     "data": {
      "image/png": "[encoded data removed]",
      "text/plain": [
       "<Figure size 432x288 with 1 Axes>"
      ]
     },
     "metadata": {},
     "output_type": "display_data"
    },
    {
     "name": "stdout",
     "output_type": "stream",
     "text": [
      "AUC macro-averaged over all classes: 0.87\n"
     ]
    }
   ],
   "source": [
    "roc_curve_plot(y_pred_test,y_test)"
   ]
  },
  {
   "cell_type": "markdown",
   "metadata": {},
   "source": [
    "## **Conclusion**"
   ]
  },
  {
   "cell_type": "markdown",
   "metadata": {},
   "source": [
    "- Using Doc2Vec PV-DM-200 word embeddings with a simple neural network as expected outperformed the traditional ML algo. \n",
    "- Logistic Regression using Doc2Vec PV-DM-200 has an f1-score of 0.67 and AUC score of 0.85.\n",
    "\n",
    "\n",
    "**Table of Values**\n",
    "\n",
    "dataset|f1_score_macro_avg|AUC_score_avg\n",
    "| ----------- | ----------- | ----------- |\n",
    "df_clean (test data)|0.73|0.87"
   ]
  }
 ],
 "metadata": {
  "kernelspec": {
   "display_name": "Python 3.8.13 (conda)",
   "language": "python",
   "name": "python3"
  },
  "language_info": {
   "codemirror_mode": {
    "name": "ipython",
    "version": 3
   },
   "file_extension": ".py",
   "mimetype": "text/x-python",
   "name": "python",
   "nbconvert_exporter": "python",
   "pygments_lexer": "ipython3",
   "version": "3.8.13"
  },
  "orig_nbformat": 4,
  "vscode": {
   "interpreter": {
    "hash": "0d3784fccdc90acbf957f8297e7e306d4c8b14c1a207bd5307d0795df9a8d77b"
   }
  }
 },
 "nbformat": 4,
 "nbformat_minor": 2
}
