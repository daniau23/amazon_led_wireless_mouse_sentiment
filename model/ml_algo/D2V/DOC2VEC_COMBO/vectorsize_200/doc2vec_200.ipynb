{
 "cells": [
  {
   "cell_type": "code",
   "execution_count": 1,
   "metadata": {},
   "outputs": [],
   "source": [
    "import pandas as pd\n",
    "import numpy as np \n",
    "import matplotlib.pyplot as plt\n",
    "# import plotly.express as px\n",
    "# import plotly.graph_objects as go\n",
    "# import plotly.figure_factory as ff\n",
    "import seaborn as sns\n",
    "import warnings\n",
    "warnings.filterwarnings(\"ignore\")\n",
    "# from nltk.tokenize import word_tokenize as wt \n",
    "# from collections import Counter\n",
    "import gensim\n",
    "# import textblob\n",
    "import spacy"
   ]
  },
  {
   "cell_type": "markdown",
   "metadata": {},
   "source": [
    "## **Plan of Action**\n",
    "\n",
    "- Load the data\n",
    "- Drop unnecessary columns and rows\n",
    "- Removal of stop words.\n",
    "- Feature engineering;\n",
    "    - Doc2Vec\n",
    "- Begin modelling\n",
    "    - Algorithms to use;\n",
    "        - k-Nearest Neighbors.\n",
    "        - Decision Trees.\n",
    "        - Random Forest.\n",
    "        - Gradient Boosting.\n",
    "        - Logistic Regression\n",
    "- Evaluation;\n",
    "    - F1-score_macro\n",
    "    - AUC\n",
    "    - ROC"
   ]
  },
  {
   "cell_type": "code",
   "execution_count": 2,
   "metadata": {},
   "outputs": [],
   "source": [
    "df_clean = pd.read_csv('../../../../cleaned_reviews.csv')"
   ]
  },
  {
   "cell_type": "code",
   "execution_count": 3,
   "metadata": {},
   "outputs": [
    {
     "data": {
      "text/plain": [
       "(17340, 4)"
      ]
     },
     "execution_count": 3,
     "metadata": {},
     "output_type": "execute_result"
    }
   ],
   "source": [
    "df_clean.shape"
   ]
  },
  {
   "cell_type": "code",
   "execution_count": 4,
   "metadata": {},
   "outputs": [
    {
     "data": {
      "text/plain": [
       "Index(['sentiments', 'cleaned_review', 'cleaned_review_length',\n",
       "       'review_score'],\n",
       "      dtype='object')"
      ]
     },
     "execution_count": 4,
     "metadata": {},
     "output_type": "execute_result"
    }
   ],
   "source": [
    "df_clean.columns"
   ]
  },
  {
   "cell_type": "code",
   "execution_count": 5,
   "metadata": {},
   "outputs": [],
   "source": [
    "df_clean.drop(columns=['cleaned_review_length','review_score'],inplace=True)"
   ]
  },
  {
   "cell_type": "markdown",
   "metadata": {},
   "source": [
    "Checking for Null Vaules and Duplicates"
   ]
  },
  {
   "cell_type": "code",
   "execution_count": 6,
   "metadata": {},
   "outputs": [
    {
     "data": {
      "text/plain": [
       "sentiments        0\n",
       "cleaned_review    3\n",
       "dtype: int64"
      ]
     },
     "execution_count": 6,
     "metadata": {},
     "output_type": "execute_result"
    }
   ],
   "source": [
    "df_clean.isna().sum()"
   ]
  },
  {
   "cell_type": "code",
   "execution_count": 7,
   "metadata": {},
   "outputs": [],
   "source": [
    "df_clean.dropna(inplace=True)"
   ]
  },
  {
   "cell_type": "code",
   "execution_count": 8,
   "metadata": {},
   "outputs": [
    {
     "data": {
      "text/plain": [
       "(17337, 2)"
      ]
     },
     "execution_count": 8,
     "metadata": {},
     "output_type": "execute_result"
    }
   ],
   "source": [
    "df_clean.shape"
   ]
  },
  {
   "cell_type": "code",
   "execution_count": 9,
   "metadata": {},
   "outputs": [],
   "source": [
    "from spacy.lang.en.stop_words import STOP_WORDS\n",
    "\n",
    "# print(STOP_WORDS,'\\n') # <- set of Spacy's default stop words\n",
    "all_stopwords = STOP_WORDS\n",
    "# Adding several stopwords\n",
    "# all_stopwords |= {'not',\"no\", \"n't\", 'n’t','n‘t','cannot','none','without','against'}\n",
    "\n",
    "# Removing several stop words\n",
    "all_stopwords-= {'not',\"no\", \"n't\", 'n’t','n‘t','cannot','none','without','against','off','against','too'}\n",
    "my_stop_words = set(all_stopwords) # My own stop words"
   ]
  },
  {
   "cell_type": "code",
   "execution_count": 10,
   "metadata": {},
   "outputs": [],
   "source": [
    "# print(my_stop_words)"
   ]
  },
  {
   "cell_type": "code",
   "execution_count": 11,
   "metadata": {},
   "outputs": [
    {
     "data": {
      "text/html": [
       "<div>\n",
       "<style scoped>\n",
       "    .dataframe tbody tr th:only-of-type {\n",
       "        vertical-align: middle;\n",
       "    }\n",
       "\n",
       "    .dataframe tbody tr th {\n",
       "        vertical-align: top;\n",
       "    }\n",
       "\n",
       "    .dataframe thead th {\n",
       "        text-align: right;\n",
       "    }\n",
       "</style>\n",
       "<table border=\"1\" class=\"dataframe\">\n",
       "  <thead>\n",
       "    <tr style=\"text-align: right;\">\n",
       "      <th></th>\n",
       "      <th>sentiments</th>\n",
       "      <th>cleaned_review</th>\n",
       "    </tr>\n",
       "  </thead>\n",
       "  <tbody>\n",
       "    <tr>\n",
       "      <th>0</th>\n",
       "      <td>positive</td>\n",
       "      <td>i wish would have gotten one earlier love it a...</td>\n",
       "    </tr>\n",
       "    <tr>\n",
       "      <th>1</th>\n",
       "      <td>neutral</td>\n",
       "      <td>i ve learned this lesson again open the packag...</td>\n",
       "    </tr>\n",
       "    <tr>\n",
       "      <th>2</th>\n",
       "      <td>neutral</td>\n",
       "      <td>it is so slow and lags find better option</td>\n",
       "    </tr>\n",
       "    <tr>\n",
       "      <th>3</th>\n",
       "      <td>neutral</td>\n",
       "      <td>roller ball stopped working within months of m...</td>\n",
       "    </tr>\n",
       "    <tr>\n",
       "      <th>4</th>\n",
       "      <td>neutral</td>\n",
       "      <td>i like the color and size but it few days out ...</td>\n",
       "    </tr>\n",
       "    <tr>\n",
       "      <th>...</th>\n",
       "      <td>...</td>\n",
       "      <td>...</td>\n",
       "    </tr>\n",
       "    <tr>\n",
       "      <th>17335</th>\n",
       "      <td>positive</td>\n",
       "      <td>i love this speaker and love can take it anywh...</td>\n",
       "    </tr>\n",
       "    <tr>\n",
       "      <th>17336</th>\n",
       "      <td>positive</td>\n",
       "      <td>i use it in my house easy to connect and loud ...</td>\n",
       "    </tr>\n",
       "    <tr>\n",
       "      <th>17337</th>\n",
       "      <td>positive</td>\n",
       "      <td>the bass is good and the battery is amazing mu...</td>\n",
       "    </tr>\n",
       "    <tr>\n",
       "      <th>17338</th>\n",
       "      <td>positive</td>\n",
       "      <td>love it</td>\n",
       "    </tr>\n",
       "    <tr>\n",
       "      <th>17339</th>\n",
       "      <td>neutral</td>\n",
       "      <td>mono speaker</td>\n",
       "    </tr>\n",
       "  </tbody>\n",
       "</table>\n",
       "<p>17337 rows × 2 columns</p>\n",
       "</div>"
      ],
      "text/plain": [
       "      sentiments                                     cleaned_review\n",
       "0       positive  i wish would have gotten one earlier love it a...\n",
       "1        neutral  i ve learned this lesson again open the packag...\n",
       "2        neutral          it is so slow and lags find better option\n",
       "3        neutral  roller ball stopped working within months of m...\n",
       "4        neutral  i like the color and size but it few days out ...\n",
       "...          ...                                                ...\n",
       "17335   positive  i love this speaker and love can take it anywh...\n",
       "17336   positive  i use it in my house easy to connect and loud ...\n",
       "17337   positive  the bass is good and the battery is amazing mu...\n",
       "17338   positive                                            love it\n",
       "17339    neutral                                       mono speaker\n",
       "\n",
       "[17337 rows x 2 columns]"
      ]
     },
     "execution_count": 11,
     "metadata": {},
     "output_type": "execute_result"
    }
   ],
   "source": [
    "df_clean"
   ]
  },
  {
   "cell_type": "code",
   "execution_count": 12,
   "metadata": {},
   "outputs": [],
   "source": [
    "nlp = spacy.load(\"en_core_web_sm\")"
   ]
  },
  {
   "cell_type": "code",
   "execution_count": 13,
   "metadata": {},
   "outputs": [],
   "source": [
    "def spacy_tokeniser(sent):\n",
    "    sent = sent.strip().lower()\n",
    "    doc = nlp(sent)\n",
    "    mytokens = [token.lemma_ for token in doc if token.text not in my_stop_words]\n",
    "    return mytokens"
   ]
  },
  {
   "cell_type": "code",
   "execution_count": 14,
   "metadata": {},
   "outputs": [],
   "source": [
    "df_clean['tokens']= df_clean['cleaned_review'].apply(spacy_tokeniser)"
   ]
  },
  {
   "cell_type": "code",
   "execution_count": 15,
   "metadata": {},
   "outputs": [
    {
     "data": {
      "text/html": [
       "<div>\n",
       "<style scoped>\n",
       "    .dataframe tbody tr th:only-of-type {\n",
       "        vertical-align: middle;\n",
       "    }\n",
       "\n",
       "    .dataframe tbody tr th {\n",
       "        vertical-align: top;\n",
       "    }\n",
       "\n",
       "    .dataframe thead th {\n",
       "        text-align: right;\n",
       "    }\n",
       "</style>\n",
       "<table border=\"1\" class=\"dataframe\">\n",
       "  <thead>\n",
       "    <tr style=\"text-align: right;\">\n",
       "      <th></th>\n",
       "      <th>sentiments</th>\n",
       "      <th>cleaned_review</th>\n",
       "      <th>tokens</th>\n",
       "    </tr>\n",
       "  </thead>\n",
       "  <tbody>\n",
       "    <tr>\n",
       "      <th>0</th>\n",
       "      <td>positive</td>\n",
       "      <td>i wish would have gotten one earlier love it a...</td>\n",
       "      <td>[wish, get, early, love, make, work, laptop, e...</td>\n",
       "    </tr>\n",
       "    <tr>\n",
       "      <th>1</th>\n",
       "      <td>neutral</td>\n",
       "      <td>i ve learned this lesson again open the packag...</td>\n",
       "      <td>[ve, learn, lesson, open, package, use, produc...</td>\n",
       "    </tr>\n",
       "    <tr>\n",
       "      <th>2</th>\n",
       "      <td>neutral</td>\n",
       "      <td>it is so slow and lags find better option</td>\n",
       "      <td>[slow, lag, find, well, option]</td>\n",
       "    </tr>\n",
       "    <tr>\n",
       "      <th>3</th>\n",
       "      <td>neutral</td>\n",
       "      <td>roller ball stopped working within months of m...</td>\n",
       "      <td>[roller, ball, stop, work, month, minimal, use...</td>\n",
       "    </tr>\n",
       "    <tr>\n",
       "      <th>4</th>\n",
       "      <td>neutral</td>\n",
       "      <td>i like the color and size but it few days out ...</td>\n",
       "      <td>[like, color, size, day, return, period, not, ...</td>\n",
       "    </tr>\n",
       "  </tbody>\n",
       "</table>\n",
       "</div>"
      ],
      "text/plain": [
       "  sentiments                                     cleaned_review  \\\n",
       "0   positive  i wish would have gotten one earlier love it a...   \n",
       "1    neutral  i ve learned this lesson again open the packag...   \n",
       "2    neutral          it is so slow and lags find better option   \n",
       "3    neutral  roller ball stopped working within months of m...   \n",
       "4    neutral  i like the color and size but it few days out ...   \n",
       "\n",
       "                                              tokens  \n",
       "0  [wish, get, early, love, make, work, laptop, e...  \n",
       "1  [ve, learn, lesson, open, package, use, produc...  \n",
       "2                    [slow, lag, find, well, option]  \n",
       "3  [roller, ball, stop, work, month, minimal, use...  \n",
       "4  [like, color, size, day, return, period, not, ...  "
      ]
     },
     "execution_count": 15,
     "metadata": {},
     "output_type": "execute_result"
    }
   ],
   "source": [
    "df_clean.head()"
   ]
  },
  {
   "cell_type": "code",
   "execution_count": 16,
   "metadata": {},
   "outputs": [],
   "source": [
    "# Dropping unnecessary columns\n",
    "df_clean.drop(columns=['cleaned_review'],inplace=True)"
   ]
  },
  {
   "cell_type": "markdown",
   "metadata": {},
   "source": [
    "Sentiment Mapping"
   ]
  },
  {
   "cell_type": "code",
   "execution_count": 17,
   "metadata": {},
   "outputs": [],
   "source": [
    "sentiment_mapping = {'negative':-1,'neutral':0,'positive':1}\n",
    "df_clean['sentiment_label'] = df_clean.sentiments.map(sentiment_mapping)"
   ]
  },
  {
   "cell_type": "code",
   "execution_count": 18,
   "metadata": {},
   "outputs": [],
   "source": [
    "df_clean.drop(columns=['sentiments'],inplace=True)"
   ]
  },
  {
   "cell_type": "code",
   "execution_count": 19,
   "metadata": {},
   "outputs": [],
   "source": [
    "from sklearn.pipeline import Pipeline\n",
    "from sklearn.model_selection import train_test_split,StratifiedShuffleSplit,cross_val_score\n",
    "\n",
    "# The algorithms\n",
    "from sklearn.tree import DecisionTreeClassifier\n",
    "from sklearn.ensemble import RandomForestClassifier,GradientBoostingClassifier,HistGradientBoostingClassifier\n",
    "from sklearn.neighbors import KNeighborsClassifier\n",
    "from sklearn.linear_model import LogisticRegression"
   ]
  },
  {
   "cell_type": "code",
   "execution_count": 20,
   "metadata": {},
   "outputs": [
    {
     "data": {
      "text/plain": [
       "Index(['tokens', 'sentiment_label'], dtype='object')"
      ]
     },
     "execution_count": 20,
     "metadata": {},
     "output_type": "execute_result"
    }
   ],
   "source": [
    "df_clean.columns"
   ]
  },
  {
   "cell_type": "code",
   "execution_count": 21,
   "metadata": {},
   "outputs": [],
   "source": [
    "train, test = train_test_split(df_clean,test_size=.2,random_state=42, \n",
    "                                            stratify=df_clean.sentiment_label)"
   ]
  },
  {
   "cell_type": "code",
   "execution_count": 22,
   "metadata": {},
   "outputs": [],
   "source": [
    "from gensim.models.doc2vec import Doc2Vec, TaggedDocument"
   ]
  },
  {
   "cell_type": "code",
   "execution_count": 23,
   "metadata": {},
   "outputs": [],
   "source": [
    "# Tagging the train ad test set\n",
    "\n",
    "# Tag train set \n",
    "tagged_train = train.apply(\n",
    "    lambda x: TaggedDocument(words=x[\"tokens\"],tags=[x.sentiment_label]),\n",
    "    axis=1\n",
    ")\n",
    "\n",
    "# Tag test set \n",
    "tagged_test = test.apply(\n",
    "    lambda x: TaggedDocument(words=x[\"tokens\"],tags=[x.sentiment_label]),\n",
    "    axis=1\n",
    ")"
   ]
  },
  {
   "cell_type": "code",
   "execution_count": 24,
   "metadata": {},
   "outputs": [
    {
     "data": {
      "text/plain": [
       "TaggedDocument(words=['pair', 'headphone', 'work', 'plan', 'buy', 'pair', 'current', 'pair', 'gotten', 'damage', 'put', 'pair', 'uneven', 'surface', 'wire', 'tug', 'too', 'knock', 'head', 'phone', 'accident', 'time', 'walk', 'wear', 'head', 'phone', 'drop', 'phone', 'cord', 'got', 'accidentally', 'tug', 'unplugged', 'phone', 'won', 'headphone', 'outside', 'room', 'anymore', 'room', 'organize', 'shouldn', 'end', 'knock', 'accident', 'anymore'], tags=[-1])"
      ]
     },
     "execution_count": 24,
     "metadata": {},
     "output_type": "execute_result"
    }
   ],
   "source": [
    "# looking into the tags\n",
    "tagged_train.values[0]"
   ]
  },
  {
   "cell_type": "code",
   "execution_count": 25,
   "metadata": {},
   "outputs": [
    {
     "data": {
      "text/plain": [
       "TaggedDocument(words=['break', 'right', 'run', 'return', 'window', 'came', 'narrow', 'move', 'link', 'event', 'not', 'don', 'know', 'problem'], tags=[-1])"
      ]
     },
     "execution_count": 25,
     "metadata": {},
     "output_type": "execute_result"
    }
   ],
   "source": [
    "tagged_test.values[0]"
   ]
  },
  {
   "cell_type": "markdown",
   "metadata": {},
   "source": [
    "### **Setting up DOC2VEC**"
   ]
  },
  {
   "cell_type": "code",
   "execution_count": 26,
   "metadata": {},
   "outputs": [
    {
     "data": {
      "text/plain": [
       "4"
      ]
     },
     "execution_count": 26,
     "metadata": {},
     "output_type": "execute_result"
    }
   ],
   "source": [
    "import multiprocessing\n",
    "cores = multiprocessing.cpu_count()\n",
    "cores # Mine is 8 cores\n",
    "four_cores = cores-4\n",
    "four_cores"
   ]
  },
  {
   "cell_type": "markdown",
   "metadata": {},
   "source": [
    "### **Building the Vocabulary**"
   ]
  },
  {
   "cell_type": "code",
   "execution_count": 27,
   "metadata": {},
   "outputs": [],
   "source": [
    "# dm=0, it signifies PV-DBOW\n",
    "model_dbow= Doc2Vec(\n",
    "    dm=0,\n",
    "    vector_size=200,\n",
    "    min_count=2,\n",
    "    sample=0,\n",
    "    workers=four_cores,\n",
    "    hs=0,\n",
    "    seed= 42,\n",
    "    negative=5\n",
    ")\n",
    "\n",
    "# dm=1, it signifies PV-DM\n",
    "model_dm = Doc2Vec(\n",
    "    dm=1,\n",
    "    vector_size=200,\n",
    "    min_count=2,\n",
    "    sample=0,\n",
    "    workers=four_cores,\n",
    "    hs=0,\n",
    "    seed= 42,\n",
    "    negative=5,\n",
    "    dm_mean=1 # to make use of mean\n",
    ")"
   ]
  },
  {
   "cell_type": "code",
   "execution_count": 28,
   "metadata": {},
   "outputs": [],
   "source": [
    "model_dbow.build_vocab(tagged_train)\n",
    "model_dm.build_vocab(tagged_train)"
   ]
  },
  {
   "cell_type": "code",
   "execution_count": 29,
   "metadata": {},
   "outputs": [],
   "source": [
    "# PV-DBOW\n",
    "model_dbow.train(\n",
    "                tagged_train,\n",
    "                total_examples=model_dbow.corpus_count,\n",
    "                epochs=100,\n",
    ")\n",
    "\n",
    "# PV-DM\n",
    "model_dm.train(\n",
    "                tagged_train,\n",
    "                total_examples=model_dm.corpus_count,\n",
    "                epochs=100,\n",
    ")"
   ]
  },
  {
   "cell_type": "code",
   "execution_count": 30,
   "metadata": {},
   "outputs": [],
   "source": [
    "from gensim.test.test_doc2vec import ConcatenatedDoc2Vec \n",
    "model_concat = ConcatenatedDoc2Vec([model_dbow,model_dm])"
   ]
  },
  {
   "cell_type": "code",
   "execution_count": 31,
   "metadata": {},
   "outputs": [],
   "source": [
    "# https://github.com/RaRe-Technologies/movie-plots-by-genre/blob/master/ipynb_with_output/Document%20classification%20with%20word%20embeddings%20tutorial%20-%20with%20output.ipynb\n",
    "def vec_for_learning(model, tagged_docs):\n",
    "    sents = tagged_docs.values\n",
    "    y, X = zip(*[(doc.tags[0], model.infer_vector(doc.words, epochs=100)) for doc in sents])\n",
    "    return X,y"
   ]
  },
  {
   "cell_type": "code",
   "execution_count": 32,
   "metadata": {},
   "outputs": [],
   "source": [
    "X_train, y_train = vec_for_learning(model_concat, tagged_train)\n",
    "X_test, y_test = vec_for_learning(model_concat, tagged_test)"
   ]
  },
  {
   "cell_type": "code",
   "execution_count": 33,
   "metadata": {},
   "outputs": [
    {
     "name": "stdout",
     "output_type": "stream",
     "text": [
      "(array([ 8.58062685e-01, -1.94177017e-01,  7.18060315e-01, -9.89464581e-01,\n",
      "       -8.96308482e-01, -3.16058487e-01, -1.68267861e-01,  1.85323641e-01,\n",
      "        6.53919995e-01, -4.46267903e-01,  9.04660940e-01,  2.81768978e-01,\n",
      "       -1.52375653e-01, -1.45802334e-01,  1.77256182e-01, -1.25778735e-01,\n",
      "        1.35947699e-02,  2.86089070e-03, -2.30989456e-02,  4.20727916e-02,\n",
      "        5.14153279e-02, -5.75685538e-02, -2.65341398e-04, -1.03098258e-01,\n",
      "        5.68940900e-02,  1.98537018e-02,  1.63571045e-01, -1.18194237e-01,\n",
      "       -1.16764113e-01,  4.69761342e-03, -6.46575093e-02, -9.85033624e-03,\n",
      "        2.05738351e-01, -3.57050508e-01,  1.96032792e-01,  2.04081565e-01,\n",
      "        1.40305594e-01,  1.49118319e-01, -2.52440795e-02, -1.13299310e-01,\n",
      "       -4.79611345e-02, -1.54544059e-02, -7.56769627e-02, -5.01520336e-02,\n",
      "        8.98726098e-03, -1.19199887e-01, -4.48267860e-03, -6.27488196e-02,\n",
      "       -7.61800185e-02, -2.63263851e-01,  4.41385023e-02, -2.77554635e-02,\n",
      "        1.45742998e-01, -2.39658114e-02, -1.71366826e-01, -1.40372366e-01,\n",
      "        1.11128971e-01,  1.19894587e-01, -1.57513693e-01,  1.59947902e-01,\n",
      "        2.94193923e-01, -1.82988316e-01,  1.57770827e-01, -1.88622311e-01,\n",
      "       -5.12110926e-02,  1.86284170e-01, -2.98972160e-01, -7.26193190e-02,\n",
      "       -2.72299409e-01, -3.22522484e-02,  2.44275361e-01,  2.42724955e-01,\n",
      "       -9.56159085e-02, -1.09954171e-01,  2.11088866e-01, -1.17220161e-02,\n",
      "       -1.31601349e-01, -1.57257587e-01, -2.11159915e-01, -6.82356283e-02,\n",
      "       -2.83194453e-01, -1.19677573e-01, -1.48858279e-01, -6.47200719e-02,\n",
      "       -1.85850337e-01,  2.47898102e-01,  1.80879891e-01, -2.64255166e-01,\n",
      "        9.56662595e-02, -9.49008688e-02,  2.20680535e-01, -2.18146779e-02,\n",
      "       -2.80009932e-03,  1.11497432e-01,  1.15934359e-02,  9.93105546e-02,\n",
      "       -4.70612124e-02,  2.47667022e-02,  4.12823036e-02, -5.01632914e-02,\n",
      "       -1.12935193e-02, -1.18521124e-01,  1.07695214e-01,  1.63403362e-01,\n",
      "        1.28762498e-01,  2.38005698e-01,  2.38280654e-01, -1.79524273e-01,\n",
      "       -6.21925369e-02, -3.65234949e-02, -2.04234887e-02,  4.24057804e-02,\n",
      "       -3.91591899e-02,  6.20754249e-02, -4.21154425e-02, -2.06713416e-02,\n",
      "       -1.86747909e-02, -3.78376991e-01, -1.34977683e-01,  3.09616029e-01,\n",
      "        9.58965346e-03, -3.12309951e-01, -2.00775817e-01, -4.75187838e-01,\n",
      "        3.36798787e-01, -6.66283742e-02, -3.77318084e-01,  7.53301680e-02,\n",
      "       -4.75588351e-01,  3.71736795e-01, -7.23428801e-02, -4.63907093e-01,\n",
      "        2.89630800e-01, -5.98011650e-02,  1.05167642e-01,  3.69564258e-02,\n",
      "       -2.17846647e-01,  6.55542761e-02,  1.23413377e-01, -1.67340431e-02,\n",
      "       -2.08657160e-02, -3.04596603e-01,  9.57764164e-02, -1.52769223e-01,\n",
      "       -1.08024269e-01, -1.90062746e-01, -3.58365029e-02,  1.80208564e-01,\n",
      "       -1.70238584e-01,  5.61784916e-02,  1.29499555e-01, -1.31302431e-01,\n",
      "       -1.67396694e-01, -8.31109509e-02, -1.70331210e-01, -1.03540629e-01,\n",
      "        1.75973475e-01, -1.33192256e-01, -1.68028586e-02, -3.24594766e-01,\n",
      "        3.19582134e-01,  8.12467262e-02, -1.58091247e-01, -2.36141458e-01,\n",
      "       -1.11813426e-01,  1.03476755e-01,  1.79656416e-01,  5.00331745e-02,\n",
      "       -3.72596122e-02,  1.42920777e-01,  1.35409817e-01, -9.33319777e-02,\n",
      "        1.18099246e-02,  6.88775703e-02,  3.47529314e-02,  3.26146334e-02,\n",
      "       -1.52736962e-01, -2.27300465e-01, -1.39655814e-01, -3.04941218e-02,\n",
      "        1.25695720e-01, -7.98691437e-02,  5.99101968e-02,  1.46135986e-02,\n",
      "       -3.73793952e-02,  1.85813177e-02,  2.31503863e-02,  6.70016110e-02,\n",
      "        1.85640249e-02,  2.21432708e-02,  5.57057112e-02, -7.08292052e-02,\n",
      "        4.39201780e-02, -4.92671803e-02, -5.33386916e-02,  1.94203138e-01,\n",
      "        8.71065408e-02,  5.76318763e-02, -1.43968597e-01,  2.74575576e-02,\n",
      "        7.31682420e-01, -3.46564353e-01,  1.84673816e-01,  5.79836488e-01,\n",
      "       -5.45876861e-01,  4.41592336e-01,  1.36633825e+00,  8.69317591e-01,\n",
      "       -4.61237818e-01, -9.41971779e-01, -3.08203608e-01, -1.52918136e+00,\n",
      "       -4.76653934e-01,  9.97222900e-01, -4.66326773e-01, -9.33941066e-01,\n",
      "        1.70942061e-02, -3.22931141e-01,  2.35474646e-01,  4.05506432e-01,\n",
      "       -1.30219817e-01,  2.60071695e-01,  1.19746053e+00,  3.95061344e-01,\n",
      "        6.59075201e-01,  1.02605546e+00, -2.89424539e-01,  1.32909901e-02,\n",
      "        6.17021441e-01, -2.79999413e-02, -8.49046826e-01, -6.34552836e-01,\n",
      "       -2.16967627e-01, -3.47699188e-02, -1.99872911e-01,  1.37040055e+00,\n",
      "        1.17142951e+00, -7.95125544e-01, -6.88669741e-01, -8.60335529e-01,\n",
      "        7.07821906e-01,  1.31821051e-01, -8.84895563e-01, -7.77763307e-01,\n",
      "        1.17163822e-01, -1.67329714e-01,  2.85626967e-02,  9.24819887e-01,\n",
      "       -1.89124897e-01, -3.09318095e-01, -2.17823491e-01,  8.79830644e-02,\n",
      "        5.53569257e-01,  9.06295002e-01,  2.40436252e-02,  7.28708506e-01,\n",
      "        5.47622859e-01,  2.29026422e-01, -6.69736445e-01,  1.23845851e+00,\n",
      "        2.75930583e-01, -1.05968320e+00, -5.66906154e-01,  4.97270301e-02,\n",
      "        6.10742569e-01,  1.32757984e-02, -5.28932393e-01, -8.48094895e-02,\n",
      "        9.70517378e-03,  1.28185952e+00, -3.46651047e-01,  2.73242742e-01,\n",
      "        2.17400223e-01, -1.30286789e+00,  2.02772689e+00, -8.90398860e-01,\n",
      "       -6.76246226e-01,  1.39854383e+00,  2.08059621e+00,  1.74772918e-01,\n",
      "       -4.65008676e-01,  1.90049127e-01,  3.54461074e-01, -4.16352600e-01,\n",
      "       -7.72004426e-01, -9.18824226e-02,  7.73751438e-01, -1.27002940e-01,\n",
      "       -5.60486555e-01,  9.82745271e-03,  3.99423957e-01,  2.91922122e-01,\n",
      "        4.70658898e-01,  1.86685443e+00, -6.12969220e-01,  1.49707830e+00,\n",
      "        3.06122780e-01,  9.05249417e-01, -2.16744170e-01, -2.39619151e-01,\n",
      "        3.64022434e-01, -7.13053882e-01,  5.70827782e-01,  1.76124737e-01,\n",
      "        9.94840503e-01, -4.65086550e-01, -9.24932182e-01, -1.14178085e+00,\n",
      "       -9.97688949e-01, -4.97244857e-02,  5.17014623e-01,  2.18568191e-01,\n",
      "       -4.51843232e-01, -7.09345639e-01,  1.57017261e-01, -5.23319960e-01,\n",
      "        8.44664574e-01,  3.14889789e-01, -5.98749459e-01, -1.12857006e-01,\n",
      "        7.45566010e-01, -3.30511630e-01, -7.13913664e-02, -3.09696615e-01,\n",
      "        3.09259951e-01,  1.15320913e-01,  6.46926522e-01,  4.63584930e-01,\n",
      "       -1.78167701e-01,  7.47791231e-02, -1.52139020e+00,  2.53872633e-01,\n",
      "        1.51042849e-01, -5.81437290e-01,  8.47283244e-01,  6.89251363e-01,\n",
      "       -4.89693940e-01,  7.19322622e-01, -4.41490144e-01, -2.19241834e+00,\n",
      "        1.35064542e+00, -1.00347489e-01,  6.83807611e-01, -4.63466763e-01,\n",
      "       -1.55819869e+00, -2.55216867e-01, -1.07627720e-01, -8.96199048e-01,\n",
      "        5.53034186e-01,  5.52620878e-03, -9.51232851e-01, -2.99803138e-01,\n",
      "       -4.98401374e-01,  2.48604372e-01, -1.97474229e+00, -1.39709115e-01,\n",
      "        8.25907663e-02, -3.68547946e-01, -7.08300248e-02,  2.12499663e-01,\n",
      "       -4.39624488e-01,  3.22048485e-01, -4.74585295e-01, -1.14739299e+00,\n",
      "       -2.69547015e-01,  3.73742700e-01,  1.03525782e+00,  5.23563027e-01,\n",
      "        9.35886621e-01, -1.72543272e-01,  6.30417287e-01,  1.96212068e-01,\n",
      "       -8.77784789e-01,  7.35656381e-01,  3.01581323e-01, -4.02962089e-01,\n",
      "       -5.59832036e-01, -6.78827345e-01, -8.19012105e-01,  6.25612736e-01,\n",
      "        7.18935847e-01, -7.81101435e-02, -4.51302588e-01, -1.24706352e+00,\n",
      "        8.04104745e-01, -1.07927442e+00, -1.97335851e+00, -1.22515190e+00,\n",
      "        6.18633747e-01,  9.40500796e-01,  3.72352928e-01, -4.03118312e-01,\n",
      "        3.14140469e-01, -4.82112259e-01, -3.13420892e-01, -1.52666199e+00,\n",
      "       -1.55988196e-02,  7.61939108e-01,  6.03133261e-01,  5.01201093e-01],\n",
      "      dtype=float32), array([ 3.72120321e-01, -8.09519649e-01,  2.36524194e-01, -5.39869428e-01,\n",
      "        9.76933122e-01,  4.41832781e-01,  3.59230936e-01, -3.85316819e-01,\n",
      "        9.95916247e-01,  9.41231728e-01,  8.05179954e-01, -1.13530505e+00,\n",
      "        3.06238145e-01, -1.21562764e-01, -5.83610535e-01, -3.14450502e-01,\n",
      "        2.95297921e-01, -8.67300510e-01,  2.49194711e-01,  6.92347214e-02,\n",
      "        8.23238865e-02, -1.69692814e-01,  1.40607864e-01,  4.07208912e-02,\n",
      "        2.01900363e-01,  2.04035625e-01,  8.94067362e-02, -1.70002073e-01,\n",
      "        4.52357866e-02,  7.85298124e-02, -4.71351177e-01, -8.11506867e-01,\n",
      "        1.01035930e-01, -6.52716339e-01,  1.55489981e-01,  2.26728603e-01,\n",
      "        2.81224251e-01,  3.97181690e-01,  2.23401356e-02, -3.02787542e-01,\n",
      "        1.69434827e-02,  9.18164030e-02,  2.07604453e-01,  2.27595076e-01,\n",
      "       -3.27474847e-02,  2.79458791e-01,  2.16274783e-02,  1.49701312e-01,\n",
      "        3.05730939e-01,  9.10037816e-01,  1.74353905e-02,  2.62187272e-01,\n",
      "       -7.78587162e-01, -3.29057038e-01,  5.99981427e-01,  9.30820629e-02,\n",
      "        3.69613618e-01, -1.44646928e-01, -4.11904067e-01,  4.71980780e-01,\n",
      "        5.53736448e-01, -2.33518526e-01,  3.78675491e-01, -2.64767945e-01,\n",
      "       -2.61006087e-01,  1.01371378e-01, -3.02613914e-01, -2.65277296e-01,\n",
      "       -1.25325188e-01, -8.34453180e-02,  8.88351321e-01,  1.75825968e-01,\n",
      "        2.80517519e-01, -2.35694721e-01,  3.92031789e-01, -3.79094601e-01,\n",
      "       -4.32325006e-01, -3.30671698e-01,  2.86212087e-01, -7.91120350e-01,\n",
      "       -3.68769079e-01, -2.76941843e-02,  1.60246149e-01, -4.29351658e-01,\n",
      "        9.45650637e-02,  1.48936167e-01,  1.27557859e-01,  4.84041065e-01,\n",
      "        9.94013920e-02, -3.93852592e-02, -9.33505818e-02,  2.05248073e-01,\n",
      "        1.86104607e-02,  3.43867652e-02, -1.52800477e-03, -3.50492746e-02,\n",
      "       -9.44634341e-03,  3.19997966e-02,  6.12388030e-02, -1.14102736e-02,\n",
      "        1.17079250e-03, -9.97847691e-02,  9.40573514e-02,  1.34078279e-01,\n",
      "        1.29609481e-02,  2.84392416e-01,  2.79698670e-01, -1.76767781e-01,\n",
      "       -1.77807197e-01, -1.38117269e-01, -6.38399273e-02,  3.17626745e-02,\n",
      "       -1.04052983e-01,  1.19679511e-01, -7.04254955e-02, -7.79205281e-03,\n",
      "       -1.45362377e-01, -2.30285078e-02,  5.78349605e-02,  4.34173830e-02,\n",
      "        1.09707139e-01, -1.14187367e-01, -9.40105990e-02, -3.07213347e-02,\n",
      "        2.20452011e-01,  1.54552817e-01, -1.82577074e-01,  2.71378875e-01,\n",
      "       -5.22809625e-01, -5.15397899e-02,  4.94226925e-02, -3.86970043e-01,\n",
      "        1.48240358e-01, -1.04491077e-01, -1.00855708e-01, -6.66330755e-03,\n",
      "        1.08189560e-01,  2.70936668e-01,  2.87401259e-01,  4.90257330e-02,\n",
      "       -9.13691707e-03, -3.28167081e-01, -1.55878812e-01,  8.88060778e-02,\n",
      "       -5.21904603e-02, -7.21524283e-02,  3.08760740e-02,  1.43096790e-01,\n",
      "       -2.89635867e-01,  1.16581663e-01,  2.42614090e-01, -2.28558749e-01,\n",
      "       -2.87010103e-01, -7.68352672e-02, -2.32542306e-01, -8.17198530e-02,\n",
      "        1.71555817e-01,  9.54428315e-02,  7.22149312e-02, -4.32324074e-02,\n",
      "        4.38051462e-01,  1.23767607e-01, -1.96386635e-01,  2.01559663e-02,\n",
      "       -1.54167756e-01,  1.99830905e-01,  1.83205292e-01, -9.13268235e-03,\n",
      "       -3.64332981e-02,  3.48167658e-01,  4.66392457e-01, -1.99960083e-01,\n",
      "        4.08108905e-02,  1.50158525e-01,  6.55639395e-02,  5.83377182e-02,\n",
      "       -2.99261004e-01, -4.67206001e-01, -2.85494000e-01, -5.70377968e-02,\n",
      "        3.16746324e-01, -2.39068955e-01, -3.12777072e-01,  3.15469831e-01,\n",
      "        1.69872522e-01, -1.83381587e-01, -9.67269167e-02, -1.62007704e-01,\n",
      "        8.39739740e-02,  5.65648042e-02,  1.29192069e-01, -1.27470538e-01,\n",
      "        1.70863047e-01, -1.28945634e-01, -1.90920264e-01,  4.20932710e-01,\n",
      "        2.96987712e-01,  1.67941779e-01, -4.65541720e-01,  1.32331401e-01,\n",
      "       -9.11760330e-01,  1.29853857e+00, -9.46634352e-01, -4.02791023e-01,\n",
      "        1.25213936e-01,  6.81301504e-02, -3.50757211e-01,  7.08623171e-01,\n",
      "       -5.06488502e-01,  2.54089057e-01,  4.02170718e-01, -4.71844822e-01,\n",
      "        1.23848900e-01,  1.12521932e-01,  9.88499939e-01, -5.03151655e-01,\n",
      "        4.06040162e-01,  1.07864594e+00,  1.60955822e+00,  3.20571959e-01,\n",
      "       -6.07073069e-01, -1.24787033e+00, -8.79368782e-01, -4.45461810e-01,\n",
      "       -1.68819642e+00, -4.42036927e-01,  1.54574978e+00,  1.08987880e+00,\n",
      "        1.70760596e+00, -1.56646594e-01, -4.31829572e-01,  2.78498203e-01,\n",
      "       -2.48421669e+00, -5.04582345e-01,  1.05261338e+00,  1.11573374e+00,\n",
      "       -6.33343279e-01, -3.46130550e-01, -3.17298770e-01,  5.15201092e-01,\n",
      "        1.25600159e+00, -3.91450465e-01, -8.10485184e-01,  8.32717568e-02,\n",
      "       -1.79892734e-01, -2.01000381e+00, -5.68045914e-01, -6.07005246e-02,\n",
      "        8.20584297e-01, -8.51841867e-01, -1.53459799e+00, -2.87575305e-01,\n",
      "       -1.14424205e+00, -7.46276319e-01, -4.24044579e-01,  3.90563995e-01,\n",
      "        1.17323720e+00, -4.43082511e-01,  3.74783963e-01, -1.34850681e+00,\n",
      "        6.17509007e-01,  9.45522547e-01, -6.88834190e-01, -6.39884830e-01,\n",
      "       -5.83981536e-02, -2.86055654e-02,  1.01055801e+00,  1.68530285e-01,\n",
      "        4.44115072e-01,  6.35464638e-02,  1.30376875e+00, -2.09668145e-01,\n",
      "        1.26179409e+00, -2.38651801e-02,  5.70173152e-02,  2.09335372e-01,\n",
      "        1.55703455e-01, -4.83017899e-02,  1.04059029e+00,  1.56850278e-01,\n",
      "       -1.26809514e+00, -1.31154501e+00, -6.78453743e-01,  9.29510966e-02,\n",
      "        2.87671477e-01,  7.93861032e-01, -1.37251031e+00,  1.45805156e+00,\n",
      "        8.95949602e-01,  1.44657612e+00,  1.53334033e+00,  1.63552630e+00,\n",
      "        8.49399805e-01,  2.08971572e+00,  8.33611369e-01,  1.49019802e+00,\n",
      "        1.20724849e-01,  9.15831327e-01, -3.18215132e-01, -1.86919403e+00,\n",
      "        2.80661297e+00,  7.41677940e-01, -1.18196927e-01, -1.16984904e+00,\n",
      "        3.59181046e-01, -1.27874827e+00, -4.72627014e-01, -8.73910964e-01,\n",
      "       -2.73499489e-01, -3.40925902e-01, -1.13832843e+00, -6.93262458e-01,\n",
      "        1.58573672e-01, -1.85370791e+00, -4.41077411e-01,  2.32366353e-01,\n",
      "        3.95328581e-01, -1.12606502e+00, -5.61860129e-02,  3.40537339e-01,\n",
      "       -9.59178805e-01,  1.55772614e+00, -5.66896975e-01,  5.09014666e-01,\n",
      "        2.65324682e-01,  8.35739672e-01,  2.63237715e-01,  3.19635093e-01,\n",
      "       -3.49361539e-01, -4.66430932e-02,  1.60676038e+00, -6.49274588e-01,\n",
      "       -1.01316369e+00, -3.62369567e-01,  1.13738954e+00,  6.37352407e-01,\n",
      "       -1.22464836e+00, -1.96578100e-01, -6.30461812e-01, -1.18279374e+00,\n",
      "        5.32904506e-01, -3.55631411e-01, -1.63391173e+00, -1.16598177e+00,\n",
      "        2.75267571e-01,  1.23974311e+00,  4.82240856e-01, -7.51511335e-01,\n",
      "        6.70480669e-01,  1.15099289e-02, -1.24729015e-01,  1.24549985e+00,\n",
      "       -2.18278825e-01, -1.56695628e+00, -8.16707253e-01, -2.09523559e-01,\n",
      "        9.97153521e-01,  3.97014350e-01,  2.64294934e+00, -8.50152314e-01,\n",
      "       -1.56806600e+00,  1.79980183e+00,  1.32398024e-01, -8.94023359e-01,\n",
      "       -7.37396955e-01,  8.99391413e-01,  3.97737980e-01,  2.14462690e-02,\n",
      "        5.96196115e-01,  5.11436224e-01, -6.48786962e-01, -6.90440953e-01,\n",
      "       -4.03635353e-01, -7.23135352e-01, -4.35521573e-01, -7.00236380e-01,\n",
      "       -1.88965157e-01, -2.24553442e+00, -2.72925019e+00,  8.51974249e-01,\n",
      "       -5.27730405e-01, -7.25396752e-01,  2.69839048e-01, -1.71953630e+00,\n",
      "       -9.19532537e-01, -2.20130110e+00, -1.03317082e+00,  4.85663563e-01,\n",
      "        4.03701276e-01,  2.83125401e-01,  4.03496146e-01,  4.34389979e-01,\n",
      "       -1.60331988e+00, -1.61957908e+00, -5.89459717e-01, -1.80936372e+00,\n",
      "       -1.49418972e-02,  1.97510052e+00,  2.41688434e-02, -1.01863301e+00],\n",
      "      dtype=float32))\n",
      "(-1, 1)\n"
     ]
    }
   ],
   "source": [
    "print(X_train[:2])\n",
    "print(y_train[:2])"
   ]
  },
  {
   "cell_type": "code",
   "execution_count": 34,
   "metadata": {},
   "outputs": [],
   "source": [
    "models = {\n",
    "    \"DT\": DecisionTreeClassifier(max_depth=3,random_state=42),\n",
    "    \"RF\": RandomForestClassifier(max_depth=3,random_state=42),\n",
    "    \"GB\": GradientBoostingClassifier(max_depth=3,random_state=42),\n",
    "    \"KNN\": KNeighborsClassifier(),\n",
    "    # \"MNB\": MultinomialNB(),\n",
    "    \"LR\": LogisticRegression(multi_class='multinomial',solver='lbfgs'),\n",
    "    \"HGB\": HistGradientBoostingClassifier(max_depth=3,random_state=42)\n",
    "}"
   ]
  },
  {
   "cell_type": "code",
   "execution_count": 35,
   "metadata": {},
   "outputs": [],
   "source": [
    "model_results_f1_macro = []\n",
    "model_names = []\n",
    "model_mean = []"
   ]
  },
  {
   "cell_type": "code",
   "execution_count": 36,
   "metadata": {},
   "outputs": [
    {
     "name": "stdout",
     "output_type": "stream",
     "text": [
      "DecisionTreeClassifier(max_depth=3, random_state=42)\n",
      "RandomForestClassifier(max_depth=3, random_state=42)\n",
      "GradientBoostingClassifier(random_state=42)\n",
      "KNeighborsClassifier()\n",
      "LogisticRegression(multi_class='multinomial')\n",
      "HistGradientBoostingClassifier(max_depth=3, random_state=42)\n"
     ]
    }
   ],
   "source": [
    "my_cv = StratifiedShuffleSplit(n_splits=5,test_size=.1,random_state=42) # 10% for validation \n",
    "scoring = 'f1_macro'\n",
    "for name, model in models.items():\n",
    "    model_names.append(name) # append each name of the model\n",
    "    print(model) # print the model name for checks\n",
    "    cv_results = cross_val_score(model,X_train,y_train,scoring=scoring,cv=my_cv,n_jobs=-2) \n",
    "    cv_results_list = cv_results.tolist() # Turning the array to a list\n",
    "    model_results_f1_macro.append(cv_results_list) # append validation results\n",
    "    model_mean.append(cv_results.mean()) # append the mean"
   ]
  },
  {
   "cell_type": "code",
   "execution_count": 37,
   "metadata": {},
   "outputs": [
    {
     "name": "stdout",
     "output_type": "stream",
     "text": [
      "[[0.5013972636247627, 0.4964058164058163, 0.4886671769788653, 0.5018020857276232, 0.4821933508743013], [0.5242818927852435, 0.5181665002104259, 0.5283207723290845, 0.5412260293914889, 0.5239601109614438], [0.708338304684699, 0.7142815765786986, 0.7315567107045388, 0.7243003894877428, 0.7414999782159951], [0.5631706508839259, 0.5644102475787648, 0.5829432639105202, 0.593626494116152, 0.5805241779028184], [0.7704630509690996, 0.7905169140347691, 0.789045966138788, 0.7861963783786399, 0.7761952856174616], [0.7339213363206228, 0.7582825761647692, 0.7608311764665424, 0.7777626206544906, 0.753618975409004]]\n",
      "['DT', 'RF', 'GB', 'KNN', 'LR', 'HGB']\n",
      "[0.49409313872227373, 0.5271910611355373, 0.7239953919343349, 0.5769349668784363, 0.7824835190277517, 0.7568833370030859]\n"
     ]
    }
   ],
   "source": [
    "print(model_results_f1_macro)\n",
    "print(model_names)\n",
    "print(model_mean)"
   ]
  },
  {
   "cell_type": "code",
   "execution_count": 38,
   "metadata": {},
   "outputs": [],
   "source": [
    "# Creating a Dictionary of results\n",
    "f1score_result_dict = dict(zip(model_names,model_results_f1_macro))\n",
    "f1score_mean_dict = dict(zip(model_names,model_mean))"
   ]
  },
  {
   "cell_type": "code",
   "execution_count": 39,
   "metadata": {},
   "outputs": [],
   "source": [
    "# Creating a Dataframe of results\n",
    "f1score_result_frame = pd.DataFrame(f1score_result_dict)\n",
    "f1score_mean_frame = pd.Series(f1score_mean_dict).to_frame('mean_f1_score').reset_index()\n",
    "f1score_mean_frame.rename(columns={'index':'models'},inplace=True)"
   ]
  },
  {
   "cell_type": "code",
   "execution_count": 40,
   "metadata": {},
   "outputs": [
    {
     "data": {
      "text/html": [
       "<div>\n",
       "<style scoped>\n",
       "    .dataframe tbody tr th:only-of-type {\n",
       "        vertical-align: middle;\n",
       "    }\n",
       "\n",
       "    .dataframe tbody tr th {\n",
       "        vertical-align: top;\n",
       "    }\n",
       "\n",
       "    .dataframe thead th {\n",
       "        text-align: right;\n",
       "    }\n",
       "</style>\n",
       "<table border=\"1\" class=\"dataframe\">\n",
       "  <thead>\n",
       "    <tr style=\"text-align: right;\">\n",
       "      <th></th>\n",
       "      <th>DT</th>\n",
       "      <th>RF</th>\n",
       "      <th>GB</th>\n",
       "      <th>KNN</th>\n",
       "      <th>LR</th>\n",
       "      <th>HGB</th>\n",
       "    </tr>\n",
       "  </thead>\n",
       "  <tbody>\n",
       "    <tr>\n",
       "      <th>0</th>\n",
       "      <td>0.501397</td>\n",
       "      <td>0.524282</td>\n",
       "      <td>0.708338</td>\n",
       "      <td>0.563171</td>\n",
       "      <td>0.770463</td>\n",
       "      <td>0.733921</td>\n",
       "    </tr>\n",
       "    <tr>\n",
       "      <th>1</th>\n",
       "      <td>0.496406</td>\n",
       "      <td>0.518167</td>\n",
       "      <td>0.714282</td>\n",
       "      <td>0.564410</td>\n",
       "      <td>0.790517</td>\n",
       "      <td>0.758283</td>\n",
       "    </tr>\n",
       "    <tr>\n",
       "      <th>2</th>\n",
       "      <td>0.488667</td>\n",
       "      <td>0.528321</td>\n",
       "      <td>0.731557</td>\n",
       "      <td>0.582943</td>\n",
       "      <td>0.789046</td>\n",
       "      <td>0.760831</td>\n",
       "    </tr>\n",
       "    <tr>\n",
       "      <th>3</th>\n",
       "      <td>0.501802</td>\n",
       "      <td>0.541226</td>\n",
       "      <td>0.724300</td>\n",
       "      <td>0.593626</td>\n",
       "      <td>0.786196</td>\n",
       "      <td>0.777763</td>\n",
       "    </tr>\n",
       "    <tr>\n",
       "      <th>4</th>\n",
       "      <td>0.482193</td>\n",
       "      <td>0.523960</td>\n",
       "      <td>0.741500</td>\n",
       "      <td>0.580524</td>\n",
       "      <td>0.776195</td>\n",
       "      <td>0.753619</td>\n",
       "    </tr>\n",
       "  </tbody>\n",
       "</table>\n",
       "</div>"
      ],
      "text/plain": [
       "         DT        RF        GB       KNN        LR       HGB\n",
       "0  0.501397  0.524282  0.708338  0.563171  0.770463  0.733921\n",
       "1  0.496406  0.518167  0.714282  0.564410  0.790517  0.758283\n",
       "2  0.488667  0.528321  0.731557  0.582943  0.789046  0.760831\n",
       "3  0.501802  0.541226  0.724300  0.593626  0.786196  0.777763\n",
       "4  0.482193  0.523960  0.741500  0.580524  0.776195  0.753619"
      ]
     },
     "execution_count": 40,
     "metadata": {},
     "output_type": "execute_result"
    }
   ],
   "source": [
    "f1score_result_frame"
   ]
  },
  {
   "cell_type": "code",
   "execution_count": 41,
   "metadata": {},
   "outputs": [],
   "source": [
    "f1score_result_frame.to_csv(\"validation_doc2vec/doc2vec_f1score_results.csv\",index=False)"
   ]
  },
  {
   "cell_type": "code",
   "execution_count": 42,
   "metadata": {},
   "outputs": [
    {
     "data": {
      "text/html": [
       "<div>\n",
       "<style scoped>\n",
       "    .dataframe tbody tr th:only-of-type {\n",
       "        vertical-align: middle;\n",
       "    }\n",
       "\n",
       "    .dataframe tbody tr th {\n",
       "        vertical-align: top;\n",
       "    }\n",
       "\n",
       "    .dataframe thead th {\n",
       "        text-align: right;\n",
       "    }\n",
       "</style>\n",
       "<table border=\"1\" class=\"dataframe\">\n",
       "  <thead>\n",
       "    <tr style=\"text-align: right;\">\n",
       "      <th></th>\n",
       "      <th>models</th>\n",
       "      <th>mean_f1_score</th>\n",
       "    </tr>\n",
       "  </thead>\n",
       "  <tbody>\n",
       "    <tr>\n",
       "      <th>4</th>\n",
       "      <td>LR</td>\n",
       "      <td>0.782484</td>\n",
       "    </tr>\n",
       "    <tr>\n",
       "      <th>5</th>\n",
       "      <td>HGB</td>\n",
       "      <td>0.756883</td>\n",
       "    </tr>\n",
       "    <tr>\n",
       "      <th>2</th>\n",
       "      <td>GB</td>\n",
       "      <td>0.723995</td>\n",
       "    </tr>\n",
       "    <tr>\n",
       "      <th>3</th>\n",
       "      <td>KNN</td>\n",
       "      <td>0.576935</td>\n",
       "    </tr>\n",
       "    <tr>\n",
       "      <th>1</th>\n",
       "      <td>RF</td>\n",
       "      <td>0.527191</td>\n",
       "    </tr>\n",
       "    <tr>\n",
       "      <th>0</th>\n",
       "      <td>DT</td>\n",
       "      <td>0.494093</td>\n",
       "    </tr>\n",
       "  </tbody>\n",
       "</table>\n",
       "</div>"
      ],
      "text/plain": [
       "  models  mean_f1_score\n",
       "4     LR       0.782484\n",
       "5    HGB       0.756883\n",
       "2     GB       0.723995\n",
       "3    KNN       0.576935\n",
       "1     RF       0.527191\n",
       "0     DT       0.494093"
      ]
     },
     "execution_count": 42,
     "metadata": {},
     "output_type": "execute_result"
    }
   ],
   "source": [
    "f1score_mean_frame.sort_values(by='mean_f1_score',ascending=False)"
   ]
  },
  {
   "cell_type": "markdown",
   "metadata": {},
   "source": [
    "The f1-score validation mean score of ConcatenatedDoc2Vec HGB (vector size 50) has dropped."
   ]
  },
  {
   "cell_type": "code",
   "execution_count": 43,
   "metadata": {},
   "outputs": [],
   "source": [
    "f1score_mean_frame.to_csv(\"validation_doc2vec/doc2vec_f1score_mean_results.csv\")"
   ]
  },
  {
   "cell_type": "code",
   "execution_count": 44,
   "metadata": {},
   "outputs": [
    {
     "data": {
      "image/png": "[encoded data removed]",
      "text/plain": [
       "<Figure size 720x360 with 1 Axes>"
      ]
     },
     "metadata": {},
     "output_type": "display_data"
    }
   ],
   "source": [
    "sns.set_theme(style='darkgrid')\n",
    "fig, ax = plt.subplots(figsize=(10,5))\n",
    "sns.boxplot(data=f1score_result_frame)\n",
    "ax.set_xticklabels(model_names)\n",
    "fig.suptitle('Algorithm Comparison')\n",
    "plt.show()"
   ]
  },
  {
   "cell_type": "markdown",
   "metadata": {},
   "source": [
    "Based off the plot above, the top three algorithms are;\n",
    "1. HistGradientBoostingClassifier\n",
    "2. Logistic Regression\n",
    "3. GradientBoostingClassifier"
   ]
  },
  {
   "cell_type": "code",
   "execution_count": 50,
   "metadata": {},
   "outputs": [],
   "source": [
    "from sklearn.model_selection import GridSearchCV"
   ]
  },
  {
   "cell_type": "code",
   "execution_count": 51,
   "metadata": {},
   "outputs": [],
   "source": [
    "# Without PCA\n",
    "pipe = Pipeline([('clf',LogisticRegression(multi_class='multinomial',\n",
    "                                            solver='lbfgs'))])"
   ]
  },
  {
   "cell_type": "code",
   "execution_count": 52,
   "metadata": {},
   "outputs": [],
   "source": [
    "# I would like to do something different and see if the maximu iterations and \n",
    "# warm start would somewhat improve Logistic Regression. \n",
    "# NB: This has not been done in previous notebooks\n",
    "\n",
    "paramter_grid = {'clf__C':[0.0001,0.001,0.1,1,10,100],\n",
    "                \"clf__max_iter\":[100,200,300],\n",
    "                \"clf__warm_start\":[True, False]\n",
    "                }\n",
    "my_cv = StratifiedShuffleSplit(n_splits=5,test_size=.1,random_state=42)"
   ]
  },
  {
   "cell_type": "code",
   "execution_count": 53,
   "metadata": {},
   "outputs": [
    {
     "data": {
      "text/plain": [
       "GridSearchCV(cv=StratifiedShuffleSplit(n_splits=5, random_state=42, test_size=0.1,\n",
       "            train_size=None),\n",
       "             estimator=Pipeline(steps=[('clf',\n",
       "                                        LogisticRegression(multi_class='multinomial'))]),\n",
       "             param_grid={'clf__C': [0.0001, 0.001, 0.1, 1, 10, 100],\n",
       "                         'clf__max_iter': [100, 200, 300],\n",
       "                         'clf__warm_start': [True, False]},\n",
       "             scoring='f1_macro')"
      ]
     },
     "execution_count": 53,
     "metadata": {},
     "output_type": "execute_result"
    }
   ],
   "source": [
    "mygrid = GridSearchCV(pipe,param_grid=paramter_grid,cv=my_cv,scoring='f1_macro')\n",
    "mygrid.fit(X_train,y_train)"
   ]
  },
  {
   "cell_type": "code",
   "execution_count": 54,
   "metadata": {},
   "outputs": [
    {
     "name": "stdout",
     "output_type": "stream",
     "text": [
      "Best params: {'clf__C': 100, 'clf__max_iter': 200, 'clf__warm_start': True}\n",
      "\n",
      "Best estimator: Pipeline(steps=[('clf',\n",
      "                 LogisticRegression(C=100, max_iter=200,\n",
      "                                    multi_class='multinomial',\n",
      "                                    warm_start=True))])\n",
      "\n",
      "Best validation score: 0.7840753337846923\n"
     ]
    }
   ],
   "source": [
    "print(f\"Best params: {mygrid.best_params_}\\n\")\n",
    "print(f\"Best estimator: {mygrid.best_estimator_}\\n\")\n",
    "print(f\"Best validation score: {mygrid.best_score_}\")"
   ]
  },
  {
   "cell_type": "code",
   "execution_count": 55,
   "metadata": {},
   "outputs": [
    {
     "data": {
      "text/plain": [
       "Pipeline(steps=[('clf',\n",
       "                 LogisticRegression(C=100, max_iter=200,\n",
       "                                    multi_class='multinomial',\n",
       "                                    warm_start=True))])"
      ]
     },
     "execution_count": 55,
     "metadata": {},
     "output_type": "execute_result"
    }
   ],
   "source": [
    "mygrid_trainset = mygrid.best_estimator_\n",
    "mygrid_trainset\n",
    "\n",
    "# Best estimator: Pipeline(steps=[('clf',\n",
    "#                  LogisticRegression(C=100, max_iter=200,\n",
    "#                                     multi_class='multinomial',\n",
    "#                                     warm_start=True))])\n",
    "\n",
    "# Best validation score: 0.7840753337846923"
   ]
  },
  {
   "cell_type": "code",
   "execution_count": 56,
   "metadata": {},
   "outputs": [
    {
     "name": "stdout",
     "output_type": "stream",
     "text": [
      "              precision    recall  f1-score   support\n",
      "\n",
      "          -1       0.82      0.54      0.65      1227\n",
      "           0       0.81      0.86      0.84      5040\n",
      "           1       0.92      0.94      0.93      7602\n",
      "\n",
      "    accuracy                           0.87     13869\n",
      "   macro avg       0.85      0.78      0.80     13869\n",
      "weighted avg       0.87      0.87      0.87     13869\n",
      "\n"
     ]
    },
    {
     "data": {
      "image/png": "[encoded data removed]",
      "text/plain": [
       "<Figure size 432x288 with 2 Axes>"
      ]
     },
     "metadata": {},
     "output_type": "display_data"
    }
   ],
   "source": [
    "# Classification report\n",
    "from sklearn.metrics import classification_report,confusion_matrix,ConfusionMatrixDisplay\n",
    "y_pred_train = mygrid_trainset.predict(X_train)\n",
    "\n",
    "\n",
    "\n",
    "y_train = y_train\n",
    "sns.set_theme(style='white')\n",
    "def class_report(model,y_train,y_pred_train):\n",
    "    print(classification_report(y_train,y_pred_train))\n",
    "    cm = confusion_matrix(y_train,y_pred_train,labels=model.classes_)\n",
    "    disp = ConfusionMatrixDisplay(confusion_matrix=cm, display_labels=model.classes_)\n",
    "    disp.plot()\n",
    "    plt.show()\n",
    "    disp.figure_.savefig('model_doc2vec_img/confusion_matrix_no_PCA_df_clean.png',dpi=300)\n",
    "\n",
    "\n",
    "class_report(mygrid_trainset,y_train,y_pred_train)"
   ]
  },
  {
   "cell_type": "markdown",
   "metadata": {},
   "source": [
    "**ROC on training data**"
   ]
  },
  {
   "cell_type": "code",
   "execution_count": 57,
   "metadata": {},
   "outputs": [],
   "source": [
    "lgr = LogisticRegression(C=100, max_iter=200,\n",
    "                                    multi_class='multinomial',\n",
    "                                    warm_start=True)"
   ]
  },
  {
   "cell_type": "code",
   "execution_count": 58,
   "metadata": {},
   "outputs": [
    {
     "data": {
      "text/plain": [
       "<AxesSubplot:title={'center':'ROC Curves for LogisticRegression'}, xlabel='False Positive Rate', ylabel='True Positive Rate'>"
      ]
     },
     "execution_count": 58,
     "metadata": {},
     "output_type": "execute_result"
    },
    {
     "data": {
      "image/png": "[encoded data removed]",
      "text/plain": [
       "<Figure size 576x396 with 1 Axes>"
      ]
     },
     "metadata": {},
     "output_type": "display_data"
    }
   ],
   "source": [
    "from yellowbrick.classifier import ROCAUC\n",
    "visualizer = ROCAUC(lgr, classes=[-1,0,1])\n",
    "\n",
    "visualizer.fit(X_train, y_train)        # Fit the training data to the visualizer\n",
    "visualizer.score(X_train, y_train)        # Evaluate the model on the training data\n",
    "visualizer.show(outpath=\"model_doc2vec_img/roc_without_PCA_df_clean.png\")"
   ]
  },
  {
   "cell_type": "markdown",
   "metadata": {},
   "source": [
    "**Building the model with best estimator and testing on test data**"
   ]
  },
  {
   "cell_type": "code",
   "execution_count": 60,
   "metadata": {},
   "outputs": [
    {
     "data": {
      "text/plain": [
       "LogisticRegression(C=100, max_iter=200, multi_class='multinomial',\n",
       "                   warm_start=True)"
      ]
     },
     "execution_count": 60,
     "metadata": {},
     "output_type": "execute_result"
    }
   ],
   "source": [
    "lgr = LogisticRegression(C=100, max_iter=200,\n",
    "                                    multi_class='multinomial',\n",
    "                                    warm_start=True)\n",
    "\n",
    "lgr.fit(X_train,y_train)"
   ]
  },
  {
   "cell_type": "code",
   "execution_count": 61,
   "metadata": {},
   "outputs": [
    {
     "name": "stdout",
     "output_type": "stream",
     "text": [
      "              precision    recall  f1-score   support\n",
      "\n",
      "          -1       0.44      0.57      0.50       307\n",
      "           0       0.74      0.72      0.73      1260\n",
      "           1       0.89      0.86      0.87      1901\n",
      "\n",
      "    accuracy                           0.78      3468\n",
      "   macro avg       0.69      0.72      0.70      3468\n",
      "weighted avg       0.80      0.78      0.79      3468\n",
      "\n"
     ]
    },
    {
     "data": {
      "image/png": "[encoded data removed]",
      "text/plain": [
       "<Figure size 576x396 with 2 Axes>"
      ]
     },
     "metadata": {},
     "output_type": "display_data"
    }
   ],
   "source": [
    "# Classification report test data\n",
    "y_test = y_test\n",
    "y_pred_test = lgr.predict(X_test)\n",
    "sns.set_theme(style='white')\n",
    "def class_report(model,y_test,pred):\n",
    "    print(classification_report(y_test,pred))\n",
    "    cm = confusion_matrix(y_test,pred,labels=model.classes_)\n",
    "    disp = ConfusionMatrixDisplay(confusion_matrix=cm, display_labels=model.classes_)\n",
    "    disp.plot()\n",
    "    plt.show()\n",
    "    disp.figure_.savefig('model_doc2vec_img/confusion_matrix_test_data_no_PCA_df_clean.png',dpi=300)\n",
    "\n",
    "\n",
    "class_report(lgr,y_test,y_pred_test)"
   ]
  },
  {
   "cell_type": "markdown",
   "metadata": {},
   "source": [
    "**ROC on test data**"
   ]
  },
  {
   "cell_type": "code",
   "execution_count": 62,
   "metadata": {},
   "outputs": [],
   "source": [
    "lgr = LogisticRegression(C=100, max_iter=200,\n",
    "                                    multi_class='multinomial',\n",
    "                                    warm_start=True)"
   ]
  },
  {
   "cell_type": "code",
   "execution_count": 63,
   "metadata": {},
   "outputs": [
    {
     "data": {
      "text/plain": [
       "<AxesSubplot:title={'center':'ROC Curves for LogisticRegression'}, xlabel='False Positive Rate', ylabel='True Positive Rate'>"
      ]
     },
     "execution_count": 63,
     "metadata": {},
     "output_type": "execute_result"
    },
    {
     "data": {
      "image/png": "[encoded data removed]",
      "text/plain": [
       "<Figure size 576x396 with 1 Axes>"
      ]
     },
     "metadata": {},
     "output_type": "display_data"
    }
   ],
   "source": [
    "from yellowbrick.classifier import ROCAUC\n",
    "visualizer = ROCAUC(lgr, classes=[-1,0,1])\n",
    "\n",
    "visualizer.fit(X_train, y_train)        # Fit the training data to the visualizer\n",
    "visualizer.score(X_test, y_test)          # Evaluate the model on the training data\n",
    "visualizer.show(outpath=\"model_doc2vec_img/roc_test_data_without_PCA_df_clean.png\")"
   ]
  },
  {
   "cell_type": "markdown",
   "metadata": {},
   "source": [
    "## **Conclusion**"
   ]
  },
  {
   "cell_type": "markdown",
   "metadata": {},
   "source": [
    "- PV-DBOW vector size of 200 had an f1 score of 0.67 and AUC score of 0.90 on test data\n",
    "- PV-DM vector size of 200 had an f1 score of 0.67 and AUC score of 0.85 on test data\n",
    "- Combining both methods does in fact gives a performance boost as shown in the table below. \n",
    "- It out performs PV-DM (f1-score & AUC) and PV-DBOW (f1-score).\n",
    "\n",
    "\n",
    "**Table of Values**\n",
    "\n",
    "dataset|f1_score_macro_avg|AUC_score_avg\n",
    "| ----------- | ----------- | ----------- |\n",
    "df_clean_(train data)|0.80|0.95\n",
    "df_clean (test data)|0.70|0.88"
   ]
  }
 ],
 "metadata": {
  "kernelspec": {
   "display_name": "Python 3.8.13",
   "language": "python",
   "name": "python3"
  },
  "language_info": {
   "codemirror_mode": {
    "name": "ipython",
    "version": 3
   },
   "file_extension": ".py",
   "mimetype": "text/x-python",
   "name": "python",
   "nbconvert_exporter": "python",
   "pygments_lexer": "ipython3",
   "version": "3.8.13"
  },
  "orig_nbformat": 4,
  "vscode": {
   "interpreter": {
    "hash": "0d3784fccdc90acbf957f8297e7e306d4c8b14c1a207bd5307d0795df9a8d77b"
   }
  }
 },
 "nbformat": 4,
 "nbformat_minor": 2
}
