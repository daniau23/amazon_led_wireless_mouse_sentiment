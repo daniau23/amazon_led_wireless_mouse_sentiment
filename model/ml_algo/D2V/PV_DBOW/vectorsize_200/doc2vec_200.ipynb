{
 "cells": [
  {
   "cell_type": "code",
   "execution_count": 1,
   "metadata": {},
   "outputs": [],
   "source": [
    "import pandas as pd\n",
    "import numpy as np \n",
    "import matplotlib.pyplot as plt\n",
    "# import plotly.express as px\n",
    "# import plotly.graph_objects as go\n",
    "# import plotly.figure_factory as ff\n",
    "import seaborn as sns\n",
    "import warnings\n",
    "warnings.filterwarnings(\"ignore\")\n",
    "# from nltk.tokenize import word_tokenize as wt \n",
    "# from collections import Counter\n",
    "import gensim\n",
    "# import textblob\n",
    "import spacy"
   ]
  },
  {
   "cell_type": "markdown",
   "metadata": {},
   "source": [
    "## **Plan of Action**\n",
    "\n",
    "- Load the data\n",
    "- Drop unnecessary columns and rows\n",
    "- Removal of stop words.\n",
    "- Feature engineering;\n",
    "    - Doc2Vec\n",
    "- Begin modelling\n",
    "    - Algorithms to use;\n",
    "        - k-Nearest Neighbors.\n",
    "        - Decision Trees.\n",
    "        - Random Forest.\n",
    "        - Gradient Boosting.\n",
    "        - Logistic Regression\n",
    "- Evaluation;\n",
    "    - F1-score_macro\n",
    "    - AUC\n",
    "    - ROC"
   ]
  },
  {
   "cell_type": "code",
   "execution_count": 2,
   "metadata": {},
   "outputs": [],
   "source": [
    "df_clean = pd.read_csv('../../../../cleaned_reviews.csv')"
   ]
  },
  {
   "cell_type": "code",
   "execution_count": 3,
   "metadata": {},
   "outputs": [
    {
     "data": {
      "text/plain": [
       "(17340, 4)"
      ]
     },
     "execution_count": 3,
     "metadata": {},
     "output_type": "execute_result"
    }
   ],
   "source": [
    "df_clean.shape"
   ]
  },
  {
   "cell_type": "code",
   "execution_count": 4,
   "metadata": {},
   "outputs": [
    {
     "data": {
      "text/plain": [
       "Index(['sentiments', 'cleaned_review', 'cleaned_review_length',\n",
       "       'review_score'],\n",
       "      dtype='object')"
      ]
     },
     "execution_count": 4,
     "metadata": {},
     "output_type": "execute_result"
    }
   ],
   "source": [
    "df_clean.columns"
   ]
  },
  {
   "cell_type": "code",
   "execution_count": 5,
   "metadata": {},
   "outputs": [],
   "source": [
    "df_clean.drop(columns=['cleaned_review_length','review_score'],inplace=True)"
   ]
  },
  {
   "cell_type": "markdown",
   "metadata": {},
   "source": [
    "Checking for Null Vaules and Duplicates"
   ]
  },
  {
   "cell_type": "code",
   "execution_count": 6,
   "metadata": {},
   "outputs": [
    {
     "data": {
      "text/plain": [
       "sentiments        0\n",
       "cleaned_review    3\n",
       "dtype: int64"
      ]
     },
     "execution_count": 6,
     "metadata": {},
     "output_type": "execute_result"
    }
   ],
   "source": [
    "df_clean.isna().sum()"
   ]
  },
  {
   "cell_type": "code",
   "execution_count": 7,
   "metadata": {},
   "outputs": [],
   "source": [
    "df_clean.dropna(inplace=True)"
   ]
  },
  {
   "cell_type": "code",
   "execution_count": 8,
   "metadata": {},
   "outputs": [
    {
     "data": {
      "text/plain": [
       "(17337, 2)"
      ]
     },
     "execution_count": 8,
     "metadata": {},
     "output_type": "execute_result"
    }
   ],
   "source": [
    "df_clean.shape"
   ]
  },
  {
   "cell_type": "code",
   "execution_count": 9,
   "metadata": {},
   "outputs": [],
   "source": [
    "from spacy.lang.en.stop_words import STOP_WORDS\n",
    "\n",
    "# print(STOP_WORDS,'\\n') # <- set of Spacy's default stop words\n",
    "all_stopwords = STOP_WORDS\n",
    "# Adding several stopwords\n",
    "# all_stopwords |= {'not',\"no\", \"n't\", 'n’t','n‘t','cannot','none','without','against'}\n",
    "\n",
    "# Removing several stop words\n",
    "all_stopwords-= {'not',\"no\", \"n't\", 'n’t','n‘t','cannot','none','without','against','off','against','too'}\n",
    "my_stop_words = set(all_stopwords) # My own stop words"
   ]
  },
  {
   "cell_type": "code",
   "execution_count": 10,
   "metadata": {},
   "outputs": [],
   "source": [
    "# print(my_stop_words)"
   ]
  },
  {
   "cell_type": "code",
   "execution_count": 11,
   "metadata": {},
   "outputs": [
    {
     "data": {
      "text/html": [
       "<div>\n",
       "<style scoped>\n",
       "    .dataframe tbody tr th:only-of-type {\n",
       "        vertical-align: middle;\n",
       "    }\n",
       "\n",
       "    .dataframe tbody tr th {\n",
       "        vertical-align: top;\n",
       "    }\n",
       "\n",
       "    .dataframe thead th {\n",
       "        text-align: right;\n",
       "    }\n",
       "</style>\n",
       "<table border=\"1\" class=\"dataframe\">\n",
       "  <thead>\n",
       "    <tr style=\"text-align: right;\">\n",
       "      <th></th>\n",
       "      <th>sentiments</th>\n",
       "      <th>cleaned_review</th>\n",
       "    </tr>\n",
       "  </thead>\n",
       "  <tbody>\n",
       "    <tr>\n",
       "      <th>0</th>\n",
       "      <td>positive</td>\n",
       "      <td>i wish would have gotten one earlier love it a...</td>\n",
       "    </tr>\n",
       "    <tr>\n",
       "      <th>1</th>\n",
       "      <td>neutral</td>\n",
       "      <td>i ve learned this lesson again open the packag...</td>\n",
       "    </tr>\n",
       "    <tr>\n",
       "      <th>2</th>\n",
       "      <td>neutral</td>\n",
       "      <td>it is so slow and lags find better option</td>\n",
       "    </tr>\n",
       "    <tr>\n",
       "      <th>3</th>\n",
       "      <td>neutral</td>\n",
       "      <td>roller ball stopped working within months of m...</td>\n",
       "    </tr>\n",
       "    <tr>\n",
       "      <th>4</th>\n",
       "      <td>neutral</td>\n",
       "      <td>i like the color and size but it few days out ...</td>\n",
       "    </tr>\n",
       "    <tr>\n",
       "      <th>...</th>\n",
       "      <td>...</td>\n",
       "      <td>...</td>\n",
       "    </tr>\n",
       "    <tr>\n",
       "      <th>17335</th>\n",
       "      <td>positive</td>\n",
       "      <td>i love this speaker and love can take it anywh...</td>\n",
       "    </tr>\n",
       "    <tr>\n",
       "      <th>17336</th>\n",
       "      <td>positive</td>\n",
       "      <td>i use it in my house easy to connect and loud ...</td>\n",
       "    </tr>\n",
       "    <tr>\n",
       "      <th>17337</th>\n",
       "      <td>positive</td>\n",
       "      <td>the bass is good and the battery is amazing mu...</td>\n",
       "    </tr>\n",
       "    <tr>\n",
       "      <th>17338</th>\n",
       "      <td>positive</td>\n",
       "      <td>love it</td>\n",
       "    </tr>\n",
       "    <tr>\n",
       "      <th>17339</th>\n",
       "      <td>neutral</td>\n",
       "      <td>mono speaker</td>\n",
       "    </tr>\n",
       "  </tbody>\n",
       "</table>\n",
       "<p>17337 rows × 2 columns</p>\n",
       "</div>"
      ],
      "text/plain": [
       "      sentiments                                     cleaned_review\n",
       "0       positive  i wish would have gotten one earlier love it a...\n",
       "1        neutral  i ve learned this lesson again open the packag...\n",
       "2        neutral          it is so slow and lags find better option\n",
       "3        neutral  roller ball stopped working within months of m...\n",
       "4        neutral  i like the color and size but it few days out ...\n",
       "...          ...                                                ...\n",
       "17335   positive  i love this speaker and love can take it anywh...\n",
       "17336   positive  i use it in my house easy to connect and loud ...\n",
       "17337   positive  the bass is good and the battery is amazing mu...\n",
       "17338   positive                                            love it\n",
       "17339    neutral                                       mono speaker\n",
       "\n",
       "[17337 rows x 2 columns]"
      ]
     },
     "execution_count": 11,
     "metadata": {},
     "output_type": "execute_result"
    }
   ],
   "source": [
    "df_clean"
   ]
  },
  {
   "cell_type": "code",
   "execution_count": 12,
   "metadata": {},
   "outputs": [],
   "source": [
    "nlp = spacy.load(\"en_core_web_sm\")"
   ]
  },
  {
   "cell_type": "code",
   "execution_count": 13,
   "metadata": {},
   "outputs": [],
   "source": [
    "def spacy_tokeniser(sent):\n",
    "    sent = sent.strip().lower()\n",
    "    doc = nlp(sent)\n",
    "    mytokens = [token.lemma_ for token in doc if token.text not in my_stop_words]\n",
    "    return mytokens"
   ]
  },
  {
   "cell_type": "code",
   "execution_count": 14,
   "metadata": {},
   "outputs": [],
   "source": [
    "df_clean['tokens']= df_clean['cleaned_review'].apply(spacy_tokeniser)"
   ]
  },
  {
   "cell_type": "code",
   "execution_count": 15,
   "metadata": {},
   "outputs": [
    {
     "data": {
      "text/html": [
       "<div>\n",
       "<style scoped>\n",
       "    .dataframe tbody tr th:only-of-type {\n",
       "        vertical-align: middle;\n",
       "    }\n",
       "\n",
       "    .dataframe tbody tr th {\n",
       "        vertical-align: top;\n",
       "    }\n",
       "\n",
       "    .dataframe thead th {\n",
       "        text-align: right;\n",
       "    }\n",
       "</style>\n",
       "<table border=\"1\" class=\"dataframe\">\n",
       "  <thead>\n",
       "    <tr style=\"text-align: right;\">\n",
       "      <th></th>\n",
       "      <th>sentiments</th>\n",
       "      <th>cleaned_review</th>\n",
       "      <th>tokens</th>\n",
       "    </tr>\n",
       "  </thead>\n",
       "  <tbody>\n",
       "    <tr>\n",
       "      <th>0</th>\n",
       "      <td>positive</td>\n",
       "      <td>i wish would have gotten one earlier love it a...</td>\n",
       "      <td>[wish, get, early, love, make, work, laptop, e...</td>\n",
       "    </tr>\n",
       "    <tr>\n",
       "      <th>1</th>\n",
       "      <td>neutral</td>\n",
       "      <td>i ve learned this lesson again open the packag...</td>\n",
       "      <td>[ve, learn, lesson, open, package, use, produc...</td>\n",
       "    </tr>\n",
       "    <tr>\n",
       "      <th>2</th>\n",
       "      <td>neutral</td>\n",
       "      <td>it is so slow and lags find better option</td>\n",
       "      <td>[slow, lag, find, well, option]</td>\n",
       "    </tr>\n",
       "    <tr>\n",
       "      <th>3</th>\n",
       "      <td>neutral</td>\n",
       "      <td>roller ball stopped working within months of m...</td>\n",
       "      <td>[roller, ball, stop, work, month, minimal, use...</td>\n",
       "    </tr>\n",
       "    <tr>\n",
       "      <th>4</th>\n",
       "      <td>neutral</td>\n",
       "      <td>i like the color and size but it few days out ...</td>\n",
       "      <td>[like, color, size, day, return, period, not, ...</td>\n",
       "    </tr>\n",
       "  </tbody>\n",
       "</table>\n",
       "</div>"
      ],
      "text/plain": [
       "  sentiments                                     cleaned_review  \\\n",
       "0   positive  i wish would have gotten one earlier love it a...   \n",
       "1    neutral  i ve learned this lesson again open the packag...   \n",
       "2    neutral          it is so slow and lags find better option   \n",
       "3    neutral  roller ball stopped working within months of m...   \n",
       "4    neutral  i like the color and size but it few days out ...   \n",
       "\n",
       "                                              tokens  \n",
       "0  [wish, get, early, love, make, work, laptop, e...  \n",
       "1  [ve, learn, lesson, open, package, use, produc...  \n",
       "2                    [slow, lag, find, well, option]  \n",
       "3  [roller, ball, stop, work, month, minimal, use...  \n",
       "4  [like, color, size, day, return, period, not, ...  "
      ]
     },
     "execution_count": 15,
     "metadata": {},
     "output_type": "execute_result"
    }
   ],
   "source": [
    "df_clean.head()"
   ]
  },
  {
   "cell_type": "code",
   "execution_count": 16,
   "metadata": {},
   "outputs": [],
   "source": [
    "# Dropping unnecessary columns\n",
    "df_clean.drop(columns=['cleaned_review'],inplace=True)"
   ]
  },
  {
   "cell_type": "markdown",
   "metadata": {},
   "source": [
    "Sentiment Mapping"
   ]
  },
  {
   "cell_type": "code",
   "execution_count": 17,
   "metadata": {},
   "outputs": [],
   "source": [
    "sentiment_mapping = {'negative':-1,'neutral':0,'positive':1}\n",
    "df_clean['sentiment_label'] = df_clean.sentiments.map(sentiment_mapping)"
   ]
  },
  {
   "cell_type": "code",
   "execution_count": 18,
   "metadata": {},
   "outputs": [],
   "source": [
    "df_clean.drop(columns=['sentiments'],inplace=True)"
   ]
  },
  {
   "cell_type": "code",
   "execution_count": 19,
   "metadata": {},
   "outputs": [],
   "source": [
    "from sklearn.pipeline import Pipeline\n",
    "from sklearn.model_selection import train_test_split,StratifiedShuffleSplit,cross_val_score\n",
    "\n",
    "# The algorithms\n",
    "from sklearn.tree import DecisionTreeClassifier\n",
    "from sklearn.ensemble import RandomForestClassifier,GradientBoostingClassifier,HistGradientBoostingClassifier\n",
    "from sklearn.neighbors import KNeighborsClassifier\n",
    "from sklearn.linear_model import LogisticRegression"
   ]
  },
  {
   "cell_type": "code",
   "execution_count": 20,
   "metadata": {},
   "outputs": [
    {
     "data": {
      "text/plain": [
       "Index(['tokens', 'sentiment_label'], dtype='object')"
      ]
     },
     "execution_count": 20,
     "metadata": {},
     "output_type": "execute_result"
    }
   ],
   "source": [
    "df_clean.columns"
   ]
  },
  {
   "cell_type": "code",
   "execution_count": 21,
   "metadata": {},
   "outputs": [],
   "source": [
    "train, test = train_test_split(df_clean,test_size=.2,random_state=42, \n",
    "                                            stratify=df_clean.sentiment_label)"
   ]
  },
  {
   "cell_type": "code",
   "execution_count": 22,
   "metadata": {},
   "outputs": [],
   "source": [
    "from gensim.models.doc2vec import Doc2Vec, TaggedDocument"
   ]
  },
  {
   "cell_type": "code",
   "execution_count": 23,
   "metadata": {},
   "outputs": [],
   "source": [
    "# Tagging the train ad test set\n",
    "\n",
    "# Tag train set \n",
    "tagged_train = train.apply(\n",
    "    lambda x: TaggedDocument(words=x[\"tokens\"],tags=[x.sentiment_label]),\n",
    "    axis=1\n",
    ")\n",
    "\n",
    "# Tag test set \n",
    "tagged_test = test.apply(\n",
    "    lambda x: TaggedDocument(words=x[\"tokens\"],tags=[x.sentiment_label]),\n",
    "    axis=1\n",
    ")"
   ]
  },
  {
   "cell_type": "code",
   "execution_count": 24,
   "metadata": {},
   "outputs": [
    {
     "data": {
      "text/plain": [
       "TaggedDocument(words=['pair', 'headphone', 'work', 'plan', 'buy', 'pair', 'current', 'pair', 'gotten', 'damage', 'put', 'pair', 'uneven', 'surface', 'wire', 'tug', 'too', 'knock', 'head', 'phone', 'accident', 'time', 'walk', 'wear', 'head', 'phone', 'drop', 'phone', 'cord', 'got', 'accidentally', 'tug', 'unplugged', 'phone', 'won', 'headphone', 'outside', 'room', 'anymore', 'room', 'organize', 'shouldn', 'end', 'knock', 'accident', 'anymore'], tags=[-1])"
      ]
     },
     "execution_count": 24,
     "metadata": {},
     "output_type": "execute_result"
    }
   ],
   "source": [
    "# looking into the tags\n",
    "tagged_train.values[0]"
   ]
  },
  {
   "cell_type": "code",
   "execution_count": 25,
   "metadata": {},
   "outputs": [
    {
     "data": {
      "text/plain": [
       "TaggedDocument(words=['break', 'right', 'run', 'return', 'window', 'came', 'narrow', 'move', 'link', 'event', 'not', 'don', 'know', 'problem'], tags=[-1])"
      ]
     },
     "execution_count": 25,
     "metadata": {},
     "output_type": "execute_result"
    }
   ],
   "source": [
    "tagged_test.values[0]"
   ]
  },
  {
   "cell_type": "markdown",
   "metadata": {},
   "source": [
    "### **Setting up DOC2VEC**"
   ]
  },
  {
   "cell_type": "code",
   "execution_count": 26,
   "metadata": {},
   "outputs": [
    {
     "data": {
      "text/plain": [
       "4"
      ]
     },
     "execution_count": 26,
     "metadata": {},
     "output_type": "execute_result"
    }
   ],
   "source": [
    "import multiprocessing\n",
    "cores = multiprocessing.cpu_count()\n",
    "cores # Mine is 8 cores\n",
    "four_cores = cores-4\n",
    "four_cores"
   ]
  },
  {
   "cell_type": "markdown",
   "metadata": {},
   "source": [
    "### **Building the Vocabulary**"
   ]
  },
  {
   "cell_type": "code",
   "execution_count": 27,
   "metadata": {},
   "outputs": [],
   "source": [
    "# dm=0, it signifies PV-DBOW\n",
    "model_dbow= Doc2Vec(\n",
    "    dm=0,\n",
    "    vector_size=200,\n",
    "    min_count=2,\n",
    "    sample=0,\n",
    "    workers=four_cores,\n",
    "    hs=0,\n",
    "    seed= 42,\n",
    "    negative=5\n",
    ")"
   ]
  },
  {
   "cell_type": "code",
   "execution_count": 28,
   "metadata": {},
   "outputs": [],
   "source": [
    "model_dbow.build_vocab(tagged_train)"
   ]
  },
  {
   "cell_type": "code",
   "execution_count": 29,
   "metadata": {},
   "outputs": [
    {
     "name": "stdout",
     "output_type": "stream",
     "text": [
      "Word terrible appeared 130 times in the training corpus.\n"
     ]
    }
   ],
   "source": [
    "# Word Apperance Count\n",
    "def word_count(word:str):\n",
    "    print(f\"Word {word} appeared {model_dbow.wv.get_vecattr(word, 'count')} times in the training corpus.\")\n",
    "\n",
    "\n",
    "word_count(\"terrible\")"
   ]
  },
  {
   "cell_type": "code",
   "execution_count": 30,
   "metadata": {},
   "outputs": [],
   "source": [
    "# Next, train the model on the corpus.\n",
    "model_dbow.train(\n",
    "                tagged_train,\n",
    "                total_examples=model_dbow.corpus_count,\n",
    "                epochs=100,\n",
    ")"
   ]
  },
  {
   "cell_type": "code",
   "execution_count": 31,
   "metadata": {},
   "outputs": [
    {
     "data": {
      "text/plain": [
       "0.025"
      ]
     },
     "execution_count": 31,
     "metadata": {},
     "output_type": "execute_result"
    }
   ],
   "source": [
    "# checking the alpha value\n",
    "model_dbow.alpha"
   ]
  },
  {
   "cell_type": "code",
   "execution_count": 32,
   "metadata": {},
   "outputs": [],
   "source": [
    "# Saving the model\n",
    "# model_dbow.save(\"pv_dbow_50.model\")"
   ]
  },
  {
   "cell_type": "code",
   "execution_count": 33,
   "metadata": {},
   "outputs": [],
   "source": [
    "# https://github.com/RaRe-Technologies/movie-plots-by-genre/blob/master/ipynb_with_output/Document%20classification%20with%20word%20embeddings%20tutorial%20-%20with%20output.ipynb\n",
    "def vec_for_learning(model, tagged_docs):\n",
    "    sents = tagged_docs.values\n",
    "    y, X = zip(*[(doc.tags[0], model.infer_vector(doc.words, epochs=100)) for doc in sents])\n",
    "    return X,y"
   ]
  },
  {
   "cell_type": "code",
   "execution_count": 34,
   "metadata": {},
   "outputs": [],
   "source": [
    "X_train, y_train = vec_for_learning(model_dbow, tagged_train)\n",
    "X_test, y_test = vec_for_learning(model_dbow, tagged_test)"
   ]
  },
  {
   "cell_type": "code",
   "execution_count": 35,
   "metadata": {},
   "outputs": [
    {
     "name": "stdout",
     "output_type": "stream",
     "text": [
      "(array([ 0.42421886, -0.11489373,  0.35783094, -0.49387023,  0.19334373,\n",
      "       -0.20919158, -0.44317976,  0.46532506,  0.5676636 ,  0.37687624,\n",
      "        0.5183929 , -0.49556354,  0.03390685, -0.20074955, -0.17102346,\n",
      "       -0.29408666,  0.05592924, -0.39774978,  0.23590523, -0.19922511,\n",
      "       -0.1542377 ,  0.12414379,  0.05419288,  0.36461025,  0.12157524,\n",
      "        0.19566639, -0.22380641,  0.03492203,  0.37786803, -0.03785505,\n",
      "        0.2733289 ,  0.17170747,  0.25664634, -0.19536446,  0.22281785,\n",
      "        0.19423287,  0.2644723 ,  0.1867493 , -0.1213666 , -0.1393592 ,\n",
      "       -0.07926117, -0.0601358 , -0.20327483, -0.16798283,  0.18722811,\n",
      "        0.30287376, -0.14598733,  0.06322215,  0.04096638, -0.27620578,\n",
      "        0.44757318,  0.40543994, -0.07298803,  0.20983487,  0.2412049 ,\n",
      "        0.36674622,  0.28944546, -0.4550699 , -0.25146374,  0.31863406,\n",
      "        0.11622699,  0.11752496,  0.21632577,  0.09516273, -0.2658448 ,\n",
      "        0.0266589 , -0.18994108, -0.25441658,  0.0674338 , -0.01851289,\n",
      "        0.27648067, -0.0343772 ,  0.26065376,  0.09980697, -0.21506591,\n",
      "       -0.11263066, -0.19489214, -0.1793541 , -0.01542496, -0.26792648,\n",
      "       -0.48747012, -0.19827221, -0.23393093, -0.1330542 , -0.25252098,\n",
      "        0.33245292,  0.24317895, -0.34453413, -0.02304089, -0.01518668,\n",
      "        0.17354628, -0.14788203, -0.01964238,  0.2699631 ,  0.02489572,\n",
      "        0.3235388 , -0.16331005, -0.03525359, -0.07951581, -0.17783672,\n",
      "       -0.1154978 , -0.3261708 ,  0.16811998,  0.37601078,  0.2912895 ,\n",
      "        0.24382356,  0.24419807, -0.21869604, -0.16655429, -0.18878679,\n",
      "       -0.07406565, -0.19750078, -0.08325422, -0.17040361,  0.25554278,\n",
      "        0.3133293 , -0.14389832,  0.40567383,  0.22061045, -0.30462056,\n",
      "        0.07498764,  0.132028  ,  0.06169348,  0.3059122 , -0.06809724,\n",
      "        0.20280728,  0.14336517,  0.19516322,  0.25144064, -0.16146426,\n",
      "        0.03003384,  0.23581792, -0.04336661, -0.09738855, -0.2389658 ,\n",
      "       -0.04060802, -0.10013494, -0.02570316, -0.00392019, -0.01295012,\n",
      "       -0.00433084, -0.0335284 ,  0.02528418, -0.03362545, -0.02687943,\n",
      "       -0.05810801, -0.02223198,  0.03235544, -0.03128961, -0.00386497,\n",
      "        0.01077455, -0.00709358, -0.17628026, -0.30647406, -0.36207932,\n",
      "       -0.40925276,  0.12321858, -0.26380256, -0.07921489, -0.43758884,\n",
      "        0.02498907,  0.00166983, -0.01946186, -0.10811699, -0.02576643,\n",
      "       -0.01820891,  0.10521143,  0.07418344,  0.05343052,  0.07826523,\n",
      "        0.2662937 , -0.01447726, -0.24225128, -0.24005355,  0.08413658,\n",
      "        0.10222861, -0.25616276, -0.16832185, -0.18837903, -0.1034825 ,\n",
      "        0.24097112, -0.18173803, -0.21275623,  0.2370391 ,  0.06442508,\n",
      "       -0.13284591, -0.03683615, -0.00507922, -0.06646986,  0.01824919,\n",
      "        0.06230931, -0.1389735 , -0.18170069,  0.0210287 ,  0.14192031,\n",
      "        0.09710628, -0.02156701,  0.14057545, -0.03171055, -0.12420923],\n",
      "      dtype=float32), array([-2.01371405e-02, -4.90013570e-01, -7.25228116e-02, -5.61667718e-02,\n",
      "        5.15699327e-01,  3.70549075e-02, -1.54729545e-01,  1.49200201e-01,\n",
      "        1.87279493e-01,  2.94978052e-01,  1.03715435e-01, -3.26712191e-01,\n",
      "        1.93768024e-01, -2.75502186e-02, -3.50061953e-01, -1.32643461e-01,\n",
      "        1.85713306e-01, -6.95360303e-01,  2.72583812e-01, -8.34429786e-02,\n",
      "       -1.40612677e-01,  1.14086578e-02,  2.10703194e-01,  5.57866931e-01,\n",
      "        4.67091978e-01,  6.35026872e-01, -3.99709791e-01, -9.97844636e-02,\n",
      "        1.14843094e+00, -8.46876502e-02,  6.85316801e-01,  2.97697723e-01,\n",
      "       -2.46714339e-01, -6.51001930e-01, -1.11820288e-01,  3.49304341e-02,\n",
      "        6.67086020e-02,  6.12351358e-01,  3.96957457e-01, -4.68745053e-01,\n",
      "        5.76678336e-01, -4.85425383e-01, -4.61286068e-01, -9.88603830e-01,\n",
      "       -5.32955416e-02,  1.13611054e+00,  3.50280926e-02,  5.70948362e-01,\n",
      "        2.59705633e-01,  7.58673787e-01,  4.91668247e-02,  2.54720539e-01,\n",
      "       -5.96151888e-01, -4.24062878e-01,  3.15138549e-01, -1.87938869e-01,\n",
      "        4.61328834e-01,  1.20489992e-01, -5.60543299e-01,  6.26882732e-01,\n",
      "        6.31770670e-01, -6.17362022e-01,  1.43770531e-01, -6.14430368e-01,\n",
      "       -1.56012043e-01,  1.11174881e-01, -2.52609789e-01, -1.62904829e-01,\n",
      "        2.13637084e-01, -1.49876310e-03,  1.37763649e-01, -1.66527063e-01,\n",
      "        5.16565859e-01,  1.48406252e-01, -3.30102772e-01, -2.67748147e-01,\n",
      "       -3.29516530e-01, -2.76040316e-01,  9.42544267e-02, -5.23997307e-01,\n",
      "        2.01190123e-03,  1.03774130e-01,  2.75199562e-01, -2.67960131e-01,\n",
      "        7.05097169e-02,  8.74587968e-02,  7.67096952e-02,  3.24406207e-01,\n",
      "        3.09314668e-01, -1.89318880e-01,  5.45681976e-02,  3.70161027e-01,\n",
      "        9.77251008e-02,  1.49432078e-01, -9.25244950e-03, -2.78288245e-01,\n",
      "        7.77688203e-03,  2.31851190e-01,  4.62818772e-01,  1.09927114e-02,\n",
      "        1.95513934e-01, -7.66651258e-02,  3.38561207e-01,  2.15131298e-01,\n",
      "       -9.57691148e-02,  1.37996569e-01,  1.76729381e-01, -7.90934414e-02,\n",
      "       -9.81337354e-02, -4.76576388e-02, -2.59838663e-02,  1.08058691e-01,\n",
      "       -8.37143511e-02,  2.39591062e-01, -2.26643234e-01, -1.74435079e-01,\n",
      "       -6.92327246e-02, -2.14173019e-01, -5.41360974e-02,  1.77641764e-01,\n",
      "        8.07074085e-02, -1.30179688e-01, -1.00127518e-01, -9.39927176e-02,\n",
      "        1.53576046e-01,  8.66532966e-04, -1.58410713e-01,  6.98819384e-02,\n",
      "        4.58003804e-02,  8.30518186e-01, -2.45490924e-01, -2.00620368e-01,\n",
      "        4.85540032e-01, -1.51994154e-01,  8.35435688e-02,  4.17764410e-02,\n",
      "       -4.74136263e-01, -7.75988996e-02,  1.71554741e-02, -6.90932199e-02,\n",
      "       -1.68176834e-02, -2.51212269e-01,  1.09656960e-01, -1.50420502e-01,\n",
      "       -1.25033170e-01, -2.32470259e-01, -6.78579584e-02,  1.76749721e-01,\n",
      "       -1.98319092e-01,  2.46000625e-02,  1.09604761e-01, -1.03834778e-01,\n",
      "        1.55746281e-01,  6.45455793e-02,  1.44512132e-01,  8.39837193e-02,\n",
      "       -8.16703141e-02,  4.72595431e-02,  4.58902493e-03,  1.37878612e-01,\n",
      "       -1.03514753e-01, -3.05408500e-02,  4.63141240e-02,  3.43391905e-03,\n",
      "        4.23874520e-02, -4.21284810e-02, -6.30643293e-02, -1.71995759e-02,\n",
      "       -6.70056194e-02,  3.30871701e-01,  3.51347804e-01, -2.06811905e-01,\n",
      "        4.48392689e-01,  5.62792242e-01, -6.35669902e-02, -1.02620296e-01,\n",
      "        1.54792979e-01, -1.94565654e-01,  4.95234132e-02,  1.41004652e-01,\n",
      "        3.09264064e-01, -1.62223861e-01,  6.26269460e-01, -2.20269397e-01,\n",
      "       -1.54194012e-01, -3.72995138e-02,  8.57384950e-02,  3.65956426e-01,\n",
      "        1.52231485e-01,  2.79217865e-02,  4.74751070e-02,  4.46359999e-02,\n",
      "       -5.11690378e-01, -4.83411886e-02,  3.43874216e-01,  7.75463104e-01,\n",
      "        1.09319650e-01,  2.27348387e-01, -2.48331949e-01, -7.19066635e-02],\n",
      "      dtype=float32))\n",
      "(-1, 1)\n"
     ]
    }
   ],
   "source": [
    "print(X_train[:2])\n",
    "print(y_train[:2])"
   ]
  },
  {
   "cell_type": "code",
   "execution_count": 36,
   "metadata": {},
   "outputs": [],
   "source": [
    "models = {\n",
    "    \"DT\": DecisionTreeClassifier(max_depth=3,random_state=42),\n",
    "    \"RF\": RandomForestClassifier(max_depth=3,random_state=42),\n",
    "    \"GB\": GradientBoostingClassifier(max_depth=3,random_state=42),\n",
    "    \"KNN\": KNeighborsClassifier(),\n",
    "    # \"MNB\": MultinomialNB(),\n",
    "    \"LR\": LogisticRegression(multi_class='multinomial',solver='lbfgs'),\n",
    "    \"HGB\": HistGradientBoostingClassifier(max_depth=3,random_state=42)\n",
    "}"
   ]
  },
  {
   "cell_type": "code",
   "execution_count": 37,
   "metadata": {},
   "outputs": [],
   "source": [
    "model_results_f1_macro = []\n",
    "model_names = []\n",
    "model_mean = []"
   ]
  },
  {
   "cell_type": "code",
   "execution_count": 38,
   "metadata": {},
   "outputs": [
    {
     "name": "stdout",
     "output_type": "stream",
     "text": [
      "DecisionTreeClassifier(max_depth=3, random_state=42)\n",
      "RandomForestClassifier(max_depth=3, random_state=42)\n",
      "GradientBoostingClassifier(random_state=42)\n",
      "KNeighborsClassifier()\n",
      "LogisticRegression(multi_class='multinomial')\n",
      "HistGradientBoostingClassifier(max_depth=3, random_state=42)\n"
     ]
    }
   ],
   "source": [
    "my_cv = StratifiedShuffleSplit(n_splits=5,test_size=.1,random_state=42) # 10% for validation \n",
    "scoring = 'f1_macro'\n",
    "for name, model in models.items():\n",
    "    model_names.append(name) # append each name of the model\n",
    "    print(model) # print the model name for checks\n",
    "    cv_results = cross_val_score(model,X_train,y_train,scoring=scoring,cv=my_cv,n_jobs=-2) \n",
    "    cv_results_list = cv_results.tolist() # Turning the array to a list\n",
    "    model_results_f1_macro.append(cv_results_list) # append validation results\n",
    "    model_mean.append(cv_results.mean()) # append the mean"
   ]
  },
  {
   "cell_type": "code",
   "execution_count": 39,
   "metadata": {},
   "outputs": [
    {
     "name": "stdout",
     "output_type": "stream",
     "text": [
      "[[0.49011032771206, 0.493751649745693, 0.5043529412229479, 0.5021255130531762, 0.49941300608274664], [0.5269556938042316, 0.5208147988711914, 0.5262897197188265, 0.531162943526689, 0.5225458213033871], [0.6680902057006212, 0.6437658497055305, 0.625601974259061, 0.6581614678639557, 0.6175077602165439], [0.6363100363446429, 0.6276594763824314, 0.6548870324392178, 0.628235356519908, 0.6525252904641797], [0.550030525030525, 0.5392075882271762, 0.5380640003320575, 0.547716903069637, 0.5388911222071435], [0.6590023838981262, 0.6413384083413195, 0.659376020906859, 0.6555330629409276, 0.631462076698104]]\n",
      "['DT', 'RF', 'GB', 'KNN', 'LR', 'HGB']\n",
      "[0.49795068756332483, 0.5255537954448651, 0.6426254515491425, 0.6399234384300759, 0.5427820277733079, 0.6493423905570672]\n"
     ]
    }
   ],
   "source": [
    "print(model_results_f1_macro)\n",
    "print(model_names)\n",
    "print(model_mean)"
   ]
  },
  {
   "cell_type": "code",
   "execution_count": 40,
   "metadata": {},
   "outputs": [],
   "source": [
    "# Creating a Dictionary of results\n",
    "f1score_result_dict = dict(zip(model_names,model_results_f1_macro))\n",
    "f1score_mean_dict = dict(zip(model_names,model_mean))"
   ]
  },
  {
   "cell_type": "code",
   "execution_count": 41,
   "metadata": {},
   "outputs": [],
   "source": [
    "# Creating a Dataframe of results\n",
    "f1score_result_frame = pd.DataFrame(f1score_result_dict)\n",
    "f1score_mean_frame = pd.Series(f1score_mean_dict).to_frame('mean_f1_score').reset_index()\n",
    "f1score_mean_frame.rename(columns={'index':'models'},inplace=True)"
   ]
  },
  {
   "cell_type": "code",
   "execution_count": 42,
   "metadata": {},
   "outputs": [
    {
     "data": {
      "text/html": [
       "<div>\n",
       "<style scoped>\n",
       "    .dataframe tbody tr th:only-of-type {\n",
       "        vertical-align: middle;\n",
       "    }\n",
       "\n",
       "    .dataframe tbody tr th {\n",
       "        vertical-align: top;\n",
       "    }\n",
       "\n",
       "    .dataframe thead th {\n",
       "        text-align: right;\n",
       "    }\n",
       "</style>\n",
       "<table border=\"1\" class=\"dataframe\">\n",
       "  <thead>\n",
       "    <tr style=\"text-align: right;\">\n",
       "      <th></th>\n",
       "      <th>DT</th>\n",
       "      <th>RF</th>\n",
       "      <th>GB</th>\n",
       "      <th>KNN</th>\n",
       "      <th>LR</th>\n",
       "      <th>HGB</th>\n",
       "    </tr>\n",
       "  </thead>\n",
       "  <tbody>\n",
       "    <tr>\n",
       "      <th>0</th>\n",
       "      <td>0.490110</td>\n",
       "      <td>0.526956</td>\n",
       "      <td>0.668090</td>\n",
       "      <td>0.636310</td>\n",
       "      <td>0.550031</td>\n",
       "      <td>0.659002</td>\n",
       "    </tr>\n",
       "    <tr>\n",
       "      <th>1</th>\n",
       "      <td>0.493752</td>\n",
       "      <td>0.520815</td>\n",
       "      <td>0.643766</td>\n",
       "      <td>0.627659</td>\n",
       "      <td>0.539208</td>\n",
       "      <td>0.641338</td>\n",
       "    </tr>\n",
       "    <tr>\n",
       "      <th>2</th>\n",
       "      <td>0.504353</td>\n",
       "      <td>0.526290</td>\n",
       "      <td>0.625602</td>\n",
       "      <td>0.654887</td>\n",
       "      <td>0.538064</td>\n",
       "      <td>0.659376</td>\n",
       "    </tr>\n",
       "    <tr>\n",
       "      <th>3</th>\n",
       "      <td>0.502126</td>\n",
       "      <td>0.531163</td>\n",
       "      <td>0.658161</td>\n",
       "      <td>0.628235</td>\n",
       "      <td>0.547717</td>\n",
       "      <td>0.655533</td>\n",
       "    </tr>\n",
       "    <tr>\n",
       "      <th>4</th>\n",
       "      <td>0.499413</td>\n",
       "      <td>0.522546</td>\n",
       "      <td>0.617508</td>\n",
       "      <td>0.652525</td>\n",
       "      <td>0.538891</td>\n",
       "      <td>0.631462</td>\n",
       "    </tr>\n",
       "  </tbody>\n",
       "</table>\n",
       "</div>"
      ],
      "text/plain": [
       "         DT        RF        GB       KNN        LR       HGB\n",
       "0  0.490110  0.526956  0.668090  0.636310  0.550031  0.659002\n",
       "1  0.493752  0.520815  0.643766  0.627659  0.539208  0.641338\n",
       "2  0.504353  0.526290  0.625602  0.654887  0.538064  0.659376\n",
       "3  0.502126  0.531163  0.658161  0.628235  0.547717  0.655533\n",
       "4  0.499413  0.522546  0.617508  0.652525  0.538891  0.631462"
      ]
     },
     "execution_count": 42,
     "metadata": {},
     "output_type": "execute_result"
    }
   ],
   "source": [
    "f1score_result_frame"
   ]
  },
  {
   "cell_type": "code",
   "execution_count": 43,
   "metadata": {},
   "outputs": [],
   "source": [
    "f1score_result_frame.to_csv(\"validation_doc2vec/doc2vec_f1score_results.csv\",index=False)"
   ]
  },
  {
   "cell_type": "code",
   "execution_count": 44,
   "metadata": {},
   "outputs": [
    {
     "data": {
      "text/html": [
       "<div>\n",
       "<style scoped>\n",
       "    .dataframe tbody tr th:only-of-type {\n",
       "        vertical-align: middle;\n",
       "    }\n",
       "\n",
       "    .dataframe tbody tr th {\n",
       "        vertical-align: top;\n",
       "    }\n",
       "\n",
       "    .dataframe thead th {\n",
       "        text-align: right;\n",
       "    }\n",
       "</style>\n",
       "<table border=\"1\" class=\"dataframe\">\n",
       "  <thead>\n",
       "    <tr style=\"text-align: right;\">\n",
       "      <th></th>\n",
       "      <th>models</th>\n",
       "      <th>mean_f1_score</th>\n",
       "    </tr>\n",
       "  </thead>\n",
       "  <tbody>\n",
       "    <tr>\n",
       "      <th>5</th>\n",
       "      <td>HGB</td>\n",
       "      <td>0.649342</td>\n",
       "    </tr>\n",
       "    <tr>\n",
       "      <th>2</th>\n",
       "      <td>GB</td>\n",
       "      <td>0.642625</td>\n",
       "    </tr>\n",
       "    <tr>\n",
       "      <th>3</th>\n",
       "      <td>KNN</td>\n",
       "      <td>0.639923</td>\n",
       "    </tr>\n",
       "    <tr>\n",
       "      <th>4</th>\n",
       "      <td>LR</td>\n",
       "      <td>0.542782</td>\n",
       "    </tr>\n",
       "    <tr>\n",
       "      <th>1</th>\n",
       "      <td>RF</td>\n",
       "      <td>0.525554</td>\n",
       "    </tr>\n",
       "    <tr>\n",
       "      <th>0</th>\n",
       "      <td>DT</td>\n",
       "      <td>0.497951</td>\n",
       "    </tr>\n",
       "  </tbody>\n",
       "</table>\n",
       "</div>"
      ],
      "text/plain": [
       "  models  mean_f1_score\n",
       "5    HGB       0.649342\n",
       "2     GB       0.642625\n",
       "3    KNN       0.639923\n",
       "4     LR       0.542782\n",
       "1     RF       0.525554\n",
       "0     DT       0.497951"
      ]
     },
     "execution_count": 44,
     "metadata": {},
     "output_type": "execute_result"
    }
   ],
   "source": [
    "f1score_mean_frame.sort_values(by='mean_f1_score',ascending=False)"
   ]
  },
  {
   "cell_type": "code",
   "execution_count": 45,
   "metadata": {},
   "outputs": [],
   "source": [
    "f1score_mean_frame.to_csv(\"validation_doc2vec/doc2vec_f1score_mean_results.csv\")"
   ]
  },
  {
   "cell_type": "code",
   "execution_count": 46,
   "metadata": {},
   "outputs": [
    {
     "data": {
      "image/png": "[encoded data removed]",
      "text/plain": [
       "<Figure size 720x360 with 1 Axes>"
      ]
     },
     "metadata": {},
     "output_type": "display_data"
    }
   ],
   "source": [
    "sns.set_theme(style='darkgrid')\n",
    "fig, ax = plt.subplots(figsize=(10,5))\n",
    "sns.boxplot(data=f1score_result_frame)\n",
    "ax.set_xticklabels(model_names)\n",
    "fig.suptitle('Algorithm Comparison')\n",
    "plt.show()"
   ]
  },
  {
   "cell_type": "markdown",
   "metadata": {},
   "source": [
    "Based off the plot above, the top three algorithms are;\n",
    "\n",
    "1. HistGradientBoostingClassifier\n",
    "2. GradientBoostingClassifier\n",
    "3. KNN"
   ]
  },
  {
   "cell_type": "code",
   "execution_count": 48,
   "metadata": {},
   "outputs": [],
   "source": [
    "from sklearn.model_selection import GridSearchCV"
   ]
  },
  {
   "cell_type": "code",
   "execution_count": 49,
   "metadata": {},
   "outputs": [],
   "source": [
    "# Without PCA\n",
    "pipe = Pipeline([('clf',HistGradientBoostingClassifier(max_depth=3,random_state=42))])"
   ]
  },
  {
   "cell_type": "code",
   "execution_count": 50,
   "metadata": {},
   "outputs": [],
   "source": [
    "paramter_grid = {\n",
    "                'clf__learning_rate':[0.001,0.01,0.1,1],\n",
    "                'clf__max_iter':[100,200,300],\n",
    "                'clf__max_leaf_nodes':[20,30,31],\n",
    "                'clf__min_samples_leaf':[20,50,80,110],\n",
    "                'clf__warm_start':[True,False],\n",
    "                }\n",
    "my_cv = StratifiedShuffleSplit(n_splits=5,test_size=.1,random_state=42)"
   ]
  },
  {
   "cell_type": "code",
   "execution_count": 51,
   "metadata": {},
   "outputs": [
    {
     "data": {
      "text/plain": [
       "GridSearchCV(cv=StratifiedShuffleSplit(n_splits=5, random_state=42, test_size=0.1,\n",
       "            train_size=None),\n",
       "             estimator=Pipeline(steps=[('clf',\n",
       "                                        HistGradientBoostingClassifier(max_depth=3,\n",
       "                                                                       random_state=42))]),\n",
       "             param_grid={'clf__learning_rate': [0.001, 0.01, 0.1, 1],\n",
       "                         'clf__max_iter': [100, 200, 300],\n",
       "                         'clf__max_leaf_nodes': [20, 30, 31],\n",
       "                         'clf__min_samples_leaf': [20, 50, 80, 110],\n",
       "                         'clf__warm_start': [True, False]},\n",
       "             scoring='f1_macro')"
      ]
     },
     "execution_count": 51,
     "metadata": {},
     "output_type": "execute_result"
    }
   ],
   "source": [
    "mygrid = GridSearchCV(pipe,param_grid=paramter_grid,cv=my_cv,scoring='f1_macro')\n",
    "mygrid.fit(X_train,y_train)"
   ]
  },
  {
   "cell_type": "code",
   "execution_count": 52,
   "metadata": {},
   "outputs": [
    {
     "name": "stdout",
     "output_type": "stream",
     "text": [
      "Best params: {'clf__learning_rate': 0.1, 'clf__max_iter': 300, 'clf__max_leaf_nodes': 20, 'clf__min_samples_leaf': 20, 'clf__warm_start': True}\n",
      "\n",
      "Best estimator: Pipeline(steps=[('clf',\n",
      "                 HistGradientBoostingClassifier(max_depth=3, max_iter=300,\n",
      "                                                max_leaf_nodes=20,\n",
      "                                                random_state=42,\n",
      "                                                warm_start=True))])\n",
      "\n",
      "Best validation score: 0.7338737117242984\n"
     ]
    }
   ],
   "source": [
    "print(f\"Best params: {mygrid.best_params_}\\n\")\n",
    "print(f\"Best estimator: {mygrid.best_estimator_}\\n\")\n",
    "print(f\"Best validation score: {mygrid.best_score_}\")"
   ]
  },
  {
   "cell_type": "code",
   "execution_count": 53,
   "metadata": {},
   "outputs": [
    {
     "data": {
      "text/plain": [
       "Pipeline(steps=[('clf',\n",
       "                 HistGradientBoostingClassifier(max_depth=3, max_iter=300,\n",
       "                                                max_leaf_nodes=20,\n",
       "                                                random_state=42,\n",
       "                                                warm_start=True))])"
      ]
     },
     "execution_count": 53,
     "metadata": {},
     "output_type": "execute_result"
    }
   ],
   "source": [
    "mygrid_trainset = mygrid.best_estimator_\n",
    "mygrid_trainset\n",
    "\n",
    "# HistGradientBoostingClassifier(max_depth=3, max_iter=300,\n",
    "#                                                 max_leaf_nodes=20,\n",
    "#                                                 random_state=42,\n",
    "#                                                 warm_start=True)\n",
    "# Best validation score: 0.7338737117242984"
   ]
  },
  {
   "cell_type": "code",
   "execution_count": 54,
   "metadata": {},
   "outputs": [
    {
     "name": "stdout",
     "output_type": "stream",
     "text": [
      "              precision    recall  f1-score   support\n",
      "\n",
      "          -1       0.98      0.78      0.87      1227\n",
      "           0       0.90      0.95      0.92      5040\n",
      "           1       0.96      0.96      0.96      7602\n",
      "\n",
      "    accuracy                           0.94     13869\n",
      "   macro avg       0.95      0.90      0.92     13869\n",
      "weighted avg       0.94      0.94      0.94     13869\n",
      "\n"
     ]
    },
    {
     "data": {
      "image/png": "[encoded data removed]",
      "text/plain": [
       "<Figure size 432x288 with 2 Axes>"
      ]
     },
     "metadata": {},
     "output_type": "display_data"
    }
   ],
   "source": [
    "# Classification report\n",
    "from sklearn.metrics import classification_report,confusion_matrix,ConfusionMatrixDisplay\n",
    "y_pred_train = mygrid_trainset.predict(X_train)\n",
    "\n",
    "\n",
    "\n",
    "y_train = y_train\n",
    "sns.set_theme(style='white')\n",
    "def class_report(model,y_train,y_pred_train):\n",
    "    print(classification_report(y_train,y_pred_train))\n",
    "    cm = confusion_matrix(y_train,y_pred_train,labels=model.classes_)\n",
    "    disp = ConfusionMatrixDisplay(confusion_matrix=cm, display_labels=model.classes_)\n",
    "    disp.plot()\n",
    "    plt.show()\n",
    "    disp.figure_.savefig('model_doc2vec_img/confusion_matrix_no_PCA_df_clean.png',dpi=300)\n",
    "\n",
    "\n",
    "class_report(mygrid_trainset,y_train,y_pred_train)"
   ]
  },
  {
   "cell_type": "markdown",
   "metadata": {},
   "source": [
    "**ROC on training data**"
   ]
  },
  {
   "cell_type": "code",
   "execution_count": 55,
   "metadata": {},
   "outputs": [],
   "source": [
    "hgb = HistGradientBoostingClassifier(max_depth=3, max_iter=300,\n",
    "                                                max_leaf_nodes=20,\n",
    "                                                random_state=42,\n",
    "                                                warm_start=True)"
   ]
  },
  {
   "cell_type": "code",
   "execution_count": 56,
   "metadata": {},
   "outputs": [
    {
     "data": {
      "text/plain": [
       "<AxesSubplot:title={'center':'ROC Curves for HistGradientBoostingClassifier'}, xlabel='False Positive Rate', ylabel='True Positive Rate'>"
      ]
     },
     "execution_count": 56,
     "metadata": {},
     "output_type": "execute_result"
    },
    {
     "data": {
      "image/png": "[encoded data removed]",
      "text/plain": [
       "<Figure size 576x396 with 1 Axes>"
      ]
     },
     "metadata": {},
     "output_type": "display_data"
    }
   ],
   "source": [
    "from yellowbrick.classifier import ROCAUC\n",
    "visualizer = ROCAUC(hgb, classes=[-1,0,1])\n",
    "\n",
    "visualizer.fit(X_train, y_train)        # Fit the training data to the visualizer\n",
    "visualizer.score(X_train, y_train)        # Evaluate the model on the training data\n",
    "visualizer.show(outpath=\"model_doc2vec_img/roc_without_PCA_df_clean.png\")\n",
    "# Without PCA: AUC score using OvR, macro-averaged over all classes: 0.99"
   ]
  },
  {
   "cell_type": "markdown",
   "metadata": {},
   "source": [
    "**Building the model with best estimator and testing on test data**"
   ]
  },
  {
   "cell_type": "code",
   "execution_count": 57,
   "metadata": {},
   "outputs": [
    {
     "data": {
      "text/plain": [
       "HistGradientBoostingClassifier(max_depth=3, max_iter=300, max_leaf_nodes=20,\n",
       "                               random_state=42, warm_start=True)"
      ]
     },
     "execution_count": 57,
     "metadata": {},
     "output_type": "execute_result"
    }
   ],
   "source": [
    "hgb = HistGradientBoostingClassifier(max_depth=3, max_iter=300,\n",
    "                                                max_leaf_nodes=20,\n",
    "                                                random_state=42,\n",
    "                                                warm_start=True)\n",
    "\n",
    "hgb.fit(X_train,y_train)"
   ]
  },
  {
   "cell_type": "code",
   "execution_count": 58,
   "metadata": {},
   "outputs": [
    {
     "name": "stdout",
     "output_type": "stream",
     "text": [
      "              precision    recall  f1-score   support\n",
      "\n",
      "          -1       0.62      0.29      0.40       307\n",
      "           0       0.71      0.79      0.75      1260\n",
      "           1       0.86      0.88      0.87      1901\n",
      "\n",
      "    accuracy                           0.79      3468\n",
      "   macro avg       0.73      0.65      0.67      3468\n",
      "weighted avg       0.79      0.79      0.78      3468\n",
      "\n"
     ]
    },
    {
     "data": {
      "image/png": "[encoded data removed]",
      "text/plain": [
       "<Figure size 576x396 with 2 Axes>"
      ]
     },
     "metadata": {},
     "output_type": "display_data"
    }
   ],
   "source": [
    "# Classification report test data\n",
    "y_test = y_test\n",
    "y_pred_test = hgb.predict(X_test)\n",
    "sns.set_theme(style='white')\n",
    "def class_report(model,y_test,pred):\n",
    "    print(classification_report(y_test,pred))\n",
    "    cm = confusion_matrix(y_test,pred,labels=model.classes_)\n",
    "    disp = ConfusionMatrixDisplay(confusion_matrix=cm, display_labels=model.classes_)\n",
    "    disp.plot()\n",
    "    plt.show()\n",
    "    disp.figure_.savefig('model_doc2vec_img/confusion_matrix_test_data_no_PCA_df_clean.png',dpi=300)\n",
    "\n",
    "\n",
    "class_report(hgb,y_test,y_pred_test)"
   ]
  },
  {
   "cell_type": "markdown",
   "metadata": {},
   "source": [
    "**ROC on test data**"
   ]
  },
  {
   "cell_type": "code",
   "execution_count": 59,
   "metadata": {},
   "outputs": [],
   "source": [
    "hgb = HistGradientBoostingClassifier(max_depth=3, max_iter=300,\n",
    "                                                max_leaf_nodes=20,\n",
    "                                                random_state=42,\n",
    "                                                warm_start=True)"
   ]
  },
  {
   "cell_type": "code",
   "execution_count": 60,
   "metadata": {},
   "outputs": [
    {
     "data": {
      "text/plain": [
       "<AxesSubplot:title={'center':'ROC Curves for HistGradientBoostingClassifier'}, xlabel='False Positive Rate', ylabel='True Positive Rate'>"
      ]
     },
     "execution_count": 60,
     "metadata": {},
     "output_type": "execute_result"
    },
    {
     "data": {
      "image/png": "[encoded data removed]",
      "text/plain": [
       "<Figure size 576x396 with 1 Axes>"
      ]
     },
     "metadata": {},
     "output_type": "display_data"
    }
   ],
   "source": [
    "from yellowbrick.classifier import ROCAUC\n",
    "visualizer = ROCAUC(hgb, classes=[-1,0,1])\n",
    "\n",
    "visualizer.fit(X_train, y_train)        # Fit the training data to the visualizer\n",
    "visualizer.score(X_test, y_test)          # Evaluate the model on the training data\n",
    "visualizer.show(outpath=\"model_doc2vec_img/roc_test_data_without_PCA_df_clean.png\")\n",
    "# Without PCA: AUC score using OvR, macro-averaged over all classes: 0.90"
   ]
  },
  {
   "cell_type": "markdown",
   "metadata": {},
   "source": [
    "## **Conclusion**"
   ]
  },
  {
   "cell_type": "markdown",
   "metadata": {},
   "source": [
    "- PV-DBOW with alpha = 0.025  and vector size of 200 didn't show much performance in terms of f1-score on the test data than vector size of (25-100). but the AUC macro score did improve by 1%.\n",
    "\n",
    "\n",
    "**Table of Values**\n",
    "\n",
    "dataset|f1_score_macro_avg|AUC_score_avg\n",
    "| ----------- | ----------- | ----------- |\n",
    "df_clean_(train data)|0.92|0.99\n",
    "df_clean (test data)|0.67|0.90"
   ]
  }
 ],
 "metadata": {
  "kernelspec": {
   "display_name": "Python 3.8.13",
   "language": "python",
   "name": "python3"
  },
  "language_info": {
   "codemirror_mode": {
    "name": "ipython",
    "version": 3
   },
   "file_extension": ".py",
   "mimetype": "text/x-python",
   "name": "python",
   "nbconvert_exporter": "python",
   "pygments_lexer": "ipython3",
   "version": "3.8.13"
  },
  "orig_nbformat": 4,
  "vscode": {
   "interpreter": {
    "hash": "0d3784fccdc90acbf957f8297e7e306d4c8b14c1a207bd5307d0795df9a8d77b"
   }
  }
 },
 "nbformat": 4,
 "nbformat_minor": 2
}
