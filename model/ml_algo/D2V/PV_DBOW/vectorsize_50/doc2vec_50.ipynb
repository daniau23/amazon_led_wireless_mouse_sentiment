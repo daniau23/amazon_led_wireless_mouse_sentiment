{
 "cells": [
  {
   "cell_type": "code",
   "execution_count": 1,
   "metadata": {},
   "outputs": [],
   "source": [
    "import pandas as pd\n",
    "import numpy as np \n",
    "import matplotlib.pyplot as plt\n",
    "# import plotly.express as px\n",
    "# import plotly.graph_objects as go\n",
    "# import plotly.figure_factory as ff\n",
    "import seaborn as sns\n",
    "import warnings\n",
    "warnings.filterwarnings(\"ignore\")\n",
    "# from nltk.tokenize import word_tokenize as wt \n",
    "# from collections import Counter\n",
    "import gensim\n",
    "# import textblob\n",
    "import spacy"
   ]
  },
  {
   "cell_type": "markdown",
   "metadata": {},
   "source": [
    "## **Plan of Action**\n",
    "\n",
    "- Load the data\n",
    "- Drop unnecessary columns and rows\n",
    "- Removal of stop words.\n",
    "- Feature engineering;\n",
    "    - Doc2Vec\n",
    "- Begin modelling\n",
    "    - Algorithms to use;\n",
    "        - k-Nearest Neighbors.\n",
    "        - Decision Trees.\n",
    "        - Random Forest.\n",
    "        - Gradient Boosting.\n",
    "        - Logistic Regression\n",
    "- Evaluation;\n",
    "    - F1-score_macro\n",
    "    - AUC\n",
    "    - ROC"
   ]
  },
  {
   "cell_type": "code",
   "execution_count": 2,
   "metadata": {},
   "outputs": [],
   "source": [
    "df_clean = pd.read_csv('../../../../cleaned_reviews.csv')"
   ]
  },
  {
   "cell_type": "code",
   "execution_count": 3,
   "metadata": {},
   "outputs": [
    {
     "data": {
      "text/plain": [
       "(17340, 4)"
      ]
     },
     "execution_count": 3,
     "metadata": {},
     "output_type": "execute_result"
    }
   ],
   "source": [
    "df_clean.shape"
   ]
  },
  {
   "cell_type": "code",
   "execution_count": 4,
   "metadata": {},
   "outputs": [
    {
     "data": {
      "text/plain": [
       "Index(['sentiments', 'cleaned_review', 'cleaned_review_length',\n",
       "       'review_score'],\n",
       "      dtype='object')"
      ]
     },
     "execution_count": 4,
     "metadata": {},
     "output_type": "execute_result"
    }
   ],
   "source": [
    "df_clean.columns"
   ]
  },
  {
   "cell_type": "code",
   "execution_count": 5,
   "metadata": {},
   "outputs": [],
   "source": [
    "df_clean.drop(columns=['cleaned_review_length','review_score'],inplace=True)"
   ]
  },
  {
   "cell_type": "markdown",
   "metadata": {},
   "source": [
    "Checking for Null Vaules and Duplicates"
   ]
  },
  {
   "cell_type": "code",
   "execution_count": 6,
   "metadata": {},
   "outputs": [
    {
     "data": {
      "text/plain": [
       "sentiments        0\n",
       "cleaned_review    3\n",
       "dtype: int64"
      ]
     },
     "execution_count": 6,
     "metadata": {},
     "output_type": "execute_result"
    }
   ],
   "source": [
    "df_clean.isna().sum()"
   ]
  },
  {
   "cell_type": "code",
   "execution_count": 7,
   "metadata": {},
   "outputs": [],
   "source": [
    "df_clean.dropna(inplace=True)"
   ]
  },
  {
   "cell_type": "code",
   "execution_count": 8,
   "metadata": {},
   "outputs": [
    {
     "data": {
      "text/plain": [
       "(17337, 2)"
      ]
     },
     "execution_count": 8,
     "metadata": {},
     "output_type": "execute_result"
    }
   ],
   "source": [
    "df_clean.shape"
   ]
  },
  {
   "cell_type": "code",
   "execution_count": 9,
   "metadata": {},
   "outputs": [],
   "source": [
    "from spacy.lang.en.stop_words import STOP_WORDS\n",
    "\n",
    "# print(STOP_WORDS,'\\n') # <- set of Spacy's default stop words\n",
    "all_stopwords = STOP_WORDS\n",
    "# Adding several stopwords\n",
    "# all_stopwords |= {'not',\"no\", \"n't\", 'n’t','n‘t','cannot','none','without','against'}\n",
    "\n",
    "# Removing several stop words\n",
    "all_stopwords-= {'not',\"no\", \"n't\", 'n’t','n‘t','cannot','none','without','against','off','against','too'}\n",
    "my_stop_words = set(all_stopwords) # My own stop words"
   ]
  },
  {
   "cell_type": "code",
   "execution_count": 10,
   "metadata": {},
   "outputs": [],
   "source": [
    "# print(my_stop_words)"
   ]
  },
  {
   "cell_type": "code",
   "execution_count": 11,
   "metadata": {},
   "outputs": [
    {
     "data": {
      "text/html": [
       "<div>\n",
       "<style scoped>\n",
       "    .dataframe tbody tr th:only-of-type {\n",
       "        vertical-align: middle;\n",
       "    }\n",
       "\n",
       "    .dataframe tbody tr th {\n",
       "        vertical-align: top;\n",
       "    }\n",
       "\n",
       "    .dataframe thead th {\n",
       "        text-align: right;\n",
       "    }\n",
       "</style>\n",
       "<table border=\"1\" class=\"dataframe\">\n",
       "  <thead>\n",
       "    <tr style=\"text-align: right;\">\n",
       "      <th></th>\n",
       "      <th>sentiments</th>\n",
       "      <th>cleaned_review</th>\n",
       "    </tr>\n",
       "  </thead>\n",
       "  <tbody>\n",
       "    <tr>\n",
       "      <th>0</th>\n",
       "      <td>positive</td>\n",
       "      <td>i wish would have gotten one earlier love it a...</td>\n",
       "    </tr>\n",
       "    <tr>\n",
       "      <th>1</th>\n",
       "      <td>neutral</td>\n",
       "      <td>i ve learned this lesson again open the packag...</td>\n",
       "    </tr>\n",
       "    <tr>\n",
       "      <th>2</th>\n",
       "      <td>neutral</td>\n",
       "      <td>it is so slow and lags find better option</td>\n",
       "    </tr>\n",
       "    <tr>\n",
       "      <th>3</th>\n",
       "      <td>neutral</td>\n",
       "      <td>roller ball stopped working within months of m...</td>\n",
       "    </tr>\n",
       "    <tr>\n",
       "      <th>4</th>\n",
       "      <td>neutral</td>\n",
       "      <td>i like the color and size but it few days out ...</td>\n",
       "    </tr>\n",
       "    <tr>\n",
       "      <th>...</th>\n",
       "      <td>...</td>\n",
       "      <td>...</td>\n",
       "    </tr>\n",
       "    <tr>\n",
       "      <th>17335</th>\n",
       "      <td>positive</td>\n",
       "      <td>i love this speaker and love can take it anywh...</td>\n",
       "    </tr>\n",
       "    <tr>\n",
       "      <th>17336</th>\n",
       "      <td>positive</td>\n",
       "      <td>i use it in my house easy to connect and loud ...</td>\n",
       "    </tr>\n",
       "    <tr>\n",
       "      <th>17337</th>\n",
       "      <td>positive</td>\n",
       "      <td>the bass is good and the battery is amazing mu...</td>\n",
       "    </tr>\n",
       "    <tr>\n",
       "      <th>17338</th>\n",
       "      <td>positive</td>\n",
       "      <td>love it</td>\n",
       "    </tr>\n",
       "    <tr>\n",
       "      <th>17339</th>\n",
       "      <td>neutral</td>\n",
       "      <td>mono speaker</td>\n",
       "    </tr>\n",
       "  </tbody>\n",
       "</table>\n",
       "<p>17337 rows × 2 columns</p>\n",
       "</div>"
      ],
      "text/plain": [
       "      sentiments                                     cleaned_review\n",
       "0       positive  i wish would have gotten one earlier love it a...\n",
       "1        neutral  i ve learned this lesson again open the packag...\n",
       "2        neutral          it is so slow and lags find better option\n",
       "3        neutral  roller ball stopped working within months of m...\n",
       "4        neutral  i like the color and size but it few days out ...\n",
       "...          ...                                                ...\n",
       "17335   positive  i love this speaker and love can take it anywh...\n",
       "17336   positive  i use it in my house easy to connect and loud ...\n",
       "17337   positive  the bass is good and the battery is amazing mu...\n",
       "17338   positive                                            love it\n",
       "17339    neutral                                       mono speaker\n",
       "\n",
       "[17337 rows x 2 columns]"
      ]
     },
     "execution_count": 11,
     "metadata": {},
     "output_type": "execute_result"
    }
   ],
   "source": [
    "df_clean"
   ]
  },
  {
   "cell_type": "code",
   "execution_count": 12,
   "metadata": {},
   "outputs": [],
   "source": [
    "nlp = spacy.load(\"en_core_web_sm\")"
   ]
  },
  {
   "cell_type": "code",
   "execution_count": 13,
   "metadata": {},
   "outputs": [],
   "source": [
    "def spacy_tokeniser(sent):\n",
    "    sent = sent.strip().lower()\n",
    "    doc = nlp(sent)\n",
    "    mytokens = [token.lemma_ for token in doc if token.text not in my_stop_words]\n",
    "    return mytokens"
   ]
  },
  {
   "cell_type": "code",
   "execution_count": 14,
   "metadata": {},
   "outputs": [],
   "source": [
    "df_clean['tokens']= df_clean['cleaned_review'].apply(spacy_tokeniser)"
   ]
  },
  {
   "cell_type": "code",
   "execution_count": 15,
   "metadata": {},
   "outputs": [
    {
     "data": {
      "text/html": [
       "<div>\n",
       "<style scoped>\n",
       "    .dataframe tbody tr th:only-of-type {\n",
       "        vertical-align: middle;\n",
       "    }\n",
       "\n",
       "    .dataframe tbody tr th {\n",
       "        vertical-align: top;\n",
       "    }\n",
       "\n",
       "    .dataframe thead th {\n",
       "        text-align: right;\n",
       "    }\n",
       "</style>\n",
       "<table border=\"1\" class=\"dataframe\">\n",
       "  <thead>\n",
       "    <tr style=\"text-align: right;\">\n",
       "      <th></th>\n",
       "      <th>sentiments</th>\n",
       "      <th>cleaned_review</th>\n",
       "      <th>tokens</th>\n",
       "    </tr>\n",
       "  </thead>\n",
       "  <tbody>\n",
       "    <tr>\n",
       "      <th>0</th>\n",
       "      <td>positive</td>\n",
       "      <td>i wish would have gotten one earlier love it a...</td>\n",
       "      <td>[wish, get, early, love, make, work, laptop, e...</td>\n",
       "    </tr>\n",
       "    <tr>\n",
       "      <th>1</th>\n",
       "      <td>neutral</td>\n",
       "      <td>i ve learned this lesson again open the packag...</td>\n",
       "      <td>[ve, learn, lesson, open, package, use, produc...</td>\n",
       "    </tr>\n",
       "    <tr>\n",
       "      <th>2</th>\n",
       "      <td>neutral</td>\n",
       "      <td>it is so slow and lags find better option</td>\n",
       "      <td>[slow, lag, find, well, option]</td>\n",
       "    </tr>\n",
       "    <tr>\n",
       "      <th>3</th>\n",
       "      <td>neutral</td>\n",
       "      <td>roller ball stopped working within months of m...</td>\n",
       "      <td>[roller, ball, stop, work, month, minimal, use...</td>\n",
       "    </tr>\n",
       "    <tr>\n",
       "      <th>4</th>\n",
       "      <td>neutral</td>\n",
       "      <td>i like the color and size but it few days out ...</td>\n",
       "      <td>[like, color, size, day, return, period, not, ...</td>\n",
       "    </tr>\n",
       "  </tbody>\n",
       "</table>\n",
       "</div>"
      ],
      "text/plain": [
       "  sentiments                                     cleaned_review  \\\n",
       "0   positive  i wish would have gotten one earlier love it a...   \n",
       "1    neutral  i ve learned this lesson again open the packag...   \n",
       "2    neutral          it is so slow and lags find better option   \n",
       "3    neutral  roller ball stopped working within months of m...   \n",
       "4    neutral  i like the color and size but it few days out ...   \n",
       "\n",
       "                                              tokens  \n",
       "0  [wish, get, early, love, make, work, laptop, e...  \n",
       "1  [ve, learn, lesson, open, package, use, produc...  \n",
       "2                    [slow, lag, find, well, option]  \n",
       "3  [roller, ball, stop, work, month, minimal, use...  \n",
       "4  [like, color, size, day, return, period, not, ...  "
      ]
     },
     "execution_count": 15,
     "metadata": {},
     "output_type": "execute_result"
    }
   ],
   "source": [
    "df_clean.head()"
   ]
  },
  {
   "cell_type": "code",
   "execution_count": 16,
   "metadata": {},
   "outputs": [],
   "source": [
    "# Dropping unnecessary columns\n",
    "df_clean.drop(columns=['cleaned_review'],inplace=True)"
   ]
  },
  {
   "cell_type": "markdown",
   "metadata": {},
   "source": [
    "Sentiment Mapping"
   ]
  },
  {
   "cell_type": "code",
   "execution_count": 17,
   "metadata": {},
   "outputs": [],
   "source": [
    "sentiment_mapping = {'negative':-1,'neutral':0,'positive':1}\n",
    "df_clean['sentiment_label'] = df_clean.sentiments.map(sentiment_mapping)"
   ]
  },
  {
   "cell_type": "code",
   "execution_count": 18,
   "metadata": {},
   "outputs": [],
   "source": [
    "df_clean.drop(columns=['sentiments'],inplace=True)"
   ]
  },
  {
   "cell_type": "code",
   "execution_count": 19,
   "metadata": {},
   "outputs": [],
   "source": [
    "from sklearn.pipeline import Pipeline\n",
    "from sklearn.model_selection import train_test_split,StratifiedShuffleSplit,cross_val_score\n",
    "\n",
    "# The algorithms\n",
    "from sklearn.tree import DecisionTreeClassifier\n",
    "from sklearn.ensemble import RandomForestClassifier,GradientBoostingClassifier,HistGradientBoostingClassifier\n",
    "from sklearn.neighbors import KNeighborsClassifier\n",
    "from sklearn.linear_model import LogisticRegression"
   ]
  },
  {
   "cell_type": "code",
   "execution_count": 20,
   "metadata": {},
   "outputs": [
    {
     "data": {
      "text/plain": [
       "Index(['tokens', 'sentiment_label'], dtype='object')"
      ]
     },
     "execution_count": 20,
     "metadata": {},
     "output_type": "execute_result"
    }
   ],
   "source": [
    "df_clean.columns"
   ]
  },
  {
   "cell_type": "code",
   "execution_count": 21,
   "metadata": {},
   "outputs": [],
   "source": [
    "train, test = train_test_split(df_clean,test_size=.2,random_state=42, \n",
    "                                            stratify=df_clean.sentiment_label)"
   ]
  },
  {
   "cell_type": "code",
   "execution_count": 22,
   "metadata": {},
   "outputs": [],
   "source": [
    "from gensim.models.doc2vec import Doc2Vec, TaggedDocument"
   ]
  },
  {
   "cell_type": "code",
   "execution_count": 23,
   "metadata": {},
   "outputs": [],
   "source": [
    "# Tagging the train ad test set\n",
    "\n",
    "# Tag train set \n",
    "tagged_train = train.apply(\n",
    "    lambda x: TaggedDocument(words=x[\"tokens\"],tags=[x.sentiment_label]),\n",
    "    axis=1\n",
    ")\n",
    "\n",
    "# Tag test set \n",
    "tagged_test = test.apply(\n",
    "    lambda x: TaggedDocument(words=x[\"tokens\"],tags=[x.sentiment_label]),\n",
    "    axis=1\n",
    ")"
   ]
  },
  {
   "cell_type": "code",
   "execution_count": 24,
   "metadata": {},
   "outputs": [
    {
     "data": {
      "text/plain": [
       "TaggedDocument(words=['pair', 'headphone', 'work', 'plan', 'buy', 'pair', 'current', 'pair', 'gotten', 'damage', 'put', 'pair', 'uneven', 'surface', 'wire', 'tug', 'too', 'knock', 'head', 'phone', 'accident', 'time', 'walk', 'wear', 'head', 'phone', 'drop', 'phone', 'cord', 'got', 'accidentally', 'tug', 'unplugged', 'phone', 'won', 'headphone', 'outside', 'room', 'anymore', 'room', 'organize', 'shouldn', 'end', 'knock', 'accident', 'anymore'], tags=[-1])"
      ]
     },
     "execution_count": 24,
     "metadata": {},
     "output_type": "execute_result"
    }
   ],
   "source": [
    "# looking into the tags\n",
    "tagged_train.values[0]"
   ]
  },
  {
   "cell_type": "code",
   "execution_count": 25,
   "metadata": {},
   "outputs": [
    {
     "data": {
      "text/plain": [
       "TaggedDocument(words=['break', 'right', 'run', 'return', 'window', 'came', 'narrow', 'move', 'link', 'event', 'not', 'don', 'know', 'problem'], tags=[-1])"
      ]
     },
     "execution_count": 25,
     "metadata": {},
     "output_type": "execute_result"
    }
   ],
   "source": [
    "tagged_test.values[0]"
   ]
  },
  {
   "cell_type": "markdown",
   "metadata": {},
   "source": [
    "### **Setting up DOC2VEC**"
   ]
  },
  {
   "cell_type": "code",
   "execution_count": 26,
   "metadata": {},
   "outputs": [
    {
     "data": {
      "text/plain": [
       "4"
      ]
     },
     "execution_count": 26,
     "metadata": {},
     "output_type": "execute_result"
    }
   ],
   "source": [
    "import multiprocessing\n",
    "cores = multiprocessing.cpu_count()\n",
    "cores # Mine is 8 cores\n",
    "four_cores = cores-4\n",
    "four_cores"
   ]
  },
  {
   "cell_type": "markdown",
   "metadata": {},
   "source": [
    "### **Building the Vocabulary**"
   ]
  },
  {
   "cell_type": "code",
   "execution_count": 27,
   "metadata": {},
   "outputs": [],
   "source": [
    "# dm=0, it signifies PV-DBOW\n",
    "model_dbow= Doc2Vec(\n",
    "    dm=0,\n",
    "    vector_size=50,\n",
    "    min_count=2,\n",
    "    sample=0,\n",
    "    workers=four_cores,\n",
    "    hs=0,\n",
    "    seed= 42,\n",
    "    negative=5\n",
    ")"
   ]
  },
  {
   "cell_type": "code",
   "execution_count": 28,
   "metadata": {},
   "outputs": [],
   "source": [
    "model_dbow.build_vocab(tagged_train)"
   ]
  },
  {
   "cell_type": "code",
   "execution_count": 29,
   "metadata": {},
   "outputs": [
    {
     "name": "stdout",
     "output_type": "stream",
     "text": [
      "Word terrible appeared 130 times in the training corpus.\n"
     ]
    }
   ],
   "source": [
    "# Word Apperance Count\n",
    "def word_count(word:str):\n",
    "    print(f\"Word {word} appeared {model_dbow.wv.get_vecattr(word, 'count')} times in the training corpus.\")\n",
    "\n",
    "\n",
    "word_count(\"terrible\")"
   ]
  },
  {
   "cell_type": "code",
   "execution_count": 30,
   "metadata": {},
   "outputs": [],
   "source": [
    "# Next, train the model on the corpus.\n",
    "model_dbow.train(\n",
    "                tagged_train,\n",
    "                total_examples=model_dbow.corpus_count,\n",
    "                epochs=100,\n",
    ")"
   ]
  },
  {
   "cell_type": "code",
   "execution_count": 31,
   "metadata": {},
   "outputs": [
    {
     "data": {
      "text/plain": [
       "0.025"
      ]
     },
     "execution_count": 31,
     "metadata": {},
     "output_type": "execute_result"
    }
   ],
   "source": [
    "# checking the alpha value\n",
    "model_dbow.alpha"
   ]
  },
  {
   "cell_type": "code",
   "execution_count": 32,
   "metadata": {},
   "outputs": [],
   "source": [
    "# Saving the model\n",
    "# model_dbow.save(\"pv_dbow_50.model\")"
   ]
  },
  {
   "cell_type": "code",
   "execution_count": 33,
   "metadata": {},
   "outputs": [],
   "source": [
    "# https://github.com/RaRe-Technologies/movie-plots-by-genre/blob/master/ipynb_with_output/Document%20classification%20with%20word%20embeddings%20tutorial%20-%20with%20output.ipynb\n",
    "def vec_for_learning(model, tagged_docs):\n",
    "    sents = tagged_docs.values\n",
    "    y, X = zip(*[(doc.tags[0], model.infer_vector(doc.words, epochs=100)) for doc in sents])\n",
    "    return X,y"
   ]
  },
  {
   "cell_type": "code",
   "execution_count": 34,
   "metadata": {},
   "outputs": [],
   "source": [
    "X_train, y_train = vec_for_learning(model_dbow, tagged_train)\n",
    "X_test, y_test = vec_for_learning(model_dbow, tagged_test)"
   ]
  },
  {
   "cell_type": "code",
   "execution_count": 35,
   "metadata": {},
   "outputs": [
    {
     "name": "stdout",
     "output_type": "stream",
     "text": [
      "(array([ 0.6423817 ,  1.0338335 ,  0.89015216, -0.89683527, -0.39208668,\n",
      "        0.7107592 ,  0.1629884 , -0.757066  , -0.21685028,  0.13237044,\n",
      "       -0.22789618,  0.7245098 ,  0.1206485 ,  0.04765553,  0.22703366,\n",
      "        0.8346385 ,  0.312991  , -0.3420675 , -0.0830976 ,  0.03278663,\n",
      "        0.05690225, -0.00256021,  0.04135739,  0.00363731, -0.02347359,\n",
      "       -0.02024485, -0.07981195, -0.35778424, -0.38947657, -0.22167651,\n",
      "        0.13470814, -0.30181953, -0.5078466 , -0.49050945, -0.27659112,\n",
      "       -0.2888864 , -0.36380434,  0.67945486, -0.23719896,  0.13183871,\n",
      "        0.30042487, -0.08037566,  0.09537022,  0.6200703 , -0.11607848,\n",
      "        0.40183046,  0.02717337, -0.16588989,  0.3037164 ,  0.05279271],\n",
      "      dtype=float32), array([ 0.78788096,  0.46606216, -0.07398125, -1.5302672 , -0.23758757,\n",
      "       -0.30981636,  0.08584339, -0.9024888 , -1.0442505 , -0.6362717 ,\n",
      "       -0.51200104,  1.491288  ,  0.08018002, -0.27065662,  0.30136168,\n",
      "       -0.01852323,  0.5393432 , -1.0202675 ,  0.6321727 , -0.09969175,\n",
      "       -0.49710315, -0.36631578,  0.01933939,  0.43263832, -1.4181491 ,\n",
      "        0.02764802, -0.6767569 , -0.48984215, -0.3410406 , -0.41230533,\n",
      "       -0.18398555,  0.27756843, -0.08595785,  0.00156773, -0.33362582,\n",
      "        0.8509548 ,  0.59356123, -0.8638619 , -0.22806844,  0.04395835,\n",
      "        0.69635165, -0.31907138,  0.01848691,  0.49359497,  0.04691804,\n",
      "        0.49372712,  0.36698306,  0.02568802, -0.0360458 , -0.30852056],\n",
      "      dtype=float32))\n",
      "(-1, 1)\n"
     ]
    }
   ],
   "source": [
    "print(X_train[:2])\n",
    "print(y_train[:2])"
   ]
  },
  {
   "cell_type": "code",
   "execution_count": 36,
   "metadata": {},
   "outputs": [],
   "source": [
    "models = {\n",
    "    \"DT\": DecisionTreeClassifier(max_depth=3,random_state=42),\n",
    "    \"RF\": RandomForestClassifier(max_depth=3,random_state=42),\n",
    "    \"GB\": GradientBoostingClassifier(max_depth=3,random_state=42),\n",
    "    \"KNN\": KNeighborsClassifier(),\n",
    "    # \"MNB\": MultinomialNB(),\n",
    "    \"LR\": LogisticRegression(multi_class='multinomial',solver='lbfgs'),\n",
    "    \"HGB\": HistGradientBoostingClassifier(max_depth=3,random_state=42)\n",
    "}"
   ]
  },
  {
   "cell_type": "code",
   "execution_count": 37,
   "metadata": {},
   "outputs": [],
   "source": [
    "model_results_f1_macro = []\n",
    "model_names = []\n",
    "model_mean = []"
   ]
  },
  {
   "cell_type": "code",
   "execution_count": 38,
   "metadata": {},
   "outputs": [
    {
     "name": "stdout",
     "output_type": "stream",
     "text": [
      "DecisionTreeClassifier(max_depth=3, random_state=42)\n",
      "RandomForestClassifier(max_depth=3, random_state=42)\n",
      "GradientBoostingClassifier(random_state=42)\n",
      "KNeighborsClassifier()\n",
      "LogisticRegression(multi_class='multinomial')\n",
      "HistGradientBoostingClassifier(max_depth=3, random_state=42)\n"
     ]
    }
   ],
   "source": [
    "my_cv = StratifiedShuffleSplit(n_splits=5,test_size=.1,random_state=42) # 10% for validation \n",
    "scoring = 'f1_macro'\n",
    "for name, model in models.items():\n",
    "    model_names.append(name) # append each name of the model\n",
    "    print(model) # print the model name for checks\n",
    "    cv_results = cross_val_score(model,X_train,y_train,scoring=scoring,cv=my_cv,n_jobs=-2) \n",
    "    cv_results_list = cv_results.tolist() # Turning the array to a list\n",
    "    model_results_f1_macro.append(cv_results_list) # append validation results\n",
    "    model_mean.append(cv_results.mean()) # append the mean"
   ]
  },
  {
   "cell_type": "code",
   "execution_count": 39,
   "metadata": {},
   "outputs": [
    {
     "name": "stdout",
     "output_type": "stream",
     "text": [
      "[[0.4845283855706682, 0.5007566877248308, 0.5055601892067844, 0.519914677735501, 0.5061381029122964], [0.5337699046890078, 0.5327711496937226, 0.5246382602019631, 0.540893580720836, 0.5373804974683232], [0.614732326356886, 0.6228270868305913, 0.6148933409068672, 0.6338189275477065, 0.6247230023011899], [0.6264809764070186, 0.6380204316668535, 0.6606918546795217, 0.6410255174428938, 0.6448364451843059], [0.5482412509717322, 0.5309777397240075, 0.5406217555535711, 0.5477662971620153, 0.5426637068012659], [0.6128294892502478, 0.639138057658539, 0.6287456204949677, 0.654674250662938, 0.6474775816881081]]\n",
      "['DT', 'RF', 'GB', 'KNN', 'LR', 'HGB']\n",
      "[0.5033796086300162, 0.5338906785547705, 0.6221989367886481, 0.6422110450761187, 0.5420541500425184, 0.6365729999509602]\n"
     ]
    }
   ],
   "source": [
    "print(model_results_f1_macro)\n",
    "print(model_names)\n",
    "print(model_mean)"
   ]
  },
  {
   "cell_type": "code",
   "execution_count": 40,
   "metadata": {},
   "outputs": [],
   "source": [
    "# Creating a Dictionary of results\n",
    "f1score_result_dict = dict(zip(model_names,model_results_f1_macro))\n",
    "f1score_mean_dict = dict(zip(model_names,model_mean))"
   ]
  },
  {
   "cell_type": "code",
   "execution_count": 41,
   "metadata": {},
   "outputs": [],
   "source": [
    "# Creating a Dataframe of results\n",
    "f1score_result_frame = pd.DataFrame(f1score_result_dict)\n",
    "f1score_mean_frame = pd.Series(f1score_mean_dict).to_frame('mean_f1_score').reset_index()\n",
    "f1score_mean_frame.rename(columns={'index':'models'},inplace=True)"
   ]
  },
  {
   "cell_type": "code",
   "execution_count": 42,
   "metadata": {},
   "outputs": [
    {
     "data": {
      "text/html": [
       "<div>\n",
       "<style scoped>\n",
       "    .dataframe tbody tr th:only-of-type {\n",
       "        vertical-align: middle;\n",
       "    }\n",
       "\n",
       "    .dataframe tbody tr th {\n",
       "        vertical-align: top;\n",
       "    }\n",
       "\n",
       "    .dataframe thead th {\n",
       "        text-align: right;\n",
       "    }\n",
       "</style>\n",
       "<table border=\"1\" class=\"dataframe\">\n",
       "  <thead>\n",
       "    <tr style=\"text-align: right;\">\n",
       "      <th></th>\n",
       "      <th>DT</th>\n",
       "      <th>RF</th>\n",
       "      <th>GB</th>\n",
       "      <th>KNN</th>\n",
       "      <th>LR</th>\n",
       "      <th>HGB</th>\n",
       "    </tr>\n",
       "  </thead>\n",
       "  <tbody>\n",
       "    <tr>\n",
       "      <th>0</th>\n",
       "      <td>0.484528</td>\n",
       "      <td>0.533770</td>\n",
       "      <td>0.614732</td>\n",
       "      <td>0.626481</td>\n",
       "      <td>0.548241</td>\n",
       "      <td>0.612829</td>\n",
       "    </tr>\n",
       "    <tr>\n",
       "      <th>1</th>\n",
       "      <td>0.500757</td>\n",
       "      <td>0.532771</td>\n",
       "      <td>0.622827</td>\n",
       "      <td>0.638020</td>\n",
       "      <td>0.530978</td>\n",
       "      <td>0.639138</td>\n",
       "    </tr>\n",
       "    <tr>\n",
       "      <th>2</th>\n",
       "      <td>0.505560</td>\n",
       "      <td>0.524638</td>\n",
       "      <td>0.614893</td>\n",
       "      <td>0.660692</td>\n",
       "      <td>0.540622</td>\n",
       "      <td>0.628746</td>\n",
       "    </tr>\n",
       "    <tr>\n",
       "      <th>3</th>\n",
       "      <td>0.519915</td>\n",
       "      <td>0.540894</td>\n",
       "      <td>0.633819</td>\n",
       "      <td>0.641026</td>\n",
       "      <td>0.547766</td>\n",
       "      <td>0.654674</td>\n",
       "    </tr>\n",
       "    <tr>\n",
       "      <th>4</th>\n",
       "      <td>0.506138</td>\n",
       "      <td>0.537380</td>\n",
       "      <td>0.624723</td>\n",
       "      <td>0.644836</td>\n",
       "      <td>0.542664</td>\n",
       "      <td>0.647478</td>\n",
       "    </tr>\n",
       "  </tbody>\n",
       "</table>\n",
       "</div>"
      ],
      "text/plain": [
       "         DT        RF        GB       KNN        LR       HGB\n",
       "0  0.484528  0.533770  0.614732  0.626481  0.548241  0.612829\n",
       "1  0.500757  0.532771  0.622827  0.638020  0.530978  0.639138\n",
       "2  0.505560  0.524638  0.614893  0.660692  0.540622  0.628746\n",
       "3  0.519915  0.540894  0.633819  0.641026  0.547766  0.654674\n",
       "4  0.506138  0.537380  0.624723  0.644836  0.542664  0.647478"
      ]
     },
     "execution_count": 42,
     "metadata": {},
     "output_type": "execute_result"
    }
   ],
   "source": [
    "f1score_result_frame"
   ]
  },
  {
   "cell_type": "code",
   "execution_count": 43,
   "metadata": {},
   "outputs": [],
   "source": [
    "f1score_result_frame.to_csv(\"validation_doc2vec/doc2vec_f1score_results.csv\",index=False)"
   ]
  },
  {
   "cell_type": "code",
   "execution_count": 44,
   "metadata": {},
   "outputs": [
    {
     "data": {
      "text/html": [
       "<div>\n",
       "<style scoped>\n",
       "    .dataframe tbody tr th:only-of-type {\n",
       "        vertical-align: middle;\n",
       "    }\n",
       "\n",
       "    .dataframe tbody tr th {\n",
       "        vertical-align: top;\n",
       "    }\n",
       "\n",
       "    .dataframe thead th {\n",
       "        text-align: right;\n",
       "    }\n",
       "</style>\n",
       "<table border=\"1\" class=\"dataframe\">\n",
       "  <thead>\n",
       "    <tr style=\"text-align: right;\">\n",
       "      <th></th>\n",
       "      <th>models</th>\n",
       "      <th>mean_f1_score</th>\n",
       "    </tr>\n",
       "  </thead>\n",
       "  <tbody>\n",
       "    <tr>\n",
       "      <th>3</th>\n",
       "      <td>KNN</td>\n",
       "      <td>0.642211</td>\n",
       "    </tr>\n",
       "    <tr>\n",
       "      <th>5</th>\n",
       "      <td>HGB</td>\n",
       "      <td>0.636573</td>\n",
       "    </tr>\n",
       "    <tr>\n",
       "      <th>2</th>\n",
       "      <td>GB</td>\n",
       "      <td>0.622199</td>\n",
       "    </tr>\n",
       "    <tr>\n",
       "      <th>4</th>\n",
       "      <td>LR</td>\n",
       "      <td>0.542054</td>\n",
       "    </tr>\n",
       "    <tr>\n",
       "      <th>1</th>\n",
       "      <td>RF</td>\n",
       "      <td>0.533891</td>\n",
       "    </tr>\n",
       "    <tr>\n",
       "      <th>0</th>\n",
       "      <td>DT</td>\n",
       "      <td>0.503380</td>\n",
       "    </tr>\n",
       "  </tbody>\n",
       "</table>\n",
       "</div>"
      ],
      "text/plain": [
       "  models  mean_f1_score\n",
       "3    KNN       0.642211\n",
       "5    HGB       0.636573\n",
       "2     GB       0.622199\n",
       "4     LR       0.542054\n",
       "1     RF       0.533891\n",
       "0     DT       0.503380"
      ]
     },
     "execution_count": 44,
     "metadata": {},
     "output_type": "execute_result"
    }
   ],
   "source": [
    "f1score_mean_frame.sort_values(by='mean_f1_score',ascending=False)"
   ]
  },
  {
   "cell_type": "code",
   "execution_count": 45,
   "metadata": {},
   "outputs": [],
   "source": [
    "f1score_mean_frame.to_csv(\"validation_doc2vec/doc2vec_f1score_mean_results.csv\")"
   ]
  },
  {
   "cell_type": "code",
   "execution_count": 46,
   "metadata": {},
   "outputs": [
    {
     "data": {
      "image/png": "[encoded data removed]",
      "text/plain": [
       "<Figure size 720x360 with 1 Axes>"
      ]
     },
     "metadata": {},
     "output_type": "display_data"
    }
   ],
   "source": [
    "sns.set_theme(style='darkgrid')\n",
    "fig, ax = plt.subplots(figsize=(10,5))\n",
    "sns.boxplot(data=f1score_result_frame)\n",
    "ax.set_xticklabels(model_names)\n",
    "fig.suptitle('Algorithm Comparison')\n",
    "plt.show()"
   ]
  },
  {
   "cell_type": "markdown",
   "metadata": {},
   "source": [
    "Based off the plot above, the top three algorithms are;\n",
    "1. KNN\n",
    "2. HistGradientBoostingClassifier\n",
    "3. GradientBoostingClassifier"
   ]
  },
  {
   "cell_type": "code",
   "execution_count": 47,
   "metadata": {},
   "outputs": [],
   "source": [
    "from sklearn.model_selection import GridSearchCV"
   ]
  },
  {
   "cell_type": "code",
   "execution_count": 48,
   "metadata": {},
   "outputs": [],
   "source": [
    "# Without PCA\n",
    "pipe = Pipeline([('clf',KNeighborsClassifier())])"
   ]
  },
  {
   "cell_type": "code",
   "execution_count": 49,
   "metadata": {},
   "outputs": [],
   "source": [
    "paramter_grid = {\n",
    "                'clf__n_neighbors':[2,3,4,5,6],\n",
    "                'clf__weights':[\"uniform\", \"distance\"],\n",
    "                'clf__leaf_size':[10,20,30],\n",
    "                'clf__p':[1,2],\n",
    "                }\n",
    "my_cv = StratifiedShuffleSplit(n_splits=5,test_size=.1,random_state=42)"
   ]
  },
  {
   "cell_type": "code",
   "execution_count": 50,
   "metadata": {},
   "outputs": [
    {
     "data": {
      "text/plain": [
       "GridSearchCV(cv=StratifiedShuffleSplit(n_splits=5, random_state=42, test_size=0.1,\n",
       "            train_size=None),\n",
       "             estimator=Pipeline(steps=[('clf', KNeighborsClassifier())]),\n",
       "             param_grid={'clf__leaf_size': [10, 20, 30],\n",
       "                         'clf__n_neighbors': [2, 3, 4, 5, 6], 'clf__p': [1, 2],\n",
       "                         'clf__weights': ['uniform', 'distance']},\n",
       "             scoring='f1_macro')"
      ]
     },
     "execution_count": 50,
     "metadata": {},
     "output_type": "execute_result"
    }
   ],
   "source": [
    "mygrid = GridSearchCV(pipe,param_grid=paramter_grid,cv=my_cv,scoring='f1_macro')\n",
    "mygrid.fit(X_train,y_train)"
   ]
  },
  {
   "cell_type": "code",
   "execution_count": 51,
   "metadata": {},
   "outputs": [
    {
     "name": "stdout",
     "output_type": "stream",
     "text": [
      "Best params: {'clf__leaf_size': 10, 'clf__n_neighbors': 6, 'clf__p': 1, 'clf__weights': 'distance'}\n",
      "\n",
      "Best estimator: Pipeline(steps=[('clf',\n",
      "                 KNeighborsClassifier(leaf_size=10, n_neighbors=6, p=1,\n",
      "                                      weights='distance'))])\n",
      "\n",
      "Best validation score: 0.7745313958307926\n"
     ]
    }
   ],
   "source": [
    "print(f\"Best params: {mygrid.best_params_}\\n\")\n",
    "print(f\"Best estimator: {mygrid.best_estimator_}\\n\")\n",
    "print(f\"Best validation score: {mygrid.best_score_}\")"
   ]
  },
  {
   "cell_type": "code",
   "execution_count": 52,
   "metadata": {},
   "outputs": [
    {
     "data": {
      "text/plain": [
       "Pipeline(steps=[('clf',\n",
       "                 KNeighborsClassifier(leaf_size=10, n_neighbors=6, p=1,\n",
       "                                      weights='distance'))])"
      ]
     },
     "execution_count": 52,
     "metadata": {},
     "output_type": "execute_result"
    }
   ],
   "source": [
    "mygrid_trainset = mygrid.best_estimator_\n",
    "mygrid_trainset\n",
    "\n",
    "# KNeighborsClassifier(leaf_size=10, n_neighbors=6, p=1,\n",
    "#                                       weights='distance')\n",
    "\n",
    "# Best validation score: 0.7745313958307926"
   ]
  },
  {
   "cell_type": "code",
   "execution_count": 53,
   "metadata": {},
   "outputs": [
    {
     "name": "stdout",
     "output_type": "stream",
     "text": [
      "              precision    recall  f1-score   support\n",
      "\n",
      "          -1       1.00      1.00      1.00      1227\n",
      "           0       1.00      1.00      1.00      5040\n",
      "           1       1.00      1.00      1.00      7602\n",
      "\n",
      "    accuracy                           1.00     13869\n",
      "   macro avg       1.00      1.00      1.00     13869\n",
      "weighted avg       1.00      1.00      1.00     13869\n",
      "\n"
     ]
    },
    {
     "data": {
      "image/png": "[encoded data removed]",
      "text/plain": [
       "<Figure size 432x288 with 2 Axes>"
      ]
     },
     "metadata": {},
     "output_type": "display_data"
    }
   ],
   "source": [
    "# Classification report\n",
    "from sklearn.metrics import classification_report,confusion_matrix,ConfusionMatrixDisplay\n",
    "y_pred_train = mygrid_trainset.predict(X_train)\n",
    "\n",
    "\n",
    "\n",
    "y_train = y_train\n",
    "sns.set_theme(style='white')\n",
    "def class_report(model,y_train,y_pred_train):\n",
    "    print(classification_report(y_train,y_pred_train))\n",
    "    cm = confusion_matrix(y_train,y_pred_train,labels=model.classes_)\n",
    "    disp = ConfusionMatrixDisplay(confusion_matrix=cm, display_labels=model.classes_)\n",
    "    disp.plot()\n",
    "    plt.show()\n",
    "    disp.figure_.savefig('model_doc2vec_img/confusion_matrix_no_PCA_df_clean.png',dpi=300)\n",
    "\n",
    "\n",
    "class_report(mygrid_trainset,y_train,y_pred_train)"
   ]
  },
  {
   "cell_type": "markdown",
   "metadata": {},
   "source": [
    "**ROC on training data**"
   ]
  },
  {
   "cell_type": "code",
   "execution_count": 54,
   "metadata": {},
   "outputs": [],
   "source": [
    "knn = KNeighborsClassifier(leaf_size=10, n_neighbors=6, p=1,\n",
    "                                      weights='distance')"
   ]
  },
  {
   "cell_type": "code",
   "execution_count": 55,
   "metadata": {},
   "outputs": [
    {
     "data": {
      "text/plain": [
       "<AxesSubplot:title={'center':'ROC Curves for KNeighborsClassifier'}, xlabel='False Positive Rate', ylabel='True Positive Rate'>"
      ]
     },
     "execution_count": 55,
     "metadata": {},
     "output_type": "execute_result"
    },
    {
     "data": {
      "image/png": "[encoded data removed]",
      "text/plain": [
       "<Figure size 576x396 with 1 Axes>"
      ]
     },
     "metadata": {},
     "output_type": "display_data"
    }
   ],
   "source": [
    "from yellowbrick.classifier import ROCAUC\n",
    "visualizer = ROCAUC(knn, classes=[-1,0,1])\n",
    "\n",
    "visualizer.fit(X_train, y_train)        # Fit the training data to the visualizer\n",
    "visualizer.score(X_train, y_train)        # Evaluate the model on the training data\n",
    "visualizer.show(outpath=\"model_doc2vec_img/roc_without_PCA_df_clean.png\")\n",
    "# Without PCA: AUC score using OvR, macro-averaged over all classes: 1.00"
   ]
  },
  {
   "cell_type": "markdown",
   "metadata": {},
   "source": [
    "**Building the model with best estimator and testing on test data**"
   ]
  },
  {
   "cell_type": "code",
   "execution_count": 58,
   "metadata": {},
   "outputs": [
    {
     "data": {
      "text/plain": [
       "KNeighborsClassifier(leaf_size=10, n_neighbors=6, p=1, weights='distance')"
      ]
     },
     "execution_count": 58,
     "metadata": {},
     "output_type": "execute_result"
    }
   ],
   "source": [
    "knn= KNeighborsClassifier(leaf_size=10, n_neighbors=6, p=1,\n",
    "                                   weights='distance')\n",
    "\n",
    "knn.fit(X_train,y_train)"
   ]
  },
  {
   "cell_type": "code",
   "execution_count": 59,
   "metadata": {},
   "outputs": [
    {
     "name": "stdout",
     "output_type": "stream",
     "text": [
      "              precision    recall  f1-score   support\n",
      "\n",
      "          -1       0.75      0.52      0.62       307\n",
      "           0       0.74      0.85      0.79      1260\n",
      "           1       0.90      0.85      0.88      1901\n",
      "\n",
      "    accuracy                           0.82      3468\n",
      "   macro avg       0.80      0.74      0.76      3468\n",
      "weighted avg       0.83      0.82      0.82      3468\n",
      "\n"
     ]
    },
    {
     "data": {
      "image/png": "[encoded data removed]",
      "text/plain": [
       "<Figure size 576x396 with 2 Axes>"
      ]
     },
     "metadata": {},
     "output_type": "display_data"
    }
   ],
   "source": [
    "# Classification report test data\n",
    "y_test = y_test\n",
    "y_pred_test = knn.predict(X_test)\n",
    "sns.set_theme(style='white')\n",
    "def class_report(model,y_test,pred):\n",
    "    print(classification_report(y_test,pred))\n",
    "    cm = confusion_matrix(y_test,pred,labels=model.classes_)\n",
    "    disp = ConfusionMatrixDisplay(confusion_matrix=cm, display_labels=model.classes_)\n",
    "    disp.plot()\n",
    "    plt.show()\n",
    "    disp.figure_.savefig('model_doc2vec_img/confusion_matrix_test_data_no_PCA_df_clean.png',dpi=300)\n",
    "\n",
    "\n",
    "class_report(knn,y_test,y_pred_test)"
   ]
  },
  {
   "cell_type": "markdown",
   "metadata": {},
   "source": [
    "**ROC on test data**"
   ]
  },
  {
   "cell_type": "code",
   "execution_count": 60,
   "metadata": {},
   "outputs": [],
   "source": [
    "knn= KNeighborsClassifier(leaf_size=10, n_neighbors=6, p=1,\n",
    "                                   weights='distance')"
   ]
  },
  {
   "cell_type": "code",
   "execution_count": 61,
   "metadata": {},
   "outputs": [
    {
     "data": {
      "text/plain": [
       "<AxesSubplot:title={'center':'ROC Curves for KNeighborsClassifier'}, xlabel='False Positive Rate', ylabel='True Positive Rate'>"
      ]
     },
     "execution_count": 61,
     "metadata": {},
     "output_type": "execute_result"
    },
    {
     "data": {
      "image/png": "[encoded data removed]",
      "text/plain": [
       "<Figure size 576x396 with 1 Axes>"
      ]
     },
     "metadata": {},
     "output_type": "display_data"
    }
   ],
   "source": [
    "from yellowbrick.classifier import ROCAUC\n",
    "visualizer = ROCAUC(knn, classes=[-1,0,1])\n",
    "\n",
    "visualizer.fit(X_train, y_train)        # Fit the training data to the visualizer\n",
    "visualizer.score(X_test, y_test)          # Evaluate the model on the training data\n",
    "visualizer.show(outpath=\"model_doc2vec_img/roc_test_data_without_PCA_df_clean.png\")\n",
    "# Without PCA: AUC score using OvR, macro-averaged over all classes: 0.85"
   ]
  },
  {
   "cell_type": "markdown",
   "metadata": {},
   "source": [
    "## **Conclusion**"
   ]
  },
  {
   "cell_type": "markdown",
   "metadata": {},
   "source": [
    "- PV-DBOW with alpha = 0.025  and vector size of 50 shown a better performance on the test data than that of PV-DM (vector sizes 25-200)\n",
    "- This has a slight performance in f1score than the vector size of 25 using PV-DBOW\n",
    "\n",
    "\n",
    "\n",
    "**Table of Values**\n",
    "\n",
    "dataset|f1_score_macro_avg|AUC_score_avg\n",
    "| ----------- | ----------- | ----------- |\n",
    "df_clean_(train data)|1.00|1.00\n",
    "df_clean (test data)|0.76|0.89"
   ]
  }
 ],
 "metadata": {
  "kernelspec": {
   "display_name": "Python 3.8.13",
   "language": "python",
   "name": "python3"
  },
  "language_info": {
   "codemirror_mode": {
    "name": "ipython",
    "version": 3
   },
   "file_extension": ".py",
   "mimetype": "text/x-python",
   "name": "python",
   "nbconvert_exporter": "python",
   "pygments_lexer": "ipython3",
   "version": "3.8.13"
  },
  "orig_nbformat": 4,
  "vscode": {
   "interpreter": {
    "hash": "0d3784fccdc90acbf957f8297e7e306d4c8b14c1a207bd5307d0795df9a8d77b"
   }
  }
 },
 "nbformat": 4,
 "nbformat_minor": 2
}
