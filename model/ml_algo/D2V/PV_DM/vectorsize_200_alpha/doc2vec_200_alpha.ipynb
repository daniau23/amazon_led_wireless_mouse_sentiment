{
 "cells": [
  {
   "cell_type": "code",
   "execution_count": 1,
   "metadata": {},
   "outputs": [],
   "source": [
    "import pandas as pd\n",
    "import numpy as np \n",
    "import matplotlib.pyplot as plt\n",
    "# import plotly.express as px\n",
    "# import plotly.graph_objects as go\n",
    "# import plotly.figure_factory as ff\n",
    "import seaborn as sns\n",
    "import warnings\n",
    "warnings.filterwarnings(\"ignore\")\n",
    "# from nltk.tokenize import word_tokenize as wt \n",
    "# from collections import Counter\n",
    "import gensim\n",
    "# import textblob\n",
    "import spacy"
   ]
  },
  {
   "cell_type": "markdown",
   "metadata": {},
   "source": [
    "## **Plan of Action**\n",
    "\n",
    "- Load the data\n",
    "- Drop unnecessary columns and rows\n",
    "- Removal of stop words.\n",
    "- Feature engineering;\n",
    "    - Doc2Vec\n",
    "- Begin modelling\n",
    "    - Algorithms to use;\n",
    "        - k-Nearest Neighbors.\n",
    "        - Decision Trees.\n",
    "        - Random Forest.\n",
    "        - Gradient Boosting.\n",
    "        - Logistic Regression\n",
    "- Evaluation;\n",
    "    - F1-score_macro\n",
    "    - AUC\n",
    "    - ROC"
   ]
  },
  {
   "cell_type": "code",
   "execution_count": 2,
   "metadata": {},
   "outputs": [],
   "source": [
    "df_clean = pd.read_csv('../../../../cleaned_reviews.csv')"
   ]
  },
  {
   "cell_type": "code",
   "execution_count": 3,
   "metadata": {},
   "outputs": [
    {
     "data": {
      "text/plain": [
       "(17340, 4)"
      ]
     },
     "execution_count": 3,
     "metadata": {},
     "output_type": "execute_result"
    }
   ],
   "source": [
    "df_clean.shape"
   ]
  },
  {
   "cell_type": "code",
   "execution_count": 4,
   "metadata": {},
   "outputs": [
    {
     "data": {
      "text/plain": [
       "Index(['sentiments', 'cleaned_review', 'cleaned_review_length',\n",
       "       'review_score'],\n",
       "      dtype='object')"
      ]
     },
     "execution_count": 4,
     "metadata": {},
     "output_type": "execute_result"
    }
   ],
   "source": [
    "df_clean.columns"
   ]
  },
  {
   "cell_type": "code",
   "execution_count": 5,
   "metadata": {},
   "outputs": [],
   "source": [
    "df_clean.drop(columns=['cleaned_review_length','review_score'],inplace=True)"
   ]
  },
  {
   "cell_type": "markdown",
   "metadata": {},
   "source": [
    "Checking for Null Vaules and Duplicates"
   ]
  },
  {
   "cell_type": "code",
   "execution_count": 6,
   "metadata": {},
   "outputs": [
    {
     "data": {
      "text/plain": [
       "sentiments        0\n",
       "cleaned_review    3\n",
       "dtype: int64"
      ]
     },
     "execution_count": 6,
     "metadata": {},
     "output_type": "execute_result"
    }
   ],
   "source": [
    "df_clean.isna().sum()"
   ]
  },
  {
   "cell_type": "code",
   "execution_count": 7,
   "metadata": {},
   "outputs": [],
   "source": [
    "df_clean.dropna(inplace=True)"
   ]
  },
  {
   "cell_type": "code",
   "execution_count": 8,
   "metadata": {},
   "outputs": [
    {
     "data": {
      "text/plain": [
       "(17337, 2)"
      ]
     },
     "execution_count": 8,
     "metadata": {},
     "output_type": "execute_result"
    }
   ],
   "source": [
    "df_clean.shape"
   ]
  },
  {
   "cell_type": "code",
   "execution_count": 9,
   "metadata": {},
   "outputs": [],
   "source": [
    "from spacy.lang.en.stop_words import STOP_WORDS\n",
    "\n",
    "# print(STOP_WORDS,'\\n') # <- set of Spacy's default stop words\n",
    "all_stopwords = STOP_WORDS\n",
    "# Adding several stopwords\n",
    "# all_stopwords |= {'not',\"no\", \"n't\", 'n’t','n‘t','cannot','none','without','against'}\n",
    "\n",
    "# Removing several stop words\n",
    "all_stopwords-= {'not',\"no\", \"n't\", 'n’t','n‘t','cannot','none','without','against','off','against','too'}\n",
    "my_stop_words = set(all_stopwords) # My own stop words"
   ]
  },
  {
   "cell_type": "code",
   "execution_count": 10,
   "metadata": {},
   "outputs": [],
   "source": [
    "# print(my_stop_words)"
   ]
  },
  {
   "cell_type": "code",
   "execution_count": 11,
   "metadata": {},
   "outputs": [
    {
     "data": {
      "text/html": [
       "<div>\n",
       "<style scoped>\n",
       "    .dataframe tbody tr th:only-of-type {\n",
       "        vertical-align: middle;\n",
       "    }\n",
       "\n",
       "    .dataframe tbody tr th {\n",
       "        vertical-align: top;\n",
       "    }\n",
       "\n",
       "    .dataframe thead th {\n",
       "        text-align: right;\n",
       "    }\n",
       "</style>\n",
       "<table border=\"1\" class=\"dataframe\">\n",
       "  <thead>\n",
       "    <tr style=\"text-align: right;\">\n",
       "      <th></th>\n",
       "      <th>sentiments</th>\n",
       "      <th>cleaned_review</th>\n",
       "    </tr>\n",
       "  </thead>\n",
       "  <tbody>\n",
       "    <tr>\n",
       "      <th>0</th>\n",
       "      <td>positive</td>\n",
       "      <td>i wish would have gotten one earlier love it a...</td>\n",
       "    </tr>\n",
       "    <tr>\n",
       "      <th>1</th>\n",
       "      <td>neutral</td>\n",
       "      <td>i ve learned this lesson again open the packag...</td>\n",
       "    </tr>\n",
       "    <tr>\n",
       "      <th>2</th>\n",
       "      <td>neutral</td>\n",
       "      <td>it is so slow and lags find better option</td>\n",
       "    </tr>\n",
       "    <tr>\n",
       "      <th>3</th>\n",
       "      <td>neutral</td>\n",
       "      <td>roller ball stopped working within months of m...</td>\n",
       "    </tr>\n",
       "    <tr>\n",
       "      <th>4</th>\n",
       "      <td>neutral</td>\n",
       "      <td>i like the color and size but it few days out ...</td>\n",
       "    </tr>\n",
       "    <tr>\n",
       "      <th>...</th>\n",
       "      <td>...</td>\n",
       "      <td>...</td>\n",
       "    </tr>\n",
       "    <tr>\n",
       "      <th>17335</th>\n",
       "      <td>positive</td>\n",
       "      <td>i love this speaker and love can take it anywh...</td>\n",
       "    </tr>\n",
       "    <tr>\n",
       "      <th>17336</th>\n",
       "      <td>positive</td>\n",
       "      <td>i use it in my house easy to connect and loud ...</td>\n",
       "    </tr>\n",
       "    <tr>\n",
       "      <th>17337</th>\n",
       "      <td>positive</td>\n",
       "      <td>the bass is good and the battery is amazing mu...</td>\n",
       "    </tr>\n",
       "    <tr>\n",
       "      <th>17338</th>\n",
       "      <td>positive</td>\n",
       "      <td>love it</td>\n",
       "    </tr>\n",
       "    <tr>\n",
       "      <th>17339</th>\n",
       "      <td>neutral</td>\n",
       "      <td>mono speaker</td>\n",
       "    </tr>\n",
       "  </tbody>\n",
       "</table>\n",
       "<p>17337 rows × 2 columns</p>\n",
       "</div>"
      ],
      "text/plain": [
       "      sentiments                                     cleaned_review\n",
       "0       positive  i wish would have gotten one earlier love it a...\n",
       "1        neutral  i ve learned this lesson again open the packag...\n",
       "2        neutral          it is so slow and lags find better option\n",
       "3        neutral  roller ball stopped working within months of m...\n",
       "4        neutral  i like the color and size but it few days out ...\n",
       "...          ...                                                ...\n",
       "17335   positive  i love this speaker and love can take it anywh...\n",
       "17336   positive  i use it in my house easy to connect and loud ...\n",
       "17337   positive  the bass is good and the battery is amazing mu...\n",
       "17338   positive                                            love it\n",
       "17339    neutral                                       mono speaker\n",
       "\n",
       "[17337 rows x 2 columns]"
      ]
     },
     "execution_count": 11,
     "metadata": {},
     "output_type": "execute_result"
    }
   ],
   "source": [
    "df_clean"
   ]
  },
  {
   "cell_type": "code",
   "execution_count": 12,
   "metadata": {},
   "outputs": [],
   "source": [
    "nlp = spacy.load(\"en_core_web_sm\")"
   ]
  },
  {
   "cell_type": "code",
   "execution_count": 13,
   "metadata": {},
   "outputs": [],
   "source": [
    "def spacy_tokeniser(sent):\n",
    "    sent = sent.strip().lower()\n",
    "    doc = nlp(sent)\n",
    "    mytokens = [token.lemma_ for token in doc if token.text not in my_stop_words]\n",
    "    return mytokens"
   ]
  },
  {
   "cell_type": "code",
   "execution_count": 14,
   "metadata": {},
   "outputs": [],
   "source": [
    "df_clean['tokens']= df_clean['cleaned_review'].apply(spacy_tokeniser)"
   ]
  },
  {
   "cell_type": "code",
   "execution_count": 15,
   "metadata": {},
   "outputs": [
    {
     "data": {
      "text/html": [
       "<div>\n",
       "<style scoped>\n",
       "    .dataframe tbody tr th:only-of-type {\n",
       "        vertical-align: middle;\n",
       "    }\n",
       "\n",
       "    .dataframe tbody tr th {\n",
       "        vertical-align: top;\n",
       "    }\n",
       "\n",
       "    .dataframe thead th {\n",
       "        text-align: right;\n",
       "    }\n",
       "</style>\n",
       "<table border=\"1\" class=\"dataframe\">\n",
       "  <thead>\n",
       "    <tr style=\"text-align: right;\">\n",
       "      <th></th>\n",
       "      <th>sentiments</th>\n",
       "      <th>cleaned_review</th>\n",
       "      <th>tokens</th>\n",
       "    </tr>\n",
       "  </thead>\n",
       "  <tbody>\n",
       "    <tr>\n",
       "      <th>0</th>\n",
       "      <td>positive</td>\n",
       "      <td>i wish would have gotten one earlier love it a...</td>\n",
       "      <td>[wish, get, early, love, make, work, laptop, e...</td>\n",
       "    </tr>\n",
       "    <tr>\n",
       "      <th>1</th>\n",
       "      <td>neutral</td>\n",
       "      <td>i ve learned this lesson again open the packag...</td>\n",
       "      <td>[ve, learn, lesson, open, package, use, produc...</td>\n",
       "    </tr>\n",
       "    <tr>\n",
       "      <th>2</th>\n",
       "      <td>neutral</td>\n",
       "      <td>it is so slow and lags find better option</td>\n",
       "      <td>[slow, lag, find, well, option]</td>\n",
       "    </tr>\n",
       "    <tr>\n",
       "      <th>3</th>\n",
       "      <td>neutral</td>\n",
       "      <td>roller ball stopped working within months of m...</td>\n",
       "      <td>[roller, ball, stop, work, month, minimal, use...</td>\n",
       "    </tr>\n",
       "    <tr>\n",
       "      <th>4</th>\n",
       "      <td>neutral</td>\n",
       "      <td>i like the color and size but it few days out ...</td>\n",
       "      <td>[like, color, size, day, return, period, not, ...</td>\n",
       "    </tr>\n",
       "  </tbody>\n",
       "</table>\n",
       "</div>"
      ],
      "text/plain": [
       "  sentiments                                     cleaned_review  \\\n",
       "0   positive  i wish would have gotten one earlier love it a...   \n",
       "1    neutral  i ve learned this lesson again open the packag...   \n",
       "2    neutral          it is so slow and lags find better option   \n",
       "3    neutral  roller ball stopped working within months of m...   \n",
       "4    neutral  i like the color and size but it few days out ...   \n",
       "\n",
       "                                              tokens  \n",
       "0  [wish, get, early, love, make, work, laptop, e...  \n",
       "1  [ve, learn, lesson, open, package, use, produc...  \n",
       "2                    [slow, lag, find, well, option]  \n",
       "3  [roller, ball, stop, work, month, minimal, use...  \n",
       "4  [like, color, size, day, return, period, not, ...  "
      ]
     },
     "execution_count": 15,
     "metadata": {},
     "output_type": "execute_result"
    }
   ],
   "source": [
    "df_clean.head()"
   ]
  },
  {
   "cell_type": "code",
   "execution_count": 16,
   "metadata": {},
   "outputs": [],
   "source": [
    "# Dropping unnecessary columns\n",
    "df_clean.drop(columns=['cleaned_review'],inplace=True)"
   ]
  },
  {
   "cell_type": "markdown",
   "metadata": {},
   "source": [
    "Sentiment Mapping"
   ]
  },
  {
   "cell_type": "code",
   "execution_count": 17,
   "metadata": {},
   "outputs": [],
   "source": [
    "sentiment_mapping = {'negative':-1,'neutral':0,'positive':1}\n",
    "df_clean['sentiment_label'] = df_clean.sentiments.map(sentiment_mapping)"
   ]
  },
  {
   "cell_type": "code",
   "execution_count": 18,
   "metadata": {},
   "outputs": [],
   "source": [
    "df_clean.drop(columns=['sentiments'],inplace=True)"
   ]
  },
  {
   "cell_type": "code",
   "execution_count": 19,
   "metadata": {},
   "outputs": [],
   "source": [
    "from sklearn.pipeline import Pipeline\n",
    "from sklearn.model_selection import train_test_split,StratifiedShuffleSplit,cross_val_score\n",
    "\n",
    "# The algorithms\n",
    "from sklearn.tree import DecisionTreeClassifier\n",
    "from sklearn.ensemble import RandomForestClassifier,GradientBoostingClassifier,HistGradientBoostingClassifier\n",
    "from sklearn.naive_bayes import MultinomialNB\n",
    "from sklearn.neighbors import KNeighborsClassifier\n",
    "from sklearn.linear_model import LogisticRegression"
   ]
  },
  {
   "cell_type": "code",
   "execution_count": 20,
   "metadata": {},
   "outputs": [
    {
     "data": {
      "text/plain": [
       "Index(['tokens', 'sentiment_label'], dtype='object')"
      ]
     },
     "execution_count": 20,
     "metadata": {},
     "output_type": "execute_result"
    }
   ],
   "source": [
    "df_clean.columns"
   ]
  },
  {
   "cell_type": "code",
   "execution_count": 21,
   "metadata": {},
   "outputs": [],
   "source": [
    "train, test = train_test_split(df_clean,test_size=.2,random_state=42, \n",
    "                                            stratify=df_clean.sentiment_label)"
   ]
  },
  {
   "cell_type": "code",
   "execution_count": 22,
   "metadata": {},
   "outputs": [],
   "source": [
    "from gensim.models.doc2vec import Doc2Vec, TaggedDocument"
   ]
  },
  {
   "cell_type": "code",
   "execution_count": 23,
   "metadata": {},
   "outputs": [],
   "source": [
    "# Tagging the train ad test set\n",
    "\n",
    "# Tag train set \n",
    "tagged_train = train.apply(\n",
    "    lambda x: TaggedDocument(words=x[\"tokens\"],tags=[x.sentiment_label]),\n",
    "    axis=1\n",
    ")\n",
    "\n",
    "# Tag test set \n",
    "tagged_test = test.apply(\n",
    "    lambda x: TaggedDocument(words=x[\"tokens\"],tags=[x.sentiment_label]),\n",
    "    axis=1\n",
    ")"
   ]
  },
  {
   "cell_type": "code",
   "execution_count": 24,
   "metadata": {},
   "outputs": [
    {
     "data": {
      "text/plain": [
       "TaggedDocument(words=['pair', 'headphone', 'work', 'plan', 'buy', 'pair', 'current', 'pair', 'gotten', 'damage', 'put', 'pair', 'uneven', 'surface', 'wire', 'tug', 'too', 'knock', 'head', 'phone', 'accident', 'time', 'walk', 'wear', 'head', 'phone', 'drop', 'phone', 'cord', 'got', 'accidentally', 'tug', 'unplugged', 'phone', 'won', 'headphone', 'outside', 'room', 'anymore', 'room', 'organize', 'shouldn', 'end', 'knock', 'accident', 'anymore'], tags=[-1])"
      ]
     },
     "execution_count": 24,
     "metadata": {},
     "output_type": "execute_result"
    }
   ],
   "source": [
    "# looking into the tags\n",
    "tagged_train.values[0]"
   ]
  },
  {
   "cell_type": "code",
   "execution_count": 25,
   "metadata": {},
   "outputs": [
    {
     "data": {
      "text/plain": [
       "TaggedDocument(words=['break', 'right', 'run', 'return', 'window', 'came', 'narrow', 'move', 'link', 'event', 'not', 'don', 'know', 'problem'], tags=[-1])"
      ]
     },
     "execution_count": 25,
     "metadata": {},
     "output_type": "execute_result"
    }
   ],
   "source": [
    "tagged_test.values[0]"
   ]
  },
  {
   "cell_type": "markdown",
   "metadata": {},
   "source": [
    "### **Setting up DOC2VEC**"
   ]
  },
  {
   "cell_type": "code",
   "execution_count": 26,
   "metadata": {},
   "outputs": [
    {
     "data": {
      "text/plain": [
       "4"
      ]
     },
     "execution_count": 26,
     "metadata": {},
     "output_type": "execute_result"
    }
   ],
   "source": [
    "import multiprocessing\n",
    "cores = multiprocessing.cpu_count()\n",
    "cores # Mine is 8 cores\n",
    "four_cores = cores-4\n",
    "four_cores"
   ]
  },
  {
   "cell_type": "markdown",
   "metadata": {},
   "source": [
    "### **Building the Vocabulary**"
   ]
  },
  {
   "cell_type": "code",
   "execution_count": 27,
   "metadata": {},
   "outputs": [],
   "source": [
    "# dm=1, it signifies PV-DM\n",
    "model_dm = Doc2Vec(\n",
    "    dm=1,\n",
    "    vector_size=200,\n",
    "    min_count=2,\n",
    "    sample=0,\n",
    "    workers=four_cores,\n",
    "    hs=0,\n",
    "    seed= 42,\n",
    "    negative=5,\n",
    "    alpha=0.025\n",
    ")"
   ]
  },
  {
   "cell_type": "code",
   "execution_count": 28,
   "metadata": {},
   "outputs": [],
   "source": [
    "model_dm.build_vocab(tagged_train)"
   ]
  },
  {
   "cell_type": "code",
   "execution_count": 29,
   "metadata": {},
   "outputs": [
    {
     "name": "stdout",
     "output_type": "stream",
     "text": [
      "Word terrible appeared 130 times in the training corpus.\n"
     ]
    }
   ],
   "source": [
    "# Word Apperance Count\n",
    "def word_count(word:str):\n",
    "    print(f\"Word {word} appeared {model_dm.wv.get_vecattr(word, 'count')} times in the training corpus.\")\n",
    "\n",
    "\n",
    "word_count(\"terrible\")"
   ]
  },
  {
   "cell_type": "code",
   "execution_count": 30,
   "metadata": {},
   "outputs": [],
   "source": [
    "# Next, train the model on the corpus.\n",
    "# Setting alpha\n",
    "model_dm.train(\n",
    "                tagged_train,\n",
    "                total_examples=model_dm.corpus_count,\n",
    "                epochs=100,\n",
    ")"
   ]
  },
  {
   "cell_type": "code",
   "execution_count": 31,
   "metadata": {},
   "outputs": [
    {
     "data": {
      "text/plain": [
       "0.025"
      ]
     },
     "execution_count": 31,
     "metadata": {},
     "output_type": "execute_result"
    }
   ],
   "source": [
    "# checking the alpha value\n",
    "model_dm.alpha"
   ]
  },
  {
   "cell_type": "code",
   "execution_count": 32,
   "metadata": {},
   "outputs": [],
   "source": [
    "# Saving the model\n",
    "# model_dm.save(\"pv_dm_200.model\")"
   ]
  },
  {
   "cell_type": "code",
   "execution_count": 33,
   "metadata": {},
   "outputs": [],
   "source": [
    "# https://github.com/RaRe-Technologies/movie-plots-by-genre/blob/master/ipynb_with_output/Document%20classification%20with%20word%20embeddings%20tutorial%20-%20with%20output.ipynb\n",
    "def vec_for_learning(model, tagged_docs):\n",
    "    sents = tagged_docs.values\n",
    "    y, X = zip(*[(doc.tags[0], model.infer_vector(doc.words, epochs=100)) for doc in sents])\n",
    "    return X,y"
   ]
  },
  {
   "cell_type": "code",
   "execution_count": 34,
   "metadata": {},
   "outputs": [],
   "source": [
    "X_train, y_train = vec_for_learning(model_dm, tagged_train)\n",
    "X_test, y_test = vec_for_learning(model_dm, tagged_test)"
   ]
  },
  {
   "cell_type": "code",
   "execution_count": 35,
   "metadata": {},
   "outputs": [
    {
     "name": "stdout",
     "output_type": "stream",
     "text": [
      "(array([ 0.45192614, -0.5565917 , -0.2660152 ,  1.37011   , -0.5957134 ,\n",
      "        0.17605013,  1.0235819 ,  0.9849938 , -0.31494683,  0.502996  ,\n",
      "       -0.33426496, -1.3310648 , -0.26226586,  0.731179  , -0.5950312 ,\n",
      "        0.6459305 , -0.10437946,  0.28526986,  0.66251475,  0.12548174,\n",
      "        0.62623376, -0.43205354,  2.1455479 ,  0.35917354,  1.5225779 ,\n",
      "        0.9548389 ,  0.09005988,  0.5871945 ,  0.08554897,  0.01508512,\n",
      "       -0.4368399 , -0.83077824,  0.19464765, -0.2711005 , -1.0217048 ,\n",
      "        1.5382937 ,  0.82637024, -0.18130097, -0.51783764, -0.51904047,\n",
      "        0.6255045 ,  0.25774693, -0.14632514, -0.68302405,  0.92395735,\n",
      "        0.35741293, -0.15831126,  0.83869606,  0.25947174, -0.23759541,\n",
      "       -0.2922708 , -0.294317  ,  0.08736248,  0.16722019,  0.15921456,\n",
      "        0.49828714,  0.41324434, -0.21200809, -0.4680104 ,  1.3272477 ,\n",
      "        0.04927744,  0.06861179, -0.41207188,  0.10546912,  0.8318295 ,\n",
      "        0.5905683 , -0.65633094,  0.28260836,  0.18191741,  1.3766878 ,\n",
      "       -0.5312216 , -0.04803961, -0.22774462, -0.948075  ,  1.4035211 ,\n",
      "       -0.93162686, -1.3882614 ,  1.2502135 ,  1.7165588 ,  0.00402735,\n",
      "       -0.6752147 ,  0.6449086 ,  1.1729425 , -0.7280351 , -1.2403007 ,\n",
      "       -0.21482001,  0.7697823 ,  0.01684072, -0.09466828, -0.16816352,\n",
      "        0.17208664,  0.2641536 ,  0.16575032,  2.0854013 , -0.5074399 ,\n",
      "        0.9503283 ,  0.984901  ,  0.537887  ,  0.15261503,  0.0749094 ,\n",
      "        0.49025655, -0.05872876,  0.3187166 , -0.24191394,  0.22083567,\n",
      "       -0.9605964 , -1.10488   , -0.41708627, -0.96103084, -0.3147145 ,\n",
      "       -0.07765567, -0.33667862, -0.06937052, -0.12304088,  0.0184715 ,\n",
      "       -0.80658525,  1.342242  ,  0.1278463 , -0.2604316 , -0.6123196 ,\n",
      "        0.5927095 , -1.0444721 ,  0.41263315,  0.19348507,  0.6129061 ,\n",
      "       -0.6782817 ,  0.6848901 , -0.18839882, -0.8409051 ,  0.07789086,\n",
      "       -1.1719632 ,  0.34730214,  0.52586627, -0.12648356,  0.42568946,\n",
      "        0.9048343 ,  0.00940377,  1.0038024 ,  0.28068346, -2.644191  ,\n",
      "        1.2634403 ,  0.36830008,  0.4458553 , -0.56492853, -1.4913162 ,\n",
      "       -0.19976547, -0.3641393 , -0.96722966,  0.6586251 ,  0.4806203 ,\n",
      "       -0.3561262 , -0.16808969,  0.4778734 ,  0.2896244 , -1.9551376 ,\n",
      "       -1.1568757 ,  0.06644949, -0.1659477 ,  0.00808252, -0.43551528,\n",
      "       -0.06585339,  0.73829484, -0.04153218, -0.72717524, -0.0445493 ,\n",
      "        0.7783513 ,  0.8567547 ,  0.17993797,  0.13719997, -0.86844665,\n",
      "        0.55474234, -0.32007095, -0.26036444,  0.93071604,  0.2722905 ,\n",
      "       -0.12998573, -0.32748178, -1.4156845 , -1.020653  , -0.35471523,\n",
      "        0.8198046 , -0.19757403, -0.86887723, -0.9861522 ,  0.16810592,\n",
      "       -0.5382976 , -1.7092881 , -1.0326868 ,  0.27313316,  0.18765387,\n",
      "        0.5547336 , -0.64388394,  0.98881537, -0.8364662 , -0.5128022 ,\n",
      "       -1.3074502 , -0.5127663 ,  0.51689076,  0.52795666,  0.4686858 ],\n",
      "      dtype=float32), array([-9.4245803e-01,  4.5727021e-01, -1.7921774e+00, -1.5461968e+00,\n",
      "       -1.0944887e-01, -6.3061672e-01, -6.6984022e-01,  4.5843112e-01,\n",
      "       -1.6410406e-01,  7.9011261e-01, -5.9812911e-02,  4.2092163e-02,\n",
      "       -4.2185411e-04, -1.6256173e-01,  4.6917626e-01,  2.0965068e-01,\n",
      "        8.0854881e-01,  9.1161287e-01,  1.5759819e+00, -3.2846045e-01,\n",
      "       -9.3094379e-01, -6.9396400e-01, -7.6783007e-01, -5.9824646e-01,\n",
      "       -9.1007435e-01, -8.2717192e-01,  5.3920883e-01,  2.1412864e+00,\n",
      "        2.9122549e-01, -4.4868115e-01, -1.1180695e-01,  4.3200722e-01,\n",
      "       -3.3790114e+00, -6.9644630e-01,  1.2378752e+00,  5.6470829e-01,\n",
      "       -3.7437797e-01, -1.4405081e+00, -2.6309049e-01,  2.5449699e-01,\n",
      "        8.2156438e-01, -9.7517747e-01, -1.5783866e-01, -1.2100454e-01,\n",
      "       -5.1957220e-01, -1.7644426e+00, -1.1446579e+00, -4.3099653e-02,\n",
      "        1.1329484e+00, -3.0828938e-01, -1.4780486e+00, -7.0440519e-01,\n",
      "       -1.1824927e+00, -1.0055927e+00,  3.0596003e-01,  6.9681168e-01,\n",
      "        6.6365600e-01, -2.1910127e-01,  1.2022627e-01, -1.1522578e+00,\n",
      "        1.8403648e+00,  6.7259151e-01, -1.2590201e+00,  1.1672349e-01,\n",
      "        7.1222639e-01, -8.8284427e-01,  1.1746320e+00,  2.1231179e-01,\n",
      "        5.4465199e-01, -6.3461787e-01,  1.3701826e+00,  1.4138548e-01,\n",
      "        1.5586379e+00,  4.4263554e-01,  1.4141357e+00,  6.7060882e-01,\n",
      "       -1.4096128e+00,  3.8474873e-01, -7.7948526e-02, -3.8789842e-01,\n",
      "       -7.2900355e-01, -1.2198966e+00, -9.0005076e-01, -1.1010419e+00,\n",
      "        5.0995892e-01,  1.2835773e+00, -6.4742482e-01,  1.8590451e+00,\n",
      "       -4.3429902e-01,  1.7409422e+00,  1.2235321e+00,  1.2661514e+00,\n",
      "        7.2911239e-01,  2.6619473e+00,  3.9983758e-01,  3.9765829e-01,\n",
      "       -9.9927664e-02, -2.9510994e-02, -7.5674635e-01, -9.4745058e-01,\n",
      "        1.4793535e+00,  1.8267907e+00, -4.4797342e-02, -1.7730919e+00,\n",
      "       -1.1204718e-01, -1.0348552e+00, -7.8215432e-01, -1.2780329e+00,\n",
      "       -6.1553929e-02, -6.9409782e-01, -1.3172921e+00, -3.3554140e-01,\n",
      "        3.0732626e-01, -3.1991342e-01,  7.1426558e-01, -9.8483093e-02,\n",
      "        7.1106154e-01, -2.6770583e-01, -9.2613655e-01,  4.3024834e-02,\n",
      "       -1.4202890e+00,  1.9712996e+00,  8.0255735e-01, -1.7196319e-01,\n",
      "        6.3788670e-01,  7.0554334e-01,  2.8001776e-01,  6.8478084e-01,\n",
      "       -1.6781449e+00, -3.9110923e-01, -8.8723153e-03,  8.5682318e-02,\n",
      "       -8.6181378e-01, -4.2467761e-01,  7.1352416e-01,  1.4600208e+00,\n",
      "       -1.6309530e-01, -3.7326247e-01, -1.1790125e+00, -1.6664703e+00,\n",
      "        9.6536285e-01, -3.0338210e-01, -1.6475310e+00, -1.7370399e+00,\n",
      "        6.9981313e-01,  4.8521605e-01, -4.9420825e-01, -6.6702032e-01,\n",
      "        1.2153943e+00, -3.5412613e-01,  4.5662083e-02,  1.8411103e+00,\n",
      "       -8.7898445e-01, -8.8412350e-01, -1.2771893e+00, -4.1326380e-01,\n",
      "       -2.7300051e-01,  8.2700121e-01,  1.4178766e+00,  5.1657170e-01,\n",
      "       -1.2827649e+00,  1.5390059e+00,  7.2041911e-01, -7.8595680e-01,\n",
      "       -8.2356322e-01,  8.0903822e-01, -2.4471773e-01, -5.1288348e-01,\n",
      "        8.7005579e-01,  7.4470234e-01, -2.4290858e-01, -8.3511233e-01,\n",
      "       -5.3405809e-01, -9.1714627e-01, -2.0884092e-01,  3.5036740e-01,\n",
      "        1.4192052e-01, -1.4829030e+00, -2.0920198e+00,  1.1134305e+00,\n",
      "       -4.7370672e-01, -1.9755234e+00, -8.8322312e-01, -1.0011195e+00,\n",
      "       -3.7389335e-01, -1.5010359e+00, -1.0659921e-01,  2.7238792e-01,\n",
      "        4.0930825e-01,  1.5353756e+00,  3.5130662e-01, -3.4182787e-01,\n",
      "       -5.0126874e-01, -4.9314255e-01, -1.2019526e+00, -5.1884800e-01,\n",
      "        9.2316282e-01,  2.0724900e+00,  1.3011217e-01, -8.5704416e-01],\n",
      "      dtype=float32))\n",
      "(-1, 1)\n"
     ]
    }
   ],
   "source": [
    "print(X_train[:2])\n",
    "print(y_train[:2])"
   ]
  },
  {
   "cell_type": "code",
   "execution_count": 36,
   "metadata": {},
   "outputs": [],
   "source": [
    "models = {\n",
    "    \"DT\": DecisionTreeClassifier(max_depth=3,random_state=42),\n",
    "    \"RF\": RandomForestClassifier(max_depth=3,random_state=42),\n",
    "    \"GB\": GradientBoostingClassifier(max_depth=3,random_state=42),\n",
    "    \"KNN\": KNeighborsClassifier(),\n",
    "    # \"MNB\": MultinomialNB(),\n",
    "    \"LR\": LogisticRegression(multi_class='multinomial',solver='lbfgs'),\n",
    "    \"HGB\": HistGradientBoostingClassifier(max_depth=3,random_state=42)\n",
    "}"
   ]
  },
  {
   "cell_type": "code",
   "execution_count": 37,
   "metadata": {},
   "outputs": [],
   "source": [
    "model_results_f1_macro = []\n",
    "model_names = []\n",
    "model_mean = []"
   ]
  },
  {
   "cell_type": "code",
   "execution_count": 38,
   "metadata": {},
   "outputs": [
    {
     "name": "stdout",
     "output_type": "stream",
     "text": [
      "DecisionTreeClassifier(max_depth=3, random_state=42)\n",
      "RandomForestClassifier(max_depth=3, random_state=42)\n",
      "GradientBoostingClassifier(random_state=42)\n",
      "KNeighborsClassifier()\n",
      "LogisticRegression(multi_class='multinomial')\n",
      "HistGradientBoostingClassifier(max_depth=3, random_state=42)\n"
     ]
    }
   ],
   "source": [
    "my_cv = StratifiedShuffleSplit(n_splits=5,test_size=.1,random_state=42) # 10% for validation \n",
    "scoring = 'f1_macro'\n",
    "for name, model in models.items():\n",
    "    model_names.append(name) # append each name of the model\n",
    "    print(model) # print the model name for checks\n",
    "    cv_results = cross_val_score(model,X_train,y_train,scoring=scoring,cv=my_cv,n_jobs=-2) \n",
    "    cv_results_list = cv_results.tolist() # Turning the array to a list\n",
    "    model_results_f1_macro.append(cv_results_list) # append validation results\n",
    "    model_mean.append(cv_results.mean()) # append the mean"
   ]
  },
  {
   "cell_type": "code",
   "execution_count": 39,
   "metadata": {},
   "outputs": [
    {
     "name": "stdout",
     "output_type": "stream",
     "text": [
      "[[0.4457690446750175, 0.4180405278011881, 0.4302969320548066, 0.4267431402630926, 0.41786352646028363], [0.40207226189991135, 0.39168857533187573, 0.4037726800569887, 0.4036369622328381, 0.40582114151212423], [0.654394614615605, 0.6376488908809755, 0.6518411806469905, 0.657991048553633, 0.6453806946211347], [0.5549409740989542, 0.5225939703116308, 0.5657057139285565, 0.5575622375164621, 0.5427042514416911], [0.7333269554148104, 0.7504917350458947, 0.7633706036259134, 0.7553744204518203, 0.7536353206090913], [0.67395243990467, 0.6784945197656768, 0.6755987574400845, 0.7057490288259519, 0.6968999926162303]]\n",
      "['DT', 'RF', 'GB', 'KNN', 'LR', 'HGB']\n",
      "[0.4277426342508777, 0.4013983242067477, 0.6494512858636677, 0.5487014294594589, 0.7512398070295061, 0.6861389477105226]\n"
     ]
    }
   ],
   "source": [
    "print(model_results_f1_macro)\n",
    "print(model_names)\n",
    "print(model_mean)"
   ]
  },
  {
   "cell_type": "code",
   "execution_count": 40,
   "metadata": {},
   "outputs": [],
   "source": [
    "# Creating a Dictionary of results\n",
    "f1score_result_dict = dict(zip(model_names,model_results_f1_macro))\n",
    "f1score_mean_dict = dict(zip(model_names,model_mean))"
   ]
  },
  {
   "cell_type": "code",
   "execution_count": 41,
   "metadata": {},
   "outputs": [],
   "source": [
    "# Creating a Dataframe of results\n",
    "f1score_result_frame = pd.DataFrame(f1score_result_dict)\n",
    "f1score_mean_frame = pd.Series(f1score_mean_dict).to_frame('mean_f1_score').reset_index()\n",
    "f1score_mean_frame.rename(columns={'index':'models'},inplace=True)"
   ]
  },
  {
   "cell_type": "code",
   "execution_count": 42,
   "metadata": {},
   "outputs": [
    {
     "data": {
      "text/html": [
       "<div>\n",
       "<style scoped>\n",
       "    .dataframe tbody tr th:only-of-type {\n",
       "        vertical-align: middle;\n",
       "    }\n",
       "\n",
       "    .dataframe tbody tr th {\n",
       "        vertical-align: top;\n",
       "    }\n",
       "\n",
       "    .dataframe thead th {\n",
       "        text-align: right;\n",
       "    }\n",
       "</style>\n",
       "<table border=\"1\" class=\"dataframe\">\n",
       "  <thead>\n",
       "    <tr style=\"text-align: right;\">\n",
       "      <th></th>\n",
       "      <th>DT</th>\n",
       "      <th>RF</th>\n",
       "      <th>GB</th>\n",
       "      <th>KNN</th>\n",
       "      <th>LR</th>\n",
       "      <th>HGB</th>\n",
       "    </tr>\n",
       "  </thead>\n",
       "  <tbody>\n",
       "    <tr>\n",
       "      <th>0</th>\n",
       "      <td>0.445769</td>\n",
       "      <td>0.402072</td>\n",
       "      <td>0.654395</td>\n",
       "      <td>0.554941</td>\n",
       "      <td>0.733327</td>\n",
       "      <td>0.673952</td>\n",
       "    </tr>\n",
       "    <tr>\n",
       "      <th>1</th>\n",
       "      <td>0.418041</td>\n",
       "      <td>0.391689</td>\n",
       "      <td>0.637649</td>\n",
       "      <td>0.522594</td>\n",
       "      <td>0.750492</td>\n",
       "      <td>0.678495</td>\n",
       "    </tr>\n",
       "    <tr>\n",
       "      <th>2</th>\n",
       "      <td>0.430297</td>\n",
       "      <td>0.403773</td>\n",
       "      <td>0.651841</td>\n",
       "      <td>0.565706</td>\n",
       "      <td>0.763371</td>\n",
       "      <td>0.675599</td>\n",
       "    </tr>\n",
       "    <tr>\n",
       "      <th>3</th>\n",
       "      <td>0.426743</td>\n",
       "      <td>0.403637</td>\n",
       "      <td>0.657991</td>\n",
       "      <td>0.557562</td>\n",
       "      <td>0.755374</td>\n",
       "      <td>0.705749</td>\n",
       "    </tr>\n",
       "    <tr>\n",
       "      <th>4</th>\n",
       "      <td>0.417864</td>\n",
       "      <td>0.405821</td>\n",
       "      <td>0.645381</td>\n",
       "      <td>0.542704</td>\n",
       "      <td>0.753635</td>\n",
       "      <td>0.696900</td>\n",
       "    </tr>\n",
       "  </tbody>\n",
       "</table>\n",
       "</div>"
      ],
      "text/plain": [
       "         DT        RF        GB       KNN        LR       HGB\n",
       "0  0.445769  0.402072  0.654395  0.554941  0.733327  0.673952\n",
       "1  0.418041  0.391689  0.637649  0.522594  0.750492  0.678495\n",
       "2  0.430297  0.403773  0.651841  0.565706  0.763371  0.675599\n",
       "3  0.426743  0.403637  0.657991  0.557562  0.755374  0.705749\n",
       "4  0.417864  0.405821  0.645381  0.542704  0.753635  0.696900"
      ]
     },
     "execution_count": 42,
     "metadata": {},
     "output_type": "execute_result"
    }
   ],
   "source": [
    "f1score_result_frame"
   ]
  },
  {
   "cell_type": "code",
   "execution_count": 43,
   "metadata": {},
   "outputs": [],
   "source": [
    "f1score_result_frame.to_csv(\"validation_doc2vec_200/doc2vec_f1score_results.csv\",index=False)"
   ]
  },
  {
   "cell_type": "code",
   "execution_count": 44,
   "metadata": {},
   "outputs": [
    {
     "data": {
      "text/html": [
       "<div>\n",
       "<style scoped>\n",
       "    .dataframe tbody tr th:only-of-type {\n",
       "        vertical-align: middle;\n",
       "    }\n",
       "\n",
       "    .dataframe tbody tr th {\n",
       "        vertical-align: top;\n",
       "    }\n",
       "\n",
       "    .dataframe thead th {\n",
       "        text-align: right;\n",
       "    }\n",
       "</style>\n",
       "<table border=\"1\" class=\"dataframe\">\n",
       "  <thead>\n",
       "    <tr style=\"text-align: right;\">\n",
       "      <th></th>\n",
       "      <th>models</th>\n",
       "      <th>mean_f1_score</th>\n",
       "    </tr>\n",
       "  </thead>\n",
       "  <tbody>\n",
       "    <tr>\n",
       "      <th>4</th>\n",
       "      <td>LR</td>\n",
       "      <td>0.751240</td>\n",
       "    </tr>\n",
       "    <tr>\n",
       "      <th>5</th>\n",
       "      <td>HGB</td>\n",
       "      <td>0.686139</td>\n",
       "    </tr>\n",
       "    <tr>\n",
       "      <th>2</th>\n",
       "      <td>GB</td>\n",
       "      <td>0.649451</td>\n",
       "    </tr>\n",
       "    <tr>\n",
       "      <th>3</th>\n",
       "      <td>KNN</td>\n",
       "      <td>0.548701</td>\n",
       "    </tr>\n",
       "    <tr>\n",
       "      <th>0</th>\n",
       "      <td>DT</td>\n",
       "      <td>0.427743</td>\n",
       "    </tr>\n",
       "    <tr>\n",
       "      <th>1</th>\n",
       "      <td>RF</td>\n",
       "      <td>0.401398</td>\n",
       "    </tr>\n",
       "  </tbody>\n",
       "</table>\n",
       "</div>"
      ],
      "text/plain": [
       "  models  mean_f1_score\n",
       "4     LR       0.751240\n",
       "5    HGB       0.686139\n",
       "2     GB       0.649451\n",
       "3    KNN       0.548701\n",
       "0     DT       0.427743\n",
       "1     RF       0.401398"
      ]
     },
     "execution_count": 44,
     "metadata": {},
     "output_type": "execute_result"
    }
   ],
   "source": [
    "f1score_mean_frame.sort_values(by='mean_f1_score',ascending=False)"
   ]
  },
  {
   "cell_type": "code",
   "execution_count": 45,
   "metadata": {},
   "outputs": [],
   "source": [
    "f1score_mean_frame.to_csv(\"validation_doc2vec_200/doc2vec_f1score_mean_results.csv\")"
   ]
  },
  {
   "cell_type": "code",
   "execution_count": 46,
   "metadata": {},
   "outputs": [
    {
     "data": {
      "image/png": "[encoded data removed]",
      "text/plain": [
       "<Figure size 720x360 with 1 Axes>"
      ]
     },
     "metadata": {},
     "output_type": "display_data"
    }
   ],
   "source": [
    "sns.set_theme(style='darkgrid')\n",
    "fig, ax = plt.subplots(figsize=(10,5))\n",
    "sns.boxplot(data=f1score_result_frame)\n",
    "ax.set_xticklabels(model_names)\n",
    "fig.suptitle('Algorithm Comparison')\n",
    "plt.show()"
   ]
  },
  {
   "cell_type": "markdown",
   "metadata": {},
   "source": [
    "Based off the plot above, the top three algorithms are;\n",
    "1. Logistic regression\n",
    "2. HistGradientBoostingClassifier\n",
    "3. GradientBoostingClassifier"
   ]
  },
  {
   "cell_type": "code",
   "execution_count": 47,
   "metadata": {},
   "outputs": [],
   "source": [
    "from sklearn.model_selection import GridSearchCV"
   ]
  },
  {
   "cell_type": "code",
   "execution_count": 48,
   "metadata": {},
   "outputs": [],
   "source": [
    "# Without PCA\n",
    "pipe = Pipeline([('clf',LogisticRegression(multi_class='multinomial',\n",
    "                                            solver='lbfgs'))])"
   ]
  },
  {
   "cell_type": "code",
   "execution_count": 49,
   "metadata": {},
   "outputs": [],
   "source": [
    "paramter_grid = {'clf__C':[0.0001,0.001,0.1,1,10,100]\n",
    "                }\n",
    "my_cv = StratifiedShuffleSplit(n_splits=5,test_size=.1,random_state=42)"
   ]
  },
  {
   "cell_type": "code",
   "execution_count": 50,
   "metadata": {},
   "outputs": [
    {
     "data": {
      "text/plain": [
       "GridSearchCV(cv=StratifiedShuffleSplit(n_splits=5, random_state=42, test_size=0.1,\n",
       "            train_size=None),\n",
       "             estimator=Pipeline(steps=[('clf',\n",
       "                                        LogisticRegression(multi_class='multinomial'))]),\n",
       "             param_grid={'clf__C': [0.0001, 0.001, 0.1, 1, 10, 100]},\n",
       "             scoring='f1_macro')"
      ]
     },
     "execution_count": 50,
     "metadata": {},
     "output_type": "execute_result"
    }
   ],
   "source": [
    "mygrid = GridSearchCV(pipe,param_grid=paramter_grid,cv=my_cv,scoring='f1_macro')\n",
    "mygrid.fit(X_train,y_train)"
   ]
  },
  {
   "cell_type": "code",
   "execution_count": 51,
   "metadata": {},
   "outputs": [
    {
     "name": "stdout",
     "output_type": "stream",
     "text": [
      "Best params: {'clf__C': 10}\n",
      "\n",
      "Best estimator: Pipeline(steps=[('clf', LogisticRegression(C=10, multi_class='multinomial'))])\n",
      "\n",
      "Best validation score: 0.7534985881550994\n"
     ]
    }
   ],
   "source": [
    "print(f\"Best params: {mygrid.best_params_}\\n\")\n",
    "print(f\"Best estimator: {mygrid.best_estimator_}\\n\")\n",
    "print(f\"Best validation score: {mygrid.best_score_}\")"
   ]
  },
  {
   "cell_type": "code",
   "execution_count": 52,
   "metadata": {},
   "outputs": [
    {
     "data": {
      "text/plain": [
       "Pipeline(steps=[('clf', LogisticRegression(C=10, multi_class='multinomial'))])"
      ]
     },
     "execution_count": 52,
     "metadata": {},
     "output_type": "execute_result"
    }
   ],
   "source": [
    "mygrid_trainset = mygrid.best_estimator_\n",
    "mygrid_trainset\n",
    "\n",
    "# Pipeline(steps=[('clf', LogisticRegression(C=10, multi_class='multinomial'))])\n",
    "\n",
    "# Best validation score: 0.7534985881550994"
   ]
  },
  {
   "cell_type": "code",
   "execution_count": 53,
   "metadata": {},
   "outputs": [
    {
     "name": "stdout",
     "output_type": "stream",
     "text": [
      "              precision    recall  f1-score   support\n",
      "\n",
      "          -1       0.82      0.51      0.63      1227\n",
      "           0       0.75      0.84      0.79      5040\n",
      "           1       0.90      0.88      0.89      7602\n",
      "\n",
      "    accuracy                           0.83     13869\n",
      "   macro avg       0.82      0.74      0.77     13869\n",
      "weighted avg       0.84      0.83      0.83     13869\n",
      "\n"
     ]
    },
    {
     "data": {
      "image/png": "[encoded data removed]",
      "text/plain": [
       "<Figure size 432x288 with 2 Axes>"
      ]
     },
     "metadata": {},
     "output_type": "display_data"
    }
   ],
   "source": [
    "# Classification report\n",
    "from sklearn.metrics import classification_report,confusion_matrix,ConfusionMatrixDisplay\n",
    "y_pred_train = mygrid_trainset.predict(X_train)\n",
    "\n",
    "\n",
    "\n",
    "y_train = y_train\n",
    "sns.set_theme(style='white')\n",
    "def class_report(model,y_train,y_pred_train):\n",
    "    print(classification_report(y_train,y_pred_train))\n",
    "    cm = confusion_matrix(y_train,y_pred_train,labels=model.classes_)\n",
    "    disp = ConfusionMatrixDisplay(confusion_matrix=cm, display_labels=model.classes_)\n",
    "    disp.plot()\n",
    "    plt.show()\n",
    "    disp.figure_.savefig('model_doc2vec_200_img/confusion_matrix_no_PCA_df_clean.png',dpi=300)\n",
    "\n",
    "\n",
    "class_report(mygrid_trainset,y_train,y_pred_train)"
   ]
  },
  {
   "cell_type": "markdown",
   "metadata": {},
   "source": [
    "**ROC on training data**"
   ]
  },
  {
   "cell_type": "code",
   "execution_count": 54,
   "metadata": {},
   "outputs": [],
   "source": [
    "lgr = LogisticRegression(C=10, multi_class='multinomial',solver=\"lbfgs\")"
   ]
  },
  {
   "cell_type": "code",
   "execution_count": 55,
   "metadata": {},
   "outputs": [
    {
     "data": {
      "text/plain": [
       "<AxesSubplot:title={'center':'ROC Curves for LogisticRegression'}, xlabel='False Positive Rate', ylabel='True Positive Rate'>"
      ]
     },
     "execution_count": 55,
     "metadata": {},
     "output_type": "execute_result"
    },
    {
     "data": {
      "image/png": "[encoded data removed]",
      "text/plain": [
       "<Figure size 576x396 with 1 Axes>"
      ]
     },
     "metadata": {},
     "output_type": "display_data"
    }
   ],
   "source": [
    "from yellowbrick.classifier import ROCAUC\n",
    "visualizer = ROCAUC(lgr, classes=[-1,0,1])\n",
    "\n",
    "visualizer.fit(X_train, y_train)        # Fit the training data to the visualizer\n",
    "visualizer.score(X_train, y_train)        # Evaluate the model on the training data\n",
    "visualizer.show(outpath=\"model_doc2vec_200_img/roc_without_PCA_df_clean.png\")\n",
    "# Without PCA: AUC score using OvR, macro-averaged over all classes: 0.92"
   ]
  },
  {
   "cell_type": "markdown",
   "metadata": {},
   "source": [
    "AUC macro is quite good and the f1-score showed a leap in performance. Changing the value of alpha does have an effect on performance."
   ]
  },
  {
   "cell_type": "markdown",
   "metadata": {},
   "source": [
    "**Building the model with best estimator and testing on test data**"
   ]
  },
  {
   "cell_type": "code",
   "execution_count": 60,
   "metadata": {},
   "outputs": [
    {
     "data": {
      "text/plain": [
       "LogisticRegression(C=10, multi_class='multinomial')"
      ]
     },
     "execution_count": 60,
     "metadata": {},
     "output_type": "execute_result"
    }
   ],
   "source": [
    "lgr = LogisticRegression(C=10, multi_class='multinomial',solver=\"lbfgs\")\n",
    "\n",
    "lgr.fit(X_train,y_train)"
   ]
  },
  {
   "cell_type": "code",
   "execution_count": 61,
   "metadata": {},
   "outputs": [
    {
     "name": "stdout",
     "output_type": "stream",
     "text": [
      "              precision    recall  f1-score   support\n",
      "\n",
      "          -1       0.44      0.55      0.49       307\n",
      "           0       0.70      0.70      0.70      1260\n",
      "           1       0.86      0.82      0.84      1901\n",
      "\n",
      "    accuracy                           0.75      3468\n",
      "   macro avg       0.66      0.69      0.68      3468\n",
      "weighted avg       0.76      0.75      0.76      3468\n",
      "\n"
     ]
    },
    {
     "data": {
      "image/png": "[encoded data removed]",
      "text/plain": [
       "<Figure size 576x396 with 2 Axes>"
      ]
     },
     "metadata": {},
     "output_type": "display_data"
    }
   ],
   "source": [
    "# Classification report test data\n",
    "y_test = y_test\n",
    "y_pred_test = lgr.predict(X_test)\n",
    "sns.set_theme(style='white')\n",
    "def class_report(model,y_test,pred):\n",
    "    print(classification_report(y_test,pred))\n",
    "    cm = confusion_matrix(y_test,pred,labels=model.classes_)\n",
    "    disp = ConfusionMatrixDisplay(confusion_matrix=cm, display_labels=model.classes_)\n",
    "    disp.plot()\n",
    "    plt.show()\n",
    "    disp.figure_.savefig('model_doc2vec_200_img/confusion_matrix_test_data_no_PCA_df_clean.png',dpi=300)\n",
    "\n",
    "\n",
    "class_report(lgr,y_test,y_pred_test)"
   ]
  },
  {
   "cell_type": "markdown",
   "metadata": {},
   "source": [
    "**ROC on test data**"
   ]
  },
  {
   "cell_type": "code",
   "execution_count": 62,
   "metadata": {},
   "outputs": [],
   "source": [
    "lgr = LogisticRegression(C=10, multi_class='multinomial',solver=\"lbfgs\")"
   ]
  },
  {
   "cell_type": "code",
   "execution_count": 63,
   "metadata": {},
   "outputs": [
    {
     "data": {
      "text/plain": [
       "<AxesSubplot:title={'center':'ROC Curves for LogisticRegression'}, xlabel='False Positive Rate', ylabel='True Positive Rate'>"
      ]
     },
     "execution_count": 63,
     "metadata": {},
     "output_type": "execute_result"
    },
    {
     "data": {
      "image/png": "[encoded data removed]",
      "text/plain": [
       "<Figure size 576x396 with 1 Axes>"
      ]
     },
     "metadata": {},
     "output_type": "display_data"
    }
   ],
   "source": [
    "from yellowbrick.classifier import ROCAUC\n",
    "visualizer = ROCAUC(lgr, classes=[-1,0,1])\n",
    "\n",
    "visualizer.fit(X_train, y_train)        # Fit the training data to the visualizer\n",
    "visualizer.score(X_test, y_test)          # Evaluate the model on the training data\n",
    "visualizer.show(outpath=\"model_doc2vec_200_img/roc_test_data_without_PCA_df_clean.png\")\n",
    "# Without PCA: AUC score using OvR, macro-averaged over all classes: 0.85"
   ]
  },
  {
   "cell_type": "markdown",
   "metadata": {},
   "source": [
    "## **Conclusion**"
   ]
  },
  {
   "cell_type": "markdown",
   "metadata": {},
   "source": [
    "- Not much has changed in terms of test data, but increasing the alpha vaue from 0.01 to 0.025 did have an effect as shown in the training data but the test data remained unhanged.\n",
    "\n",
    "\n",
    "**Table of Values**\n",
    "\n",
    "dataset|f1_score_macro_avg|AUC_score_avg\n",
    "| ----------- | ----------- | ----------- |\n",
    "df_clean_(train data)|0.77|0.92\n",
    "df_clean (test data)|0.68|0.85"
   ]
  }
 ],
 "metadata": {
  "kernelspec": {
   "display_name": "Python 3.8.13",
   "language": "python",
   "name": "python3"
  },
  "language_info": {
   "codemirror_mode": {
    "name": "ipython",
    "version": 3
   },
   "file_extension": ".py",
   "mimetype": "text/x-python",
   "name": "python",
   "nbconvert_exporter": "python",
   "pygments_lexer": "ipython3",
   "version": "3.8.13"
  },
  "orig_nbformat": 4,
  "vscode": {
   "interpreter": {
    "hash": "0d3784fccdc90acbf957f8297e7e306d4c8b14c1a207bd5307d0795df9a8d77b"
   }
  }
 },
 "nbformat": 4,
 "nbformat_minor": 2
}
