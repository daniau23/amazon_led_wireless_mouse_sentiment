{
 "cells": [
  {
   "cell_type": "code",
   "execution_count": 1,
   "metadata": {},
   "outputs": [],
   "source": [
    "import pandas as pd\n",
    "import numpy as np \n",
    "import matplotlib.pyplot as plt\n",
    "# import plotly.express as px\n",
    "# import plotly.graph_objects as go\n",
    "# import plotly.figure_factory as ff\n",
    "import seaborn as sns\n",
    "import warnings\n",
    "warnings.filterwarnings(\"ignore\")\n",
    "# from nltk.tokenize import word_tokenize as wt \n",
    "# from collections import Counter\n",
    "import gensim\n",
    "# import textblob\n",
    "import spacy"
   ]
  },
  {
   "cell_type": "markdown",
   "metadata": {},
   "source": [
    "## **Plan of Action**\n",
    "\n",
    "- Load the data\n",
    "- Drop unnecessary columns and rows\n",
    "- Removal of stop words.\n",
    "- Feature engineering;\n",
    "    - Glove-twitter-200\n",
    "- Begin modelling\n",
    "    - Algorithms to use;\n",
    "        - k-Nearest Neighbors.\n",
    "        - Decision Trees.\n",
    "        - Random Forest.\n",
    "        - Gradient Boosting.\n",
    "        - Logistic Regression\n",
    "- Evaluation;\n",
    "    - F1-score_macro\n",
    "    - AUC\n",
    "    - ROC"
   ]
  },
  {
   "cell_type": "code",
   "execution_count": 2,
   "metadata": {},
   "outputs": [],
   "source": [
    "df_clean = pd.read_csv('../../../cleaned_reviews.csv')"
   ]
  },
  {
   "cell_type": "code",
   "execution_count": 3,
   "metadata": {},
   "outputs": [
    {
     "data": {
      "text/plain": [
       "(17340, 4)"
      ]
     },
     "execution_count": 3,
     "metadata": {},
     "output_type": "execute_result"
    }
   ],
   "source": [
    "df_clean.shape"
   ]
  },
  {
   "cell_type": "code",
   "execution_count": 4,
   "metadata": {},
   "outputs": [
    {
     "data": {
      "text/plain": [
       "Index(['sentiments', 'cleaned_review', 'cleaned_review_length',\n",
       "       'review_score'],\n",
       "      dtype='object')"
      ]
     },
     "execution_count": 4,
     "metadata": {},
     "output_type": "execute_result"
    }
   ],
   "source": [
    "df_clean.columns"
   ]
  },
  {
   "cell_type": "code",
   "execution_count": 5,
   "metadata": {},
   "outputs": [],
   "source": [
    "df_clean.drop(columns=['cleaned_review_length','review_score'],inplace=True)"
   ]
  },
  {
   "cell_type": "markdown",
   "metadata": {},
   "source": [
    "Checking for Null Vaules and Duplicates"
   ]
  },
  {
   "cell_type": "code",
   "execution_count": 6,
   "metadata": {},
   "outputs": [
    {
     "data": {
      "text/plain": [
       "sentiments        0\n",
       "cleaned_review    3\n",
       "dtype: int64"
      ]
     },
     "execution_count": 6,
     "metadata": {},
     "output_type": "execute_result"
    }
   ],
   "source": [
    "df_clean.isna().sum()"
   ]
  },
  {
   "cell_type": "code",
   "execution_count": 7,
   "metadata": {},
   "outputs": [],
   "source": [
    "df_clean.dropna(inplace=True)"
   ]
  },
  {
   "cell_type": "code",
   "execution_count": 8,
   "metadata": {},
   "outputs": [
    {
     "data": {
      "text/plain": [
       "(17337, 2)"
      ]
     },
     "execution_count": 8,
     "metadata": {},
     "output_type": "execute_result"
    }
   ],
   "source": [
    "df_clean.shape"
   ]
  },
  {
   "cell_type": "code",
   "execution_count": 9,
   "metadata": {},
   "outputs": [],
   "source": [
    "from spacy.lang.en.stop_words import STOP_WORDS\n",
    "\n",
    "# print(STOP_WORDS,'\\n') # <- set of Spacy's default stop words\n",
    "all_stopwords = STOP_WORDS\n",
    "# Adding several stopwords\n",
    "# all_stopwords |= {'not',\"no\", \"n't\", 'n’t','n‘t','cannot','none','without','against'}\n",
    "\n",
    "# Removing several stop words\n",
    "all_stopwords-= {'not',\"no\", \"n't\", 'n’t','n‘t','cannot','none','without','against','off','against','too'}\n",
    "my_stop_words = set(all_stopwords) # My own stop words"
   ]
  },
  {
   "cell_type": "code",
   "execution_count": 10,
   "metadata": {},
   "outputs": [
    {
     "name": "stdout",
     "output_type": "stream",
     "text": [
      "{'’m', 'yourselves', 'latterly', 'me', 'once', 'became', 'latter', 'give', '‘ll', 'ca', 'forty', 'most', 'six', 'fifteen', 'another', 'beforehand', 'at', 'her', 'hence', 'anyhow', 'using', 'whereupon', 'hereby', 'enough', 'everywhere', 'have', '‘re', 'himself', 'really', 'yet', 'hers', 'into', 'twenty', 'ours', 'others', 'all', 'your', 'after', 'anything', 'thereby', 'out', 'over', 'around', 'five', '’s', 'hereafter', 'own', 'would', 'now', 'formerly', 'becomes', 'whereas', 'next', 'either', 'before', 'elsewhere', \"'d\", 'please', 'his', 'whither', 'wherever', 'always', 'some', '‘d', 'of', 'very', 'thru', 'regarding', 'otherwise', 'twelve', 'noone', 'or', 'sixty', 'but', 'whence', 'nowhere', 'whereafter', 'sometimes', 'nothing', 'across', 'get', 'when', 'we', 'themselves', 'i', 'again', 'whereby', 'he', 'make', 'thus', 'top', 'seem', 'beyond', 'made', 'whole', 'mine', 'front', 'show', 'somehow', 'side', 'thereafter', 'both', 'on', 'several', 'under', 'per', 'where', 'among', 'nevertheless', 'nor', 'various', 'any', 'eight', 'by', 'those', 'there', 'being', 'become', 'seemed', 'empty', 'last', 'how', 'herein', 'someone', 'together', '’re', 'thence', 'take', 'something', 'other', 'becoming', 'us', 'upon', 'used', 'its', 'unless', 'am', 'go', 'somewhere', 'however', 'do', 'until', 'ever', 'with', \"'ve\", 'down', 'else', 'was', 'though', 'that', 'toward', 'an', 'seeming', 'since', 'while', 'ten', 'in', 'could', 'yours', '’ve', 'may', 'move', 'what', 'name', 'afterwards', 'three', 'two', 'every', 'thereupon', 'who', 'besides', 'although', 'quite', 'keep', 'which', 'myself', 'put', 'everyone', 'within', 'above', 'via', 'has', 'hereupon', 'anyway', 'due', 'wherein', 'did', 'because', 'moreover', 'except', 'nobody', 'towards', 'former', \"'m\", 'then', 'still', \"'s\", 'well', 'mostly', 'be', 'further', 'back', 'hundred', 'serious', 'through', 'than', 'along', 'had', 'itself', 'many', 'whenever', 'to', 'whatever', '‘m', 'are', 'eleven', 'less', '‘ve', 'namely', 'anywhere', 'is', 'for', \"'re\", 'much', 'least', '’d', 'nine', 'been', 'four', 'meanwhile', 'their', 'yourself', 'might', 'herself', 'same', 'our', 'whose', 'therein', 'never', 'from', 'only', 'part', 'my', 'him', 'everything', 'she', 'they', 'anyone', 're', 'it', 'why', 'were', 'more', 'beside', 'these', 'can', 'will', 'indeed', 'ourselves', \"'ll\", 'third', 'almost', 'seems', 'first', 'during', 'sometime', '’ll', 'about', 'alone', 'full', 'fifty', 'bottom', 'doing', 'such', 'even', 'perhaps', 'throughout', 'just', 'say', 'done', 'call', '‘s', 'onto', 'neither', 'so', 'often', 'therefore', 'few', 'one', 'this', 'whom', 'each', 'see', 'whoever', 'if', 'up', 'and', 'does', 'whether', 'should', 'amongst', 'must', 'a', 'the', 'also', 'between', 'here', 'rather', 'them', 'below', 'as', 'amount', 'already', 'you', 'behind'}\n"
     ]
    }
   ],
   "source": [
    "print(my_stop_words)"
   ]
  },
  {
   "cell_type": "code",
   "execution_count": 11,
   "metadata": {},
   "outputs": [
    {
     "data": {
      "text/html": [
       "<div>\n",
       "<style scoped>\n",
       "    .dataframe tbody tr th:only-of-type {\n",
       "        vertical-align: middle;\n",
       "    }\n",
       "\n",
       "    .dataframe tbody tr th {\n",
       "        vertical-align: top;\n",
       "    }\n",
       "\n",
       "    .dataframe thead th {\n",
       "        text-align: right;\n",
       "    }\n",
       "</style>\n",
       "<table border=\"1\" class=\"dataframe\">\n",
       "  <thead>\n",
       "    <tr style=\"text-align: right;\">\n",
       "      <th></th>\n",
       "      <th>sentiments</th>\n",
       "      <th>cleaned_review</th>\n",
       "    </tr>\n",
       "  </thead>\n",
       "  <tbody>\n",
       "    <tr>\n",
       "      <th>0</th>\n",
       "      <td>positive</td>\n",
       "      <td>i wish would have gotten one earlier love it a...</td>\n",
       "    </tr>\n",
       "    <tr>\n",
       "      <th>1</th>\n",
       "      <td>neutral</td>\n",
       "      <td>i ve learned this lesson again open the packag...</td>\n",
       "    </tr>\n",
       "    <tr>\n",
       "      <th>2</th>\n",
       "      <td>neutral</td>\n",
       "      <td>it is so slow and lags find better option</td>\n",
       "    </tr>\n",
       "    <tr>\n",
       "      <th>3</th>\n",
       "      <td>neutral</td>\n",
       "      <td>roller ball stopped working within months of m...</td>\n",
       "    </tr>\n",
       "    <tr>\n",
       "      <th>4</th>\n",
       "      <td>neutral</td>\n",
       "      <td>i like the color and size but it few days out ...</td>\n",
       "    </tr>\n",
       "    <tr>\n",
       "      <th>...</th>\n",
       "      <td>...</td>\n",
       "      <td>...</td>\n",
       "    </tr>\n",
       "    <tr>\n",
       "      <th>17335</th>\n",
       "      <td>positive</td>\n",
       "      <td>i love this speaker and love can take it anywh...</td>\n",
       "    </tr>\n",
       "    <tr>\n",
       "      <th>17336</th>\n",
       "      <td>positive</td>\n",
       "      <td>i use it in my house easy to connect and loud ...</td>\n",
       "    </tr>\n",
       "    <tr>\n",
       "      <th>17337</th>\n",
       "      <td>positive</td>\n",
       "      <td>the bass is good and the battery is amazing mu...</td>\n",
       "    </tr>\n",
       "    <tr>\n",
       "      <th>17338</th>\n",
       "      <td>positive</td>\n",
       "      <td>love it</td>\n",
       "    </tr>\n",
       "    <tr>\n",
       "      <th>17339</th>\n",
       "      <td>neutral</td>\n",
       "      <td>mono speaker</td>\n",
       "    </tr>\n",
       "  </tbody>\n",
       "</table>\n",
       "<p>17337 rows × 2 columns</p>\n",
       "</div>"
      ],
      "text/plain": [
       "      sentiments                                     cleaned_review\n",
       "0       positive  i wish would have gotten one earlier love it a...\n",
       "1        neutral  i ve learned this lesson again open the packag...\n",
       "2        neutral          it is so slow and lags find better option\n",
       "3        neutral  roller ball stopped working within months of m...\n",
       "4        neutral  i like the color and size but it few days out ...\n",
       "...          ...                                                ...\n",
       "17335   positive  i love this speaker and love can take it anywh...\n",
       "17336   positive  i use it in my house easy to connect and loud ...\n",
       "17337   positive  the bass is good and the battery is amazing mu...\n",
       "17338   positive                                            love it\n",
       "17339    neutral                                       mono speaker\n",
       "\n",
       "[17337 rows x 2 columns]"
      ]
     },
     "execution_count": 11,
     "metadata": {},
     "output_type": "execute_result"
    }
   ],
   "source": [
    "df_clean"
   ]
  },
  {
   "cell_type": "code",
   "execution_count": 12,
   "metadata": {},
   "outputs": [],
   "source": [
    "nlp = spacy.load(\"en_core_web_sm\")"
   ]
  },
  {
   "cell_type": "code",
   "execution_count": 13,
   "metadata": {},
   "outputs": [],
   "source": [
    "def spacy_tokeniser(sent):\n",
    "    sent = sent.strip().lower()\n",
    "    doc = nlp(sent)\n",
    "    mytokens = [token.lemma_ for token in doc if token.text not in my_stop_words]\n",
    "    return mytokens"
   ]
  },
  {
   "cell_type": "code",
   "execution_count": 14,
   "metadata": {},
   "outputs": [],
   "source": [
    "df_clean['tokens']= df_clean['cleaned_review'].apply(spacy_tokeniser)"
   ]
  },
  {
   "cell_type": "code",
   "execution_count": 15,
   "metadata": {},
   "outputs": [
    {
     "data": {
      "text/html": [
       "<div>\n",
       "<style scoped>\n",
       "    .dataframe tbody tr th:only-of-type {\n",
       "        vertical-align: middle;\n",
       "    }\n",
       "\n",
       "    .dataframe tbody tr th {\n",
       "        vertical-align: top;\n",
       "    }\n",
       "\n",
       "    .dataframe thead th {\n",
       "        text-align: right;\n",
       "    }\n",
       "</style>\n",
       "<table border=\"1\" class=\"dataframe\">\n",
       "  <thead>\n",
       "    <tr style=\"text-align: right;\">\n",
       "      <th></th>\n",
       "      <th>sentiments</th>\n",
       "      <th>cleaned_review</th>\n",
       "      <th>tokens</th>\n",
       "    </tr>\n",
       "  </thead>\n",
       "  <tbody>\n",
       "    <tr>\n",
       "      <th>0</th>\n",
       "      <td>positive</td>\n",
       "      <td>i wish would have gotten one earlier love it a...</td>\n",
       "      <td>[wish, get, early, love, make, work, laptop, e...</td>\n",
       "    </tr>\n",
       "    <tr>\n",
       "      <th>1</th>\n",
       "      <td>neutral</td>\n",
       "      <td>i ve learned this lesson again open the packag...</td>\n",
       "      <td>[ve, learn, lesson, open, package, use, produc...</td>\n",
       "    </tr>\n",
       "    <tr>\n",
       "      <th>2</th>\n",
       "      <td>neutral</td>\n",
       "      <td>it is so slow and lags find better option</td>\n",
       "      <td>[slow, lag, find, well, option]</td>\n",
       "    </tr>\n",
       "    <tr>\n",
       "      <th>3</th>\n",
       "      <td>neutral</td>\n",
       "      <td>roller ball stopped working within months of m...</td>\n",
       "      <td>[roller, ball, stop, work, month, minimal, use...</td>\n",
       "    </tr>\n",
       "    <tr>\n",
       "      <th>4</th>\n",
       "      <td>neutral</td>\n",
       "      <td>i like the color and size but it few days out ...</td>\n",
       "      <td>[like, color, size, day, return, period, not, ...</td>\n",
       "    </tr>\n",
       "  </tbody>\n",
       "</table>\n",
       "</div>"
      ],
      "text/plain": [
       "  sentiments                                     cleaned_review  \\\n",
       "0   positive  i wish would have gotten one earlier love it a...   \n",
       "1    neutral  i ve learned this lesson again open the packag...   \n",
       "2    neutral          it is so slow and lags find better option   \n",
       "3    neutral  roller ball stopped working within months of m...   \n",
       "4    neutral  i like the color and size but it few days out ...   \n",
       "\n",
       "                                              tokens  \n",
       "0  [wish, get, early, love, make, work, laptop, e...  \n",
       "1  [ve, learn, lesson, open, package, use, produc...  \n",
       "2                    [slow, lag, find, well, option]  \n",
       "3  [roller, ball, stop, work, month, minimal, use...  \n",
       "4  [like, color, size, day, return, period, not, ...  "
      ]
     },
     "execution_count": 15,
     "metadata": {},
     "output_type": "execute_result"
    }
   ],
   "source": [
    "df_clean.head()"
   ]
  },
  {
   "cell_type": "code",
   "execution_count": 16,
   "metadata": {},
   "outputs": [],
   "source": [
    "# Dropping unnecessary columns\n",
    "df_clean.drop(columns=['cleaned_review'],inplace=True)"
   ]
  },
  {
   "cell_type": "markdown",
   "metadata": {},
   "source": [
    "Sentiment Mapping"
   ]
  },
  {
   "cell_type": "code",
   "execution_count": 17,
   "metadata": {},
   "outputs": [],
   "source": [
    "sentiment_mapping = {'negative':-1,'neutral':0,'positive':1}\n",
    "df_clean['sentiment_label'] = df_clean.sentiments.map(sentiment_mapping)"
   ]
  },
  {
   "cell_type": "code",
   "execution_count": 18,
   "metadata": {},
   "outputs": [],
   "source": [
    "df_clean.drop(columns=['sentiments'],inplace=True)"
   ]
  },
  {
   "cell_type": "code",
   "execution_count": 19,
   "metadata": {},
   "outputs": [],
   "source": [
    "import pickle\n",
    "# Loading saved word2vec glove_twitter_25.pkl\n",
    "vectorizer = pickle.load(open('../../../../../../word2vec_files/glove_twitter_200.pkl', \"rb\"))"
   ]
  },
  {
   "cell_type": "code",
   "execution_count": 20,
   "metadata": {},
   "outputs": [
    {
     "name": "stdout",
     "output_type": "stream",
     "text": [
      "<class 'gensim.models.keyedvectors.KeyedVectors'>\n",
      "[ 2.1537e-01 -1.7943e-01 -1.0945e-01  7.7789e-02 -6.9670e-01  5.1510e-01\n",
      "  1.5756e-01 -9.5902e-01  4.0594e-01 -5.4547e-01 -3.7913e-02  3.3253e-01\n",
      " -9.0614e-01 -4.1216e-01 -4.9564e-01  2.7421e-01  2.8665e-01  6.5473e-01\n",
      " -5.8499e-03 -1.1103e-01  1.1077e-02 -9.3015e-02 -1.3340e-02  1.1900e-01\n",
      " -7.0752e-02 -3.2651e-01  3.0276e-01 -2.0905e-01 -1.1087e+00 -7.5981e-03\n",
      " -1.3988e-01  2.8975e-01 -3.4486e-01 -7.5653e-01  7.8638e-01  1.4151e-02\n",
      "  6.8262e-01  6.3894e-01 -1.2569e-01  5.0341e-01 -2.6714e-01  2.7174e-01\n",
      " -8.7672e-01  1.1315e-01  5.1526e-01 -3.0609e-01  1.6206e-01  3.2633e-01\n",
      " -3.6483e-01 -4.1779e-01  3.8487e-02  1.0097e-01 -6.3430e-01  2.9925e-01\n",
      "  1.6298e-01  4.5842e-02  6.8611e-01  1.4584e-01 -2.6317e-01 -1.2730e-01\n",
      " -3.1738e-02 -5.7886e-01  4.8199e-01  2.9078e-01  9.3583e-02 -3.1432e-01\n",
      "  9.8402e-01  2.3303e-01  3.0066e-01 -6.2141e-01 -1.4641e-01 -1.2452e-01\n",
      "  4.5778e-01 -5.1290e-02 -9.1132e-01 -8.6348e-01  2.4460e-01 -5.2860e-01\n",
      "  5.9676e-01  2.7645e-01  8.5135e-01  9.7477e-02  3.3940e-01  4.2882e-01\n",
      "  2.5170e-01  2.3669e-01  2.6048e-01  1.1236e-01 -1.3521e-01 -7.3151e-01\n",
      " -7.1142e-01  2.1775e-02  2.0584e-01 -5.1317e-01  7.8421e-01 -1.9463e-01\n",
      " -4.4882e-01 -3.4302e-01 -3.0139e-01  4.1175e-02  1.0265e-01  6.0295e-01\n",
      "  1.6504e-01  6.0077e-01 -2.3112e-02  6.4290e-02 -9.1089e-01  6.2867e-01\n",
      " -2.3330e-01  4.5534e-02 -6.5028e-02  7.3409e-01  5.6946e-01 -1.2722e-01\n",
      "  2.6150e-01  1.5939e-01 -4.2149e-02 -3.6024e-02  2.8156e-01 -5.2519e-02\n",
      "  3.7512e-01 -3.4355e-02  2.8912e-01 -4.6049e-01  1.6377e-01 -5.5693e-01\n",
      " -2.1864e-02  3.2420e-01  2.0248e-01 -1.7556e-01 -5.1672e-01  2.4833e-01\n",
      " -4.2900e-01  2.2356e-01  5.4347e-01 -7.8934e-01  3.1515e-01  1.4496e-01\n",
      "  4.3731e-01 -3.3687e-01 -6.6318e-01 -2.7966e-01  3.9209e-01  7.5833e-02\n",
      "  1.2693e+00 -7.7083e-02 -2.8514e-01 -1.6016e-01 -1.6850e-01  2.6083e-01\n",
      " -5.7364e-01  7.5330e-01 -3.4555e+00 -3.2876e-01  6.1796e-01  2.7518e-01\n",
      " -6.2352e-01 -3.2370e-01 -3.5313e-01 -6.6818e-01 -3.7380e-01  7.6882e-04\n",
      "  1.9837e-01 -2.0390e-01  4.4253e-01 -6.5116e-02 -4.4629e-01 -7.8440e-01\n",
      "  1.8088e-01  1.6675e-01 -1.0076e-01  3.6710e-01  3.8192e-01 -5.6825e-01\n",
      " -6.2427e-01 -7.7016e-01 -7.1253e-01  1.0145e+00  6.3195e-01  1.8390e-01\n",
      " -7.7172e-01 -1.3229e-01 -3.7580e-01 -1.5312e-01  8.0230e-01  2.2592e-01\n",
      " -3.0507e-01  5.6402e-02 -1.5129e-01  4.3663e-01 -1.4284e-01  4.3715e-02\n",
      " -4.7736e-02  5.8996e-01  1.1392e-01  7.2998e-01 -4.9175e-01  1.8264e-01\n",
      " -1.8875e-01  2.8310e-01]\n",
      "200\n"
     ]
    }
   ],
   "source": [
    "# Checking word embeddings file\n",
    "print(type(vectorizer))\n",
    "print(vectorizer['apple'])\n",
    "print(len(vectorizer['apple']))"
   ]
  },
  {
   "cell_type": "code",
   "execution_count": 21,
   "metadata": {},
   "outputs": [
    {
     "name": "stdout",
     "output_type": "stream",
     "text": [
      "Similarity of pairs\n",
      "('car', 'minivan'): 0.3956742286682129\n",
      "('car', 'bicycle'): 0.47294509410858154\n",
      "('car', 'airplane'): 0.45979639887809753\n",
      "('car', 'cereal'): 0.27325791120529175\n",
      "('car', 'communism'): 0.05721050500869751\n"
     ]
    }
   ],
   "source": [
    "pairs = [\n",
    "    ('car', 'minivan'),   # a minivan is a kind of car\n",
    "    ('car', 'bicycle'),   # still a wheeled vehicle\n",
    "    ('car', 'airplane'),  # ok, no wheels, but still a vehicle\n",
    "    ('car', 'cereal'),    # ... and so on\n",
    "    ('car', 'communism'),\n",
    "]\n",
    "\n",
    "print(\"Similarity of pairs\")\n",
    "for index,words in enumerate(pairs):\n",
    "    print(f\"{words}: {vectorizer.similarity(words[0], words[1])}\")"
   ]
  },
  {
   "cell_type": "code",
   "execution_count": 22,
   "metadata": {},
   "outputs": [
    {
     "name": "stdout",
     "output_type": "stream",
     "text": [
      "Words close to ebay and amazon\n",
      "\n",
      "('store', 0.6703936457633972)\n",
      "('kindle', 0.6691464781761169)\n",
      "('deals', 0.6328017115592957)\n",
      "('buy', 0.6291428804397583)\n",
      "('shop', 0.6248775124549866)\n",
      "('price', 0.6076074838638306)\n",
      "('ebook', 0.6061708331108093)\n",
      "('discount', 0.5941347479820251)\n",
      "('paypal', 0.5927538871765137)\n",
      "('shipping', 0.5810742974281311)\n"
     ]
    }
   ],
   "source": [
    "def topn10(a:str,b:str,c):\n",
    "    topn = vectorizer.most_similar(positive=[a,b], topn=c) \n",
    "    print(f\"Words close to {a} and {b}\\n\")\n",
    "    for x in topn:\n",
    "        print(x)\n",
    "topn10('ebay','amazon',10) # Slot in yours and see the magic"
   ]
  },
  {
   "cell_type": "code",
   "execution_count": 23,
   "metadata": {},
   "outputs": [],
   "source": [
    "from sklearn.decomposition import PCA\n",
    "def decompose(word_list:list,n:int):\n",
    "    words_vectors = np.array([vectorizer[word] for word in word_list])\n",
    "\n",
    "    # print(words_vectors) # prints out a 30 array vector for each word\n",
    "\n",
    "    pca = PCA(n_components=n)\n",
    "    result = pca.fit_transform(words_vectors)\n",
    "    # print(result)\n",
    "\n",
    "    fig, ax = plt.subplots(figsize=(10,10))\n",
    "    print(f\"Components ranges from 0 -> {n-1}\\nWhat pair of components would you like to visualise? \")\n",
    "    a = input('Component one> ')\n",
    "    b = input('Component two> ')\n",
    "    scattered = sns.scatterplot(x=result[:,int(a)],y=result[:,int(b)])\n",
    "\n",
    "    for index,word in enumerate(word_list):\n",
    "        # plt.annotate(word,xy=(result[index,0],result[index,1]))\n",
    "        scattered.text(x=result[index,int(a)],y=result[index,int(b)],s=word)\n",
    "\n",
    "    ax.set_title(f\"Visualisation of word vectors using components {a} and {b}\",fontdict={'fontsize':15})\n",
    "    plt.show()"
   ]
  },
  {
   "cell_type": "code",
   "execution_count": 24,
   "metadata": {},
   "outputs": [
    {
     "name": "stdout",
     "output_type": "stream",
     "text": [
      "Components ranges from 0 -> 1\n",
      "What pair of components would you like to visualise? \n"
     ]
    },
    {
     "data": {
      "image/png": "[encoded data removed]",
      "text/plain": [
       "<Figure size 720x720 with 1 Axes>"
      ]
     },
     "metadata": {
      "needs_background": "light"
     },
     "output_type": "display_data"
    }
   ],
   "source": [
    "words  = ['amazon','ebay','jumia', 'konga','overstock','dell', 'law','firm','judge','lawyer','jury','police'] # Create your own list here\n",
    "decompose(words,2) # Adjust the components as you wish"
   ]
  },
  {
   "cell_type": "code",
   "execution_count": 25,
   "metadata": {},
   "outputs": [],
   "source": [
    "from sklearn.pipeline import Pipeline\n",
    "from sklearn.model_selection import train_test_split,StratifiedShuffleSplit,cross_val_score\n",
    "\n",
    "# The algorithms\n",
    "from sklearn.tree import DecisionTreeClassifier\n",
    "from sklearn.ensemble import RandomForestClassifier,GradientBoostingClassifier,HistGradientBoostingClassifier\n",
    "from sklearn.neighbors import KNeighborsClassifier\n",
    "from sklearn.linear_model import LogisticRegression"
   ]
  },
  {
   "cell_type": "code",
   "execution_count": 26,
   "metadata": {},
   "outputs": [
    {
     "data": {
      "text/html": [
       "<div>\n",
       "<style scoped>\n",
       "    .dataframe tbody tr th:only-of-type {\n",
       "        vertical-align: middle;\n",
       "    }\n",
       "\n",
       "    .dataframe tbody tr th {\n",
       "        vertical-align: top;\n",
       "    }\n",
       "\n",
       "    .dataframe thead th {\n",
       "        text-align: right;\n",
       "    }\n",
       "</style>\n",
       "<table border=\"1\" class=\"dataframe\">\n",
       "  <thead>\n",
       "    <tr style=\"text-align: right;\">\n",
       "      <th></th>\n",
       "      <th>tokens</th>\n",
       "      <th>sentiment_label</th>\n",
       "    </tr>\n",
       "  </thead>\n",
       "  <tbody>\n",
       "    <tr>\n",
       "      <th>0</th>\n",
       "      <td>[wish, get, early, love, make, work, laptop, e...</td>\n",
       "      <td>1</td>\n",
       "    </tr>\n",
       "    <tr>\n",
       "      <th>1</th>\n",
       "      <td>[ve, learn, lesson, open, package, use, produc...</td>\n",
       "      <td>0</td>\n",
       "    </tr>\n",
       "    <tr>\n",
       "      <th>2</th>\n",
       "      <td>[slow, lag, find, well, option]</td>\n",
       "      <td>0</td>\n",
       "    </tr>\n",
       "    <tr>\n",
       "      <th>3</th>\n",
       "      <td>[roller, ball, stop, work, month, minimal, use...</td>\n",
       "      <td>0</td>\n",
       "    </tr>\n",
       "    <tr>\n",
       "      <th>4</th>\n",
       "      <td>[like, color, size, day, return, period, not, ...</td>\n",
       "      <td>0</td>\n",
       "    </tr>\n",
       "    <tr>\n",
       "      <th>...</th>\n",
       "      <td>...</td>\n",
       "      <td>...</td>\n",
       "    </tr>\n",
       "    <tr>\n",
       "      <th>17335</th>\n",
       "      <td>[love, speaker, love, charge, phone, work, no,...</td>\n",
       "      <td>1</td>\n",
       "    </tr>\n",
       "    <tr>\n",
       "      <th>17336</th>\n",
       "      <td>[use, house, easy, connect, loud, clear, music]</td>\n",
       "      <td>1</td>\n",
       "    </tr>\n",
       "    <tr>\n",
       "      <th>17337</th>\n",
       "      <td>[bass, good, battery, amazing, well, charge, t...</td>\n",
       "      <td>1</td>\n",
       "    </tr>\n",
       "    <tr>\n",
       "      <th>17338</th>\n",
       "      <td>[love]</td>\n",
       "      <td>1</td>\n",
       "    </tr>\n",
       "    <tr>\n",
       "      <th>17339</th>\n",
       "      <td>[mono, speaker]</td>\n",
       "      <td>0</td>\n",
       "    </tr>\n",
       "  </tbody>\n",
       "</table>\n",
       "<p>17337 rows × 2 columns</p>\n",
       "</div>"
      ],
      "text/plain": [
       "                                                  tokens  sentiment_label\n",
       "0      [wish, get, early, love, make, work, laptop, e...                1\n",
       "1      [ve, learn, lesson, open, package, use, produc...                0\n",
       "2                        [slow, lag, find, well, option]                0\n",
       "3      [roller, ball, stop, work, month, minimal, use...                0\n",
       "4      [like, color, size, day, return, period, not, ...                0\n",
       "...                                                  ...              ...\n",
       "17335  [love, speaker, love, charge, phone, work, no,...                1\n",
       "17336    [use, house, easy, connect, loud, clear, music]                1\n",
       "17337  [bass, good, battery, amazing, well, charge, t...                1\n",
       "17338                                             [love]                1\n",
       "17339                                    [mono, speaker]                0\n",
       "\n",
       "[17337 rows x 2 columns]"
      ]
     },
     "execution_count": 26,
     "metadata": {},
     "output_type": "execute_result"
    }
   ],
   "source": [
    "df_clean"
   ]
  },
  {
   "cell_type": "code",
   "execution_count": 27,
   "metadata": {},
   "outputs": [],
   "source": [
    "# Vecctoriser of Word2vec\n",
    "def sent_vec(sent):\n",
    "    vector_size = vectorizer.vector_size\n",
    "    w2v_resolution = np.zeros(vector_size)\n",
    "    # print(w2v_resolution)\n",
    "    ctr = 1\n",
    "    for w in sent:\n",
    "        if w in vectorizer:\n",
    "            ctr += 1\n",
    "            w2v_resolution += vectorizer[w]\n",
    "    w2v_resolution = w2v_resolution/ctr\n",
    "    # print(w2v_resolution)\n",
    "    return w2v_resolution"
   ]
  },
  {
   "cell_type": "code",
   "execution_count": 28,
   "metadata": {},
   "outputs": [],
   "source": [
    "df_clean[\"vectors\"] = df_clean['tokens'].apply(sent_vec)"
   ]
  },
  {
   "cell_type": "code",
   "execution_count": 29,
   "metadata": {},
   "outputs": [
    {
     "data": {
      "text/html": [
       "<div>\n",
       "<style scoped>\n",
       "    .dataframe tbody tr th:only-of-type {\n",
       "        vertical-align: middle;\n",
       "    }\n",
       "\n",
       "    .dataframe tbody tr th {\n",
       "        vertical-align: top;\n",
       "    }\n",
       "\n",
       "    .dataframe thead th {\n",
       "        text-align: right;\n",
       "    }\n",
       "</style>\n",
       "<table border=\"1\" class=\"dataframe\">\n",
       "  <thead>\n",
       "    <tr style=\"text-align: right;\">\n",
       "      <th></th>\n",
       "      <th>tokens</th>\n",
       "      <th>sentiment_label</th>\n",
       "      <th>vectors</th>\n",
       "    </tr>\n",
       "  </thead>\n",
       "  <tbody>\n",
       "    <tr>\n",
       "      <th>14785</th>\n",
       "      <td>[meet, need]</td>\n",
       "      <td>0</td>\n",
       "      <td>[0.034476334849993386, 0.4268700083096822, 0.0...</td>\n",
       "    </tr>\n",
       "    <tr>\n",
       "      <th>14534</th>\n",
       "      <td>[shop, great, speaker, sound, excellent, happy]</td>\n",
       "      <td>1</td>\n",
       "      <td>[-0.04264856768505914, -0.08433828396456582, -...</td>\n",
       "    </tr>\n",
       "    <tr>\n",
       "      <th>16246</th>\n",
       "      <td>[no, light, show, charge, not, turn, light, ch...</td>\n",
       "      <td>-1</td>\n",
       "      <td>[-0.1270855840994045, 0.037352016827623756, -0...</td>\n",
       "    </tr>\n",
       "    <tr>\n",
       "      <th>6385</th>\n",
       "      <td>[connectivity, issue, right, box, contact, sel...</td>\n",
       "      <td>0</td>\n",
       "      <td>[-0.012274327079972459, 0.04600268672220409, -...</td>\n",
       "    </tr>\n",
       "    <tr>\n",
       "      <th>424</th>\n",
       "      <td>[don, buy, inconvenient, rechargeable, know, m...</td>\n",
       "      <td>-1</td>\n",
       "      <td>[-0.07911409200592474, -0.0024610988118431783,...</td>\n",
       "    </tr>\n",
       "  </tbody>\n",
       "</table>\n",
       "</div>"
      ],
      "text/plain": [
       "                                                  tokens  sentiment_label  \\\n",
       "14785                                       [meet, need]                0   \n",
       "14534    [shop, great, speaker, sound, excellent, happy]                1   \n",
       "16246  [no, light, show, charge, not, turn, light, ch...               -1   \n",
       "6385   [connectivity, issue, right, box, contact, sel...                0   \n",
       "424    [don, buy, inconvenient, rechargeable, know, m...               -1   \n",
       "\n",
       "                                                 vectors  \n",
       "14785  [0.034476334849993386, 0.4268700083096822, 0.0...  \n",
       "14534  [-0.04264856768505914, -0.08433828396456582, -...  \n",
       "16246  [-0.1270855840994045, 0.037352016827623756, -0...  \n",
       "6385   [-0.012274327079972459, 0.04600268672220409, -...  \n",
       "424    [-0.07911409200592474, -0.0024610988118431783,...  "
      ]
     },
     "execution_count": 29,
     "metadata": {},
     "output_type": "execute_result"
    }
   ],
   "source": [
    "df_clean.sample(n=5,random_state=42)"
   ]
  },
  {
   "cell_type": "code",
   "execution_count": 30,
   "metadata": {},
   "outputs": [],
   "source": [
    "X  =df_clean['vectors'].to_list()\n",
    "y = df_clean['sentiment_label'].to_list()"
   ]
  },
  {
   "cell_type": "code",
   "execution_count": 31,
   "metadata": {},
   "outputs": [],
   "source": [
    "X_train, X_test, y_train,y_test= train_test_split(\n",
    "                                            X,y,test_size=.2,random_state=42, \n",
    "                                            stratify=y)"
   ]
  },
  {
   "cell_type": "code",
   "execution_count": 32,
   "metadata": {},
   "outputs": [
    {
     "data": {
      "text/plain": [
       "200"
      ]
     },
     "execution_count": 32,
     "metadata": {},
     "output_type": "execute_result"
    }
   ],
   "source": [
    "len(X[0])"
   ]
  },
  {
   "cell_type": "code",
   "execution_count": 33,
   "metadata": {},
   "outputs": [],
   "source": [
    "models = {\n",
    "    \"DT\": DecisionTreeClassifier(max_depth=3,random_state=42),\n",
    "    \"RF\": RandomForestClassifier(max_depth=3,random_state=42),\n",
    "    \"GB\": GradientBoostingClassifier(max_depth=3,random_state=42),\n",
    "    \"KNN\": KNeighborsClassifier(),\n",
    "    \"LR\": LogisticRegression(multi_class='multinomial',solver='lbfgs'),\n",
    "    \"HGB\": HistGradientBoostingClassifier(max_depth=3,random_state=42)\n",
    "}"
   ]
  },
  {
   "cell_type": "code",
   "execution_count": 34,
   "metadata": {},
   "outputs": [],
   "source": [
    "# https://towardsdatascience.com/micro-macro-weighted-averages-of-f1-score-clearly-explained-b603420b292f\n",
    "# The abov link explains why f1_macro was used\n",
    "model_results_f1_macro = []\n",
    "model_names = []\n",
    "model_mean = []"
   ]
  },
  {
   "cell_type": "code",
   "execution_count": 35,
   "metadata": {},
   "outputs": [
    {
     "name": "stdout",
     "output_type": "stream",
     "text": [
      "DecisionTreeClassifier(max_depth=3, random_state=42)\n",
      "RandomForestClassifier(max_depth=3, random_state=42)\n",
      "GradientBoostingClassifier(random_state=42)\n",
      "KNeighborsClassifier()\n",
      "LogisticRegression(multi_class='multinomial')\n",
      "HistGradientBoostingClassifier(max_depth=3, random_state=42)\n"
     ]
    }
   ],
   "source": [
    "my_cv = StratifiedShuffleSplit(n_splits=5,test_size=.1,random_state=42) # 10% for validation \n",
    "scoring = 'f1_macro'\n",
    "for name, model in models.items():\n",
    "    model_names.append(name) # append each name of the model\n",
    "    print(model) # print the model name for checks\n",
    "    cv_results = cross_val_score(model,X_train,y_train,scoring=scoring,cv=my_cv,n_jobs=-2) \n",
    "    cv_results_list = cv_results.tolist() # Turning the array to a list\n",
    "    model_results_f1_macro.append(cv_results_list) # append validation results\n",
    "    model_mean.append(cv_results.mean()) # append the mean"
   ]
  },
  {
   "cell_type": "code",
   "execution_count": 36,
   "metadata": {},
   "outputs": [
    {
     "name": "stdout",
     "output_type": "stream",
     "text": [
      "[[0.4316751850640536, 0.4160290570154003, 0.4457113978361542, 0.4310513591299369, 0.44467028595361474], [0.45293800936487605, 0.4488427318211993, 0.4492872657406113, 0.46627036686363627, 0.46013828921110295], [0.6771761524070105, 0.6802039693130548, 0.6804214910323555, 0.6935922167051326, 0.7227382663727093], [0.5872938492760214, 0.5964740913480566, 0.5917051344087491, 0.5983706836116424, 0.6093638786013225], [0.6731519338167876, 0.7030352573080361, 0.7173987977369318, 0.7027875620120647, 0.6924191724904952], [0.6835250685882092, 0.716835767431669, 0.7125573523263181, 0.7120051384711799, 0.7397877802615795]]\n",
      "['DT', 'RF', 'GB', 'KNN', 'LR', 'HGB']\n",
      "[0.433827456999832, 0.4554953326002852, 0.6908264191660526, 0.5966415274491583, 0.6977585446728631, 0.7129422214157912]\n"
     ]
    }
   ],
   "source": [
    "print(model_results_f1_macro)\n",
    "print(model_names)\n",
    "print(model_mean)"
   ]
  },
  {
   "cell_type": "code",
   "execution_count": 37,
   "metadata": {},
   "outputs": [],
   "source": [
    "# Creating a Dictionary of results\n",
    "f1score_result_dict = dict(zip(model_names,model_results_f1_macro))\n",
    "f1score_mean_dict = dict(zip(model_names,model_mean))"
   ]
  },
  {
   "cell_type": "code",
   "execution_count": 38,
   "metadata": {},
   "outputs": [],
   "source": [
    "# Creating a Dataframe of results\n",
    "f1score_result_frame = pd.DataFrame(f1score_result_dict)\n",
    "f1score_mean_frame = pd.Series(f1score_mean_dict).to_frame('mean_f1_score').reset_index()\n",
    "f1score_mean_frame.rename(columns={'index':'models'},inplace=True)"
   ]
  },
  {
   "cell_type": "code",
   "execution_count": 39,
   "metadata": {},
   "outputs": [
    {
     "data": {
      "text/html": [
       "<div>\n",
       "<style scoped>\n",
       "    .dataframe tbody tr th:only-of-type {\n",
       "        vertical-align: middle;\n",
       "    }\n",
       "\n",
       "    .dataframe tbody tr th {\n",
       "        vertical-align: top;\n",
       "    }\n",
       "\n",
       "    .dataframe thead th {\n",
       "        text-align: right;\n",
       "    }\n",
       "</style>\n",
       "<table border=\"1\" class=\"dataframe\">\n",
       "  <thead>\n",
       "    <tr style=\"text-align: right;\">\n",
       "      <th></th>\n",
       "      <th>DT</th>\n",
       "      <th>RF</th>\n",
       "      <th>GB</th>\n",
       "      <th>KNN</th>\n",
       "      <th>LR</th>\n",
       "      <th>HGB</th>\n",
       "    </tr>\n",
       "  </thead>\n",
       "  <tbody>\n",
       "    <tr>\n",
       "      <th>0</th>\n",
       "      <td>0.431675</td>\n",
       "      <td>0.452938</td>\n",
       "      <td>0.677176</td>\n",
       "      <td>0.587294</td>\n",
       "      <td>0.673152</td>\n",
       "      <td>0.683525</td>\n",
       "    </tr>\n",
       "    <tr>\n",
       "      <th>1</th>\n",
       "      <td>0.416029</td>\n",
       "      <td>0.448843</td>\n",
       "      <td>0.680204</td>\n",
       "      <td>0.596474</td>\n",
       "      <td>0.703035</td>\n",
       "      <td>0.716836</td>\n",
       "    </tr>\n",
       "    <tr>\n",
       "      <th>2</th>\n",
       "      <td>0.445711</td>\n",
       "      <td>0.449287</td>\n",
       "      <td>0.680421</td>\n",
       "      <td>0.591705</td>\n",
       "      <td>0.717399</td>\n",
       "      <td>0.712557</td>\n",
       "    </tr>\n",
       "    <tr>\n",
       "      <th>3</th>\n",
       "      <td>0.431051</td>\n",
       "      <td>0.466270</td>\n",
       "      <td>0.693592</td>\n",
       "      <td>0.598371</td>\n",
       "      <td>0.702788</td>\n",
       "      <td>0.712005</td>\n",
       "    </tr>\n",
       "    <tr>\n",
       "      <th>4</th>\n",
       "      <td>0.444670</td>\n",
       "      <td>0.460138</td>\n",
       "      <td>0.722738</td>\n",
       "      <td>0.609364</td>\n",
       "      <td>0.692419</td>\n",
       "      <td>0.739788</td>\n",
       "    </tr>\n",
       "  </tbody>\n",
       "</table>\n",
       "</div>"
      ],
      "text/plain": [
       "         DT        RF        GB       KNN        LR       HGB\n",
       "0  0.431675  0.452938  0.677176  0.587294  0.673152  0.683525\n",
       "1  0.416029  0.448843  0.680204  0.596474  0.703035  0.716836\n",
       "2  0.445711  0.449287  0.680421  0.591705  0.717399  0.712557\n",
       "3  0.431051  0.466270  0.693592  0.598371  0.702788  0.712005\n",
       "4  0.444670  0.460138  0.722738  0.609364  0.692419  0.739788"
      ]
     },
     "execution_count": 39,
     "metadata": {},
     "output_type": "execute_result"
    }
   ],
   "source": [
    "f1score_result_frame"
   ]
  },
  {
   "cell_type": "code",
   "execution_count": 40,
   "metadata": {},
   "outputs": [],
   "source": [
    "f1score_result_frame.to_csv(\"validation_w2v_200/w2v_200_f1score_results.csv\",index=False)"
   ]
  },
  {
   "cell_type": "code",
   "execution_count": 41,
   "metadata": {},
   "outputs": [
    {
     "data": {
      "text/html": [
       "<div>\n",
       "<style scoped>\n",
       "    .dataframe tbody tr th:only-of-type {\n",
       "        vertical-align: middle;\n",
       "    }\n",
       "\n",
       "    .dataframe tbody tr th {\n",
       "        vertical-align: top;\n",
       "    }\n",
       "\n",
       "    .dataframe thead th {\n",
       "        text-align: right;\n",
       "    }\n",
       "</style>\n",
       "<table border=\"1\" class=\"dataframe\">\n",
       "  <thead>\n",
       "    <tr style=\"text-align: right;\">\n",
       "      <th></th>\n",
       "      <th>models</th>\n",
       "      <th>mean_f1_score</th>\n",
       "    </tr>\n",
       "  </thead>\n",
       "  <tbody>\n",
       "    <tr>\n",
       "      <th>5</th>\n",
       "      <td>HGB</td>\n",
       "      <td>0.712942</td>\n",
       "    </tr>\n",
       "    <tr>\n",
       "      <th>4</th>\n",
       "      <td>LR</td>\n",
       "      <td>0.697759</td>\n",
       "    </tr>\n",
       "    <tr>\n",
       "      <th>2</th>\n",
       "      <td>GB</td>\n",
       "      <td>0.690826</td>\n",
       "    </tr>\n",
       "    <tr>\n",
       "      <th>3</th>\n",
       "      <td>KNN</td>\n",
       "      <td>0.596642</td>\n",
       "    </tr>\n",
       "    <tr>\n",
       "      <th>1</th>\n",
       "      <td>RF</td>\n",
       "      <td>0.455495</td>\n",
       "    </tr>\n",
       "    <tr>\n",
       "      <th>0</th>\n",
       "      <td>DT</td>\n",
       "      <td>0.433827</td>\n",
       "    </tr>\n",
       "  </tbody>\n",
       "</table>\n",
       "</div>"
      ],
      "text/plain": [
       "  models  mean_f1_score\n",
       "5    HGB       0.712942\n",
       "4     LR       0.697759\n",
       "2     GB       0.690826\n",
       "3    KNN       0.596642\n",
       "1     RF       0.455495\n",
       "0     DT       0.433827"
      ]
     },
     "execution_count": 41,
     "metadata": {},
     "output_type": "execute_result"
    }
   ],
   "source": [
    "f1score_mean_frame.sort_values(by='mean_f1_score',ascending=False)"
   ]
  },
  {
   "cell_type": "code",
   "execution_count": 42,
   "metadata": {},
   "outputs": [],
   "source": [
    "f1score_mean_frame.to_csv(\"validation_w2v_200/w2v_200_f1score_mean_results.csv\")"
   ]
  },
  {
   "cell_type": "code",
   "execution_count": 43,
   "metadata": {},
   "outputs": [
    {
     "data": {
      "image/png": "[encoded data removed]",
      "text/plain": [
       "<Figure size 720x360 with 1 Axes>"
      ]
     },
     "metadata": {},
     "output_type": "display_data"
    }
   ],
   "source": [
    "sns.set_theme(style='darkgrid')\n",
    "fig, ax = plt.subplots(figsize=(10,5))\n",
    "sns.boxplot(data=f1score_result_frame)\n",
    "ax.set_xticklabels(model_names)\n",
    "fig.suptitle('Algorithm Comparison')\n",
    "plt.show()"
   ]
  },
  {
   "cell_type": "markdown",
   "metadata": {},
   "source": [
    "Based off the plot above, the top three algorithms are;\n",
    "1. HistGradientBoostingClassifier\n",
    "2. Logistic regression (it seems Logistic regression performs better with increase in features [vector space])\n",
    "3. GradientBoostingClassifier"
   ]
  },
  {
   "cell_type": "code",
   "execution_count": 44,
   "metadata": {},
   "outputs": [],
   "source": [
    "X = df_clean['vectors'].to_list()\n",
    "y = df_clean['sentiment_label'].to_list()"
   ]
  },
  {
   "cell_type": "code",
   "execution_count": 45,
   "metadata": {},
   "outputs": [],
   "source": [
    "from sklearn.model_selection import GridSearchCV"
   ]
  },
  {
   "cell_type": "code",
   "execution_count": 46,
   "metadata": {},
   "outputs": [],
   "source": [
    "X_train, X_test, y_train,y_test= train_test_split(\n",
    "                                            X,y,test_size=.2,random_state=42, \n",
    "                                            stratify=y)"
   ]
  },
  {
   "cell_type": "code",
   "execution_count": 47,
   "metadata": {},
   "outputs": [],
   "source": [
    "# Without PCA\n",
    "pipe = Pipeline([('clf',HistGradientBoostingClassifier(max_depth=3,random_state=42))])"
   ]
  },
  {
   "cell_type": "code",
   "execution_count": 48,
   "metadata": {},
   "outputs": [],
   "source": [
    "paramter_grid = {\n",
    "                'clf__learning_rate':[0.001,0.01,0.1,1],\n",
    "                'clf__max_iter':[100,200,300],\n",
    "                'clf__max_leaf_nodes':[20,30,31],\n",
    "                'clf__min_samples_leaf':[20,50,80,110],\n",
    "                'clf__warm_start':[True,False],\n",
    "                }\n",
    "my_cv = StratifiedShuffleSplit(n_splits=5,test_size=.1,random_state=42)"
   ]
  },
  {
   "cell_type": "code",
   "execution_count": 49,
   "metadata": {},
   "outputs": [
    {
     "data": {
      "text/plain": [
       "GridSearchCV(cv=StratifiedShuffleSplit(n_splits=5, random_state=42, test_size=0.1,\n",
       "            train_size=None),\n",
       "             estimator=Pipeline(steps=[('clf',\n",
       "                                        HistGradientBoostingClassifier(max_depth=3,\n",
       "                                                                       random_state=42))]),\n",
       "             param_grid={'clf__learning_rate': [0.001, 0.01, 0.1, 1],\n",
       "                         'clf__max_iter': [100, 200, 300],\n",
       "                         'clf__max_leaf_nodes': [20, 30, 31],\n",
       "                         'clf__min_samples_leaf': [20, 50, 80, 110],\n",
       "                         'clf__warm_start': [True, False]},\n",
       "             scoring='f1_macro')"
      ]
     },
     "execution_count": 49,
     "metadata": {},
     "output_type": "execute_result"
    }
   ],
   "source": [
    "mygrid = GridSearchCV(pipe,param_grid=paramter_grid,cv=my_cv,scoring='f1_macro')\n",
    "mygrid.fit(X_train,y_train)"
   ]
  },
  {
   "cell_type": "code",
   "execution_count": 50,
   "metadata": {},
   "outputs": [
    {
     "name": "stdout",
     "output_type": "stream",
     "text": [
      "Best params: {'clf__learning_rate': 0.1, 'clf__max_iter': 300, 'clf__max_leaf_nodes': 20, 'clf__min_samples_leaf': 80, 'clf__warm_start': True}\n",
      "\n",
      "Best estimator: Pipeline(steps=[('clf',\n",
      "                 HistGradientBoostingClassifier(max_depth=3, max_iter=300,\n",
      "                                                max_leaf_nodes=20,\n",
      "                                                min_samples_leaf=80,\n",
      "                                                random_state=42,\n",
      "                                                warm_start=True))])\n",
      "\n",
      "Best validation score: 0.7917631244629814\n"
     ]
    }
   ],
   "source": [
    "print(f\"Best params: {mygrid.best_params_}\\n\")\n",
    "print(f\"Best estimator: {mygrid.best_estimator_}\\n\")\n",
    "print(f\"Best validation score: {mygrid.best_score_}\")"
   ]
  },
  {
   "cell_type": "code",
   "execution_count": 51,
   "metadata": {},
   "outputs": [
    {
     "data": {
      "text/plain": [
       "Pipeline(steps=[('clf',\n",
       "                 HistGradientBoostingClassifier(max_depth=3, max_iter=300,\n",
       "                                                max_leaf_nodes=20,\n",
       "                                                min_samples_leaf=80,\n",
       "                                                random_state=42,\n",
       "                                                warm_start=True))])"
      ]
     },
     "execution_count": 51,
     "metadata": {},
     "output_type": "execute_result"
    }
   ],
   "source": [
    "mygrid_trainset = mygrid.best_estimator_\n",
    "mygrid_trainset\n",
    "\n",
    "# Pipeline(steps=[('clf',\n",
    "#                  HistGradientBoostingClassifier(max_depth=3, max_iter=300,\n",
    "#                                                 max_leaf_nodes=20,\n",
    "#                                                 min_samples_leaf=80,\n",
    "#                                                 random_state=42,\n",
    "#                                                 warm_start=True))])\n",
    "# Best validation score: 0.7917631244629814"
   ]
  },
  {
   "cell_type": "code",
   "execution_count": 52,
   "metadata": {},
   "outputs": [
    {
     "name": "stdout",
     "output_type": "stream",
     "text": [
      "              precision    recall  f1-score   support\n",
      "\n",
      "          -1       0.97      0.90      0.94      1227\n",
      "           0       0.95      0.93      0.94      5040\n",
      "           1       0.95      0.98      0.97      7602\n",
      "\n",
      "    accuracy                           0.96     13869\n",
      "   macro avg       0.96      0.94      0.95     13869\n",
      "weighted avg       0.96      0.96      0.96     13869\n",
      "\n"
     ]
    },
    {
     "data": {
      "image/png": "[encoded data removed]",
      "text/plain": [
       "<Figure size 432x288 with 2 Axes>"
      ]
     },
     "metadata": {},
     "output_type": "display_data"
    }
   ],
   "source": [
    "# Classification report\n",
    "from sklearn.metrics import classification_report,confusion_matrix,ConfusionMatrixDisplay\n",
    "y_pred_train = mygrid_trainset.predict(X_train)\n",
    "\n",
    "\n",
    "\n",
    "y_train = y_train\n",
    "sns.set_theme(style='white')\n",
    "def class_report(model,y_train,y_pred_train):\n",
    "    print(classification_report(y_train,y_pred_train))\n",
    "    cm = confusion_matrix(y_train,y_pred_train,labels=model.classes_)\n",
    "    disp = ConfusionMatrixDisplay(confusion_matrix=cm, display_labels=model.classes_)\n",
    "    disp.plot()\n",
    "    plt.show()\n",
    "\n",
    "\n",
    "class_report(mygrid_trainset,y_train,y_pred_train)"
   ]
  },
  {
   "cell_type": "markdown",
   "metadata": {},
   "source": [
    "**ROC on training data**"
   ]
  },
  {
   "cell_type": "code",
   "execution_count": 53,
   "metadata": {},
   "outputs": [],
   "source": [
    "X = df_clean['vectors'].tolist()\n",
    "y = df_clean['sentiment_label'].tolist()"
   ]
  },
  {
   "cell_type": "code",
   "execution_count": 55,
   "metadata": {},
   "outputs": [],
   "source": [
    "X_train, X_test, y_train,y_test= train_test_split(\n",
    "                                            X,y,test_size=.2,random_state=42, \n",
    "                                            stratify=y)\n",
    "\n",
    "\n",
    "# # Without PCA\n",
    "hgb =HistGradientBoostingClassifier(max_depth=3, max_iter=300,\n",
    "                                                max_leaf_nodes=20,\n",
    "                                                min_samples_leaf=80,\n",
    "                                                random_state=42,\n",
    "                                                warm_start=True)"
   ]
  },
  {
   "cell_type": "code",
   "execution_count": 56,
   "metadata": {},
   "outputs": [
    {
     "data": {
      "image/png": "[encoded data removed]",
      "text/plain": [
       "<Figure size 576x396 with 1 Axes>"
      ]
     },
     "metadata": {},
     "output_type": "display_data"
    },
    {
     "data": {
      "text/plain": [
       "<AxesSubplot:title={'center':'ROC Curves for HistGradientBoostingClassifier'}, xlabel='False Positive Rate', ylabel='True Positive Rate'>"
      ]
     },
     "execution_count": 56,
     "metadata": {},
     "output_type": "execute_result"
    }
   ],
   "source": [
    "from yellowbrick.classifier import ROCAUC\n",
    "visualizer = ROCAUC(hgb, classes=[-1,0,1])\n",
    "\n",
    "visualizer.fit(X_train, y_train)        # Fit the training data to the visualizer\n",
    "visualizer.score(X_train, y_train)        # Evaluate the model on the training data\n",
    "visualizer.show() \n",
    "# Without PCA: AUC score using OvR, macro-averaged over all classes: 0.99"
   ]
  },
  {
   "cell_type": "markdown",
   "metadata": {},
   "source": [
    "A significant increase in performance in f1-score macro than the use of 100-vector space."
   ]
  },
  {
   "cell_type": "markdown",
   "metadata": {},
   "source": [
    "**Building the model with best estimator and testing on test data**"
   ]
  },
  {
   "cell_type": "code",
   "execution_count": 58,
   "metadata": {},
   "outputs": [],
   "source": [
    "X = df_clean['vectors'].tolist()\n",
    "y = df_clean['sentiment_label'].tolist()"
   ]
  },
  {
   "cell_type": "code",
   "execution_count": 59,
   "metadata": {},
   "outputs": [
    {
     "data": {
      "text/plain": [
       "HistGradientBoostingClassifier(max_depth=3, max_iter=300, max_leaf_nodes=20,\n",
       "                               min_samples_leaf=80, random_state=42,\n",
       "                               warm_start=True)"
      ]
     },
     "execution_count": 59,
     "metadata": {},
     "output_type": "execute_result"
    }
   ],
   "source": [
    "X_train, X_test, y_train,y_test= train_test_split(\n",
    "                                            X,y,test_size=.2,random_state=42, \n",
    "                                            stratify=y)\n",
    "\n",
    "\n",
    "# Without PCA\n",
    "hgb = HistGradientBoostingClassifier(max_depth=3, max_iter=300,\n",
    "                                                max_leaf_nodes=20,\n",
    "                                                min_samples_leaf=80,\n",
    "                                                random_state=42,\n",
    "                                                warm_start=True)\n",
    "\n",
    "hgb.fit(X_train,y_train)"
   ]
  },
  {
   "cell_type": "code",
   "execution_count": 60,
   "metadata": {},
   "outputs": [
    {
     "name": "stdout",
     "output_type": "stream",
     "text": [
      "              precision    recall  f1-score   support\n",
      "\n",
      "          -1       0.77      0.54      0.64       307\n",
      "           0       0.79      0.81      0.80      1260\n",
      "           1       0.89      0.92      0.90      1901\n",
      "\n",
      "    accuracy                           0.84      3468\n",
      "   macro avg       0.82      0.76      0.78      3468\n",
      "weighted avg       0.84      0.84      0.84      3468\n",
      "\n"
     ]
    },
    {
     "data": {
      "image/png": "[encoded data removed]",
      "text/plain": [
       "<Figure size 576x396 with 2 Axes>"
      ]
     },
     "metadata": {},
     "output_type": "display_data"
    }
   ],
   "source": [
    "# Classification report test data\n",
    "y_test = y_test\n",
    "y_pred_test = hgb.predict(X_test)\n",
    "sns.set_theme(style='white')\n",
    "def class_report(model,y_test,pred):\n",
    "    print(classification_report(y_test,pred))\n",
    "    cm = confusion_matrix(y_test,pred,labels=model.classes_)\n",
    "    disp = ConfusionMatrixDisplay(confusion_matrix=cm, display_labels=model.classes_)\n",
    "    disp.plot()\n",
    "    plt.show()\n",
    "\n",
    "\n",
    "class_report(hgb,y_test,y_pred_test)"
   ]
  },
  {
   "cell_type": "markdown",
   "metadata": {},
   "source": [
    "**ROC on test data**"
   ]
  },
  {
   "cell_type": "code",
   "execution_count": 61,
   "metadata": {},
   "outputs": [],
   "source": [
    "X = df_clean['vectors'].tolist()\n",
    "y = df_clean['sentiment_label'].tolist()"
   ]
  },
  {
   "cell_type": "code",
   "execution_count": 62,
   "metadata": {},
   "outputs": [],
   "source": [
    "X_train, X_test, y_train,y_test= train_test_split(\n",
    "                                            X,y,test_size=.2,random_state=42, \n",
    "                                            stratify=y)\n",
    "\n",
    "\n",
    "# Without PCA\n",
    "hgb = HistGradientBoostingClassifier(max_depth=3, max_iter=300,\n",
    "                                                max_leaf_nodes=20,\n",
    "                                                min_samples_leaf=80,\n",
    "                                                random_state=42,\n",
    "                                                warm_start=True)"
   ]
  },
  {
   "cell_type": "code",
   "execution_count": 63,
   "metadata": {},
   "outputs": [
    {
     "data": {
      "image/png": "[encoded data removed]",
      "text/plain": [
       "<Figure size 576x396 with 1 Axes>"
      ]
     },
     "metadata": {},
     "output_type": "display_data"
    },
    {
     "data": {
      "text/plain": [
       "<AxesSubplot:title={'center':'ROC Curves for HistGradientBoostingClassifier'}, xlabel='False Positive Rate', ylabel='True Positive Rate'>"
      ]
     },
     "execution_count": 63,
     "metadata": {},
     "output_type": "execute_result"
    }
   ],
   "source": [
    "# Without PCA\n",
    "visualizer = ROCAUC(hgb, classes=[-1,0,1])\n",
    "\n",
    "visualizer.fit(X_train, y_train)        # Fit the training data to the visualizer\n",
    "visualizer.score(X_test, y_test)        # Evaluate the model on the test data\n",
    "visualizer.show() \n",
    "# Without PCA: AUC score using OvR, macro-averaged over all classes: 0.95"
   ]
  },
  {
   "cell_type": "markdown",
   "metadata": {},
   "source": [
    "## **Conclusion**"
   ]
  },
  {
   "cell_type": "markdown",
   "metadata": {},
   "source": [
    "- Using glove-twitter-200 word embeddings has shown great performance than the use of 25, 50, 100 vector space.\n",
    "\n",
    "\n",
    "**Table of Values**\n",
    "\n",
    "dataset|f1_score_macro_avg|AUC_score_avg\n",
    "| ----------- | ----------- | ----------- |\n",
    "df_clean_(train data)|0.95|0.99\n",
    "df_clean (test data)|0.78|0.95"
   ]
  },
  {
   "cell_type": "code",
   "execution_count": 65,
   "metadata": {},
   "outputs": [],
   "source": [
    "hgb.fit(X_train, y_train)\n",
    "pickle.dump(hgb,open(\"hgb_200.pkl\",'wb'))"
   ]
  }
 ],
 "metadata": {
  "kernelspec": {
   "display_name": "Python 3.8.13 (conda)",
   "language": "python",
   "name": "python3"
  },
  "language_info": {
   "codemirror_mode": {
    "name": "ipython",
    "version": 3
   },
   "file_extension": ".py",
   "mimetype": "text/x-python",
   "name": "python",
   "nbconvert_exporter": "python",
   "pygments_lexer": "ipython3",
   "version": "3.8.13"
  },
  "orig_nbformat": 4,
  "vscode": {
   "interpreter": {
    "hash": "0d3784fccdc90acbf957f8297e7e306d4c8b14c1a207bd5307d0795df9a8d77b"
   }
  }
 },
 "nbformat": 4,
 "nbformat_minor": 2
}
