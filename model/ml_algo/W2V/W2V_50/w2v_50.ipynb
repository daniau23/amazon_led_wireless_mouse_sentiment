{
 "cells": [
  {
   "cell_type": "code",
   "execution_count": 1,
   "metadata": {},
   "outputs": [],
   "source": [
    "import pandas as pd\n",
    "import numpy as np \n",
    "import matplotlib.pyplot as plt\n",
    "# import plotly.express as px\n",
    "# import plotly.graph_objects as go\n",
    "# import plotly.figure_factory as ff\n",
    "import seaborn as sns\n",
    "import warnings\n",
    "warnings.filterwarnings(\"ignore\")\n",
    "# from nltk.tokenize import word_tokenize as wt \n",
    "# from collections import Counter\n",
    "import gensim\n",
    "# import textblob\n",
    "import spacy"
   ]
  },
  {
   "cell_type": "markdown",
   "metadata": {},
   "source": [
    "## **Plan of Action**\n",
    "\n",
    "- Load the data\n",
    "- Drop unnecessary columns and rows\n",
    "- Removal of stop words.\n",
    "- Feature engineering;\n",
    "    - Glove-twitter-50\n",
    "- Begin modelling\n",
    "    - Algorithms to use;\n",
    "        - k-Nearest Neighbors.\n",
    "        - Decision Trees.\n",
    "        - Naive Bayes.\n",
    "        - Random Forest.\n",
    "        - Gradient Boosting.\n",
    "        - Logistic Regression\n",
    "- Evaluation;\n",
    "    - F1-score_macro\n",
    "    - AUC\n",
    "    - ROC"
   ]
  },
  {
   "cell_type": "code",
   "execution_count": 2,
   "metadata": {},
   "outputs": [],
   "source": [
    "df_clean = pd.read_csv('../../../cleaned_reviews.csv')"
   ]
  },
  {
   "cell_type": "code",
   "execution_count": 3,
   "metadata": {},
   "outputs": [
    {
     "data": {
      "text/plain": [
       "(17340, 4)"
      ]
     },
     "execution_count": 3,
     "metadata": {},
     "output_type": "execute_result"
    }
   ],
   "source": [
    "df_clean.shape"
   ]
  },
  {
   "cell_type": "code",
   "execution_count": 4,
   "metadata": {},
   "outputs": [
    {
     "data": {
      "text/plain": [
       "Index(['sentiments', 'cleaned_review', 'cleaned_review_length',\n",
       "       'review_score'],\n",
       "      dtype='object')"
      ]
     },
     "execution_count": 4,
     "metadata": {},
     "output_type": "execute_result"
    }
   ],
   "source": [
    "df_clean.columns"
   ]
  },
  {
   "cell_type": "code",
   "execution_count": 5,
   "metadata": {},
   "outputs": [],
   "source": [
    "df_clean.drop(columns=['cleaned_review_length','review_score'],inplace=True)"
   ]
  },
  {
   "cell_type": "markdown",
   "metadata": {},
   "source": [
    "Checking for Null Vaules and Duplicates"
   ]
  },
  {
   "cell_type": "code",
   "execution_count": 6,
   "metadata": {},
   "outputs": [
    {
     "data": {
      "text/plain": [
       "sentiments        0\n",
       "cleaned_review    3\n",
       "dtype: int64"
      ]
     },
     "execution_count": 6,
     "metadata": {},
     "output_type": "execute_result"
    }
   ],
   "source": [
    "df_clean.isna().sum()"
   ]
  },
  {
   "cell_type": "code",
   "execution_count": 7,
   "metadata": {},
   "outputs": [],
   "source": [
    "df_clean.dropna(inplace=True)"
   ]
  },
  {
   "cell_type": "code",
   "execution_count": 8,
   "metadata": {},
   "outputs": [
    {
     "data": {
      "text/plain": [
       "(17337, 2)"
      ]
     },
     "execution_count": 8,
     "metadata": {},
     "output_type": "execute_result"
    }
   ],
   "source": [
    "df_clean.shape"
   ]
  },
  {
   "cell_type": "code",
   "execution_count": 9,
   "metadata": {},
   "outputs": [],
   "source": [
    "from spacy.lang.en.stop_words import STOP_WORDS\n",
    "\n",
    "# print(STOP_WORDS,'\\n') # <- set of Spacy's default stop words\n",
    "all_stopwords = STOP_WORDS\n",
    "# Adding several stopwords\n",
    "# all_stopwords |= {'not',\"no\", \"n't\", 'n’t','n‘t','cannot','none','without','against'}\n",
    "\n",
    "# Removing several stop words\n",
    "all_stopwords-= {'not',\"no\", \"n't\", 'n’t','n‘t','cannot','none','without','against','off','against','too'}\n",
    "my_stop_words = set(all_stopwords) # My own stop words"
   ]
  },
  {
   "cell_type": "code",
   "execution_count": 10,
   "metadata": {},
   "outputs": [
    {
     "name": "stdout",
     "output_type": "stream",
     "text": [
      "{'down', 'than', 'ten', 'thereupon', 'sometimes', 'thereby', 'can', 'his', 'moreover', 'upon', 'otherwise', 'those', 'eight', 'everything', 'thus', \"'ll\", 'at', 'forty', 'less', 'using', 'beside', 'side', 'former', 'never', 'herein', 'does', 'mine', 'top', 'together', 'do', '‘s', 'he', 'why', 'her', 'twelve', \"'s\", 'thence', 'whom', 'all', 'him', 'three', 'sometime', 'used', 'amount', 'regarding', 'also', 'somewhere', 'go', 'really', 'made', 'almost', 'fifteen', '’d', 'seeming', 'everywhere', 'becomes', 'could', 'many', 'our', 'whenever', \"'d\", 'several', \"'m\", 'empty', 'latter', 'out', 'most', 'so', 'beyond', 'seemed', 'here', 'in', 'first', 'if', 'both', 'more', 'often', 'may', 'further', 'perhaps', 'whatever', 'hers', 'which', 'whose', 'somehow', 'others', 'was', 'because', 'up', 'that', '’ll', 'am', 'me', 'whether', 'well', 'give', '’ve', 'then', 'my', 'seems', 'ours', 'will', 'must', 'to', '‘m', 'noone', 'whereas', 'where', 'during', 'part', 'please', 'them', 'take', 'once', 'although', 'from', 'via', 'due', 'there', 'bottom', 'much', 'with', 'become', 'make', 'your', 'being', 'always', 'anyway', 'indeed', 'whereby', 'and', 'whole', 'though', 'namely', 'a', 'amongst', 'done', 'call', 'across', 'nowhere', \"'ve\", 'each', '‘re', '‘d', 'next', 'nothing', 'within', 'you', 'through', 'this', 'of', 'afterwards', 'nine', 'hence', 'hundred', 'since', 'therein', 'else', 'per', 'whereafter', 'should', 'six', 'by', 'except', 'after', 'they', 'among', 'onto', 'serious', 'hereby', 'sixty', 'same', 'already', 'themselves', 'as', 'anything', 'yours', 'any', 'be', 'eleven', 'say', 'anyhow', 'another', 'about', 'did', 'again', 'nor', 'itself', 'get', 'very', 'one', 'below', 'along', 'wherein', 'beforehand', 'its', 'throughout', 'nobody', 'we', 'elsewhere', 'between', 'seem', 'has', 'something', 'own', 'last', 'latterly', 'ourselves', 'rather', 'anyone', '’m', 'herself', 'fifty', 'ever', 'hereafter', 'yourselves', 'third', 'such', 'toward', 'someone', 'few', 'full', 'the', 'what', '’re', 'twenty', 'meanwhile', 'thereafter', 'i', '’s', 'she', 'five', 'some', 'around', 'keep', 'other', 'an', 'how', 'when', 'for', 'us', 'only', 'unless', 'until', 'been', 'ca', 'every', 'now', 'front', 'put', 'have', 'hereupon', 'over', '‘ve', 'might', 'himself', 'various', 'above', 'still', 'just', 'whither', 'however', 'under', 'back', 'besides', 'myself', 'towards', 'doing', 'yourself', \"'re\", 'enough', 're', 'whoever', 'wherever', 'became', 'move', 'see', 'show', 'nevertheless', 'or', 'neither', 'on', 'were', 'four', 'who', '‘ll', 'before', 'everyone', 'two', 'these', 'into', 'least', 'had', 'alone', 'mostly', 'even', 'whereupon', 'behind', 'while', 'either', 'name', 'becoming', 'their', 'therefore', 'whence', 'thru', 'quite', 'are', 'but', 'yet', 'formerly', 'it', 'is', 'would', 'anywhere'}\n"
     ]
    }
   ],
   "source": [
    "print(my_stop_words)"
   ]
  },
  {
   "cell_type": "code",
   "execution_count": 11,
   "metadata": {},
   "outputs": [
    {
     "data": {
      "text/html": [
       "<div>\n",
       "<style scoped>\n",
       "    .dataframe tbody tr th:only-of-type {\n",
       "        vertical-align: middle;\n",
       "    }\n",
       "\n",
       "    .dataframe tbody tr th {\n",
       "        vertical-align: top;\n",
       "    }\n",
       "\n",
       "    .dataframe thead th {\n",
       "        text-align: right;\n",
       "    }\n",
       "</style>\n",
       "<table border=\"1\" class=\"dataframe\">\n",
       "  <thead>\n",
       "    <tr style=\"text-align: right;\">\n",
       "      <th></th>\n",
       "      <th>sentiments</th>\n",
       "      <th>cleaned_review</th>\n",
       "    </tr>\n",
       "  </thead>\n",
       "  <tbody>\n",
       "    <tr>\n",
       "      <th>0</th>\n",
       "      <td>positive</td>\n",
       "      <td>i wish would have gotten one earlier love it a...</td>\n",
       "    </tr>\n",
       "    <tr>\n",
       "      <th>1</th>\n",
       "      <td>neutral</td>\n",
       "      <td>i ve learned this lesson again open the packag...</td>\n",
       "    </tr>\n",
       "    <tr>\n",
       "      <th>2</th>\n",
       "      <td>neutral</td>\n",
       "      <td>it is so slow and lags find better option</td>\n",
       "    </tr>\n",
       "    <tr>\n",
       "      <th>3</th>\n",
       "      <td>neutral</td>\n",
       "      <td>roller ball stopped working within months of m...</td>\n",
       "    </tr>\n",
       "    <tr>\n",
       "      <th>4</th>\n",
       "      <td>neutral</td>\n",
       "      <td>i like the color and size but it few days out ...</td>\n",
       "    </tr>\n",
       "    <tr>\n",
       "      <th>...</th>\n",
       "      <td>...</td>\n",
       "      <td>...</td>\n",
       "    </tr>\n",
       "    <tr>\n",
       "      <th>17335</th>\n",
       "      <td>positive</td>\n",
       "      <td>i love this speaker and love can take it anywh...</td>\n",
       "    </tr>\n",
       "    <tr>\n",
       "      <th>17336</th>\n",
       "      <td>positive</td>\n",
       "      <td>i use it in my house easy to connect and loud ...</td>\n",
       "    </tr>\n",
       "    <tr>\n",
       "      <th>17337</th>\n",
       "      <td>positive</td>\n",
       "      <td>the bass is good and the battery is amazing mu...</td>\n",
       "    </tr>\n",
       "    <tr>\n",
       "      <th>17338</th>\n",
       "      <td>positive</td>\n",
       "      <td>love it</td>\n",
       "    </tr>\n",
       "    <tr>\n",
       "      <th>17339</th>\n",
       "      <td>neutral</td>\n",
       "      <td>mono speaker</td>\n",
       "    </tr>\n",
       "  </tbody>\n",
       "</table>\n",
       "<p>17337 rows × 2 columns</p>\n",
       "</div>"
      ],
      "text/plain": [
       "      sentiments                                     cleaned_review\n",
       "0       positive  i wish would have gotten one earlier love it a...\n",
       "1        neutral  i ve learned this lesson again open the packag...\n",
       "2        neutral          it is so slow and lags find better option\n",
       "3        neutral  roller ball stopped working within months of m...\n",
       "4        neutral  i like the color and size but it few days out ...\n",
       "...          ...                                                ...\n",
       "17335   positive  i love this speaker and love can take it anywh...\n",
       "17336   positive  i use it in my house easy to connect and loud ...\n",
       "17337   positive  the bass is good and the battery is amazing mu...\n",
       "17338   positive                                            love it\n",
       "17339    neutral                                       mono speaker\n",
       "\n",
       "[17337 rows x 2 columns]"
      ]
     },
     "execution_count": 11,
     "metadata": {},
     "output_type": "execute_result"
    }
   ],
   "source": [
    "df_clean"
   ]
  },
  {
   "cell_type": "code",
   "execution_count": 12,
   "metadata": {},
   "outputs": [],
   "source": [
    "nlp = spacy.load(\"en_core_web_sm\")"
   ]
  },
  {
   "cell_type": "code",
   "execution_count": 13,
   "metadata": {},
   "outputs": [],
   "source": [
    "def spacy_tokeniser(sent):\n",
    "    sent = sent.strip().lower()\n",
    "    doc = nlp(sent)\n",
    "    mytokens = [token.lemma_ for token in doc if token.text not in my_stop_words]\n",
    "    return mytokens"
   ]
  },
  {
   "cell_type": "code",
   "execution_count": 14,
   "metadata": {},
   "outputs": [],
   "source": [
    "df_clean['tokens']= df_clean['cleaned_review'].apply(spacy_tokeniser)"
   ]
  },
  {
   "cell_type": "code",
   "execution_count": 15,
   "metadata": {},
   "outputs": [
    {
     "data": {
      "text/html": [
       "<div>\n",
       "<style scoped>\n",
       "    .dataframe tbody tr th:only-of-type {\n",
       "        vertical-align: middle;\n",
       "    }\n",
       "\n",
       "    .dataframe tbody tr th {\n",
       "        vertical-align: top;\n",
       "    }\n",
       "\n",
       "    .dataframe thead th {\n",
       "        text-align: right;\n",
       "    }\n",
       "</style>\n",
       "<table border=\"1\" class=\"dataframe\">\n",
       "  <thead>\n",
       "    <tr style=\"text-align: right;\">\n",
       "      <th></th>\n",
       "      <th>sentiments</th>\n",
       "      <th>cleaned_review</th>\n",
       "      <th>tokens</th>\n",
       "    </tr>\n",
       "  </thead>\n",
       "  <tbody>\n",
       "    <tr>\n",
       "      <th>0</th>\n",
       "      <td>positive</td>\n",
       "      <td>i wish would have gotten one earlier love it a...</td>\n",
       "      <td>[wish, get, early, love, make, work, laptop, e...</td>\n",
       "    </tr>\n",
       "    <tr>\n",
       "      <th>1</th>\n",
       "      <td>neutral</td>\n",
       "      <td>i ve learned this lesson again open the packag...</td>\n",
       "      <td>[ve, learn, lesson, open, package, use, produc...</td>\n",
       "    </tr>\n",
       "    <tr>\n",
       "      <th>2</th>\n",
       "      <td>neutral</td>\n",
       "      <td>it is so slow and lags find better option</td>\n",
       "      <td>[slow, lag, find, well, option]</td>\n",
       "    </tr>\n",
       "    <tr>\n",
       "      <th>3</th>\n",
       "      <td>neutral</td>\n",
       "      <td>roller ball stopped working within months of m...</td>\n",
       "      <td>[roller, ball, stop, work, month, minimal, use...</td>\n",
       "    </tr>\n",
       "    <tr>\n",
       "      <th>4</th>\n",
       "      <td>neutral</td>\n",
       "      <td>i like the color and size but it few days out ...</td>\n",
       "      <td>[like, color, size, day, return, period, not, ...</td>\n",
       "    </tr>\n",
       "  </tbody>\n",
       "</table>\n",
       "</div>"
      ],
      "text/plain": [
       "  sentiments                                     cleaned_review  \\\n",
       "0   positive  i wish would have gotten one earlier love it a...   \n",
       "1    neutral  i ve learned this lesson again open the packag...   \n",
       "2    neutral          it is so slow and lags find better option   \n",
       "3    neutral  roller ball stopped working within months of m...   \n",
       "4    neutral  i like the color and size but it few days out ...   \n",
       "\n",
       "                                              tokens  \n",
       "0  [wish, get, early, love, make, work, laptop, e...  \n",
       "1  [ve, learn, lesson, open, package, use, produc...  \n",
       "2                    [slow, lag, find, well, option]  \n",
       "3  [roller, ball, stop, work, month, minimal, use...  \n",
       "4  [like, color, size, day, return, period, not, ...  "
      ]
     },
     "execution_count": 15,
     "metadata": {},
     "output_type": "execute_result"
    }
   ],
   "source": [
    "df_clean.head()"
   ]
  },
  {
   "cell_type": "code",
   "execution_count": 16,
   "metadata": {},
   "outputs": [],
   "source": [
    "# Dropping unnecessary columns\n",
    "df_clean.drop(columns=['cleaned_review'],inplace=True)"
   ]
  },
  {
   "cell_type": "markdown",
   "metadata": {},
   "source": [
    "Sentiment Mapping"
   ]
  },
  {
   "cell_type": "code",
   "execution_count": 17,
   "metadata": {},
   "outputs": [],
   "source": [
    "sentiment_mapping = {'negative':-1,'neutral':0,'positive':1}\n",
    "df_clean['sentiment_label'] = df_clean.sentiments.map(sentiment_mapping)"
   ]
  },
  {
   "cell_type": "code",
   "execution_count": 18,
   "metadata": {},
   "outputs": [],
   "source": [
    "df_clean.drop(columns=['sentiments'],inplace=True)"
   ]
  },
  {
   "cell_type": "code",
   "execution_count": 19,
   "metadata": {},
   "outputs": [],
   "source": [
    "import pickle\n",
    "# Loading saved word2vec glove_twitter_25.pkl\n",
    "vectorizer = pickle.load(open('../../../../../../word2vec_files/glove_twitter_50.pkl', \"rb\"))"
   ]
  },
  {
   "cell_type": "code",
   "execution_count": 20,
   "metadata": {},
   "outputs": [
    {
     "name": "stdout",
     "output_type": "stream",
     "text": [
      "<class 'gensim.models.keyedvectors.KeyedVectors'>\n",
      "[ 5.1418e-01 -1.9196e-01 -7.9963e-01  9.1339e-01 -5.7061e-01  7.1746e-01\n",
      " -5.8979e-01 -5.1530e-01  1.3453e+00 -2.0792e-01  4.4555e-01  2.4981e-01\n",
      " -3.2020e+00  3.5736e-01 -2.3593e-02 -3.1158e-02  3.7782e-01  6.4447e-01\n",
      "  1.2056e+00 -1.0553e-01 -8.9697e-01 -7.9754e-01  2.0239e-01 -1.0664e+00\n",
      " -4.7167e-01 -2.5953e-01  1.1328e-01 -3.8142e-01  2.0366e-03 -5.0261e-01\n",
      " -2.5197e-01 -8.4033e-02 -1.0015e+00 -8.6835e-01  6.6201e-01  2.6496e-01\n",
      "  2.2570e-01 -3.3847e-01 -3.4739e-01  6.2199e-01 -1.3491e+00 -1.7497e-01\n",
      " -1.1490e+00  1.5144e-01  1.1255e+00 -6.2668e-01 -3.4274e-01 -3.4938e-01\n",
      " -1.0806e+00  6.0174e-01]\n",
      "50\n"
     ]
    }
   ],
   "source": [
    "# Checking word embeddings file\n",
    "print(type(vectorizer))\n",
    "print(vectorizer['apple'])\n",
    "print(len(vectorizer['apple']))"
   ]
  },
  {
   "cell_type": "code",
   "execution_count": 21,
   "metadata": {},
   "outputs": [
    {
     "name": "stdout",
     "output_type": "stream",
     "text": [
      "Similarity of pairs\n",
      "('car', 'minivan'): 0.4821259677410126\n",
      "('car', 'bicycle'): 0.619395911693573\n",
      "('car', 'airplane'): 0.665248692035675\n",
      "('car', 'cereal'): 0.3752760589122772\n",
      "('car', 'communism'): 0.006416037678718567\n"
     ]
    }
   ],
   "source": [
    "pairs = [\n",
    "    ('car', 'minivan'),   # a minivan is a kind of car\n",
    "    ('car', 'bicycle'),   # still a wheeled vehicle\n",
    "    ('car', 'airplane'),  # ok, no wheels, but still a vehicle\n",
    "    ('car', 'cereal'),    # ... and so on\n",
    "    ('car', 'communism'),\n",
    "]\n",
    "\n",
    "print(\"Similarity of pairs\")\n",
    "for index,words in enumerate(pairs):\n",
    "    print(f\"{words}: {vectorizer.similarity(words[0], words[1])}\")"
   ]
  },
  {
   "cell_type": "code",
   "execution_count": 22,
   "metadata": {},
   "outputs": [
    {
     "name": "stdout",
     "output_type": "stream",
     "text": [
      "Words close to ebay and amazon\n",
      "\n",
      "('store', 0.8069930076599121)\n",
      "('deals', 0.8064867258071899)\n",
      "('kindle', 0.8000553250312805)\n",
      "('reviews', 0.7904726266860962)\n",
      "('price', 0.789976954460144)\n",
      "('discount', 0.7743826508522034)\n",
      "('purchase', 0.7725530862808228)\n",
      "('shipping', 0.7718971371650696)\n",
      "('buy', 0.7687676548957825)\n",
      "('shop', 0.7674245834350586)\n"
     ]
    }
   ],
   "source": [
    "def topn10(a:str,b:str,c):\n",
    "    topn = vectorizer.most_similar(positive=[a,b], topn=c) \n",
    "    print(f\"Words close to {a} and {b}\\n\")\n",
    "    for x in topn:\n",
    "        print(x)\n",
    "topn10('ebay','amazon',10) # Slot in yours and see the magic"
   ]
  },
  {
   "cell_type": "code",
   "execution_count": 23,
   "metadata": {},
   "outputs": [],
   "source": [
    "from sklearn.decomposition import PCA\n",
    "def decompose(word_list:list,n:int):\n",
    "    words_vectors = np.array([vectorizer[word] for word in word_list])\n",
    "\n",
    "    # print(words_vectors) # prints out a 30 array vector for each word\n",
    "\n",
    "    pca = PCA(n_components=n)\n",
    "    result = pca.fit_transform(words_vectors)\n",
    "    # print(result)\n",
    "\n",
    "    fig, ax = plt.subplots(figsize=(10,10))\n",
    "    print(f\"Components ranges from 0 -> {n-1}\\nWhat pair of components would you like to visualise? \")\n",
    "    a = input('Component one> ')\n",
    "    b = input('Component two> ')\n",
    "    scattered = sns.scatterplot(x=result[:,int(a)],y=result[:,int(b)])\n",
    "\n",
    "    for index,word in enumerate(word_list):\n",
    "        # plt.annotate(word,xy=(result[index,0],result[index,1]))\n",
    "        scattered.text(x=result[index,int(a)],y=result[index,int(b)],s=word)\n",
    "\n",
    "    ax.set_title(f\"Visualisation of word vectors using components {a} and {b}\",fontdict={'fontsize':15})\n",
    "    plt.show()"
   ]
  },
  {
   "cell_type": "code",
   "execution_count": 24,
   "metadata": {},
   "outputs": [
    {
     "name": "stdout",
     "output_type": "stream",
     "text": [
      "Components ranges from 0 -> 1\n",
      "What pair of components would you like to visualise? \n"
     ]
    },
    {
     "data": {
      "image/png": "[encoded data removed]",
      "text/plain": [
       "<Figure size 720x720 with 1 Axes>"
      ]
     },
     "metadata": {
      "needs_background": "light"
     },
     "output_type": "display_data"
    }
   ],
   "source": [
    "words  = ['amazon','ebay','jumia', 'konga','overstock','dell', 'law','firm','judge','lawyer','jury','police'] # Create your own list here\n",
    "decompose(words,2) # Adjust the components as you wish"
   ]
  },
  {
   "cell_type": "code",
   "execution_count": 25,
   "metadata": {},
   "outputs": [],
   "source": [
    "from sklearn.pipeline import Pipeline\n",
    "from sklearn.model_selection import train_test_split,StratifiedShuffleSplit,cross_val_score\n",
    "\n",
    "# The algorithms\n",
    "from sklearn.tree import DecisionTreeClassifier\n",
    "from sklearn.ensemble import RandomForestClassifier,GradientBoostingClassifier,HistGradientBoostingClassifier\n",
    "from sklearn.naive_bayes import MultinomialNB\n",
    "from sklearn.neighbors import KNeighborsClassifier\n",
    "from sklearn.linear_model import LogisticRegression"
   ]
  },
  {
   "cell_type": "code",
   "execution_count": 26,
   "metadata": {},
   "outputs": [
    {
     "data": {
      "text/html": [
       "<div>\n",
       "<style scoped>\n",
       "    .dataframe tbody tr th:only-of-type {\n",
       "        vertical-align: middle;\n",
       "    }\n",
       "\n",
       "    .dataframe tbody tr th {\n",
       "        vertical-align: top;\n",
       "    }\n",
       "\n",
       "    .dataframe thead th {\n",
       "        text-align: right;\n",
       "    }\n",
       "</style>\n",
       "<table border=\"1\" class=\"dataframe\">\n",
       "  <thead>\n",
       "    <tr style=\"text-align: right;\">\n",
       "      <th></th>\n",
       "      <th>tokens</th>\n",
       "      <th>sentiment_label</th>\n",
       "    </tr>\n",
       "  </thead>\n",
       "  <tbody>\n",
       "    <tr>\n",
       "      <th>0</th>\n",
       "      <td>[wish, get, early, love, make, work, laptop, e...</td>\n",
       "      <td>1</td>\n",
       "    </tr>\n",
       "    <tr>\n",
       "      <th>1</th>\n",
       "      <td>[ve, learn, lesson, open, package, use, produc...</td>\n",
       "      <td>0</td>\n",
       "    </tr>\n",
       "    <tr>\n",
       "      <th>2</th>\n",
       "      <td>[slow, lag, find, well, option]</td>\n",
       "      <td>0</td>\n",
       "    </tr>\n",
       "    <tr>\n",
       "      <th>3</th>\n",
       "      <td>[roller, ball, stop, work, month, minimal, use...</td>\n",
       "      <td>0</td>\n",
       "    </tr>\n",
       "    <tr>\n",
       "      <th>4</th>\n",
       "      <td>[like, color, size, day, return, period, not, ...</td>\n",
       "      <td>0</td>\n",
       "    </tr>\n",
       "    <tr>\n",
       "      <th>...</th>\n",
       "      <td>...</td>\n",
       "      <td>...</td>\n",
       "    </tr>\n",
       "    <tr>\n",
       "      <th>17335</th>\n",
       "      <td>[love, speaker, love, charge, phone, work, no,...</td>\n",
       "      <td>1</td>\n",
       "    </tr>\n",
       "    <tr>\n",
       "      <th>17336</th>\n",
       "      <td>[use, house, easy, connect, loud, clear, music]</td>\n",
       "      <td>1</td>\n",
       "    </tr>\n",
       "    <tr>\n",
       "      <th>17337</th>\n",
       "      <td>[bass, good, battery, amazing, well, charge, t...</td>\n",
       "      <td>1</td>\n",
       "    </tr>\n",
       "    <tr>\n",
       "      <th>17338</th>\n",
       "      <td>[love]</td>\n",
       "      <td>1</td>\n",
       "    </tr>\n",
       "    <tr>\n",
       "      <th>17339</th>\n",
       "      <td>[mono, speaker]</td>\n",
       "      <td>0</td>\n",
       "    </tr>\n",
       "  </tbody>\n",
       "</table>\n",
       "<p>17337 rows × 2 columns</p>\n",
       "</div>"
      ],
      "text/plain": [
       "                                                  tokens  sentiment_label\n",
       "0      [wish, get, early, love, make, work, laptop, e...                1\n",
       "1      [ve, learn, lesson, open, package, use, produc...                0\n",
       "2                        [slow, lag, find, well, option]                0\n",
       "3      [roller, ball, stop, work, month, minimal, use...                0\n",
       "4      [like, color, size, day, return, period, not, ...                0\n",
       "...                                                  ...              ...\n",
       "17335  [love, speaker, love, charge, phone, work, no,...                1\n",
       "17336    [use, house, easy, connect, loud, clear, music]                1\n",
       "17337  [bass, good, battery, amazing, well, charge, t...                1\n",
       "17338                                             [love]                1\n",
       "17339                                    [mono, speaker]                0\n",
       "\n",
       "[17337 rows x 2 columns]"
      ]
     },
     "execution_count": 26,
     "metadata": {},
     "output_type": "execute_result"
    }
   ],
   "source": [
    "df_clean"
   ]
  },
  {
   "cell_type": "code",
   "execution_count": 27,
   "metadata": {},
   "outputs": [],
   "source": [
    "# Vecctoriser of Word2vec\n",
    "def sent_vec(sent):\n",
    "    vector_size = vectorizer.vector_size\n",
    "    w2v_resolution = np.zeros(vector_size)\n",
    "    # print(w2v_resolution)\n",
    "    ctr = 1\n",
    "    for w in sent:\n",
    "        if w in vectorizer:\n",
    "            ctr += 1\n",
    "            w2v_resolution += vectorizer[w]\n",
    "    w2v_resolution = w2v_resolution/ctr\n",
    "    # print(w2v_resolution)\n",
    "    return w2v_resolution"
   ]
  },
  {
   "cell_type": "code",
   "execution_count": 28,
   "metadata": {},
   "outputs": [],
   "source": [
    "df_clean[\"vectors\"] = df_clean['tokens'].apply(sent_vec)"
   ]
  },
  {
   "cell_type": "code",
   "execution_count": 29,
   "metadata": {},
   "outputs": [
    {
     "data": {
      "text/html": [
       "<div>\n",
       "<style scoped>\n",
       "    .dataframe tbody tr th:only-of-type {\n",
       "        vertical-align: middle;\n",
       "    }\n",
       "\n",
       "    .dataframe tbody tr th {\n",
       "        vertical-align: top;\n",
       "    }\n",
       "\n",
       "    .dataframe thead th {\n",
       "        text-align: right;\n",
       "    }\n",
       "</style>\n",
       "<table border=\"1\" class=\"dataframe\">\n",
       "  <thead>\n",
       "    <tr style=\"text-align: right;\">\n",
       "      <th></th>\n",
       "      <th>tokens</th>\n",
       "      <th>sentiment_label</th>\n",
       "      <th>vectors</th>\n",
       "    </tr>\n",
       "  </thead>\n",
       "  <tbody>\n",
       "    <tr>\n",
       "      <th>14785</th>\n",
       "      <td>[meet, need]</td>\n",
       "      <td>0</td>\n",
       "      <td>[0.06681733081738155, 0.43586334586143494, -0....</td>\n",
       "    </tr>\n",
       "    <tr>\n",
       "      <th>14534</th>\n",
       "      <td>[shop, great, speaker, sound, excellent, happy]</td>\n",
       "      <td>1</td>\n",
       "      <td>[0.0032057102237428936, -0.0003681395735059466...</td>\n",
       "    </tr>\n",
       "    <tr>\n",
       "      <th>16246</th>\n",
       "      <td>[no, light, show, charge, not, turn, light, ch...</td>\n",
       "      <td>-1</td>\n",
       "      <td>[-0.1461667862188603, 0.06315428444317409, -0....</td>\n",
       "    </tr>\n",
       "    <tr>\n",
       "      <th>6385</th>\n",
       "      <td>[connectivity, issue, right, box, contact, sel...</td>\n",
       "      <td>0</td>\n",
       "      <td>[-0.03731472914417585, 0.037473892172177635, -...</td>\n",
       "    </tr>\n",
       "    <tr>\n",
       "      <th>424</th>\n",
       "      <td>[don, buy, inconvenient, rechargeable, know, m...</td>\n",
       "      <td>-1</td>\n",
       "      <td>[-0.41011727398092096, -0.0014470315919342365,...</td>\n",
       "    </tr>\n",
       "  </tbody>\n",
       "</table>\n",
       "</div>"
      ],
      "text/plain": [
       "                                                  tokens  sentiment_label  \\\n",
       "14785                                       [meet, need]                0   \n",
       "14534    [shop, great, speaker, sound, excellent, happy]                1   \n",
       "16246  [no, light, show, charge, not, turn, light, ch...               -1   \n",
       "6385   [connectivity, issue, right, box, contact, sel...                0   \n",
       "424    [don, buy, inconvenient, rechargeable, know, m...               -1   \n",
       "\n",
       "                                                 vectors  \n",
       "14785  [0.06681733081738155, 0.43586334586143494, -0....  \n",
       "14534  [0.0032057102237428936, -0.0003681395735059466...  \n",
       "16246  [-0.1461667862188603, 0.06315428444317409, -0....  \n",
       "6385   [-0.03731472914417585, 0.037473892172177635, -...  \n",
       "424    [-0.41011727398092096, -0.0014470315919342365,...  "
      ]
     },
     "execution_count": 29,
     "metadata": {},
     "output_type": "execute_result"
    }
   ],
   "source": [
    "df_clean.sample(n=5,random_state=42)"
   ]
  },
  {
   "cell_type": "code",
   "execution_count": 30,
   "metadata": {},
   "outputs": [],
   "source": [
    "X  =df_clean['vectors'].to_list()\n",
    "y = df_clean['sentiment_label'].to_list()"
   ]
  },
  {
   "cell_type": "code",
   "execution_count": 31,
   "metadata": {},
   "outputs": [],
   "source": [
    "X_train, X_test, y_train,y_test= train_test_split(\n",
    "                                            X,y,test_size=.2,random_state=42, \n",
    "                                            stratify=y)"
   ]
  },
  {
   "cell_type": "code",
   "execution_count": 36,
   "metadata": {},
   "outputs": [
    {
     "data": {
      "text/plain": [
       "50"
      ]
     },
     "execution_count": 36,
     "metadata": {},
     "output_type": "execute_result"
    }
   ],
   "source": [
    "len(X[0])"
   ]
  },
  {
   "cell_type": "code",
   "execution_count": 38,
   "metadata": {},
   "outputs": [],
   "source": [
    "models = {\n",
    "    \"DT\": DecisionTreeClassifier(max_depth=3),\n",
    "    \"RF\": RandomForestClassifier(max_depth=3),\n",
    "    \"GB\": GradientBoostingClassifier(max_depth=3),\n",
    "    \"MNB\": MultinomialNB(),\n",
    "    \"KNN\": KNeighborsClassifier(),\n",
    "    \"LR\": LogisticRegression(multi_class='multinomial',solver='lbfgs'),\n",
    "    \"HGB\": HistGradientBoostingClassifier(max_depth=3)\n",
    "}"
   ]
  },
  {
   "cell_type": "code",
   "execution_count": 39,
   "metadata": {},
   "outputs": [],
   "source": [
    "# https://towardsdatascience.com/micro-macro-weighted-averages-of-f1-score-clearly-explained-b603420b292f\n",
    "# The abov link explains why f1_macro was used\n",
    "model_results_f1_macro = []\n",
    "model_names = []\n",
    "model_mean = []"
   ]
  },
  {
   "cell_type": "code",
   "execution_count": 40,
   "metadata": {},
   "outputs": [
    {
     "name": "stdout",
     "output_type": "stream",
     "text": [
      "DecisionTreeClassifier(max_depth=3)\n",
      "RandomForestClassifier(max_depth=3)\n",
      "GradientBoostingClassifier()\n",
      "MultinomialNB()\n",
      "KNeighborsClassifier()\n",
      "LogisticRegression(multi_class='multinomial')\n",
      "HistGradientBoostingClassifier(max_depth=3)\n"
     ]
    }
   ],
   "source": [
    "my_cv = StratifiedShuffleSplit(n_splits=5,test_size=.1,random_state=42) # 10% for validation \n",
    "scoring = 'f1_macro'\n",
    "for name, model in models.items():\n",
    "    model_names.append(name) # append each name of the model\n",
    "    print(model) # print the model name for checks\n",
    "    cv_results = cross_val_score(model,X_train,y_train,scoring=scoring,cv=my_cv,n_jobs=-2) \n",
    "    cv_results_list = cv_results.tolist() # Turning the array to a list\n",
    "    model_results_f1_macro.append(cv_results_list) # append validation results\n",
    "    model_mean.append(cv_results.mean()) # append the mean"
   ]
  },
  {
   "cell_type": "code",
   "execution_count": 41,
   "metadata": {},
   "outputs": [
    {
     "name": "stdout",
     "output_type": "stream",
     "text": [
      "[[0.41690113643598253, 0.40514034958944417, 0.40537880889722117, 0.4343193432130781, 0.4322682093739552], [0.45279665379665374, 0.45496193358066145, 0.4528467188376608, 0.467797500739558, 0.48247766670826], [0.6205364337515828, 0.6436876573467004, 0.6403472894077714, 0.6554203908941895, 0.6610976286620766], [nan, nan, nan, nan, nan], [0.5825180763159241, 0.6290463402816951, 0.6243367325822402, 0.6087780854755381, 0.619597028597435], [0.5842135250187391, 0.5720872578822459, 0.611480149627745, 0.6228298317820066, 0.6148642488229591], [0.6296901340013814, 0.64094428194311, 0.6446092829851806, 0.6677126292510908, 0.6564206359723936]]\n",
      "['DT', 'RF', 'GB', 'MNB', 'KNN', 'LR', 'HGB']\n",
      "[0.4188015695019362, 0.4621760947325589, 0.644217880012464, nan, 0.6128552526505665, 0.6010950026267391, 0.6478753928306313]\n"
     ]
    }
   ],
   "source": [
    "print(model_results_f1_macro)\n",
    "print(model_names)\n",
    "print(model_mean)"
   ]
  },
  {
   "cell_type": "code",
   "execution_count": 42,
   "metadata": {},
   "outputs": [],
   "source": [
    "# Creating a Dictionary of results\n",
    "f1score_result_dict = dict(zip(model_names,model_results_f1_macro))\n",
    "f1score_mean_dict = dict(zip(model_names,model_mean))"
   ]
  },
  {
   "cell_type": "code",
   "execution_count": 43,
   "metadata": {},
   "outputs": [],
   "source": [
    "# Creating a Dataframe of results\n",
    "f1score_result_frame = pd.DataFrame(f1score_result_dict)\n",
    "f1score_mean_frame = pd.Series(f1score_mean_dict).to_frame('mean_f1_score').reset_index()\n",
    "f1score_mean_frame.rename(columns={'index':'models'},inplace=True)"
   ]
  },
  {
   "cell_type": "code",
   "execution_count": 44,
   "metadata": {},
   "outputs": [
    {
     "data": {
      "text/html": [
       "<div>\n",
       "<style scoped>\n",
       "    .dataframe tbody tr th:only-of-type {\n",
       "        vertical-align: middle;\n",
       "    }\n",
       "\n",
       "    .dataframe tbody tr th {\n",
       "        vertical-align: top;\n",
       "    }\n",
       "\n",
       "    .dataframe thead th {\n",
       "        text-align: right;\n",
       "    }\n",
       "</style>\n",
       "<table border=\"1\" class=\"dataframe\">\n",
       "  <thead>\n",
       "    <tr style=\"text-align: right;\">\n",
       "      <th></th>\n",
       "      <th>DT</th>\n",
       "      <th>RF</th>\n",
       "      <th>GB</th>\n",
       "      <th>MNB</th>\n",
       "      <th>KNN</th>\n",
       "      <th>LR</th>\n",
       "      <th>HGB</th>\n",
       "    </tr>\n",
       "  </thead>\n",
       "  <tbody>\n",
       "    <tr>\n",
       "      <th>0</th>\n",
       "      <td>0.416901</td>\n",
       "      <td>0.452797</td>\n",
       "      <td>0.620536</td>\n",
       "      <td>NaN</td>\n",
       "      <td>0.582518</td>\n",
       "      <td>0.584214</td>\n",
       "      <td>0.629690</td>\n",
       "    </tr>\n",
       "    <tr>\n",
       "      <th>1</th>\n",
       "      <td>0.405140</td>\n",
       "      <td>0.454962</td>\n",
       "      <td>0.643688</td>\n",
       "      <td>NaN</td>\n",
       "      <td>0.629046</td>\n",
       "      <td>0.572087</td>\n",
       "      <td>0.640944</td>\n",
       "    </tr>\n",
       "    <tr>\n",
       "      <th>2</th>\n",
       "      <td>0.405379</td>\n",
       "      <td>0.452847</td>\n",
       "      <td>0.640347</td>\n",
       "      <td>NaN</td>\n",
       "      <td>0.624337</td>\n",
       "      <td>0.611480</td>\n",
       "      <td>0.644609</td>\n",
       "    </tr>\n",
       "    <tr>\n",
       "      <th>3</th>\n",
       "      <td>0.434319</td>\n",
       "      <td>0.467798</td>\n",
       "      <td>0.655420</td>\n",
       "      <td>NaN</td>\n",
       "      <td>0.608778</td>\n",
       "      <td>0.622830</td>\n",
       "      <td>0.667713</td>\n",
       "    </tr>\n",
       "    <tr>\n",
       "      <th>4</th>\n",
       "      <td>0.432268</td>\n",
       "      <td>0.482478</td>\n",
       "      <td>0.661098</td>\n",
       "      <td>NaN</td>\n",
       "      <td>0.619597</td>\n",
       "      <td>0.614864</td>\n",
       "      <td>0.656421</td>\n",
       "    </tr>\n",
       "  </tbody>\n",
       "</table>\n",
       "</div>"
      ],
      "text/plain": [
       "         DT        RF        GB  MNB       KNN        LR       HGB\n",
       "0  0.416901  0.452797  0.620536  NaN  0.582518  0.584214  0.629690\n",
       "1  0.405140  0.454962  0.643688  NaN  0.629046  0.572087  0.640944\n",
       "2  0.405379  0.452847  0.640347  NaN  0.624337  0.611480  0.644609\n",
       "3  0.434319  0.467798  0.655420  NaN  0.608778  0.622830  0.667713\n",
       "4  0.432268  0.482478  0.661098  NaN  0.619597  0.614864  0.656421"
      ]
     },
     "execution_count": 44,
     "metadata": {},
     "output_type": "execute_result"
    }
   ],
   "source": [
    "f1score_result_frame"
   ]
  },
  {
   "cell_type": "code",
   "execution_count": 45,
   "metadata": {},
   "outputs": [],
   "source": [
    "f1score_result_frame.to_csv(\"validation_w2v_50/w2v_50_f1score_results.csv\",index=False)"
   ]
  },
  {
   "cell_type": "code",
   "execution_count": 46,
   "metadata": {},
   "outputs": [
    {
     "data": {
      "text/html": [
       "<div>\n",
       "<style scoped>\n",
       "    .dataframe tbody tr th:only-of-type {\n",
       "        vertical-align: middle;\n",
       "    }\n",
       "\n",
       "    .dataframe tbody tr th {\n",
       "        vertical-align: top;\n",
       "    }\n",
       "\n",
       "    .dataframe thead th {\n",
       "        text-align: right;\n",
       "    }\n",
       "</style>\n",
       "<table border=\"1\" class=\"dataframe\">\n",
       "  <thead>\n",
       "    <tr style=\"text-align: right;\">\n",
       "      <th></th>\n",
       "      <th>models</th>\n",
       "      <th>mean_f1_score</th>\n",
       "    </tr>\n",
       "  </thead>\n",
       "  <tbody>\n",
       "    <tr>\n",
       "      <th>6</th>\n",
       "      <td>HGB</td>\n",
       "      <td>0.647875</td>\n",
       "    </tr>\n",
       "    <tr>\n",
       "      <th>2</th>\n",
       "      <td>GB</td>\n",
       "      <td>0.644218</td>\n",
       "    </tr>\n",
       "    <tr>\n",
       "      <th>4</th>\n",
       "      <td>KNN</td>\n",
       "      <td>0.612855</td>\n",
       "    </tr>\n",
       "    <tr>\n",
       "      <th>5</th>\n",
       "      <td>LR</td>\n",
       "      <td>0.601095</td>\n",
       "    </tr>\n",
       "    <tr>\n",
       "      <th>1</th>\n",
       "      <td>RF</td>\n",
       "      <td>0.462176</td>\n",
       "    </tr>\n",
       "    <tr>\n",
       "      <th>0</th>\n",
       "      <td>DT</td>\n",
       "      <td>0.418802</td>\n",
       "    </tr>\n",
       "    <tr>\n",
       "      <th>3</th>\n",
       "      <td>MNB</td>\n",
       "      <td>NaN</td>\n",
       "    </tr>\n",
       "  </tbody>\n",
       "</table>\n",
       "</div>"
      ],
      "text/plain": [
       "  models  mean_f1_score\n",
       "6    HGB       0.647875\n",
       "2     GB       0.644218\n",
       "4    KNN       0.612855\n",
       "5     LR       0.601095\n",
       "1     RF       0.462176\n",
       "0     DT       0.418802\n",
       "3    MNB            NaN"
      ]
     },
     "execution_count": 46,
     "metadata": {},
     "output_type": "execute_result"
    }
   ],
   "source": [
    "f1score_mean_frame.sort_values(by='mean_f1_score',ascending=False)"
   ]
  },
  {
   "cell_type": "code",
   "execution_count": 47,
   "metadata": {},
   "outputs": [],
   "source": [
    "f1score_mean_frame.to_csv(\"validation_w2v_50/w2v_50_f1score_mean_results.csv\")"
   ]
  },
  {
   "cell_type": "code",
   "execution_count": 48,
   "metadata": {},
   "outputs": [
    {
     "data": {
      "image/png": "[encoded data removed]",
      "text/plain": [
       "<Figure size 720x360 with 1 Axes>"
      ]
     },
     "metadata": {},
     "output_type": "display_data"
    }
   ],
   "source": [
    "sns.set_theme(style='darkgrid')\n",
    "fig, ax = plt.subplots(figsize=(10,5))\n",
    "sns.boxplot(data=f1score_result_frame)\n",
    "ax.set_xticklabels(model_names)\n",
    "fig.suptitle('Algorithm Comparison')\n",
    "plt.show()"
   ]
  },
  {
   "cell_type": "markdown",
   "metadata": {},
   "source": [
    "Based off the plot above, the top three algorithms are;\n",
    "1. HistGradientBoostingClassifier\n",
    "2. GradientBoostingClassifier\n",
    "3. K-Nearest Neighbours"
   ]
  },
  {
   "cell_type": "code",
   "execution_count": 53,
   "metadata": {},
   "outputs": [],
   "source": [
    "X = df_clean['vectors'].to_list()\n",
    "y = df_clean['sentiment_label'].to_list()"
   ]
  },
  {
   "cell_type": "code",
   "execution_count": 54,
   "metadata": {},
   "outputs": [
    {
     "data": {
      "text/plain": [
       "Text(0.5, 1.0, 'Using PCA for Feature Engineering')"
      ]
     },
     "execution_count": 54,
     "metadata": {},
     "output_type": "execute_result"
    },
    {
     "data": {
      "image/png": "[encoded data removed]",
      "text/plain": [
       "<Figure size 1080x648 with 1 Axes>"
      ]
     },
     "metadata": {},
     "output_type": "display_data"
    }
   ],
   "source": [
    "from sklearn.decomposition import PCA\n",
    "pca = PCA().fit(X)\n",
    "pca_data = pca.transform(X)\n",
    "\n",
    "# plotting the cumulative summation of the explained variance\n",
    "sns.set_theme(style='darkgrid')\n",
    "fig,ax = plt.subplots(figsize=(15,9))\n",
    "plt.plot(np.cumsum(pca.explained_variance_ratio_))\n",
    "plt.xlabel('Number of components')\n",
    "plt.ylabel('Variance for each components')\n",
    "ax.set_title(\"Using PCA for Feature Engineering\")"
   ]
  },
  {
   "cell_type": "code",
   "execution_count": 55,
   "metadata": {},
   "outputs": [
    {
     "data": {
      "text/plain": [
       "array([[-1.1873516 ,  0.30005368,  0.12801555, ...,  0.04278418,\n",
       "        -0.01501382, -0.00538336],\n",
       "       [-0.0974118 , -0.25994737,  0.01856947, ..., -0.06036842,\n",
       "         0.0301733 ,  0.01438893],\n",
       "       [-0.04574187, -0.26111005,  0.41580568, ...,  0.03109414,\n",
       "        -0.02344052,  0.03243235],\n",
       "       ...,\n",
       "       [-0.62909533, -0.13996828, -0.11670132, ..., -0.0335514 ,\n",
       "         0.04780402, -0.01105713],\n",
       "       [ 0.6424628 ,  1.62606096,  0.64682344, ...,  0.01504254,\n",
       "         0.01573069, -0.00944803],\n",
       "       [ 2.27973348, -0.24932783,  0.3759227 , ..., -0.00238938,\n",
       "         0.04440305, -0.04657122]])"
      ]
     },
     "execution_count": 55,
     "metadata": {},
     "output_type": "execute_result"
    }
   ],
   "source": [
    "pca_data"
   ]
  },
  {
   "cell_type": "code",
   "execution_count": 56,
   "metadata": {},
   "outputs": [
    {
     "name": "stdout",
     "output_type": "stream",
     "text": [
      "If pca components is: 0    Variance: 20.54\n",
      "If pca components is: 1    Variance: 32.53\n",
      "If pca components is: 2    Variance: 41.9\n",
      "If pca components is: 3    Variance: 49.28\n",
      "If pca components is: 4    Variance: 54.7\n",
      "If pca components is: 5    Variance: 59.23\n",
      "If pca components is: 6    Variance: 62.59\n",
      "If pca components is: 7    Variance: 65.69\n",
      "If pca components is: 8    Variance: 68.3\n",
      "If pca components is: 9    Variance: 70.58\n",
      "If pca components is: 10    Variance: 72.78\n",
      "If pca components is: 11    Variance: 74.77\n",
      "If pca components is: 12    Variance: 76.48\n",
      "If pca components is: 13    Variance: 78.11\n",
      "If pca components is: 14    Variance: 79.63\n",
      "If pca components is: 15    Variance: 81.0\n",
      "If pca components is: 16    Variance: 82.27\n",
      "If pca components is: 17    Variance: 83.47\n",
      "If pca components is: 18    Variance: 84.6\n",
      "If pca components is: 19    Variance: 85.59\n",
      "If pca components is: 20    Variance: 86.51\n",
      "If pca components is: 21    Variance: 87.41\n",
      "If pca components is: 22    Variance: 88.27\n",
      "If pca components is: 23    Variance: 89.04\n",
      "If pca components is: 24    Variance: 89.78\n",
      "If pca components is: 25    Variance: 90.49\n",
      "If pca components is: 26    Variance: 91.18\n",
      "If pca components is: 27    Variance: 91.83\n",
      "If pca components is: 28    Variance: 92.48\n",
      "If pca components is: 29    Variance: 93.09\n",
      "If pca components is: 30    Variance: 93.66\n",
      "If pca components is: 31    Variance: 94.21\n",
      "If pca components is: 32    Variance: 94.71\n",
      "If pca components is: 33    Variance: 95.2\n",
      "If pca components is: 34    Variance: 95.67\n",
      "If pca components is: 35    Variance: 96.11\n",
      "If pca components is: 36    Variance: 96.54\n",
      "If pca components is: 37    Variance: 96.94\n",
      "If pca components is: 38    Variance: 97.34\n",
      "If pca components is: 39    Variance: 97.71\n",
      "If pca components is: 40    Variance: 98.08\n",
      "If pca components is: 41    Variance: 98.41\n",
      "If pca components is: 42    Variance: 98.73\n",
      "If pca components is: 43    Variance: 99.03\n",
      "If pca components is: 44    Variance: 99.3\n",
      "If pca components is: 45    Variance: 99.55\n",
      "If pca components is: 46    Variance: 99.77\n",
      "If pca components is: 47    Variance: 99.85\n",
      "If pca components is: 48    Variance: 99.93\n",
      "If pca components is: 49    Variance: 100.0\n"
     ]
    }
   ],
   "source": [
    "exp_var_cumsum = pd.Series(np.round(pca.explained_variance_ratio_.cumsum(),4)*100)\n",
    "\n",
    "for index,var in enumerate(exp_var_cumsum):\n",
    "    print(f'If pca components is: {index}    Variance: {np.around(var,3)}')\n",
    "\n",
    "# If pca components is: 26    Variance: 91.18"
   ]
  },
  {
   "cell_type": "markdown",
   "metadata": {},
   "source": [
    "Two models for df_clean;\n",
    "- model without pca\n",
    "- model with pca "
   ]
  },
  {
   "cell_type": "code",
   "execution_count": 57,
   "metadata": {},
   "outputs": [],
   "source": [
    "from sklearn.model_selection import GridSearchCV"
   ]
  },
  {
   "cell_type": "code",
   "execution_count": 59,
   "metadata": {},
   "outputs": [],
   "source": [
    "X_train, X_test, y_train,y_test= train_test_split(\n",
    "                                            X,y,test_size=.2,random_state=42, \n",
    "                                            stratify=y)"
   ]
  },
  {
   "cell_type": "code",
   "execution_count": 60,
   "metadata": {},
   "outputs": [],
   "source": [
    "# Without PCA\n",
    "pipe = Pipeline([('clf',HistGradientBoostingClassifier(max_depth=3,random_state=42))])"
   ]
  },
  {
   "cell_type": "code",
   "execution_count": 61,
   "metadata": {},
   "outputs": [],
   "source": [
    "paramter_grid = {\n",
    "                'clf__learning_rate':[0.001,0.01,0.1,1],\n",
    "                'clf__max_iter':[100,200,300],\n",
    "                'clf__max_leaf_nodes':[20,30,31],\n",
    "                'clf__min_samples_leaf':[20,50,80,110],\n",
    "                'clf__warm_start':[True,False],\n",
    "                }\n",
    "my_cv = StratifiedShuffleSplit(n_splits=5,test_size=.1,random_state=42)"
   ]
  },
  {
   "cell_type": "code",
   "execution_count": 62,
   "metadata": {},
   "outputs": [
    {
     "data": {
      "text/plain": [
       "GridSearchCV(cv=StratifiedShuffleSplit(n_splits=5, random_state=42, test_size=0.1,\n",
       "            train_size=None),\n",
       "             estimator=Pipeline(steps=[('clf',\n",
       "                                        HistGradientBoostingClassifier(max_depth=3,\n",
       "                                                                       random_state=42))]),\n",
       "             param_grid={'clf__learning_rate': [0.001, 0.01, 0.1, 1],\n",
       "                         'clf__max_iter': [100, 200, 300],\n",
       "                         'clf__max_leaf_nodes': [20, 30, 31],\n",
       "                         'clf__min_samples_leaf': [20, 50, 80, 110],\n",
       "                         'clf__warm_start': [True, False]},\n",
       "             scoring='f1_macro')"
      ]
     },
     "execution_count": 62,
     "metadata": {},
     "output_type": "execute_result"
    }
   ],
   "source": [
    "mygrid = GridSearchCV(pipe,param_grid=paramter_grid,cv=my_cv,scoring='f1_macro')\n",
    "mygrid.fit(X_train,y_train)"
   ]
  },
  {
   "cell_type": "code",
   "execution_count": 63,
   "metadata": {},
   "outputs": [
    {
     "name": "stdout",
     "output_type": "stream",
     "text": [
      "Best params: {'clf__learning_rate': 0.1, 'clf__max_iter': 300, 'clf__max_leaf_nodes': 20, 'clf__min_samples_leaf': 20, 'clf__warm_start': True}\n",
      "\n",
      "Best estimator: Pipeline(steps=[('clf',\n",
      "                 HistGradientBoostingClassifier(max_depth=3, max_iter=300,\n",
      "                                                max_leaf_nodes=20,\n",
      "                                                random_state=42,\n",
      "                                                warm_start=True))])\n",
      "\n",
      "Best validation score: 0.7235297380028154\n"
     ]
    }
   ],
   "source": [
    "print(f\"Best params: {mygrid.best_params_}\\n\")\n",
    "print(f\"Best estimator: {mygrid.best_estimator_}\\n\")\n",
    "print(f\"Best validation score: {mygrid.best_score_}\")"
   ]
  },
  {
   "cell_type": "code",
   "execution_count": 64,
   "metadata": {},
   "outputs": [
    {
     "data": {
      "text/plain": [
       "Pipeline(steps=[('clf',\n",
       "                 HistGradientBoostingClassifier(max_depth=3, max_iter=300,\n",
       "                                                max_leaf_nodes=20,\n",
       "                                                random_state=42,\n",
       "                                                warm_start=True))])"
      ]
     },
     "execution_count": 64,
     "metadata": {},
     "output_type": "execute_result"
    }
   ],
   "source": [
    "mygrid_trainset = mygrid.best_estimator_\n",
    "mygrid_trainset\n",
    "\n",
    "# Pipeline(steps=[('clf',\n",
    "                #  HistGradientBoostingClassifier(max_depth=3, max_iter=300,\n",
    "                                                # max_leaf_nodes=20,\n",
    "                                                # random_state=42,\n",
    "                                                # warm_start=True))])\n",
    "# Best validation score: 0.7235297380028154"
   ]
  },
  {
   "cell_type": "code",
   "execution_count": 65,
   "metadata": {},
   "outputs": [
    {
     "name": "stdout",
     "output_type": "stream",
     "text": [
      "              precision    recall  f1-score   support\n",
      "\n",
      "          -1       0.93      0.71      0.80      1227\n",
      "           0       0.90      0.88      0.89      5040\n",
      "           1       0.91      0.96      0.93      7602\n",
      "\n",
      "    accuracy                           0.91     13869\n",
      "   macro avg       0.91      0.85      0.88     13869\n",
      "weighted avg       0.91      0.91      0.91     13869\n",
      "\n"
     ]
    },
    {
     "data": {
      "image/png": "[encoded data removed]",
      "text/plain": [
       "<Figure size 432x288 with 2 Axes>"
      ]
     },
     "metadata": {},
     "output_type": "display_data"
    }
   ],
   "source": [
    "# Classification report\n",
    "from sklearn.metrics import classification_report,confusion_matrix,ConfusionMatrixDisplay\n",
    "y_pred_train = mygrid_trainset.predict(X_train)\n",
    "\n",
    "\n",
    "\n",
    "y_train = y_train\n",
    "sns.set_theme(style='white')\n",
    "def class_report(model,y_train,y_pred_train):\n",
    "    print(classification_report(y_train,y_pred_train))\n",
    "    cm = confusion_matrix(y_train,y_pred_train,labels=model.classes_)\n",
    "    disp = ConfusionMatrixDisplay(confusion_matrix=cm, display_labels=model.classes_)\n",
    "    disp.plot()\n",
    "    plt.show()\n",
    "\n",
    "\n",
    "class_report(mygrid_trainset,y_train,y_pred_train)"
   ]
  },
  {
   "cell_type": "code",
   "execution_count": 66,
   "metadata": {},
   "outputs": [],
   "source": [
    "# With PCA\n",
    "pipe = Pipeline([('pca',PCA(.91)),('clf',HistGradientBoostingClassifier(max_depth=3,random_state=42))])"
   ]
  },
  {
   "cell_type": "code",
   "execution_count": 67,
   "metadata": {},
   "outputs": [],
   "source": [
    "paramter_grid = {\n",
    "                'clf__learning_rate':[0.001,0.01,0.1,1],\n",
    "                'clf__max_iter':[100,200,300],\n",
    "                'clf__max_leaf_nodes':[20,30,31],\n",
    "                'clf__min_samples_leaf':[20,50,80,110],\n",
    "                'clf__warm_start':[True,False],\n",
    "                }\n",
    "my_cv = StratifiedShuffleSplit(n_splits=5,test_size=.1,random_state=42)"
   ]
  },
  {
   "cell_type": "code",
   "execution_count": 68,
   "metadata": {},
   "outputs": [],
   "source": [
    "X_train, X_test, y_train,y_test= train_test_split(\n",
    "                                            X,y,test_size=.2,random_state=42, \n",
    "                                            stratify=y)"
   ]
  },
  {
   "cell_type": "code",
   "execution_count": 69,
   "metadata": {},
   "outputs": [
    {
     "data": {
      "text/plain": [
       "GridSearchCV(cv=StratifiedShuffleSplit(n_splits=5, random_state=42, test_size=0.1,\n",
       "            train_size=None),\n",
       "             estimator=Pipeline(steps=[('pca', PCA(n_components=0.91)),\n",
       "                                       ('clf',\n",
       "                                        HistGradientBoostingClassifier(max_depth=3,\n",
       "                                                                       random_state=42))]),\n",
       "             param_grid={'clf__learning_rate': [0.001, 0.01, 0.1, 1],\n",
       "                         'clf__max_iter': [100, 200, 300],\n",
       "                         'clf__max_leaf_nodes': [20, 30, 31],\n",
       "                         'clf__min_samples_leaf': [20, 50, 80, 110],\n",
       "                         'clf__warm_start': [True, False]},\n",
       "             scoring='f1_macro')"
      ]
     },
     "execution_count": 69,
     "metadata": {},
     "output_type": "execute_result"
    }
   ],
   "source": [
    "mygrid = GridSearchCV(pipe,param_grid=paramter_grid,cv=my_cv,scoring='f1_macro')\n",
    "mygrid.fit(X_train,y_train)"
   ]
  },
  {
   "cell_type": "code",
   "execution_count": 70,
   "metadata": {},
   "outputs": [
    {
     "name": "stdout",
     "output_type": "stream",
     "text": [
      "Best params: {'clf__learning_rate': 0.1, 'clf__max_iter': 300, 'clf__max_leaf_nodes': 20, 'clf__min_samples_leaf': 80, 'clf__warm_start': True}\n",
      "\n",
      "Best estimator: Pipeline(steps=[('pca', PCA(n_components=0.91)),\n",
      "                ('clf',\n",
      "                 HistGradientBoostingClassifier(max_depth=3, max_iter=300,\n",
      "                                                max_leaf_nodes=20,\n",
      "                                                min_samples_leaf=80,\n",
      "                                                random_state=42,\n",
      "                                                warm_start=True))])\n",
      "\n",
      "Best validation score: 0.6821657054603418\n"
     ]
    }
   ],
   "source": [
    "print(f\"Best params: {mygrid.best_params_}\\n\")\n",
    "print(f\"Best estimator: {mygrid.best_estimator_}\\n\")\n",
    "print(f\"Best validation score: {mygrid.best_score_}\")"
   ]
  },
  {
   "cell_type": "code",
   "execution_count": 71,
   "metadata": {},
   "outputs": [
    {
     "data": {
      "text/plain": [
       "Pipeline(steps=[('pca', PCA(n_components=0.91)),\n",
       "                ('clf',\n",
       "                 HistGradientBoostingClassifier(max_depth=3, max_iter=300,\n",
       "                                                max_leaf_nodes=20,\n",
       "                                                min_samples_leaf=80,\n",
       "                                                random_state=42,\n",
       "                                                warm_start=True))])"
      ]
     },
     "execution_count": 71,
     "metadata": {},
     "output_type": "execute_result"
    }
   ],
   "source": [
    "mygrid_trainset = mygrid.best_estimator_\n",
    "mygrid_trainset\n",
    "\n",
    "# Pipeline(steps=[('pca', PCA(n_components=0.91)),\n",
    "#                 ('clf',\n",
    "#                  HistGradientBoostingClassifier(max_depth=3, max_iter=300,\n",
    "#                                                 max_leaf_nodes=20,\n",
    "#                                                 min_samples_leaf=80,\n",
    "#                                                 random_state=42,\n",
    "#                                                 warm_start=True))])\n",
    "# Best validation score: 0.6821657054603418         "
   ]
  },
  {
   "cell_type": "code",
   "execution_count": 72,
   "metadata": {},
   "outputs": [
    {
     "name": "stdout",
     "output_type": "stream",
     "text": [
      "              precision    recall  f1-score   support\n",
      "\n",
      "          -1       0.88      0.60      0.72      1227\n",
      "           0       0.85      0.85      0.85      5040\n",
      "           1       0.89      0.94      0.91      7602\n",
      "\n",
      "    accuracy                           0.88     13869\n",
      "   macro avg       0.88      0.80      0.83     13869\n",
      "weighted avg       0.88      0.88      0.87     13869\n",
      "\n"
     ]
    },
    {
     "data": {
      "image/png": "[encoded data removed]",
      "text/plain": [
       "<Figure size 432x288 with 2 Axes>"
      ]
     },
     "metadata": {},
     "output_type": "display_data"
    }
   ],
   "source": [
    "# Classification report\n",
    "from sklearn.metrics import classification_report,confusion_matrix,ConfusionMatrixDisplay\n",
    "y_pred_train = mygrid_trainset.predict(X_train)\n",
    "\n",
    "\n",
    "\n",
    "y_train = y_train\n",
    "sns.set_theme(style='white')\n",
    "def class_report(model,y_train,y_pred_train):\n",
    "    print(classification_report(y_train,y_pred_train))\n",
    "    cm = confusion_matrix(y_train,y_pred_train,labels=model.classes_)\n",
    "    disp = ConfusionMatrixDisplay(confusion_matrix=cm, display_labels=model.classes_)\n",
    "    disp.plot()\n",
    "    plt.show()\n",
    "\n",
    "\n",
    "class_report(mygrid_trainset,y_train,y_pred_train)"
   ]
  },
  {
   "cell_type": "markdown",
   "metadata": {},
   "source": [
    "**ROC on training data**"
   ]
  },
  {
   "cell_type": "code",
   "execution_count": 79,
   "metadata": {},
   "outputs": [],
   "source": [
    "X = df_clean['vectors'].tolist()\n",
    "y = df_clean['sentiment_label'].tolist()"
   ]
  },
  {
   "cell_type": "code",
   "execution_count": 80,
   "metadata": {},
   "outputs": [],
   "source": [
    "X_train, X_test, y_train,y_test= train_test_split(\n",
    "                                            X,y,test_size=.2,random_state=42, \n",
    "                                            stratify=y)\n",
    "\n",
    "\n",
    "# Without PCA\n",
    "# pipe = Pipeline([('clf',\n",
    "#                  HistGradientBoostingClassifier(max_depth=3, max_iter=300,\n",
    "#                                                 max_leaf_nodes=20,\n",
    "#                                                 random_state=42,\n",
    "#                                                 warm_start=True))])\n",
    "\n",
    "# With PCA\n",
    "pipe = Pipeline(steps=[('pca', PCA(n_components=0.91)),\n",
    "                ('clf',\n",
    "                 HistGradientBoostingClassifier(max_depth=3, max_iter=300,\n",
    "                                                max_leaf_nodes=20,\n",
    "                                                min_samples_leaf=80,\n",
    "                                                random_state=42,\n",
    "                                                warm_start=True))])"
   ]
  },
  {
   "cell_type": "code",
   "execution_count": 81,
   "metadata": {},
   "outputs": [
    {
     "data": {
      "image/png": "[encoded data removed]",
      "text/plain": [
       "<Figure size 576x396 with 1 Axes>"
      ]
     },
     "metadata": {},
     "output_type": "display_data"
    },
    {
     "data": {
      "text/plain": [
       "<AxesSubplot:title={'center':'ROC Curves for HistGradientBoostingClassifier'}, xlabel='False Positive Rate', ylabel='True Positive Rate'>"
      ]
     },
     "execution_count": 81,
     "metadata": {},
     "output_type": "execute_result"
    }
   ],
   "source": [
    "from yellowbrick.classifier import ROCAUC\n",
    "visualizer = ROCAUC(pipe, classes=[-1,0,1])\n",
    "\n",
    "visualizer.fit(X_train, y_train)        # Fit the training data to the visualizer\n",
    "visualizer.score(X_train, y_train)        # Evaluate the model on the training data\n",
    "visualizer.show() \n",
    "# with PCA: AUC score using OvR, macro-averaged over all classes: 0.97\n",
    "# Without PCA: AUC score using OvR, macro-averaged over all classes: 0.98"
   ]
  },
  {
   "cell_type": "markdown",
   "metadata": {},
   "source": [
    "With or without PCA the algorithm performs quite well on the training data"
   ]
  },
  {
   "cell_type": "markdown",
   "metadata": {},
   "source": [
    "**Building the model with best estimator and testing on test data**"
   ]
  },
  {
   "cell_type": "code",
   "execution_count": 83,
   "metadata": {},
   "outputs": [],
   "source": [
    "X = df_clean['vectors'].tolist()\n",
    "y = df_clean['sentiment_label'].tolist()"
   ]
  },
  {
   "cell_type": "code",
   "execution_count": 84,
   "metadata": {},
   "outputs": [
    {
     "data": {
      "text/plain": [
       "Pipeline(steps=[('pca', PCA(n_components=0.91)),\n",
       "                ('clf',\n",
       "                 HistGradientBoostingClassifier(max_depth=3, max_iter=300,\n",
       "                                                max_leaf_nodes=20,\n",
       "                                                min_samples_leaf=80,\n",
       "                                                random_state=42,\n",
       "                                                warm_start=True))])"
      ]
     },
     "execution_count": 84,
     "metadata": {},
     "output_type": "execute_result"
    }
   ],
   "source": [
    "X_train, X_test, y_train,y_test= train_test_split(\n",
    "                                            X,y,test_size=.2,random_state=42, \n",
    "                                            stratify=y)\n",
    "\n",
    "\n",
    "# Without PCA\n",
    "hgb = HistGradientBoostingClassifier(max_depth=3, max_iter=300,\n",
    "                                                max_leaf_nodes=20,\n",
    "                                                random_state=42,\n",
    "                                                warm_start=True)\n",
    "\n",
    "# With PCA\n",
    "pipe = Pipeline(steps=[('pca', PCA(n_components=0.91)),\n",
    "                ('clf',\n",
    "                 HistGradientBoostingClassifier(max_depth=3, max_iter=300,\n",
    "                                                max_leaf_nodes=20,\n",
    "                                                min_samples_leaf=80,\n",
    "                                                random_state=42,\n",
    "                                                warm_start=True))])\n",
    "\n",
    "hgb.fit(X_train,y_train)\n",
    "pipe.fit(X_train,y_train)"
   ]
  },
  {
   "cell_type": "code",
   "execution_count": 85,
   "metadata": {},
   "outputs": [
    {
     "name": "stdout",
     "output_type": "stream",
     "text": [
      "              precision    recall  f1-score   support\n",
      "\n",
      "          -1       0.70      0.41      0.51       307\n",
      "           0       0.76      0.76      0.76      1260\n",
      "           1       0.85      0.91      0.88      1901\n",
      "\n",
      "    accuracy                           0.81      3468\n",
      "   macro avg       0.77      0.69      0.72      3468\n",
      "weighted avg       0.80      0.81      0.80      3468\n",
      "\n"
     ]
    },
    {
     "data": {
      "image/png": "[encoded data removed]",
      "text/plain": [
       "<Figure size 576x396 with 2 Axes>"
      ]
     },
     "metadata": {},
     "output_type": "display_data"
    }
   ],
   "source": [
    "# Classification report test data\n",
    "y_test = y_test\n",
    "y_pred_test = hgb.predict(X_test)\n",
    "sns.set_theme(style='white')\n",
    "def class_report(model,y_test,pred):\n",
    "    print(classification_report(y_test,pred))\n",
    "    cm = confusion_matrix(y_test,pred,labels=model.classes_)\n",
    "    disp = ConfusionMatrixDisplay(confusion_matrix=cm, display_labels=model.classes_)\n",
    "    disp.plot()\n",
    "    plt.show()\n",
    "\n",
    "\n",
    "class_report(hgb,y_test,y_pred_test)"
   ]
  },
  {
   "cell_type": "code",
   "execution_count": 86,
   "metadata": {},
   "outputs": [
    {
     "name": "stdout",
     "output_type": "stream",
     "text": [
      "              precision    recall  f1-score   support\n",
      "\n",
      "          -1       0.70      0.33      0.45       307\n",
      "           0       0.74      0.76      0.75      1260\n",
      "           1       0.84      0.90      0.87      1901\n",
      "\n",
      "    accuracy                           0.80      3468\n",
      "   macro avg       0.76      0.66      0.69      3468\n",
      "weighted avg       0.79      0.80      0.79      3468\n",
      "\n"
     ]
    },
    {
     "data": {
      "image/png": "[encoded data removed]",
      "text/plain": [
       "<Figure size 576x396 with 2 Axes>"
      ]
     },
     "metadata": {},
     "output_type": "display_data"
    }
   ],
   "source": [
    "# With PCA\n",
    "y_test = y_test\n",
    "y_pred_test = pipe.predict(X_test)\n",
    "class_report(pipe,y_test,y_pred_test)"
   ]
  },
  {
   "cell_type": "markdown",
   "metadata": {},
   "source": [
    "**ROC on test data**"
   ]
  },
  {
   "cell_type": "code",
   "execution_count": 87,
   "metadata": {},
   "outputs": [],
   "source": [
    "X = df_clean['vectors'].tolist()\n",
    "y = df_clean['sentiment_label'].tolist()"
   ]
  },
  {
   "cell_type": "code",
   "execution_count": 88,
   "metadata": {},
   "outputs": [],
   "source": [
    "X_train, X_test, y_train,y_test= train_test_split(\n",
    "                                            X,y,test_size=.2,random_state=42, \n",
    "                                            stratify=y)\n",
    "\n",
    "\n",
    "# Without PCA\n",
    "hgb = HistGradientBoostingClassifier(max_depth=3, max_iter=300,\n",
    "                                                max_leaf_nodes=20,\n",
    "                                                random_state=42,\n",
    "                                                warm_start=True)\n",
    "\n",
    "# With PCA\n",
    "pipe = Pipeline(steps=[('pca', PCA(n_components=0.91)),\n",
    "                ('clf',\n",
    "                 HistGradientBoostingClassifier(max_depth=3, max_iter=300,\n",
    "                                                max_leaf_nodes=20,\n",
    "                                                min_samples_leaf=80,\n",
    "                                                random_state=42,\n",
    "                                                warm_start=True))])"
   ]
  },
  {
   "cell_type": "code",
   "execution_count": 89,
   "metadata": {},
   "outputs": [
    {
     "data": {
      "image/png": "[encoded data removed]",
      "text/plain": [
       "<Figure size 576x396 with 1 Axes>"
      ]
     },
     "metadata": {},
     "output_type": "display_data"
    },
    {
     "data": {
      "text/plain": [
       "<AxesSubplot:title={'center':'ROC Curves for HistGradientBoostingClassifier'}, xlabel='False Positive Rate', ylabel='True Positive Rate'>"
      ]
     },
     "execution_count": 89,
     "metadata": {},
     "output_type": "execute_result"
    }
   ],
   "source": [
    "# Without PCA\n",
    "visualizer = ROCAUC(hgb, classes=[-1,0,1])\n",
    "\n",
    "visualizer.fit(X_train, y_train)        # Fit the training data to the visualizer\n",
    "visualizer.score(X_test, y_test)        # Evaluate the model on the test data\n",
    "visualizer.show() \n",
    "# Without PCA: AUC score using OvR, macro-averaged over all classes: 0.92"
   ]
  },
  {
   "cell_type": "code",
   "execution_count": 90,
   "metadata": {},
   "outputs": [
    {
     "data": {
      "image/png": "[encoded data removed]",
      "text/plain": [
       "<Figure size 576x396 with 1 Axes>"
      ]
     },
     "metadata": {},
     "output_type": "display_data"
    },
    {
     "data": {
      "text/plain": [
       "<AxesSubplot:title={'center':'ROC Curves for HistGradientBoostingClassifier'}, xlabel='False Positive Rate', ylabel='True Positive Rate'>"
      ]
     },
     "execution_count": 90,
     "metadata": {},
     "output_type": "execute_result"
    }
   ],
   "source": [
    "# With PCA\n",
    "visualizer = ROCAUC(pipe, classes=[-1,0,1])\n",
    "\n",
    "visualizer.fit(X_train, y_train)        # Fit the training data to the visualizer\n",
    "visualizer.score(X_test, y_test)        # Evaluate the model on the test data\n",
    "visualizer.show() \n",
    "# With PCA: AUC score using OvR, macro-averaged over all classes: 0.91"
   ]
  },
  {
   "cell_type": "markdown",
   "metadata": {},
   "source": [
    "## **Conclusion**"
   ]
  },
  {
   "cell_type": "markdown",
   "metadata": {},
   "source": [
    "- Without PCA approach has a better performance in terms of f1_score macro on the test data.\n",
    "- I believe it's safe to say that the use of PCA can be ignored for the reamaining two approaches with vector size of 100 and 200 using glove-twitter-word-embeddings\n",
    "\n",
    "**Table of Values**\n",
    "\n",
    "dataset|f1_score_macro_avg|AUC_score_avg\n",
    "| ----------- | ----------- | ----------- |\n",
    "df_clean_(train data)|0.88|0.98\n",
    "df_clean (test data)|0.72|0.92\n",
    "PCA_df_clean_(train data)|0.83|0.97\n",
    "PCA_df_clean (test data)|0.69|0.91"
   ]
  }
 ],
 "metadata": {
  "kernelspec": {
   "display_name": "Python 3.8.13 (conda)",
   "language": "python",
   "name": "python3"
  },
  "language_info": {
   "codemirror_mode": {
    "name": "ipython",
    "version": 3
   },
   "file_extension": ".py",
   "mimetype": "text/x-python",
   "name": "python",
   "nbconvert_exporter": "python",
   "pygments_lexer": "ipython3",
   "version": "3.8.13"
  },
  "orig_nbformat": 4,
  "vscode": {
   "interpreter": {
    "hash": "0d3784fccdc90acbf957f8297e7e306d4c8b14c1a207bd5307d0795df9a8d77b"
   }
  }
 },
 "nbformat": 4,
 "nbformat_minor": 2
}
